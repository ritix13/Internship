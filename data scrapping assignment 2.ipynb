{
 "cells": [
  {
   "cell_type": "code",
   "execution_count": 1,
   "id": "090ec817",
   "metadata": {},
   "outputs": [],
   "source": [
    "#import all the necessary libraries"
   ]
  },
  {
   "cell_type": "markdown",
   "id": "ac9f5e33",
   "metadata": {},
   "source": [
    "# Answer 1"
   ]
  },
  {
   "cell_type": "code",
   "execution_count": 2,
   "id": "6a58bc90",
   "metadata": {},
   "outputs": [],
   "source": [
    "import selenium\n",
    "import pandas as pd\n",
    "from selenium import webdriver\n",
    "import warnings\n",
    "warnings.filterwarnings('ignore')\n",
    "from selenium.webdriver.common.by import By\n",
    "import time"
   ]
  },
  {
   "cell_type": "code",
   "execution_count": 3,
   "id": "597fb55f",
   "metadata": {},
   "outputs": [],
   "source": [
    "driver=webdriver.Chrome(r'C:\\Users\\arunk\\Downloads\\chromedriver_win32\\chromedriver.exe')"
   ]
  },
  {
   "cell_type": "code",
   "execution_count": 4,
   "id": "7937c4c6",
   "metadata": {},
   "outputs": [],
   "source": [
    "driver.get(\"https://www.naukri.com/\")"
   ]
  },
  {
   "cell_type": "code",
   "execution_count": 5,
   "id": "cb35c9ce",
   "metadata": {},
   "outputs": [],
   "source": [
    "designation=driver.find_element(By.CLASS_NAME,\"suggestor-input \")\n",
    "designation.send_keys('Data Analyst')"
   ]
  },
  {
   "cell_type": "code",
   "execution_count": 6,
   "id": "760a6666",
   "metadata": {},
   "outputs": [],
   "source": [
    "location=driver.find_element(By.XPATH,'/html/body/div[1]/div[7]/div/div/div[5]/div/div/div/div[1]/div/input')\n",
    "location.send_keys('Banglore')"
   ]
  },
  {
   "cell_type": "code",
   "execution_count": 7,
   "id": "327cd523",
   "metadata": {},
   "outputs": [],
   "source": [
    "search=driver.find_element(By.XPATH,'/html/body/div[1]/div[7]/div/div/div[6]')\n",
    "search.click()"
   ]
  },
  {
   "cell_type": "code",
   "execution_count": 8,
   "id": "44d51b51",
   "metadata": {},
   "outputs": [],
   "source": [
    "job_title=[]\n",
    "job_location=[]\n",
    "company_name=[]\n",
    "experience_required=[]"
   ]
  },
  {
   "cell_type": "code",
   "execution_count": 9,
   "id": "ff55b7d6",
   "metadata": {},
   "outputs": [],
   "source": [
    "jt=driver.find_elements(By.XPATH,'//a[@class=\"title ellipsis\"]')\n",
    "for j in jt[0:10]:\n",
    "    title=j.text\n",
    "    job_title.append(title)\n",
    "\n",
    "    \n",
    "    \n",
    "    \n",
    "jl=driver.find_elements(By.XPATH,'//span[@class=\"ellipsis fleft locWdth\"]')\n",
    "for j in jl[0:10]:\n",
    "    location=j.text\n",
    "    job_location.append(location)\n",
    "\n",
    "\n",
    "cn=driver.find_elements(By.XPATH,'//a[@class=\"subTitle ellipsis fleft\"]')\n",
    "for c in cn[0:10]:\n",
    "    company=c.text\n",
    "    company_name.append(company)\n",
    "    \n",
    "    \n",
    "    \n",
    "    \n",
    "er=driver.find_elements(By.XPATH,'//span[@class=\"ellipsis fleft expwdth\"]')\n",
    "for e in er[0:10]:\n",
    "    experience=e.text\n",
    "    experience_required.append(experience)"
   ]
  },
  {
   "cell_type": "code",
   "execution_count": 10,
   "id": "16e1cb1b",
   "metadata": {},
   "outputs": [
    {
     "name": "stdout",
     "output_type": "stream",
     "text": [
      "10 10 10 10\n"
     ]
    }
   ],
   "source": [
    "print(len(job_title),len(job_location),len(company_name),len(experience_required))"
   ]
  },
  {
   "cell_type": "code",
   "execution_count": 11,
   "id": "74025fc5",
   "metadata": {},
   "outputs": [],
   "source": [
    "df=pd.DataFrame({'Title':job_title,'Location':job_location,'Company':company_name,'Experience':experience_required})"
   ]
  },
  {
   "cell_type": "code",
   "execution_count": 12,
   "id": "c52a9cb1",
   "metadata": {},
   "outputs": [
    {
     "data": {
      "text/html": [
       "<div>\n",
       "<style scoped>\n",
       "    .dataframe tbody tr th:only-of-type {\n",
       "        vertical-align: middle;\n",
       "    }\n",
       "\n",
       "    .dataframe tbody tr th {\n",
       "        vertical-align: top;\n",
       "    }\n",
       "\n",
       "    .dataframe thead th {\n",
       "        text-align: right;\n",
       "    }\n",
       "</style>\n",
       "<table border=\"1\" class=\"dataframe\">\n",
       "  <thead>\n",
       "    <tr style=\"text-align: right;\">\n",
       "      <th></th>\n",
       "      <th>Title</th>\n",
       "      <th>Location</th>\n",
       "      <th>Company</th>\n",
       "      <th>Experience</th>\n",
       "    </tr>\n",
       "  </thead>\n",
       "  <tbody>\n",
       "    <tr>\n",
       "      <th>0</th>\n",
       "      <td>Data Analyst</td>\n",
       "      <td>Bangalore/Bengaluru</td>\n",
       "      <td>Globals Ites</td>\n",
       "      <td>2-3 Yrs</td>\n",
       "    </tr>\n",
       "    <tr>\n",
       "      <th>1</th>\n",
       "      <td>Data Analyst</td>\n",
       "      <td>Bangalore/Bengaluru</td>\n",
       "      <td>Varite</td>\n",
       "      <td>4-5 Yrs</td>\n",
       "    </tr>\n",
       "    <tr>\n",
       "      <th>2</th>\n",
       "      <td>Data Analyst</td>\n",
       "      <td>Bangalore/Bengaluru</td>\n",
       "      <td>Mm Staffing &amp; Career Consultants</td>\n",
       "      <td>0-8 Yrs</td>\n",
       "    </tr>\n",
       "    <tr>\n",
       "      <th>3</th>\n",
       "      <td>Data Analyst</td>\n",
       "      <td>Bangalore/Bengaluru</td>\n",
       "      <td>Cynosure Corporate Solutions</td>\n",
       "      <td>2-7 Yrs</td>\n",
       "    </tr>\n",
       "    <tr>\n",
       "      <th>4</th>\n",
       "      <td>Oracle Tax &amp; Treasury PMO Contractor (Data Ana...</td>\n",
       "      <td>Bangalore/Bengaluru</td>\n",
       "      <td>Oracle</td>\n",
       "      <td>3-7 Yrs</td>\n",
       "    </tr>\n",
       "    <tr>\n",
       "      <th>5</th>\n",
       "      <td>Environmental Sustainability Data Analyst</td>\n",
       "      <td>Kolkata, Mumbai, New Delhi, Hyderabad/Secunder...</td>\n",
       "      <td>PerkinElmer, Inc.</td>\n",
       "      <td>2-6 Yrs</td>\n",
       "    </tr>\n",
       "    <tr>\n",
       "      <th>6</th>\n",
       "      <td>Data Analyst</td>\n",
       "      <td>Bangalore/Bengaluru</td>\n",
       "      <td>NNE Pharmaplan</td>\n",
       "      <td>1-2 Yrs</td>\n",
       "    </tr>\n",
       "    <tr>\n",
       "      <th>7</th>\n",
       "      <td>Data Analyst</td>\n",
       "      <td>Bangalore/Bengaluru</td>\n",
       "      <td>Ingersoll Rand</td>\n",
       "      <td>3-6 Yrs</td>\n",
       "    </tr>\n",
       "    <tr>\n",
       "      <th>8</th>\n",
       "      <td>Data Analyst - EdTech</td>\n",
       "      <td>Bangalore/Bengaluru</td>\n",
       "      <td>Talentstack</td>\n",
       "      <td>2-6 Yrs</td>\n",
       "    </tr>\n",
       "    <tr>\n",
       "      <th>9</th>\n",
       "      <td>Data Analyst</td>\n",
       "      <td>Bangalore/Bengaluru</td>\n",
       "      <td>Unusual Hire</td>\n",
       "      <td>1-4 Yrs</td>\n",
       "    </tr>\n",
       "  </tbody>\n",
       "</table>\n",
       "</div>"
      ],
      "text/plain": [
       "                                               Title  \\\n",
       "0                                       Data Analyst   \n",
       "1                                       Data Analyst   \n",
       "2                                       Data Analyst   \n",
       "3                                       Data Analyst   \n",
       "4  Oracle Tax & Treasury PMO Contractor (Data Ana...   \n",
       "5          Environmental Sustainability Data Analyst   \n",
       "6                                       Data Analyst   \n",
       "7                                       Data Analyst   \n",
       "8                              Data Analyst - EdTech   \n",
       "9                                       Data Analyst   \n",
       "\n",
       "                                            Location  \\\n",
       "0                                Bangalore/Bengaluru   \n",
       "1                                Bangalore/Bengaluru   \n",
       "2                                Bangalore/Bengaluru   \n",
       "3                                Bangalore/Bengaluru   \n",
       "4                                Bangalore/Bengaluru   \n",
       "5  Kolkata, Mumbai, New Delhi, Hyderabad/Secunder...   \n",
       "6                                Bangalore/Bengaluru   \n",
       "7                                Bangalore/Bengaluru   \n",
       "8                                Bangalore/Bengaluru   \n",
       "9                                Bangalore/Bengaluru   \n",
       "\n",
       "                            Company Experience  \n",
       "0                      Globals Ites    2-3 Yrs  \n",
       "1                            Varite    4-5 Yrs  \n",
       "2  Mm Staffing & Career Consultants    0-8 Yrs  \n",
       "3      Cynosure Corporate Solutions    2-7 Yrs  \n",
       "4                            Oracle    3-7 Yrs  \n",
       "5                 PerkinElmer, Inc.    2-6 Yrs  \n",
       "6                    NNE Pharmaplan    1-2 Yrs  \n",
       "7                    Ingersoll Rand    3-6 Yrs  \n",
       "8                       Talentstack    2-6 Yrs  \n",
       "9                      Unusual Hire    1-4 Yrs  "
      ]
     },
     "execution_count": 12,
     "metadata": {},
     "output_type": "execute_result"
    }
   ],
   "source": [
    "df"
   ]
  },
  {
   "cell_type": "markdown",
   "id": "cda2d4d0",
   "metadata": {},
   "source": [
    "# Answer 2"
   ]
  },
  {
   "cell_type": "code",
   "execution_count": 13,
   "id": "9ec5b309",
   "metadata": {},
   "outputs": [],
   "source": [
    "driver=webdriver.Chrome(r'C:\\Users\\arunk\\Downloads\\chromedriver_win32\\chromedriver.exe')"
   ]
  },
  {
   "cell_type": "code",
   "execution_count": 14,
   "id": "d471821c",
   "metadata": {},
   "outputs": [],
   "source": [
    "driver.get('https://www.naukri.com/')"
   ]
  },
  {
   "cell_type": "code",
   "execution_count": 15,
   "id": "dbf801cd",
   "metadata": {},
   "outputs": [],
   "source": [
    "designation=driver.find_element(By.XPATH,'/html/body/div[1]/div[7]/div/div/div[1]/div/div/div/div[1]/div/input')\n",
    "designation.send_keys('Data Scientist')"
   ]
  },
  {
   "cell_type": "code",
   "execution_count": 16,
   "id": "66b0ab82",
   "metadata": {},
   "outputs": [],
   "source": [
    "location=driver.find_element(By.XPATH,'/html/body/div[1]/div[7]/div/div/div[5]/div/div/div/div[1]/div/input')\n",
    "location.send_keys('Banglore')"
   ]
  },
  {
   "cell_type": "code",
   "execution_count": 17,
   "id": "b9f51edc",
   "metadata": {},
   "outputs": [],
   "source": [
    "search=driver.find_element(By.CLASS_NAME,'qsbSubmit')\n",
    "search.click()"
   ]
  },
  {
   "cell_type": "code",
   "execution_count": 18,
   "id": "dcccf000",
   "metadata": {},
   "outputs": [],
   "source": [
    "jobtitle=[]\n",
    "joblocation=[]\n",
    "companyname=[]"
   ]
  },
  {
   "cell_type": "code",
   "execution_count": 19,
   "id": "50c55cd2",
   "metadata": {},
   "outputs": [],
   "source": [
    "jobs=driver.find_elements(By.XPATH,'//a[@class=\"title ellipsis\"]')\n",
    "for j in jobs[0:10]:\n",
    "    job=j.text\n",
    "    jobtitle.append(job)\n",
    "    \n",
    "    \n",
    "location=driver.find_elements(By.XPATH,'//span[@class=\"ellipsis fleft locWdth\"]')\n",
    "for l in location[0:10]:\n",
    "    loc=l.text\n",
    "    joblocation.append(loc)\n",
    "    \n",
    "    \n",
    "company=driver.find_elements(By.XPATH,'//a[@class=\"subTitle ellipsis fleft\"]')\n",
    "for c in company[0:10]:\n",
    "    com=c.text\n",
    "    companyname.append(com)"
   ]
  },
  {
   "cell_type": "code",
   "execution_count": 20,
   "id": "55fcfe4f",
   "metadata": {},
   "outputs": [
    {
     "name": "stdout",
     "output_type": "stream",
     "text": [
      "10 10 10\n"
     ]
    }
   ],
   "source": [
    "print(len(jobtitle),len(joblocation),len(companyname))"
   ]
  },
  {
   "cell_type": "code",
   "execution_count": 21,
   "id": "05963a02",
   "metadata": {},
   "outputs": [],
   "source": [
    "data=pd.DataFrame({'Job_title':jobtitle,'Location':joblocation,'Company':companyname})"
   ]
  },
  {
   "cell_type": "code",
   "execution_count": 22,
   "id": "bb43dae9",
   "metadata": {},
   "outputs": [
    {
     "data": {
      "text/html": [
       "<div>\n",
       "<style scoped>\n",
       "    .dataframe tbody tr th:only-of-type {\n",
       "        vertical-align: middle;\n",
       "    }\n",
       "\n",
       "    .dataframe tbody tr th {\n",
       "        vertical-align: top;\n",
       "    }\n",
       "\n",
       "    .dataframe thead th {\n",
       "        text-align: right;\n",
       "    }\n",
       "</style>\n",
       "<table border=\"1\" class=\"dataframe\">\n",
       "  <thead>\n",
       "    <tr style=\"text-align: right;\">\n",
       "      <th></th>\n",
       "      <th>Job_title</th>\n",
       "      <th>Location</th>\n",
       "      <th>Company</th>\n",
       "    </tr>\n",
       "  </thead>\n",
       "  <tbody>\n",
       "    <tr>\n",
       "      <th>0</th>\n",
       "      <td>Data Science Professional - IBM SPSS Statistic...</td>\n",
       "      <td>Noida, Mumbai, Pune, Chennai, Bangalore/Bengaluru</td>\n",
       "      <td>Hexaware Technologies</td>\n",
       "    </tr>\n",
       "    <tr>\n",
       "      <th>1</th>\n",
       "      <td>Data Science Specialist</td>\n",
       "      <td>Kolkata, Mumbai, Hyderabad/Secunderabad, Pune,...</td>\n",
       "      <td>Accenture</td>\n",
       "    </tr>\n",
       "    <tr>\n",
       "      <th>2</th>\n",
       "      <td>Analystics &amp; Modeling Specialist</td>\n",
       "      <td>Kolkata, Mumbai, Hyderabad/Secunderabad, Pune,...</td>\n",
       "      <td>Accenture</td>\n",
       "    </tr>\n",
       "    <tr>\n",
       "      <th>3</th>\n",
       "      <td>Senior data scientist</td>\n",
       "      <td>Mumbai, Pune, Chennai, Gurgaon/Gurugram, Banga...</td>\n",
       "      <td>Fractal Analytics</td>\n",
       "    </tr>\n",
       "    <tr>\n",
       "      <th>4</th>\n",
       "      <td>Data Scientist_NLP</td>\n",
       "      <td>Mumbai, Pune, Chennai, Gurgaon/Gurugram, Banga...</td>\n",
       "      <td>Fractal Analytics</td>\n",
       "    </tr>\n",
       "    <tr>\n",
       "      <th>5</th>\n",
       "      <td>Data Scientist</td>\n",
       "      <td>Mumbai, Pune, Chennai, Gurgaon/Gurugram, Banga...</td>\n",
       "      <td>Fractal Analytics</td>\n",
       "    </tr>\n",
       "    <tr>\n",
       "      <th>6</th>\n",
       "      <td>Machine Learning (AI) Architect</td>\n",
       "      <td>Kolkata, Mumbai, New Delhi, Hyderabad/Secunder...</td>\n",
       "      <td>Persistent</td>\n",
       "    </tr>\n",
       "    <tr>\n",
       "      <th>7</th>\n",
       "      <td>Sr. Data scientist</td>\n",
       "      <td>Hybrid - Bangalore/Bengaluru, Mumbai (All Areas)</td>\n",
       "      <td>PayU</td>\n",
       "    </tr>\n",
       "    <tr>\n",
       "      <th>8</th>\n",
       "      <td>Manager - Innovations Hub - Machine Learning</td>\n",
       "      <td>Mumbai, Hyderabad/Secunderabad, Bangalore/Beng...</td>\n",
       "      <td>PwC</td>\n",
       "    </tr>\n",
       "    <tr>\n",
       "      <th>9</th>\n",
       "      <td>Lead Data Scientist</td>\n",
       "      <td>Bangalore/Bengaluru</td>\n",
       "      <td>Genpact</td>\n",
       "    </tr>\n",
       "  </tbody>\n",
       "</table>\n",
       "</div>"
      ],
      "text/plain": [
       "                                           Job_title  \\\n",
       "0  Data Science Professional - IBM SPSS Statistic...   \n",
       "1                            Data Science Specialist   \n",
       "2                   Analystics & Modeling Specialist   \n",
       "3                              Senior data scientist   \n",
       "4                                 Data Scientist_NLP   \n",
       "5                                     Data Scientist   \n",
       "6                    Machine Learning (AI) Architect   \n",
       "7                                 Sr. Data scientist   \n",
       "8       Manager - Innovations Hub - Machine Learning   \n",
       "9                                Lead Data Scientist   \n",
       "\n",
       "                                            Location                Company  \n",
       "0  Noida, Mumbai, Pune, Chennai, Bangalore/Bengaluru  Hexaware Technologies  \n",
       "1  Kolkata, Mumbai, Hyderabad/Secunderabad, Pune,...              Accenture  \n",
       "2  Kolkata, Mumbai, Hyderabad/Secunderabad, Pune,...              Accenture  \n",
       "3  Mumbai, Pune, Chennai, Gurgaon/Gurugram, Banga...      Fractal Analytics  \n",
       "4  Mumbai, Pune, Chennai, Gurgaon/Gurugram, Banga...      Fractal Analytics  \n",
       "5  Mumbai, Pune, Chennai, Gurgaon/Gurugram, Banga...      Fractal Analytics  \n",
       "6  Kolkata, Mumbai, New Delhi, Hyderabad/Secunder...             Persistent  \n",
       "7   Hybrid - Bangalore/Bengaluru, Mumbai (All Areas)                   PayU  \n",
       "8  Mumbai, Hyderabad/Secunderabad, Bangalore/Beng...                    PwC  \n",
       "9                                Bangalore/Bengaluru                Genpact  "
      ]
     },
     "execution_count": 22,
     "metadata": {},
     "output_type": "execute_result"
    }
   ],
   "source": [
    "data"
   ]
  },
  {
   "cell_type": "markdown",
   "id": "1e4426df",
   "metadata": {},
   "source": [
    "# Answer 3"
   ]
  },
  {
   "cell_type": "code",
   "execution_count": 23,
   "id": "391a940f",
   "metadata": {},
   "outputs": [],
   "source": [
    "driver=webdriver.Chrome(r'C:\\Users\\arunk\\Downloads\\chromedriver_win32\\chromedriver.exe')"
   ]
  },
  {
   "cell_type": "code",
   "execution_count": 24,
   "id": "0a07ce73",
   "metadata": {},
   "outputs": [],
   "source": [
    "driver.get('https://www.naukri.com/')"
   ]
  },
  {
   "cell_type": "code",
   "execution_count": 25,
   "id": "063d336e",
   "metadata": {},
   "outputs": [],
   "source": [
    "designation=driver.find_element(By.CLASS_NAME,'suggestor-input ')\n",
    "designation.send_keys('Data Scientist')"
   ]
  },
  {
   "cell_type": "code",
   "execution_count": 26,
   "id": "e79bcc2f",
   "metadata": {},
   "outputs": [],
   "source": [
    "search=driver.find_element(By.CLASS_NAME,'qsbSubmit')\n",
    "search.click()"
   ]
  },
  {
   "cell_type": "code",
   "execution_count": 29,
   "id": "54254496",
   "metadata": {},
   "outputs": [],
   "source": [
    "location=driver.find_element(By.XPATH,'/html/body/div[1]/div[4]/div/div/section[1]/div[2]/div[5]/div[2]/div[2]/label/p/span[1]')\n",
    "location.click()"
   ]
  },
  {
   "cell_type": "code",
   "execution_count": 30,
   "id": "e79571a9",
   "metadata": {},
   "outputs": [],
   "source": [
    "salary=driver.find_element(By.XPATH,'/html/body/div[1]/div[4]/div/div/section[1]/div[2]/div[6]/div[2]/div[2]/label/p/span[1]')\n",
    "salary.click()"
   ]
  },
  {
   "cell_type": "code",
   "execution_count": 31,
   "id": "f4e5785a",
   "metadata": {},
   "outputs": [],
   "source": [
    "jtitle=[]\n",
    "jlocation=[]\n",
    "cname=[]\n",
    "erequired=[]"
   ]
  },
  {
   "cell_type": "code",
   "execution_count": 32,
   "id": "da86b7c9",
   "metadata": {},
   "outputs": [],
   "source": [
    "ts=driver.find_elements(By.XPATH,'//a[@class=\"title ellipsis\"]')\n",
    "for i in ts[0:10]:\n",
    "    ttle=i.text\n",
    "    jtitle.append(ttle)\n",
    "    \n",
    "    \n",
    "lts=driver.find_elements(By.XPATH,'//span[@class=\"ellipsis fleft locWdth\"]')\n",
    "for i in lts[0:10]:\n",
    "    lc=i.text\n",
    "    jlocation.append(lc)\n",
    "    \n",
    "    \n",
    "    \n",
    "cts=driver.find_elements(By.XPATH,'//a[@class=\"subTitle ellipsis fleft\"]')\n",
    "for c in cts[0:10]:\n",
    "    comp=c.text\n",
    "    cname.append(comp)\n",
    "    \n",
    "    \n",
    "    \n",
    "ets=driver.find_elements(By.XPATH,'//span[@class=\"ellipsis fleft expwdth\"]')\n",
    "for e in ets[0:10]:\n",
    "    expr=e.text\n",
    "    erequired.append(expr)"
   ]
  },
  {
   "cell_type": "code",
   "execution_count": 33,
   "id": "d1d096dd",
   "metadata": {},
   "outputs": [
    {
     "name": "stdout",
     "output_type": "stream",
     "text": [
      "10 10 10 10\n"
     ]
    }
   ],
   "source": [
    "print(len(jtitle),len(jlocation),len(cname),len(erequired))"
   ]
  },
  {
   "cell_type": "code",
   "execution_count": 34,
   "id": "4b795b83",
   "metadata": {},
   "outputs": [],
   "source": [
    "dataframe=pd.DataFrame({'Title':jtitle,'Location':jlocation,'Company':cname,'Experience':erequired})"
   ]
  },
  {
   "cell_type": "code",
   "execution_count": 35,
   "id": "c56250f4",
   "metadata": {},
   "outputs": [
    {
     "data": {
      "text/html": [
       "<div>\n",
       "<style scoped>\n",
       "    .dataframe tbody tr th:only-of-type {\n",
       "        vertical-align: middle;\n",
       "    }\n",
       "\n",
       "    .dataframe tbody tr th {\n",
       "        vertical-align: top;\n",
       "    }\n",
       "\n",
       "    .dataframe thead th {\n",
       "        text-align: right;\n",
       "    }\n",
       "</style>\n",
       "<table border=\"1\" class=\"dataframe\">\n",
       "  <thead>\n",
       "    <tr style=\"text-align: right;\">\n",
       "      <th></th>\n",
       "      <th>Title</th>\n",
       "      <th>Location</th>\n",
       "      <th>Company</th>\n",
       "      <th>Experience</th>\n",
       "    </tr>\n",
       "  </thead>\n",
       "  <tbody>\n",
       "    <tr>\n",
       "      <th>0</th>\n",
       "      <td>Data Scientist</td>\n",
       "      <td>Temp. WFH - Kochi/Cochin, Kolkata, Hyderabad/S...</td>\n",
       "      <td>Cognizant</td>\n",
       "      <td>6-10 Yrs</td>\n",
       "    </tr>\n",
       "    <tr>\n",
       "      <th>1</th>\n",
       "      <td>Junior Data Scientist</td>\n",
       "      <td>Kolkata, Mumbai, New Delhi, Hyderabad/Secunder...</td>\n",
       "      <td>Analytos</td>\n",
       "      <td>0-2 Yrs</td>\n",
       "    </tr>\n",
       "    <tr>\n",
       "      <th>2</th>\n",
       "      <td>Data Scientist</td>\n",
       "      <td>Gurgaon/Gurugram, Bangalore/Bengaluru</td>\n",
       "      <td>Blackbuck</td>\n",
       "      <td>3-7 Yrs</td>\n",
       "    </tr>\n",
       "    <tr>\n",
       "      <th>3</th>\n",
       "      <td>Data Scientist</td>\n",
       "      <td>Kolkata, Mumbai, New Delhi, Hyderabad/Secunder...</td>\n",
       "      <td>Analytos</td>\n",
       "      <td>2-4 Yrs</td>\n",
       "    </tr>\n",
       "    <tr>\n",
       "      <th>4</th>\n",
       "      <td>Data Scientist</td>\n",
       "      <td>Kolkata, Mumbai, New Delhi, Hyderabad/Secunder...</td>\n",
       "      <td>Tabsquare</td>\n",
       "      <td>1-3 Yrs</td>\n",
       "    </tr>\n",
       "    <tr>\n",
       "      <th>5</th>\n",
       "      <td>Junior Data Scientist</td>\n",
       "      <td>Gurgaon/Gurugram, United States (USA), Bulgaria</td>\n",
       "      <td>Adidas</td>\n",
       "      <td>1-6 Yrs</td>\n",
       "    </tr>\n",
       "    <tr>\n",
       "      <th>6</th>\n",
       "      <td>Analyst-Data Science</td>\n",
       "      <td>Gurgaon/Gurugram</td>\n",
       "      <td>AMERICAN EXPRESS</td>\n",
       "      <td>0-3 Yrs</td>\n",
       "    </tr>\n",
       "    <tr>\n",
       "      <th>7</th>\n",
       "      <td>Analyst-Data Science</td>\n",
       "      <td>Gurgaon/Gurugram</td>\n",
       "      <td>AMERICAN EXPRESS</td>\n",
       "      <td>0-3 Yrs</td>\n",
       "    </tr>\n",
       "    <tr>\n",
       "      <th>8</th>\n",
       "      <td>Assistant Manager/Senior Manager - Data Scientist</td>\n",
       "      <td>Gurgaon/Gurugram, Bangalore/Bengaluru</td>\n",
       "      <td>Huquo Consulting Pvt. Ltd</td>\n",
       "      <td>2-7 Yrs</td>\n",
       "    </tr>\n",
       "    <tr>\n",
       "      <th>9</th>\n",
       "      <td>Data Science Instructor ( Full Time )</td>\n",
       "      <td>Noida</td>\n",
       "      <td>Dataisgood Edutech Pvt Ltd</td>\n",
       "      <td>1-3 Yrs</td>\n",
       "    </tr>\n",
       "  </tbody>\n",
       "</table>\n",
       "</div>"
      ],
      "text/plain": [
       "                                               Title  \\\n",
       "0                                     Data Scientist   \n",
       "1                              Junior Data Scientist   \n",
       "2                                     Data Scientist   \n",
       "3                                     Data Scientist   \n",
       "4                                     Data Scientist   \n",
       "5                              Junior Data Scientist   \n",
       "6                               Analyst-Data Science   \n",
       "7                               Analyst-Data Science   \n",
       "8  Assistant Manager/Senior Manager - Data Scientist   \n",
       "9              Data Science Instructor ( Full Time )   \n",
       "\n",
       "                                            Location  \\\n",
       "0  Temp. WFH - Kochi/Cochin, Kolkata, Hyderabad/S...   \n",
       "1  Kolkata, Mumbai, New Delhi, Hyderabad/Secunder...   \n",
       "2              Gurgaon/Gurugram, Bangalore/Bengaluru   \n",
       "3  Kolkata, Mumbai, New Delhi, Hyderabad/Secunder...   \n",
       "4  Kolkata, Mumbai, New Delhi, Hyderabad/Secunder...   \n",
       "5    Gurgaon/Gurugram, United States (USA), Bulgaria   \n",
       "6                                   Gurgaon/Gurugram   \n",
       "7                                   Gurgaon/Gurugram   \n",
       "8              Gurgaon/Gurugram, Bangalore/Bengaluru   \n",
       "9                                              Noida   \n",
       "\n",
       "                      Company Experience  \n",
       "0                   Cognizant   6-10 Yrs  \n",
       "1                    Analytos    0-2 Yrs  \n",
       "2                   Blackbuck    3-7 Yrs  \n",
       "3                    Analytos    2-4 Yrs  \n",
       "4                   Tabsquare    1-3 Yrs  \n",
       "5                      Adidas    1-6 Yrs  \n",
       "6            AMERICAN EXPRESS    0-3 Yrs  \n",
       "7            AMERICAN EXPRESS    0-3 Yrs  \n",
       "8   Huquo Consulting Pvt. Ltd    2-7 Yrs  \n",
       "9  Dataisgood Edutech Pvt Ltd    1-3 Yrs  "
      ]
     },
     "execution_count": 35,
     "metadata": {},
     "output_type": "execute_result"
    }
   ],
   "source": [
    "dataframe"
   ]
  },
  {
   "cell_type": "markdown",
   "id": "9e39337f",
   "metadata": {},
   "source": [
    "# Answer 4"
   ]
  },
  {
   "cell_type": "code",
   "execution_count": 36,
   "id": "84105882",
   "metadata": {},
   "outputs": [],
   "source": [
    "driver=webdriver.Chrome(r'C:\\Users\\arunk\\Downloads\\chromedriver_win32\\chromedriver.exe')"
   ]
  },
  {
   "cell_type": "code",
   "execution_count": 37,
   "id": "86c9e536",
   "metadata": {},
   "outputs": [],
   "source": [
    "driver.get('https://www.flipkart.com/')"
   ]
  },
  {
   "cell_type": "code",
   "execution_count": 38,
   "id": "2cc4c43e",
   "metadata": {},
   "outputs": [],
   "source": [
    "searching=driver.find_element(By.CLASS_NAME,'_3704LK')\n",
    "searching.send_keys('sunglasses')"
   ]
  },
  {
   "cell_type": "code",
   "execution_count": 39,
   "id": "8441fe7a",
   "metadata": {},
   "outputs": [],
   "source": [
    "search=driver.find_element(By.CLASS_NAME,'L0Z3Pu')\n",
    "search.click()"
   ]
  },
  {
   "cell_type": "code",
   "execution_count": 40,
   "id": "2d78fe95",
   "metadata": {},
   "outputs": [],
   "source": [
    "brandss=[]\n",
    "price=[]\n",
    "off=[]\n",
    "description=[]"
   ]
  },
  {
   "cell_type": "code",
   "execution_count": 41,
   "id": "12d3cb1f",
   "metadata": {},
   "outputs": [],
   "source": [
    "s=0\n",
    "e=3\n",
    "for page in range(s,e):\n",
    "    brand=driver.find_elements(By.XPATH,'//div[@class=\"_2WkVRV\"]')\n",
    "    for b in brand:\n",
    "        brandss.append(b.text)\n",
    "    nextbutton=driver.find_element(By.XPATH,'//a[@class=\"_1LKTO3\"]')\n",
    "    nextbutton.click()\n",
    "    time.sleep(3)\n",
    "    \n"
   ]
  },
  {
   "cell_type": "code",
   "execution_count": 42,
   "id": "9d2eddfb",
   "metadata": {},
   "outputs": [],
   "source": [
    "s=0\n",
    "e=3\n",
    "for page in range(s,e):\n",
    "    prices=driver.find_elements(By.XPATH,'//div[@class=\"_30jeq3\"]')\n",
    "    for p in prices:\n",
    "        price.append(p.text)\n",
    "    nextbutton=driver.find_element(By.XPATH,'//a[@class=\"_1LKTO3\"]')\n",
    "    nextbutton.click()\n",
    "    time.sleep(3)"
   ]
  },
  {
   "cell_type": "code",
   "execution_count": 43,
   "id": "96adc6bc",
   "metadata": {},
   "outputs": [],
   "source": [
    "s=0\n",
    "e=3\n",
    "for page in range(s,e):\n",
    "    offs=driver.find_elements(By.XPATH,'//div[@class=\"_3I9_wc\"]')\n",
    "    for o in offs:\n",
    "        off.append(o.text)\n",
    "    nextbutton=driver.find_element(By.XPATH,'//a[@class=\"_1LKTO3\"]')\n",
    "    nextbutton.click()\n",
    "    time.sleep(3)"
   ]
  },
  {
   "cell_type": "code",
   "execution_count": 44,
   "id": "9f8b7aec",
   "metadata": {},
   "outputs": [],
   "source": [
    "s=0\n",
    "e=3\n",
    "for page in range(s,e):\n",
    "    des=driver.find_elements(By.XPATH,'//a[@class=\"IRpwTa\"]')\n",
    "    for d in des:\n",
    "        description.append(d.text)\n",
    "    nextbutton=driver.find_element(By.XPATH,'//a[@class=\"_1LKTO3\"]')\n",
    "    nextbutton.click()\n",
    "    time.sleep(3)"
   ]
  },
  {
   "cell_type": "code",
   "execution_count": 45,
   "id": "0c2e2807",
   "metadata": {},
   "outputs": [
    {
     "name": "stdout",
     "output_type": "stream",
     "text": [
      "120 120 120 119\n"
     ]
    }
   ],
   "source": [
    "print(len(brandss),len(price),len(off),len(description))"
   ]
  },
  {
   "cell_type": "code",
   "execution_count": 46,
   "id": "6b9a317a",
   "metadata": {},
   "outputs": [],
   "source": [
    "brandss=brandss[:100]\n",
    "\n",
    "price=price[:100]\n",
    "\n",
    "off=off[:100]\n",
    "\n",
    "description=description[:100]"
   ]
  },
  {
   "cell_type": "code",
   "execution_count": 47,
   "id": "bcf589c0",
   "metadata": {},
   "outputs": [
    {
     "name": "stdout",
     "output_type": "stream",
     "text": [
      "100 100 100 100\n"
     ]
    }
   ],
   "source": [
    "print(len(brandss),len(price),len(off),len(description))"
   ]
  },
  {
   "cell_type": "code",
   "execution_count": 48,
   "id": "bbb19d68",
   "metadata": {},
   "outputs": [],
   "source": [
    "df=pd.DataFrame({'Brands':brandss,'Price':price,'Actual_price':off,'Description':description})"
   ]
  },
  {
   "cell_type": "code",
   "execution_count": 49,
   "id": "2a45dc2f",
   "metadata": {},
   "outputs": [
    {
     "data": {
      "text/html": [
       "<div>\n",
       "<style scoped>\n",
       "    .dataframe tbody tr th:only-of-type {\n",
       "        vertical-align: middle;\n",
       "    }\n",
       "\n",
       "    .dataframe tbody tr th {\n",
       "        vertical-align: top;\n",
       "    }\n",
       "\n",
       "    .dataframe thead th {\n",
       "        text-align: right;\n",
       "    }\n",
       "</style>\n",
       "<table border=\"1\" class=\"dataframe\">\n",
       "  <thead>\n",
       "    <tr style=\"text-align: right;\">\n",
       "      <th></th>\n",
       "      <th>Brands</th>\n",
       "      <th>Price</th>\n",
       "      <th>Actual_price</th>\n",
       "      <th>Description</th>\n",
       "    </tr>\n",
       "  </thead>\n",
       "  <tbody>\n",
       "    <tr>\n",
       "      <th>0</th>\n",
       "      <td>VINCENT CHASE</td>\n",
       "      <td>₹189</td>\n",
       "      <td>₹1,999</td>\n",
       "      <td>Gradient, UV Protection Wayfarer Sunglasses (F...</td>\n",
       "    </tr>\n",
       "    <tr>\n",
       "      <th>1</th>\n",
       "      <td>RBILZ</td>\n",
       "      <td>₹539</td>\n",
       "      <td>₹999</td>\n",
       "      <td>Polarized Retro Square Sunglasses (Free Size)</td>\n",
       "    </tr>\n",
       "    <tr>\n",
       "      <th>2</th>\n",
       "      <td>SRPM</td>\n",
       "      <td>₹544</td>\n",
       "      <td>₹1,299</td>\n",
       "      <td>UV Protection, Polarized Wayfarer Sunglasses (...</td>\n",
       "    </tr>\n",
       "    <tr>\n",
       "      <th>3</th>\n",
       "      <td>Elligator</td>\n",
       "      <td>₹1,409</td>\n",
       "      <td>₹599</td>\n",
       "      <td>Polarized, UV Protection Rectangular Sunglasse...</td>\n",
       "    </tr>\n",
       "    <tr>\n",
       "      <th>4</th>\n",
       "      <td>Fastrack</td>\n",
       "      <td>₹293</td>\n",
       "      <td>₹1,099</td>\n",
       "      <td>UV Protection Rectangular Sunglasses (56)</td>\n",
       "    </tr>\n",
       "    <tr>\n",
       "      <th>...</th>\n",
       "      <td>...</td>\n",
       "      <td>...</td>\n",
       "      <td>...</td>\n",
       "      <td>...</td>\n",
       "    </tr>\n",
       "    <tr>\n",
       "      <th>95</th>\n",
       "      <td>AISLIN</td>\n",
       "      <td>₹445</td>\n",
       "      <td>₹1,999</td>\n",
       "      <td>Mirrored, Night Vision, UV Protection, Riding ...</td>\n",
       "    </tr>\n",
       "    <tr>\n",
       "      <th>96</th>\n",
       "      <td>Shaah Collection</td>\n",
       "      <td>₹179</td>\n",
       "      <td>₹1,699</td>\n",
       "      <td>UV Protection Wayfarer Sunglasses (54)</td>\n",
       "    </tr>\n",
       "    <tr>\n",
       "      <th>97</th>\n",
       "      <td>Fastrack</td>\n",
       "      <td>₹280</td>\n",
       "      <td>₹899</td>\n",
       "      <td>Riding Glasses, UV Protection Sunglass</td>\n",
       "    </tr>\n",
       "    <tr>\n",
       "      <th>98</th>\n",
       "      <td>Fastrack</td>\n",
       "      <td>₹99</td>\n",
       "      <td>₹999</td>\n",
       "      <td>Polarized, UV Protection Round Sunglasses (51)</td>\n",
       "    </tr>\n",
       "    <tr>\n",
       "      <th>99</th>\n",
       "      <td>ROYAL SON</td>\n",
       "      <td>₹996</td>\n",
       "      <td>₹4,500</td>\n",
       "      <td>UV Protection Over-sized Sunglasses (60)</td>\n",
       "    </tr>\n",
       "  </tbody>\n",
       "</table>\n",
       "<p>100 rows × 4 columns</p>\n",
       "</div>"
      ],
      "text/plain": [
       "              Brands   Price Actual_price  \\\n",
       "0      VINCENT CHASE    ₹189       ₹1,999   \n",
       "1              RBILZ    ₹539         ₹999   \n",
       "2               SRPM    ₹544       ₹1,299   \n",
       "3          Elligator  ₹1,409         ₹599   \n",
       "4           Fastrack    ₹293       ₹1,099   \n",
       "..               ...     ...          ...   \n",
       "95            AISLIN    ₹445       ₹1,999   \n",
       "96  Shaah Collection    ₹179       ₹1,699   \n",
       "97          Fastrack    ₹280         ₹899   \n",
       "98          Fastrack     ₹99         ₹999   \n",
       "99         ROYAL SON    ₹996       ₹4,500   \n",
       "\n",
       "                                          Description  \n",
       "0   Gradient, UV Protection Wayfarer Sunglasses (F...  \n",
       "1       Polarized Retro Square Sunglasses (Free Size)  \n",
       "2   UV Protection, Polarized Wayfarer Sunglasses (...  \n",
       "3   Polarized, UV Protection Rectangular Sunglasse...  \n",
       "4           UV Protection Rectangular Sunglasses (56)  \n",
       "..                                                ...  \n",
       "95  Mirrored, Night Vision, UV Protection, Riding ...  \n",
       "96             UV Protection Wayfarer Sunglasses (54)  \n",
       "97             Riding Glasses, UV Protection Sunglass  \n",
       "98     Polarized, UV Protection Round Sunglasses (51)  \n",
       "99           UV Protection Over-sized Sunglasses (60)  \n",
       "\n",
       "[100 rows x 4 columns]"
      ]
     },
     "execution_count": 49,
     "metadata": {},
     "output_type": "execute_result"
    }
   ],
   "source": [
    "df"
   ]
  },
  {
   "cell_type": "markdown",
   "id": "81720a65",
   "metadata": {},
   "source": [
    "# Answer 5"
   ]
  },
  {
   "cell_type": "code",
   "execution_count": 50,
   "id": "24fda3b4",
   "metadata": {},
   "outputs": [],
   "source": [
    "driver=webdriver.Chrome(r'C:\\Users\\arunk\\Downloads\\chromedriver_win32\\chromedriver.exe')"
   ]
  },
  {
   "cell_type": "code",
   "execution_count": 51,
   "id": "7bc796d4",
   "metadata": {},
   "outputs": [],
   "source": [
    "driver.get('https://www.flipkart.com/apple-iphone-11-black-64-gb/p/itm4e5041ba101fd?pid=MOBFWQ6BXGJCEYNY&lid=LSTMOBFWQ6BXGJCEYNYZXSHRJ&marketplace=FLIPKART&q=iphone+11&store=tyy%2F4io&srno=s_1_4&otracker=search&otracker1=search&fm=organic&iid=575ce9d8-41ee-4ede-af79-76d5d63eb703.MOBFWQ6BXGJCEYNY.SEARCH&ppt=hp&ppn=homepage&ssid=81ipfavcfk0000001681245517408&qH=f6cdfdaa9f3c23f3')"
   ]
  },
  {
   "cell_type": "code",
   "execution_count": 52,
   "id": "9b129a5f",
   "metadata": {},
   "outputs": [],
   "source": [
    "click=driver.find_element(By.XPATH,'/html/body/div[1]/div/div[3]/div[1]/div[2]/div[9]/div[7]/div/a/div/span')\n",
    "click.click()"
   ]
  },
  {
   "cell_type": "code",
   "execution_count": 53,
   "id": "3735c512",
   "metadata": {},
   "outputs": [],
   "source": [
    "stars=[]\n",
    "review_summary=[]\n",
    "full_review=[]"
   ]
  },
  {
   "cell_type": "code",
   "execution_count": 54,
   "id": "4e643157",
   "metadata": {},
   "outputs": [],
   "source": [
    "s=0\n",
    "e=10\n",
    "for page in range(s,e):\n",
    "    star=driver.find_elements(By.XPATH,'//div[@class=\"_3LWZlK _1BLPMq\"]')\n",
    "    for s in star:\n",
    "        stars.append(s.text)\n",
    "    nextbutton=driver.find_element(By.XPATH,'//a[@class=\"_1LKTO3\"]')\n",
    "    nextbutton.click()\n",
    "    time.sleep(5)"
   ]
  },
  {
   "cell_type": "code",
   "execution_count": 55,
   "id": "dc1b5644",
   "metadata": {},
   "outputs": [
    {
     "data": {
      "text/plain": [
       "100"
      ]
     },
     "execution_count": 55,
     "metadata": {},
     "output_type": "execute_result"
    }
   ],
   "source": [
    "len(stars)"
   ]
  },
  {
   "cell_type": "code",
   "execution_count": 56,
   "id": "9ec48eb1",
   "metadata": {},
   "outputs": [],
   "source": [
    "s=0\n",
    "e=10\n",
    "for page in range(s,e):\n",
    "    review=driver.find_elements(By.XPATH,'//p[@class=\"_2-N8zT\"]')\n",
    "    for r in review:\n",
    "        review_summary.append(r.text)\n",
    "    nextbutton=driver.find_element(By.XPATH,'//a[@class=\"_1LKTO3\"]')\n",
    "    nextbutton.click()\n",
    "    time.sleep(5)"
   ]
  },
  {
   "cell_type": "code",
   "execution_count": 57,
   "id": "79d9e80f",
   "metadata": {},
   "outputs": [
    {
     "data": {
      "text/plain": [
       "100"
      ]
     },
     "execution_count": 57,
     "metadata": {},
     "output_type": "execute_result"
    }
   ],
   "source": [
    "len(review_summary)"
   ]
  },
  {
   "cell_type": "code",
   "execution_count": 58,
   "id": "15f463ce",
   "metadata": {},
   "outputs": [],
   "source": [
    "s=0\n",
    "e=10\n",
    "for page in range(s,e):\n",
    "    fr=driver.find_elements(By.XPATH,'//div[@class=\"t-ZTKy\"]')\n",
    "    for f in fr:\n",
    "        full_review.append(f.text)\n",
    "    nextbutton=driver.find_element(By.XPATH,'//a[@class=\"_1LKTO3\"]')\n",
    "    nextbutton.click()\n",
    "    time.sleep(5)"
   ]
  },
  {
   "cell_type": "code",
   "execution_count": 59,
   "id": "0b5f0b85",
   "metadata": {},
   "outputs": [
    {
     "data": {
      "text/plain": [
       "100"
      ]
     },
     "execution_count": 59,
     "metadata": {},
     "output_type": "execute_result"
    }
   ],
   "source": [
    "len(full_review)"
   ]
  },
  {
   "cell_type": "code",
   "execution_count": 60,
   "id": "6aba7f64",
   "metadata": {},
   "outputs": [],
   "source": [
    "data=pd.DataFrame({'Stars':stars,'Review_summary':review_summary,'Full_review':full_review})"
   ]
  },
  {
   "cell_type": "code",
   "execution_count": 61,
   "id": "d7abbbda",
   "metadata": {},
   "outputs": [
    {
     "data": {
      "text/html": [
       "<div>\n",
       "<style scoped>\n",
       "    .dataframe tbody tr th:only-of-type {\n",
       "        vertical-align: middle;\n",
       "    }\n",
       "\n",
       "    .dataframe tbody tr th {\n",
       "        vertical-align: top;\n",
       "    }\n",
       "\n",
       "    .dataframe thead th {\n",
       "        text-align: right;\n",
       "    }\n",
       "</style>\n",
       "<table border=\"1\" class=\"dataframe\">\n",
       "  <thead>\n",
       "    <tr style=\"text-align: right;\">\n",
       "      <th></th>\n",
       "      <th>Stars</th>\n",
       "      <th>Review_summary</th>\n",
       "      <th>Full_review</th>\n",
       "    </tr>\n",
       "  </thead>\n",
       "  <tbody>\n",
       "    <tr>\n",
       "      <th>0</th>\n",
       "      <td>5</td>\n",
       "      <td>Simply awesome</td>\n",
       "      <td>Really satisfied with the Product I received.....</td>\n",
       "    </tr>\n",
       "    <tr>\n",
       "      <th>1</th>\n",
       "      <td>5</td>\n",
       "      <td>Perfect product!</td>\n",
       "      <td>Amazing phone with great cameras and better ba...</td>\n",
       "    </tr>\n",
       "    <tr>\n",
       "      <th>2</th>\n",
       "      <td>5</td>\n",
       "      <td>Best in the market!</td>\n",
       "      <td>Great iPhone very snappy experience as apple k...</td>\n",
       "    </tr>\n",
       "    <tr>\n",
       "      <th>3</th>\n",
       "      <td>4</td>\n",
       "      <td>Value-for-money</td>\n",
       "      <td>I'm Really happy with the product\\nDelivery wa...</td>\n",
       "    </tr>\n",
       "    <tr>\n",
       "      <th>4</th>\n",
       "      <td>5</td>\n",
       "      <td>Highly recommended</td>\n",
       "      <td>It's my first time to use iOS phone and I am l...</td>\n",
       "    </tr>\n",
       "    <tr>\n",
       "      <th>...</th>\n",
       "      <td>...</td>\n",
       "      <td>...</td>\n",
       "      <td>...</td>\n",
       "    </tr>\n",
       "    <tr>\n",
       "      <th>95</th>\n",
       "      <td>5</td>\n",
       "      <td>Perfect product!</td>\n",
       "      <td>Value for money❤️❤️\\nIts awesome mobile phone ...</td>\n",
       "    </tr>\n",
       "    <tr>\n",
       "      <th>96</th>\n",
       "      <td>5</td>\n",
       "      <td>Highly recommended</td>\n",
       "      <td>iphone 11 is a very good phone to buy only if ...</td>\n",
       "    </tr>\n",
       "    <tr>\n",
       "      <th>97</th>\n",
       "      <td>4</td>\n",
       "      <td>Value-for-money</td>\n",
       "      <td>Just got this iphone 11\\nAnd it is most powerf...</td>\n",
       "    </tr>\n",
       "    <tr>\n",
       "      <th>98</th>\n",
       "      <td>5</td>\n",
       "      <td>Highly recommended</td>\n",
       "      <td>Amazing camera quality as expected, battery al...</td>\n",
       "    </tr>\n",
       "    <tr>\n",
       "      <th>99</th>\n",
       "      <td>5</td>\n",
       "      <td>Perfect product!</td>\n",
       "      <td>It is just awesome mobile for this price from ...</td>\n",
       "    </tr>\n",
       "  </tbody>\n",
       "</table>\n",
       "<p>100 rows × 3 columns</p>\n",
       "</div>"
      ],
      "text/plain": [
       "   Stars       Review_summary  \\\n",
       "0      5       Simply awesome   \n",
       "1      5     Perfect product!   \n",
       "2      5  Best in the market!   \n",
       "3      4      Value-for-money   \n",
       "4      5   Highly recommended   \n",
       "..   ...                  ...   \n",
       "95     5     Perfect product!   \n",
       "96     5   Highly recommended   \n",
       "97     4      Value-for-money   \n",
       "98     5   Highly recommended   \n",
       "99     5     Perfect product!   \n",
       "\n",
       "                                          Full_review  \n",
       "0   Really satisfied with the Product I received.....  \n",
       "1   Amazing phone with great cameras and better ba...  \n",
       "2   Great iPhone very snappy experience as apple k...  \n",
       "3   I'm Really happy with the product\\nDelivery wa...  \n",
       "4   It's my first time to use iOS phone and I am l...  \n",
       "..                                                ...  \n",
       "95  Value for money❤️❤️\\nIts awesome mobile phone ...  \n",
       "96  iphone 11 is a very good phone to buy only if ...  \n",
       "97  Just got this iphone 11\\nAnd it is most powerf...  \n",
       "98  Amazing camera quality as expected, battery al...  \n",
       "99  It is just awesome mobile for this price from ...  \n",
       "\n",
       "[100 rows x 3 columns]"
      ]
     },
     "execution_count": 61,
     "metadata": {},
     "output_type": "execute_result"
    }
   ],
   "source": [
    "data"
   ]
  },
  {
   "cell_type": "markdown",
   "id": "68045afe",
   "metadata": {},
   "source": [
    "# Answer 6"
   ]
  },
  {
   "cell_type": "code",
   "execution_count": 62,
   "id": "27377d5f",
   "metadata": {},
   "outputs": [],
   "source": [
    "driver=webdriver.Chrome(r'C:\\Users\\arunk\\Downloads\\chromedriver_win32\\chromedriver.exe')"
   ]
  },
  {
   "cell_type": "code",
   "execution_count": 63,
   "id": "e3850511",
   "metadata": {},
   "outputs": [],
   "source": [
    "driver.get('https://www.flipkart.com/')"
   ]
  },
  {
   "cell_type": "code",
   "execution_count": 64,
   "id": "1f1891b3",
   "metadata": {},
   "outputs": [],
   "source": [
    "search=driver.find_element(By.CLASS_NAME,'_3704LK')\n",
    "search.send_keys('sneakers')"
   ]
  },
  {
   "cell_type": "code",
   "execution_count": 65,
   "id": "44c721d0",
   "metadata": {},
   "outputs": [],
   "source": [
    "searching=driver.find_element(By.XPATH,'/html/body/div[1]/div/div[1]/div[1]/div[2]/div[2]/form/div/button')\n",
    "searching.click()"
   ]
  },
  {
   "cell_type": "code",
   "execution_count": 66,
   "id": "6aec67f1",
   "metadata": {},
   "outputs": [],
   "source": [
    "brands=[]\n",
    "product_description=[]\n",
    "price=[]"
   ]
  },
  {
   "cell_type": "code",
   "execution_count": 67,
   "id": "e7633c00",
   "metadata": {},
   "outputs": [],
   "source": [
    "s=0\n",
    "e=3\n",
    "for page in range(s,e):\n",
    "    brand=driver.find_elements(By.XPATH,'//div[@class=\"_2WkVRV\"]')\n",
    "    for b in brand:\n",
    "        brands.append(b.text)\n",
    "    nextbutton=driver.find_element(By.XPATH,'//a[@class=\"_1LKTO3\"]')\n",
    "    nextbutton.click()\n",
    "    time.sleep(3)\n",
    "    \n"
   ]
  },
  {
   "cell_type": "code",
   "execution_count": 68,
   "id": "3e197bca",
   "metadata": {},
   "outputs": [
    {
     "data": {
      "text/plain": [
       "120"
      ]
     },
     "execution_count": 68,
     "metadata": {},
     "output_type": "execute_result"
    }
   ],
   "source": [
    "len(brands)"
   ]
  },
  {
   "cell_type": "code",
   "execution_count": 69,
   "id": "be8bf9bc",
   "metadata": {},
   "outputs": [],
   "source": [
    "s=0\n",
    "e=3\n",
    "for page in range(s,e):\n",
    "    pd=driver.find_elements(By.XPATH,'//a[@class=\"IRpwTa\"]')\n",
    "    for p in pd:\n",
    "        product_description.append(p.text)\n",
    "    nextbutton=driver.find_element(By.XPATH,'//a[@class=\"_1LKTO3\"]')\n",
    "    nextbutton.click()\n",
    "    time.sleep(3)\n",
    "    "
   ]
  },
  {
   "cell_type": "code",
   "execution_count": 70,
   "id": "cdd97b18",
   "metadata": {},
   "outputs": [
    {
     "data": {
      "text/plain": [
       "109"
      ]
     },
     "execution_count": 70,
     "metadata": {},
     "output_type": "execute_result"
    }
   ],
   "source": [
    "len(product_description)"
   ]
  },
  {
   "cell_type": "code",
   "execution_count": 71,
   "id": "126509b5",
   "metadata": {},
   "outputs": [],
   "source": [
    "s=0\n",
    "e=3\n",
    "for page in range(s,e):\n",
    "    pricee=driver.find_elements(By.XPATH,'//div[@class=\"_30jeq3\"]')\n",
    "    for p in pricee:\n",
    "        price.append(p.text)\n",
    "    nextbutton=driver.find_element(By.XPATH,'//a[@class=\"_1LKTO3\"]')\n",
    "    nextbutton.click()\n",
    "    time.sleep(3)\n",
    "    \n"
   ]
  },
  {
   "cell_type": "code",
   "execution_count": 72,
   "id": "27004884",
   "metadata": {},
   "outputs": [
    {
     "data": {
      "text/plain": [
       "120"
      ]
     },
     "execution_count": 72,
     "metadata": {},
     "output_type": "execute_result"
    }
   ],
   "source": [
    "len(price)"
   ]
  },
  {
   "cell_type": "code",
   "execution_count": 73,
   "id": "b34c4b61",
   "metadata": {},
   "outputs": [],
   "source": [
    "brands=brands[:100]\n",
    "product_description=product_description[:100]\n",
    "price=price[:100]"
   ]
  },
  {
   "cell_type": "code",
   "execution_count": 74,
   "id": "bc50bac1",
   "metadata": {},
   "outputs": [
    {
     "name": "stdout",
     "output_type": "stream",
     "text": [
      "100 100 100\n"
     ]
    }
   ],
   "source": [
    "print(len(brands),len(product_description),len(price))"
   ]
  },
  {
   "cell_type": "code",
   "execution_count": 75,
   "id": "b825fe88",
   "metadata": {},
   "outputs": [
    {
     "name": "stdout",
     "output_type": "stream",
     "text": [
      "<class 'list'> <class 'list'> <class 'list'>\n"
     ]
    }
   ],
   "source": [
    "print(type(brands),type(product_description),type(price))"
   ]
  },
  {
   "cell_type": "code",
   "execution_count": 77,
   "id": "8e999ae0",
   "metadata": {},
   "outputs": [],
   "source": [
    "import pandas as pd"
   ]
  },
  {
   "cell_type": "code",
   "execution_count": 78,
   "id": "677aa2c2",
   "metadata": {},
   "outputs": [],
   "source": [
    "sneakers=pd.DataFrame({'Brand':brands,'Product_description':product_description,'Price':price})"
   ]
  },
  {
   "cell_type": "code",
   "execution_count": 79,
   "id": "8639adaf",
   "metadata": {},
   "outputs": [
    {
     "data": {
      "text/html": [
       "<div>\n",
       "<style scoped>\n",
       "    .dataframe tbody tr th:only-of-type {\n",
       "        vertical-align: middle;\n",
       "    }\n",
       "\n",
       "    .dataframe tbody tr th {\n",
       "        vertical-align: top;\n",
       "    }\n",
       "\n",
       "    .dataframe thead th {\n",
       "        text-align: right;\n",
       "    }\n",
       "</style>\n",
       "<table border=\"1\" class=\"dataframe\">\n",
       "  <thead>\n",
       "    <tr style=\"text-align: right;\">\n",
       "      <th></th>\n",
       "      <th>Brand</th>\n",
       "      <th>Product_description</th>\n",
       "      <th>Price</th>\n",
       "    </tr>\n",
       "  </thead>\n",
       "  <tbody>\n",
       "    <tr>\n",
       "      <th>0</th>\n",
       "      <td>New Balance</td>\n",
       "      <td>Sneakers For Men</td>\n",
       "      <td>₹4,924</td>\n",
       "    </tr>\n",
       "    <tr>\n",
       "      <th>1</th>\n",
       "      <td>Kraasa</td>\n",
       "      <td>Stylish &amp; Trending Outdoor Walking Comfortable...</td>\n",
       "      <td>₹571</td>\n",
       "    </tr>\n",
       "    <tr>\n",
       "      <th>2</th>\n",
       "      <td>SFR</td>\n",
       "      <td>Smash Vulc Sneakers For Men</td>\n",
       "      <td>₹299</td>\n",
       "    </tr>\n",
       "    <tr>\n",
       "      <th>3</th>\n",
       "      <td>Kraasa</td>\n",
       "      <td>Modern Trendy Shoes Sneakers For Men</td>\n",
       "      <td>₹299</td>\n",
       "    </tr>\n",
       "    <tr>\n",
       "      <th>4</th>\n",
       "      <td>BIRDE</td>\n",
       "      <td>Stylish Comfortable Lightweight, Breathable Wo...</td>\n",
       "      <td>₹499</td>\n",
       "    </tr>\n",
       "    <tr>\n",
       "      <th>...</th>\n",
       "      <td>...</td>\n",
       "      <td>...</td>\n",
       "      <td>...</td>\n",
       "    </tr>\n",
       "    <tr>\n",
       "      <th>95</th>\n",
       "      <td>BIRDE</td>\n",
       "      <td>Premium White Sneakers For women Sneakers For ...</td>\n",
       "      <td>₹499</td>\n",
       "    </tr>\n",
       "    <tr>\n",
       "      <th>96</th>\n",
       "      <td>New Balance</td>\n",
       "      <td>Sneakers For Men</td>\n",
       "      <td>₹999</td>\n",
       "    </tr>\n",
       "    <tr>\n",
       "      <th>97</th>\n",
       "      <td>U.S. POLO ASSN.</td>\n",
       "      <td>Latest Exclusive Affordable Collection of Tren...</td>\n",
       "      <td>₹799</td>\n",
       "    </tr>\n",
       "    <tr>\n",
       "      <th>98</th>\n",
       "      <td>aadi</td>\n",
       "      <td>Sneakers For Men</td>\n",
       "      <td>₹399</td>\n",
       "    </tr>\n",
       "    <tr>\n",
       "      <th>99</th>\n",
       "      <td>BIRDE</td>\n",
       "      <td>5740 Sneakers For Men</td>\n",
       "      <td>₹199</td>\n",
       "    </tr>\n",
       "  </tbody>\n",
       "</table>\n",
       "<p>100 rows × 3 columns</p>\n",
       "</div>"
      ],
      "text/plain": [
       "              Brand                                Product_description   Price\n",
       "0       New Balance                                   Sneakers For Men  ₹4,924\n",
       "1            Kraasa  Stylish & Trending Outdoor Walking Comfortable...    ₹571\n",
       "2               SFR                        Smash Vulc Sneakers For Men    ₹299\n",
       "3            Kraasa               Modern Trendy Shoes Sneakers For Men    ₹299\n",
       "4             BIRDE  Stylish Comfortable Lightweight, Breathable Wo...    ₹499\n",
       "..              ...                                                ...     ...\n",
       "95            BIRDE  Premium White Sneakers For women Sneakers For ...    ₹499\n",
       "96      New Balance                                   Sneakers For Men    ₹999\n",
       "97  U.S. POLO ASSN.  Latest Exclusive Affordable Collection of Tren...    ₹799\n",
       "98             aadi                                   Sneakers For Men    ₹399\n",
       "99            BIRDE                              5740 Sneakers For Men    ₹199\n",
       "\n",
       "[100 rows x 3 columns]"
      ]
     },
     "execution_count": 79,
     "metadata": {},
     "output_type": "execute_result"
    }
   ],
   "source": [
    "sneakers"
   ]
  },
  {
   "cell_type": "markdown",
   "id": "593575ff",
   "metadata": {},
   "source": [
    "# Answer 7"
   ]
  },
  {
   "cell_type": "code",
   "execution_count": 80,
   "id": "2f80b754",
   "metadata": {},
   "outputs": [],
   "source": [
    "driver=webdriver.Chrome(r'C:\\Users\\arunk\\Downloads\\chromedriver_win32\\chromedriver.exe')"
   ]
  },
  {
   "cell_type": "code",
   "execution_count": 81,
   "id": "8bf6a9e7",
   "metadata": {},
   "outputs": [],
   "source": [
    "driver.get('https://www.amazon.in/')"
   ]
  },
  {
   "cell_type": "code",
   "execution_count": 82,
   "id": "9a699e10",
   "metadata": {},
   "outputs": [],
   "source": [
    "searching=driver.find_element(By.XPATH,'/html/body/div[1]/header/div/div[1]/div[2]/div/form/div[2]/div[1]/input')\n",
    "searching.send_keys('Laptop')"
   ]
  },
  {
   "cell_type": "code",
   "execution_count": 83,
   "id": "bc4e843d",
   "metadata": {},
   "outputs": [],
   "source": [
    "search=driver.find_element(By.XPATH,'/html/body/div[1]/header/div/div[1]/div[2]/div/form/div[3]/div/span/input')\n",
    "search.click()"
   ]
  },
  {
   "cell_type": "code",
   "execution_count": 84,
   "id": "031346af",
   "metadata": {},
   "outputs": [],
   "source": [
    "cpu=driver.find_element(By.XPATH,'/html/body/div[1]/div[2]/div[1]/div[2]/div/div[3]/span/div[1]/div/div/div[5]/ul[7]/li[10]/span/a/div/label/i')\n",
    "cpu.click()"
   ]
  },
  {
   "cell_type": "code",
   "execution_count": 85,
   "id": "2de25edd",
   "metadata": {},
   "outputs": [],
   "source": [
    "title=[]\n",
    "ratings=[]\n",
    "price=[]"
   ]
  },
  {
   "cell_type": "code",
   "execution_count": 86,
   "id": "f4746232",
   "metadata": {},
   "outputs": [],
   "source": [
    "titles=driver.find_elements(By.XPATH,'//span[@class=\"a-size-medium a-color-base a-text-normal\"]')\n",
    "for i in titles[0:10]:\n",
    "    titless=i.text\n",
    "    title.append(titless)\n",
    "    \n",
    "    \n",
    "rating=driver.find_elements(By.XPATH,'//span[@class=\"a-size-base\"]')\n",
    "for r in rating[0:10]:\n",
    "    rate=r.text\n",
    "    ratings.append(rate)\n",
    "    \n",
    "    \n",
    "    \n",
    "pricing=driver.find_elements(By.XPATH,'//span[@class=\"a-price-whole\"]')\n",
    "for p in pricing[0:10]:\n",
    "    prices=p.text\n",
    "    price.append(prices)"
   ]
  },
  {
   "cell_type": "code",
   "execution_count": 87,
   "id": "fd01717e",
   "metadata": {},
   "outputs": [],
   "source": [
    "laptop=pd.DataFrame({'Title':title,'Ratings':ratings,'Price':price})"
   ]
  },
  {
   "cell_type": "code",
   "execution_count": 88,
   "id": "21d0983a",
   "metadata": {},
   "outputs": [
    {
     "data": {
      "text/html": [
       "<div>\n",
       "<style scoped>\n",
       "    .dataframe tbody tr th:only-of-type {\n",
       "        vertical-align: middle;\n",
       "    }\n",
       "\n",
       "    .dataframe tbody tr th {\n",
       "        vertical-align: top;\n",
       "    }\n",
       "\n",
       "    .dataframe thead th {\n",
       "        text-align: right;\n",
       "    }\n",
       "</style>\n",
       "<table border=\"1\" class=\"dataframe\">\n",
       "  <thead>\n",
       "    <tr style=\"text-align: right;\">\n",
       "      <th></th>\n",
       "      <th>Title</th>\n",
       "      <th>Ratings</th>\n",
       "      <th>Price</th>\n",
       "    </tr>\n",
       "  </thead>\n",
       "  <tbody>\n",
       "    <tr>\n",
       "      <th>0</th>\n",
       "      <td>HP 15s, 11th Gen Intel Core i3 8GB RAM/1TB HDD...</td>\n",
       "      <td>3.4</td>\n",
       "      <td>38,490</td>\n",
       "    </tr>\n",
       "    <tr>\n",
       "      <th>1</th>\n",
       "      <td>Lenovo IdeaPad Slim 3 Intel Core i3-1115G4 11t...</td>\n",
       "      <td>4.1</td>\n",
       "      <td>33,990</td>\n",
       "    </tr>\n",
       "    <tr>\n",
       "      <th>2</th>\n",
       "      <td>Lenovo IdeaPad 3 11th Gen Intel Core i3 15.6\" ...</td>\n",
       "      <td>4.1</td>\n",
       "      <td>38,400</td>\n",
       "    </tr>\n",
       "    <tr>\n",
       "      <th>3</th>\n",
       "      <td>ASUS Vivobook 15, Intel Core i3-1220P 12th Gen...</td>\n",
       "      <td>4.6</td>\n",
       "      <td>40,990</td>\n",
       "    </tr>\n",
       "    <tr>\n",
       "      <th>4</th>\n",
       "      <td>Dell Inspiron 3511 Laptop, Intel i3-1115G4, 8G...</td>\n",
       "      <td>3.6</td>\n",
       "      <td>40,990</td>\n",
       "    </tr>\n",
       "    <tr>\n",
       "      <th>5</th>\n",
       "      <td>HP 15s,11th Gen Intel Core i3-1115G4 8GB RAM/5...</td>\n",
       "      <td>4.1</td>\n",
       "      <td>39,990</td>\n",
       "    </tr>\n",
       "    <tr>\n",
       "      <th>6</th>\n",
       "      <td>HP 14s, 11th Gen Intel Core i3-1115G4, 8GB RAM...</td>\n",
       "      <td>4.1</td>\n",
       "      <td>37,490</td>\n",
       "    </tr>\n",
       "    <tr>\n",
       "      <th>7</th>\n",
       "      <td>HP 15s,12th Gen Intel Core i3-1215U, 15.6 inch...</td>\n",
       "      <td>3.7</td>\n",
       "      <td>43,990</td>\n",
       "    </tr>\n",
       "    <tr>\n",
       "      <th>8</th>\n",
       "      <td>ASUS Vivobook 14, Intel Core i3-1115G4 11th Ge...</td>\n",
       "      <td>4.1</td>\n",
       "      <td>34,990</td>\n",
       "    </tr>\n",
       "    <tr>\n",
       "      <th>9</th>\n",
       "      <td>ASUS VivoBook Ultra K14, Intel Core i3-1125G4 ...</td>\n",
       "      <td>4.4</td>\n",
       "      <td>38,990</td>\n",
       "    </tr>\n",
       "  </tbody>\n",
       "</table>\n",
       "</div>"
      ],
      "text/plain": [
       "                                               Title Ratings   Price\n",
       "0  HP 15s, 11th Gen Intel Core i3 8GB RAM/1TB HDD...     3.4  38,490\n",
       "1  Lenovo IdeaPad Slim 3 Intel Core i3-1115G4 11t...     4.1  33,990\n",
       "2  Lenovo IdeaPad 3 11th Gen Intel Core i3 15.6\" ...     4.1  38,400\n",
       "3  ASUS Vivobook 15, Intel Core i3-1220P 12th Gen...     4.6  40,990\n",
       "4  Dell Inspiron 3511 Laptop, Intel i3-1115G4, 8G...     3.6  40,990\n",
       "5  HP 15s,11th Gen Intel Core i3-1115G4 8GB RAM/5...     4.1  39,990\n",
       "6  HP 14s, 11th Gen Intel Core i3-1115G4, 8GB RAM...     4.1  37,490\n",
       "7  HP 15s,12th Gen Intel Core i3-1215U, 15.6 inch...     3.7  43,990\n",
       "8  ASUS Vivobook 14, Intel Core i3-1115G4 11th Ge...     4.1  34,990\n",
       "9  ASUS VivoBook Ultra K14, Intel Core i3-1125G4 ...     4.4  38,990"
      ]
     },
     "execution_count": 88,
     "metadata": {},
     "output_type": "execute_result"
    }
   ],
   "source": [
    "laptop"
   ]
  },
  {
   "cell_type": "markdown",
   "id": "13eec74c",
   "metadata": {},
   "source": [
    "# Answer 8"
   ]
  },
  {
   "cell_type": "code",
   "execution_count": 90,
   "id": "a52b133c",
   "metadata": {},
   "outputs": [],
   "source": [
    "driver=webdriver.Chrome(r'C:\\Users\\arunk\\Downloads\\chromedriver_win32\\chromedriver.exe')"
   ]
  },
  {
   "cell_type": "code",
   "execution_count": 91,
   "id": "757db055",
   "metadata": {},
   "outputs": [],
   "source": [
    "driver.get('https://www.azquotes.com/')"
   ]
  },
  {
   "cell_type": "code",
   "execution_count": 92,
   "id": "d7ffb00d",
   "metadata": {},
   "outputs": [],
   "source": [
    "search=driver.find_element(By.XPATH,'/html/body/div[1]/div[1]/div[1]/div/div[3]/ul/li[5]/a')\n",
    "search.click()"
   ]
  },
  {
   "cell_type": "code",
   "execution_count": 93,
   "id": "f84884f8",
   "metadata": {},
   "outputs": [],
   "source": [
    "quotes=[]\n",
    "authors=[]\n",
    "quotes_type=[]"
   ]
  },
  {
   "cell_type": "code",
   "execution_count": 94,
   "id": "1daaa43b",
   "metadata": {},
   "outputs": [],
   "source": [
    "s=0\n",
    "e=10\n",
    "for page in range(s,e):\n",
    "    quote=driver.find_elements(By.XPATH,'//a[@class=\"title\"]')\n",
    "    for q in quote:\n",
    "        quotes.append(q.text)\n",
    "    nextbutton=driver.find_element(By.XPATH,'/html/body/div[1]/div[2]/div/div/div/div[1]/div/div[4]/li[12]')\n",
    "    nextbutton.click()\n",
    "    time.sleep(10)"
   ]
  },
  {
   "cell_type": "code",
   "execution_count": 95,
   "id": "1f422721",
   "metadata": {},
   "outputs": [
    {
     "data": {
      "text/plain": [
       "1000"
      ]
     },
     "execution_count": 95,
     "metadata": {},
     "output_type": "execute_result"
    }
   ],
   "source": [
    "len(quotes)"
   ]
  },
  {
   "cell_type": "code",
   "execution_count": 96,
   "id": "eefdc12e",
   "metadata": {},
   "outputs": [],
   "source": [
    "s=0\n",
    "e=10\n",
    "for page in range(s,e):\n",
    "    author=driver.find_elements(By.XPATH,'//div[@class=\"author\"]')\n",
    "    for a in author:\n",
    "        authors.append(a.text)\n",
    "    nextbutton=driver.find_element(By.XPATH,'/html/body/div[1]/div[2]/div/div/div/div[1]/div/div[4]/li[12]')\n",
    "    nextbutton.click()\n",
    "    time.sleep(10)\n",
    "    \n",
    "    \n",
    "    \n",
    "\n",
    "    \n",
    "    \n",
    "s=0\n",
    "e=10\n",
    "for page in range(s,e):\n",
    "    qt=driver.find_elements(By.XPATH,'//div[@class=\"author\"]')\n",
    "    for q in qt:\n",
    "        quotes_type.append(q.text)\n",
    "    nextbutton=driver.find_element(By.XPATH,'/html/body/div[1]/div[2]/div/div/div/div[1]/div/div[4]/li[12]')\n",
    "    nextbutton.click()\n",
    "    time.sleep(10)"
   ]
  },
  {
   "cell_type": "code",
   "execution_count": 97,
   "id": "9f9bd5d4",
   "metadata": {},
   "outputs": [
    {
     "data": {
      "text/plain": [
       "1000"
      ]
     },
     "execution_count": 97,
     "metadata": {},
     "output_type": "execute_result"
    }
   ],
   "source": [
    "len(authors)"
   ]
  },
  {
   "cell_type": "code",
   "execution_count": 98,
   "id": "e862e613",
   "metadata": {},
   "outputs": [
    {
     "data": {
      "text/plain": [
       "1000"
      ]
     },
     "execution_count": 98,
     "metadata": {},
     "output_type": "execute_result"
    }
   ],
   "source": [
    "len(quotes_type)"
   ]
  },
  {
   "cell_type": "code",
   "execution_count": 99,
   "id": "06772d84",
   "metadata": {},
   "outputs": [
    {
     "data": {
      "text/html": [
       "<div>\n",
       "<style scoped>\n",
       "    .dataframe tbody tr th:only-of-type {\n",
       "        vertical-align: middle;\n",
       "    }\n",
       "\n",
       "    .dataframe tbody tr th {\n",
       "        vertical-align: top;\n",
       "    }\n",
       "\n",
       "    .dataframe thead th {\n",
       "        text-align: right;\n",
       "    }\n",
       "</style>\n",
       "<table border=\"1\" class=\"dataframe\">\n",
       "  <thead>\n",
       "    <tr style=\"text-align: right;\">\n",
       "      <th></th>\n",
       "      <th>Quotes</th>\n",
       "      <th>Authors</th>\n",
       "      <th>Quotes_type</th>\n",
       "    </tr>\n",
       "  </thead>\n",
       "  <tbody>\n",
       "    <tr>\n",
       "      <th>0</th>\n",
       "      <td>The essence of strategy is choosing what not t...</td>\n",
       "      <td>Amelia Earhart</td>\n",
       "      <td>Amelia Earhart</td>\n",
       "    </tr>\n",
       "    <tr>\n",
       "      <th>1</th>\n",
       "      <td>One cannot and must not try to erase the past ...</td>\n",
       "      <td>Ludwig von Mises</td>\n",
       "      <td>Ludwig von Mises</td>\n",
       "    </tr>\n",
       "    <tr>\n",
       "      <th>2</th>\n",
       "      <td>Patriotism means to stand by the country. It d...</td>\n",
       "      <td>Elizabeth Cady Stanton</td>\n",
       "      <td>Elizabeth Cady Stanton</td>\n",
       "    </tr>\n",
       "    <tr>\n",
       "      <th>3</th>\n",
       "      <td>Death is something inevitable. When a man has ...</td>\n",
       "      <td>Benjamin Spock</td>\n",
       "      <td>Benjamin Spock</td>\n",
       "    </tr>\n",
       "    <tr>\n",
       "      <th>4</th>\n",
       "      <td>You have to love a nation that celebrates its ...</td>\n",
       "      <td>Charles Kettering</td>\n",
       "      <td>Charles Kettering</td>\n",
       "    </tr>\n",
       "    <tr>\n",
       "      <th>...</th>\n",
       "      <td>...</td>\n",
       "      <td>...</td>\n",
       "      <td>...</td>\n",
       "    </tr>\n",
       "    <tr>\n",
       "      <th>995</th>\n",
       "      <td>Regret for the things we did can be tempered b...</td>\n",
       "      <td>Sydney J. Harris</td>\n",
       "      <td>Sydney J. Harris</td>\n",
       "    </tr>\n",
       "    <tr>\n",
       "      <th>996</th>\n",
       "      <td>America... just a nation of two hundred millio...</td>\n",
       "      <td>Hunter S. Thompson</td>\n",
       "      <td>Hunter S. Thompson</td>\n",
       "    </tr>\n",
       "    <tr>\n",
       "      <th>997</th>\n",
       "      <td>For every disciplined effort there is a multip...</td>\n",
       "      <td>Jim Rohn</td>\n",
       "      <td>Jim Rohn</td>\n",
       "    </tr>\n",
       "    <tr>\n",
       "      <th>998</th>\n",
       "      <td>The spiritual journey is individual, highly pe...</td>\n",
       "      <td>Ram Dass</td>\n",
       "      <td>Ram Dass</td>\n",
       "    </tr>\n",
       "    <tr>\n",
       "      <th>999</th>\n",
       "      <td>The mind is not a vessel to be filled but a fi...</td>\n",
       "      <td>Plutarch</td>\n",
       "      <td>Plutarch</td>\n",
       "    </tr>\n",
       "  </tbody>\n",
       "</table>\n",
       "<p>1000 rows × 3 columns</p>\n",
       "</div>"
      ],
      "text/plain": [
       "                                                Quotes  \\\n",
       "0    The essence of strategy is choosing what not t...   \n",
       "1    One cannot and must not try to erase the past ...   \n",
       "2    Patriotism means to stand by the country. It d...   \n",
       "3    Death is something inevitable. When a man has ...   \n",
       "4    You have to love a nation that celebrates its ...   \n",
       "..                                                 ...   \n",
       "995  Regret for the things we did can be tempered b...   \n",
       "996  America... just a nation of two hundred millio...   \n",
       "997  For every disciplined effort there is a multip...   \n",
       "998  The spiritual journey is individual, highly pe...   \n",
       "999  The mind is not a vessel to be filled but a fi...   \n",
       "\n",
       "                    Authors             Quotes_type  \n",
       "0            Amelia Earhart          Amelia Earhart  \n",
       "1          Ludwig von Mises        Ludwig von Mises  \n",
       "2    Elizabeth Cady Stanton  Elizabeth Cady Stanton  \n",
       "3            Benjamin Spock          Benjamin Spock  \n",
       "4         Charles Kettering       Charles Kettering  \n",
       "..                      ...                     ...  \n",
       "995        Sydney J. Harris        Sydney J. Harris  \n",
       "996      Hunter S. Thompson      Hunter S. Thompson  \n",
       "997                Jim Rohn                Jim Rohn  \n",
       "998                Ram Dass                Ram Dass  \n",
       "999                Plutarch                Plutarch  \n",
       "\n",
       "[1000 rows x 3 columns]"
      ]
     },
     "execution_count": 99,
     "metadata": {},
     "output_type": "execute_result"
    }
   ],
   "source": [
    "quotes=pd.DataFrame({'Quotes':quotes,'Authors':authors,'Quotes_type':quotes_type})\n",
    "\n",
    "quotes"
   ]
  },
  {
   "cell_type": "markdown",
   "id": "0af42d68",
   "metadata": {},
   "source": [
    "# Answer 9\n"
   ]
  },
  {
   "cell_type": "code",
   "execution_count": null,
   "id": "84df860d",
   "metadata": {},
   "outputs": [],
   "source": [
    "#not able to solve ques 9"
   ]
  },
  {
   "cell_type": "markdown",
   "id": "7ba1a5bc",
   "metadata": {},
   "source": [
    "# Answer 10"
   ]
  },
  {
   "cell_type": "code",
   "execution_count": null,
   "id": "d5b8b15a",
   "metadata": {},
   "outputs": [],
   "source": [
    "# not able to solve ques 10"
   ]
  }
 ],
 "metadata": {
  "kernelspec": {
   "display_name": "Python 3 (ipykernel)",
   "language": "python",
   "name": "python3"
  },
  "language_info": {
   "codemirror_mode": {
    "name": "ipython",
    "version": 3
   },
   "file_extension": ".py",
   "mimetype": "text/x-python",
   "name": "python",
   "nbconvert_exporter": "python",
   "pygments_lexer": "ipython3",
   "version": "3.9.12"
  }
 },
 "nbformat": 4,
 "nbformat_minor": 5
}
