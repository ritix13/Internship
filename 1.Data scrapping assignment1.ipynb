{
 "cells": [
  {
   "cell_type": "code",
   "execution_count": 2,
   "id": "8d89328e",
   "metadata": {},
   "outputs": [],
   "source": [
    "from bs4 import BeautifulSoup\n",
    "import requests"
   ]
  },
  {
   "cell_type": "markdown",
   "id": "75047c8e",
   "metadata": {},
   "source": [
    "# answer 1"
   ]
  },
  {
   "cell_type": "code",
   "execution_count": 3,
   "id": "c11878a1",
   "metadata": {
    "scrolled": true
   },
   "outputs": [
    {
     "data": {
      "text/plain": [
       "<Response [200]>"
      ]
     },
     "execution_count": 3,
     "metadata": {},
     "output_type": "execute_result"
    }
   ],
   "source": [
    "page= requests.get('https://www.wikipedia.org/')\n",
    "page"
   ]
  },
  {
   "cell_type": "code",
   "execution_count": 4,
   "id": "beb874de",
   "metadata": {},
   "outputs": [
    {
     "name": "stdout",
     "output_type": "stream",
     "text": [
      "Title :  Wikipedia\n",
      "Headers : \n",
      "\n",
      "\n",
      "Wikipedia\n",
      "\n",
      "The Free Encyclopedia\n",
      "\n",
      "\n",
      "\n",
      "\n",
      "\n",
      "1 000 000+\n",
      "\n",
      "\n",
      "articles\n",
      "\n",
      "\n",
      "\n",
      "\n",
      "\n",
      "\n",
      "\n",
      "\n",
      "100 000+\n",
      "\n",
      "\n",
      "articles\n",
      "\n",
      "\n",
      "\n",
      "\n",
      "\n",
      "\n",
      "\n",
      "\n",
      "10 000+\n",
      "\n",
      "\n",
      "articles\n",
      "\n",
      "\n",
      "\n",
      "\n",
      "\n",
      "\n",
      "\n",
      "\n",
      "1 000+\n",
      "\n",
      "\n",
      "articles\n",
      "\n",
      "\n",
      "\n",
      "\n",
      "\n",
      "\n",
      "\n",
      "\n",
      "100+\n",
      "\n",
      "\n",
      "articles\n",
      "\n",
      "\n",
      "\n",
      "\n"
     ]
    }
   ],
   "source": [
    "from urllib.request import urlopen\n",
    "from bs4 import BeautifulSoup\n",
    "import re\n",
    "url = \"https://www.wikipedia.org/\"\n",
    "fileObj = urlopen(url)\n",
    "html = fileObj.read()\n",
    "soup = BeautifulSoup(html, 'html.parser')\n",
    "print(\"Title : \",soup.title.text)\n",
    "headerlist = soup.find_all(re.compile('^h[1-6]'))\n",
    "print(\"Headers : \")\n",
    "for header in headerlist:\n",
    "    print(header.text)"
   ]
  },
  {
   "cell_type": "markdown",
   "id": "77aa6363",
   "metadata": {},
   "source": [
    "# answer 2\n"
   ]
  },
  {
   "cell_type": "code",
   "execution_count": 3,
   "id": "a3cf7252",
   "metadata": {},
   "outputs": [],
   "source": [
    "#Solution"
   ]
  },
  {
   "cell_type": "code",
   "execution_count": 4,
   "id": "8d3e6cbe",
   "metadata": {},
   "outputs": [],
   "source": [
    "page= requests.get('https://www.imdb.com/list/ls055386972/')"
   ]
  },
  {
   "cell_type": "code",
   "execution_count": 5,
   "id": "c392215f",
   "metadata": {},
   "outputs": [
    {
     "data": {
      "text/plain": [
       "<Response [200]>"
      ]
     },
     "execution_count": 5,
     "metadata": {},
     "output_type": "execute_result"
    }
   ],
   "source": [
    "page"
   ]
  },
  {
   "cell_type": "code",
   "execution_count": 6,
   "id": "9d1ca12d",
   "metadata": {},
   "outputs": [],
   "source": [
    "soup=BeautifulSoup(page.content)"
   ]
  },
  {
   "cell_type": "code",
   "execution_count": 7,
   "id": "f1af420b",
   "metadata": {},
   "outputs": [],
   "source": [
    "name=soup.find('h3',class_=\"lister-item-header\")"
   ]
  },
  {
   "cell_type": "code",
   "execution_count": 8,
   "id": "1afe1f6e",
   "metadata": {},
   "outputs": [
    {
     "data": {
      "text/plain": [
       "'\\n1.\\nThe Godfather\\n(1972)\\n'"
      ]
     },
     "execution_count": 8,
     "metadata": {},
     "output_type": "execute_result"
    }
   ],
   "source": [
    "name.text"
   ]
  },
  {
   "cell_type": "code",
   "execution_count": 9,
   "id": "61e56dc1",
   "metadata": {},
   "outputs": [
    {
     "data": {
      "text/plain": [
       "'The Godfather'"
      ]
     },
     "execution_count": 9,
     "metadata": {},
     "output_type": "execute_result"
    }
   ],
   "source": [
    "name.text.split('\\n')[2]"
   ]
  },
  {
   "cell_type": "code",
   "execution_count": 10,
   "id": "d42a5573",
   "metadata": {},
   "outputs": [],
   "source": [
    "name=[]\n",
    "\n",
    "for n in soup.find_all('h3',class_=\"lister-item-header\"):\n",
    "    name.append(n.text.split('\\n')[2])"
   ]
  },
  {
   "cell_type": "code",
   "execution_count": 11,
   "id": "190b69fb",
   "metadata": {},
   "outputs": [
    {
     "data": {
      "text/plain": [
       "['The Godfather',\n",
       " \"Schindler's List\",\n",
       " '12 Angry Men',\n",
       " 'La vita è bella',\n",
       " 'Il buono, il brutto, il cattivo',\n",
       " 'The Shawshank Redemption',\n",
       " 'The Pursuit of Happyness',\n",
       " 'Shichinin no samurai',\n",
       " 'The Intouchables',\n",
       " 'Central do Brasil',\n",
       " 'Requiem for a Dream',\n",
       " 'A Beautiful Mind',\n",
       " \"Hachi: A Dog's Tale\",\n",
       " 'Taken',\n",
       " 'Yeopgijeogin geunyeo',\n",
       " 'Amores perros',\n",
       " 'The Shining',\n",
       " 'Apocalypto',\n",
       " 'Gladiator',\n",
       " 'Cast Away',\n",
       " 'The Dark Knight',\n",
       " 'The Pianist',\n",
       " 'Titanic',\n",
       " 'Bin-jip',\n",
       " 'Braveheart',\n",
       " \"It's a Wonderful Life\",\n",
       " 'Bom yeoreum gaeul gyeoul geurigo bom',\n",
       " 'Alien',\n",
       " 'Salinui chueok',\n",
       " 'Vozvrashchenie',\n",
       " 'Ang-ma-reul bo-at-da',\n",
       " 'Bacheha-Ye aseman',\n",
       " 'Jodaeiye Nader az Simin',\n",
       " 'The Sixth Sense',\n",
       " 'Nae meorisokui jiwoogae',\n",
       " 'Okuribito',\n",
       " 'Wo de fu qin mu qin',\n",
       " 'Saving Private Ryan',\n",
       " 'The Bridge on the River Kwai',\n",
       " 'Ben-Hur',\n",
       " 'The Exorcist',\n",
       " 'El secreto de sus ojos',\n",
       " 'Léon',\n",
       " 'The Green Mile',\n",
       " 'Gran Torino',\n",
       " 'Kill Bill: Vol. 1',\n",
       " 'Jurassic Park',\n",
       " 'Terminator 2: Judgment Day',\n",
       " 'Back to the Future',\n",
       " 'Finding Nemo']"
      ]
     },
     "execution_count": 11,
     "metadata": {},
     "output_type": "execute_result"
    }
   ],
   "source": [
    "name"
   ]
  },
  {
   "cell_type": "code",
   "execution_count": 12,
   "id": "3b49ee92",
   "metadata": {},
   "outputs": [],
   "source": [
    "#rating"
   ]
  },
  {
   "cell_type": "code",
   "execution_count": 13,
   "id": "24a3b6b6",
   "metadata": {},
   "outputs": [],
   "source": [
    "ratings=soup.find('div',class_=\"ipl-rating-star small\")"
   ]
  },
  {
   "cell_type": "code",
   "execution_count": 14,
   "id": "eec94463",
   "metadata": {},
   "outputs": [
    {
     "data": {
      "text/plain": [
       "'\\n\\n\\n\\n\\n\\n\\n\\n9.2\\n'"
      ]
     },
     "execution_count": 14,
     "metadata": {},
     "output_type": "execute_result"
    }
   ],
   "source": [
    "ratings.text"
   ]
  },
  {
   "cell_type": "code",
   "execution_count": 15,
   "id": "972bfe2f",
   "metadata": {},
   "outputs": [
    {
     "data": {
      "text/plain": [
       "'9.2'"
      ]
     },
     "execution_count": 15,
     "metadata": {},
     "output_type": "execute_result"
    }
   ],
   "source": [
    "ratings.text.split('\\n')[8]"
   ]
  },
  {
   "cell_type": "code",
   "execution_count": 16,
   "id": "69ef9cff",
   "metadata": {},
   "outputs": [],
   "source": [
    "rating=[]\n",
    "\n",
    "for r in soup.find_all('div',class_=\"ipl-rating-star small\"):\n",
    "    rating.append(r.text.split('\\n')[8])"
   ]
  },
  {
   "cell_type": "code",
   "execution_count": 17,
   "id": "70da1e2c",
   "metadata": {},
   "outputs": [
    {
     "data": {
      "text/plain": [
       "['9.2',\n",
       " '9',\n",
       " '9',\n",
       " '8.6',\n",
       " '8.8',\n",
       " '9.3',\n",
       " '8',\n",
       " '8.6',\n",
       " '8.5',\n",
       " '8',\n",
       " '8.3',\n",
       " '8.2',\n",
       " '8.1',\n",
       " '7.8',\n",
       " '8',\n",
       " '8.1',\n",
       " '8.4',\n",
       " '7.8',\n",
       " '8.5',\n",
       " '7.8',\n",
       " '9',\n",
       " '8.5',\n",
       " '7.9',\n",
       " '7.9',\n",
       " '8.4',\n",
       " '8.6',\n",
       " '8',\n",
       " '8.5',\n",
       " '8.1',\n",
       " '7.9',\n",
       " '7.8',\n",
       " '8.2',\n",
       " '8.3',\n",
       " '8.2',\n",
       " '8.1',\n",
       " '8',\n",
       " '7.8',\n",
       " '8.6',\n",
       " '8.2',\n",
       " '8.1',\n",
       " '8.1',\n",
       " '8.2',\n",
       " '8.5',\n",
       " '8.6',\n",
       " '8.1',\n",
       " '8.2',\n",
       " '8.2',\n",
       " '8.6',\n",
       " '8.5',\n",
       " '8.2']"
      ]
     },
     "execution_count": 17,
     "metadata": {},
     "output_type": "execute_result"
    }
   ],
   "source": [
    "rating"
   ]
  },
  {
   "cell_type": "code",
   "execution_count": 18,
   "id": "1e86cf10",
   "metadata": {},
   "outputs": [],
   "source": [
    "#year of release"
   ]
  },
  {
   "cell_type": "code",
   "execution_count": 19,
   "id": "9faa9571",
   "metadata": {},
   "outputs": [],
   "source": [
    "release=soup.find('span',class_=\"lister-item-year text-muted unbold\")"
   ]
  },
  {
   "cell_type": "code",
   "execution_count": 20,
   "id": "b5f802f2",
   "metadata": {},
   "outputs": [
    {
     "data": {
      "text/plain": [
       "'(1972)'"
      ]
     },
     "execution_count": 20,
     "metadata": {},
     "output_type": "execute_result"
    }
   ],
   "source": [
    "release.text"
   ]
  },
  {
   "cell_type": "code",
   "execution_count": 21,
   "id": "dab52334",
   "metadata": {},
   "outputs": [
    {
     "data": {
      "text/plain": [
       "['(1972)',\n",
       " '(1993)',\n",
       " '(1957)',\n",
       " '(1997)',\n",
       " '(1966)',\n",
       " '(1994)',\n",
       " '(2006)',\n",
       " '(1954)',\n",
       " '(2011)',\n",
       " '(1998)',\n",
       " '(2000)',\n",
       " '(2001)',\n",
       " '(2009)',\n",
       " '(I) (2008)',\n",
       " '(2001)',\n",
       " '(2000)',\n",
       " '(1980)',\n",
       " '(2006)',\n",
       " '(2000)',\n",
       " '(2000)',\n",
       " '(2008)',\n",
       " '(2002)',\n",
       " '(1997)',\n",
       " '(2004)',\n",
       " '(1995)',\n",
       " '(1946)',\n",
       " '(2003)',\n",
       " '(1979)',\n",
       " '(2003)',\n",
       " '(2003)',\n",
       " '(2010)',\n",
       " '(1997)',\n",
       " '(2011)',\n",
       " '(1999)',\n",
       " '(2004)',\n",
       " '(2008)',\n",
       " '(1999)',\n",
       " '(1998)',\n",
       " '(1957)',\n",
       " '(1959)',\n",
       " '(1973)',\n",
       " '(2009)',\n",
       " '(1994)',\n",
       " '(1999)',\n",
       " '(2008)',\n",
       " '(2003)',\n",
       " '(1993)',\n",
       " '(1991)',\n",
       " '(1985)',\n",
       " '(2003)']"
      ]
     },
     "execution_count": 21,
     "metadata": {},
     "output_type": "execute_result"
    }
   ],
   "source": [
    "release=[]\n",
    "\n",
    "for r in soup.find_all('span',class_=\"lister-item-year text-muted unbold\"):\n",
    "    release.append(r.text)\n",
    "    \n",
    "release"
   ]
  },
  {
   "cell_type": "code",
   "execution_count": 22,
   "id": "21e54c44",
   "metadata": {},
   "outputs": [],
   "source": [
    "import pandas as pd"
   ]
  },
  {
   "cell_type": "code",
   "execution_count": 23,
   "id": "6d90f9e8",
   "metadata": {},
   "outputs": [],
   "source": [
    "d=pd.DataFrame({'Name':name,'Ratings':rating,'Release':release})"
   ]
  },
  {
   "cell_type": "code",
   "execution_count": 24,
   "id": "1d9cbce8",
   "metadata": {},
   "outputs": [
    {
     "data": {
      "text/html": [
       "<div>\n",
       "<style scoped>\n",
       "    .dataframe tbody tr th:only-of-type {\n",
       "        vertical-align: middle;\n",
       "    }\n",
       "\n",
       "    .dataframe tbody tr th {\n",
       "        vertical-align: top;\n",
       "    }\n",
       "\n",
       "    .dataframe thead th {\n",
       "        text-align: right;\n",
       "    }\n",
       "</style>\n",
       "<table border=\"1\" class=\"dataframe\">\n",
       "  <thead>\n",
       "    <tr style=\"text-align: right;\">\n",
       "      <th></th>\n",
       "      <th>Name</th>\n",
       "      <th>Ratings</th>\n",
       "      <th>Release</th>\n",
       "    </tr>\n",
       "  </thead>\n",
       "  <tbody>\n",
       "    <tr>\n",
       "      <th>0</th>\n",
       "      <td>The Godfather</td>\n",
       "      <td>9.2</td>\n",
       "      <td>(1972)</td>\n",
       "    </tr>\n",
       "    <tr>\n",
       "      <th>1</th>\n",
       "      <td>Schindler's List</td>\n",
       "      <td>9</td>\n",
       "      <td>(1993)</td>\n",
       "    </tr>\n",
       "    <tr>\n",
       "      <th>2</th>\n",
       "      <td>12 Angry Men</td>\n",
       "      <td>9</td>\n",
       "      <td>(1957)</td>\n",
       "    </tr>\n",
       "    <tr>\n",
       "      <th>3</th>\n",
       "      <td>La vita è bella</td>\n",
       "      <td>8.6</td>\n",
       "      <td>(1997)</td>\n",
       "    </tr>\n",
       "    <tr>\n",
       "      <th>4</th>\n",
       "      <td>Il buono, il brutto, il cattivo</td>\n",
       "      <td>8.8</td>\n",
       "      <td>(1966)</td>\n",
       "    </tr>\n",
       "    <tr>\n",
       "      <th>5</th>\n",
       "      <td>The Shawshank Redemption</td>\n",
       "      <td>9.3</td>\n",
       "      <td>(1994)</td>\n",
       "    </tr>\n",
       "    <tr>\n",
       "      <th>6</th>\n",
       "      <td>The Pursuit of Happyness</td>\n",
       "      <td>8</td>\n",
       "      <td>(2006)</td>\n",
       "    </tr>\n",
       "    <tr>\n",
       "      <th>7</th>\n",
       "      <td>Shichinin no samurai</td>\n",
       "      <td>8.6</td>\n",
       "      <td>(1954)</td>\n",
       "    </tr>\n",
       "    <tr>\n",
       "      <th>8</th>\n",
       "      <td>The Intouchables</td>\n",
       "      <td>8.5</td>\n",
       "      <td>(2011)</td>\n",
       "    </tr>\n",
       "    <tr>\n",
       "      <th>9</th>\n",
       "      <td>Central do Brasil</td>\n",
       "      <td>8</td>\n",
       "      <td>(1998)</td>\n",
       "    </tr>\n",
       "    <tr>\n",
       "      <th>10</th>\n",
       "      <td>Requiem for a Dream</td>\n",
       "      <td>8.3</td>\n",
       "      <td>(2000)</td>\n",
       "    </tr>\n",
       "    <tr>\n",
       "      <th>11</th>\n",
       "      <td>A Beautiful Mind</td>\n",
       "      <td>8.2</td>\n",
       "      <td>(2001)</td>\n",
       "    </tr>\n",
       "    <tr>\n",
       "      <th>12</th>\n",
       "      <td>Hachi: A Dog's Tale</td>\n",
       "      <td>8.1</td>\n",
       "      <td>(2009)</td>\n",
       "    </tr>\n",
       "    <tr>\n",
       "      <th>13</th>\n",
       "      <td>Taken</td>\n",
       "      <td>7.8</td>\n",
       "      <td>(I) (2008)</td>\n",
       "    </tr>\n",
       "    <tr>\n",
       "      <th>14</th>\n",
       "      <td>Yeopgijeogin geunyeo</td>\n",
       "      <td>8</td>\n",
       "      <td>(2001)</td>\n",
       "    </tr>\n",
       "    <tr>\n",
       "      <th>15</th>\n",
       "      <td>Amores perros</td>\n",
       "      <td>8.1</td>\n",
       "      <td>(2000)</td>\n",
       "    </tr>\n",
       "    <tr>\n",
       "      <th>16</th>\n",
       "      <td>The Shining</td>\n",
       "      <td>8.4</td>\n",
       "      <td>(1980)</td>\n",
       "    </tr>\n",
       "    <tr>\n",
       "      <th>17</th>\n",
       "      <td>Apocalypto</td>\n",
       "      <td>7.8</td>\n",
       "      <td>(2006)</td>\n",
       "    </tr>\n",
       "    <tr>\n",
       "      <th>18</th>\n",
       "      <td>Gladiator</td>\n",
       "      <td>8.5</td>\n",
       "      <td>(2000)</td>\n",
       "    </tr>\n",
       "    <tr>\n",
       "      <th>19</th>\n",
       "      <td>Cast Away</td>\n",
       "      <td>7.8</td>\n",
       "      <td>(2000)</td>\n",
       "    </tr>\n",
       "    <tr>\n",
       "      <th>20</th>\n",
       "      <td>The Dark Knight</td>\n",
       "      <td>9</td>\n",
       "      <td>(2008)</td>\n",
       "    </tr>\n",
       "    <tr>\n",
       "      <th>21</th>\n",
       "      <td>The Pianist</td>\n",
       "      <td>8.5</td>\n",
       "      <td>(2002)</td>\n",
       "    </tr>\n",
       "    <tr>\n",
       "      <th>22</th>\n",
       "      <td>Titanic</td>\n",
       "      <td>7.9</td>\n",
       "      <td>(1997)</td>\n",
       "    </tr>\n",
       "    <tr>\n",
       "      <th>23</th>\n",
       "      <td>Bin-jip</td>\n",
       "      <td>7.9</td>\n",
       "      <td>(2004)</td>\n",
       "    </tr>\n",
       "    <tr>\n",
       "      <th>24</th>\n",
       "      <td>Braveheart</td>\n",
       "      <td>8.4</td>\n",
       "      <td>(1995)</td>\n",
       "    </tr>\n",
       "    <tr>\n",
       "      <th>25</th>\n",
       "      <td>It's a Wonderful Life</td>\n",
       "      <td>8.6</td>\n",
       "      <td>(1946)</td>\n",
       "    </tr>\n",
       "    <tr>\n",
       "      <th>26</th>\n",
       "      <td>Bom yeoreum gaeul gyeoul geurigo bom</td>\n",
       "      <td>8</td>\n",
       "      <td>(2003)</td>\n",
       "    </tr>\n",
       "    <tr>\n",
       "      <th>27</th>\n",
       "      <td>Alien</td>\n",
       "      <td>8.5</td>\n",
       "      <td>(1979)</td>\n",
       "    </tr>\n",
       "    <tr>\n",
       "      <th>28</th>\n",
       "      <td>Salinui chueok</td>\n",
       "      <td>8.1</td>\n",
       "      <td>(2003)</td>\n",
       "    </tr>\n",
       "    <tr>\n",
       "      <th>29</th>\n",
       "      <td>Vozvrashchenie</td>\n",
       "      <td>7.9</td>\n",
       "      <td>(2003)</td>\n",
       "    </tr>\n",
       "    <tr>\n",
       "      <th>30</th>\n",
       "      <td>Ang-ma-reul bo-at-da</td>\n",
       "      <td>7.8</td>\n",
       "      <td>(2010)</td>\n",
       "    </tr>\n",
       "    <tr>\n",
       "      <th>31</th>\n",
       "      <td>Bacheha-Ye aseman</td>\n",
       "      <td>8.2</td>\n",
       "      <td>(1997)</td>\n",
       "    </tr>\n",
       "    <tr>\n",
       "      <th>32</th>\n",
       "      <td>Jodaeiye Nader az Simin</td>\n",
       "      <td>8.3</td>\n",
       "      <td>(2011)</td>\n",
       "    </tr>\n",
       "    <tr>\n",
       "      <th>33</th>\n",
       "      <td>The Sixth Sense</td>\n",
       "      <td>8.2</td>\n",
       "      <td>(1999)</td>\n",
       "    </tr>\n",
       "    <tr>\n",
       "      <th>34</th>\n",
       "      <td>Nae meorisokui jiwoogae</td>\n",
       "      <td>8.1</td>\n",
       "      <td>(2004)</td>\n",
       "    </tr>\n",
       "    <tr>\n",
       "      <th>35</th>\n",
       "      <td>Okuribito</td>\n",
       "      <td>8</td>\n",
       "      <td>(2008)</td>\n",
       "    </tr>\n",
       "    <tr>\n",
       "      <th>36</th>\n",
       "      <td>Wo de fu qin mu qin</td>\n",
       "      <td>7.8</td>\n",
       "      <td>(1999)</td>\n",
       "    </tr>\n",
       "    <tr>\n",
       "      <th>37</th>\n",
       "      <td>Saving Private Ryan</td>\n",
       "      <td>8.6</td>\n",
       "      <td>(1998)</td>\n",
       "    </tr>\n",
       "    <tr>\n",
       "      <th>38</th>\n",
       "      <td>The Bridge on the River Kwai</td>\n",
       "      <td>8.2</td>\n",
       "      <td>(1957)</td>\n",
       "    </tr>\n",
       "    <tr>\n",
       "      <th>39</th>\n",
       "      <td>Ben-Hur</td>\n",
       "      <td>8.1</td>\n",
       "      <td>(1959)</td>\n",
       "    </tr>\n",
       "    <tr>\n",
       "      <th>40</th>\n",
       "      <td>The Exorcist</td>\n",
       "      <td>8.1</td>\n",
       "      <td>(1973)</td>\n",
       "    </tr>\n",
       "    <tr>\n",
       "      <th>41</th>\n",
       "      <td>El secreto de sus ojos</td>\n",
       "      <td>8.2</td>\n",
       "      <td>(2009)</td>\n",
       "    </tr>\n",
       "    <tr>\n",
       "      <th>42</th>\n",
       "      <td>Léon</td>\n",
       "      <td>8.5</td>\n",
       "      <td>(1994)</td>\n",
       "    </tr>\n",
       "    <tr>\n",
       "      <th>43</th>\n",
       "      <td>The Green Mile</td>\n",
       "      <td>8.6</td>\n",
       "      <td>(1999)</td>\n",
       "    </tr>\n",
       "    <tr>\n",
       "      <th>44</th>\n",
       "      <td>Gran Torino</td>\n",
       "      <td>8.1</td>\n",
       "      <td>(2008)</td>\n",
       "    </tr>\n",
       "    <tr>\n",
       "      <th>45</th>\n",
       "      <td>Kill Bill: Vol. 1</td>\n",
       "      <td>8.2</td>\n",
       "      <td>(2003)</td>\n",
       "    </tr>\n",
       "    <tr>\n",
       "      <th>46</th>\n",
       "      <td>Jurassic Park</td>\n",
       "      <td>8.2</td>\n",
       "      <td>(1993)</td>\n",
       "    </tr>\n",
       "    <tr>\n",
       "      <th>47</th>\n",
       "      <td>Terminator 2: Judgment Day</td>\n",
       "      <td>8.6</td>\n",
       "      <td>(1991)</td>\n",
       "    </tr>\n",
       "    <tr>\n",
       "      <th>48</th>\n",
       "      <td>Back to the Future</td>\n",
       "      <td>8.5</td>\n",
       "      <td>(1985)</td>\n",
       "    </tr>\n",
       "    <tr>\n",
       "      <th>49</th>\n",
       "      <td>Finding Nemo</td>\n",
       "      <td>8.2</td>\n",
       "      <td>(2003)</td>\n",
       "    </tr>\n",
       "  </tbody>\n",
       "</table>\n",
       "</div>"
      ],
      "text/plain": [
       "                                    Name Ratings     Release\n",
       "0                          The Godfather     9.2      (1972)\n",
       "1                       Schindler's List       9      (1993)\n",
       "2                           12 Angry Men       9      (1957)\n",
       "3                        La vita è bella     8.6      (1997)\n",
       "4        Il buono, il brutto, il cattivo     8.8      (1966)\n",
       "5               The Shawshank Redemption     9.3      (1994)\n",
       "6               The Pursuit of Happyness       8      (2006)\n",
       "7                   Shichinin no samurai     8.6      (1954)\n",
       "8                       The Intouchables     8.5      (2011)\n",
       "9                      Central do Brasil       8      (1998)\n",
       "10                   Requiem for a Dream     8.3      (2000)\n",
       "11                      A Beautiful Mind     8.2      (2001)\n",
       "12                   Hachi: A Dog's Tale     8.1      (2009)\n",
       "13                                 Taken     7.8  (I) (2008)\n",
       "14                  Yeopgijeogin geunyeo       8      (2001)\n",
       "15                         Amores perros     8.1      (2000)\n",
       "16                           The Shining     8.4      (1980)\n",
       "17                            Apocalypto     7.8      (2006)\n",
       "18                             Gladiator     8.5      (2000)\n",
       "19                             Cast Away     7.8      (2000)\n",
       "20                       The Dark Knight       9      (2008)\n",
       "21                           The Pianist     8.5      (2002)\n",
       "22                               Titanic     7.9      (1997)\n",
       "23                               Bin-jip     7.9      (2004)\n",
       "24                            Braveheart     8.4      (1995)\n",
       "25                 It's a Wonderful Life     8.6      (1946)\n",
       "26  Bom yeoreum gaeul gyeoul geurigo bom       8      (2003)\n",
       "27                                 Alien     8.5      (1979)\n",
       "28                        Salinui chueok     8.1      (2003)\n",
       "29                        Vozvrashchenie     7.9      (2003)\n",
       "30                  Ang-ma-reul bo-at-da     7.8      (2010)\n",
       "31                     Bacheha-Ye aseman     8.2      (1997)\n",
       "32               Jodaeiye Nader az Simin     8.3      (2011)\n",
       "33                       The Sixth Sense     8.2      (1999)\n",
       "34               Nae meorisokui jiwoogae     8.1      (2004)\n",
       "35                             Okuribito       8      (2008)\n",
       "36                   Wo de fu qin mu qin     7.8      (1999)\n",
       "37                   Saving Private Ryan     8.6      (1998)\n",
       "38          The Bridge on the River Kwai     8.2      (1957)\n",
       "39                               Ben-Hur     8.1      (1959)\n",
       "40                          The Exorcist     8.1      (1973)\n",
       "41                El secreto de sus ojos     8.2      (2009)\n",
       "42                                  Léon     8.5      (1994)\n",
       "43                        The Green Mile     8.6      (1999)\n",
       "44                           Gran Torino     8.1      (2008)\n",
       "45                     Kill Bill: Vol. 1     8.2      (2003)\n",
       "46                         Jurassic Park     8.2      (1993)\n",
       "47            Terminator 2: Judgment Day     8.6      (1991)\n",
       "48                    Back to the Future     8.5      (1985)\n",
       "49                          Finding Nemo     8.2      (2003)"
      ]
     },
     "execution_count": 24,
     "metadata": {},
     "output_type": "execute_result"
    }
   ],
   "source": [
    "d"
   ]
  },
  {
   "cell_type": "markdown",
   "id": "6f75f380",
   "metadata": {},
   "source": [
    "# answer 3"
   ]
  },
  {
   "cell_type": "code",
   "execution_count": 25,
   "id": "7135b183",
   "metadata": {},
   "outputs": [],
   "source": [
    "#solution"
   ]
  },
  {
   "cell_type": "code",
   "execution_count": 26,
   "id": "7713eb70",
   "metadata": {},
   "outputs": [],
   "source": [
    "from bs4 import BeautifulSoup\n",
    "import requests"
   ]
  },
  {
   "cell_type": "code",
   "execution_count": 27,
   "id": "d2e8cc30",
   "metadata": {},
   "outputs": [],
   "source": [
    "page= requests.get('https://www.imdb.com/list/ls058711268/')"
   ]
  },
  {
   "cell_type": "code",
   "execution_count": 28,
   "id": "0696d098",
   "metadata": {},
   "outputs": [
    {
     "data": {
      "text/plain": [
       "<Response [200]>"
      ]
     },
     "execution_count": 28,
     "metadata": {},
     "output_type": "execute_result"
    }
   ],
   "source": [
    "page"
   ]
  },
  {
   "cell_type": "code",
   "execution_count": 29,
   "id": "fc603c3e",
   "metadata": {},
   "outputs": [],
   "source": [
    "soup=BeautifulSoup(page.content)"
   ]
  },
  {
   "cell_type": "code",
   "execution_count": 30,
   "id": "23ae84ed",
   "metadata": {},
   "outputs": [],
   "source": [
    "indian_name=soup.find('h3',class_=\"lister-item-header\")"
   ]
  },
  {
   "cell_type": "code",
   "execution_count": 31,
   "id": "25cdcfda",
   "metadata": {},
   "outputs": [
    {
     "data": {
      "text/plain": [
       "'\\n1.\\n3 Idiots\\n(2009)\\n'"
      ]
     },
     "execution_count": 31,
     "metadata": {},
     "output_type": "execute_result"
    }
   ],
   "source": [
    "indian_name.text"
   ]
  },
  {
   "cell_type": "code",
   "execution_count": 32,
   "id": "66c7f457",
   "metadata": {},
   "outputs": [
    {
     "data": {
      "text/plain": [
       "'3 Idiots'"
      ]
     },
     "execution_count": 32,
     "metadata": {},
     "output_type": "execute_result"
    }
   ],
   "source": [
    "indian_name.text.split('\\n')[2]"
   ]
  },
  {
   "cell_type": "code",
   "execution_count": 33,
   "id": "6bce7f4b",
   "metadata": {},
   "outputs": [],
   "source": [
    "names=[]\n",
    "\n",
    "for p in soup.find_all('h3',class_=\"lister-item-header\"):\n",
    "    names.append(p.text.split('\\n')[2])"
   ]
  },
  {
   "cell_type": "code",
   "execution_count": 34,
   "id": "bd804e1c",
   "metadata": {},
   "outputs": [
    {
     "data": {
      "text/plain": [
       "['3 Idiots',\n",
       " 'Drishyam',\n",
       " 'Mohabbatein',\n",
       " 'Zindagi Na Milegi Dobara',\n",
       " 'Dil Chahta Hai',\n",
       " 'Bhaag Milkha Bhaag',\n",
       " 'Rang De Basanti',\n",
       " 'Chak De! India',\n",
       " 'Lagaan: Once Upon a Time in India',\n",
       " 'A Wednesday',\n",
       " 'Jab We Met',\n",
       " 'Yeh Jawaani Hai Deewani',\n",
       " 'OMG: Oh My God!',\n",
       " 'Raanjhanaa',\n",
       " 'Rockstar',\n",
       " 'Kal Ho Naa Ho',\n",
       " 'Vicky Donor',\n",
       " 'Jaane Tu... Ya Jaane Na',\n",
       " 'Taare Zameen Par',\n",
       " 'Udaan',\n",
       " 'Kabhi Khushi Kabhie Gham...',\n",
       " 'Highway',\n",
       " 'Swades: We, the People',\n",
       " 'Munna Bhai M.B.B.S.',\n",
       " 'Lage Raho Munna Bhai',\n",
       " 'Golmaal: Fun Unlimited',\n",
       " 'Delhi Belly',\n",
       " 'Dhoom',\n",
       " 'Raajneeti',\n",
       " 'Gangs of Wasseypur',\n",
       " 'Style',\n",
       " 'Special Chabbis',\n",
       " 'Dostana',\n",
       " 'Namastey London',\n",
       " 'Fashion',\n",
       " 'My Name Is Khan',\n",
       " 'Wake Up Sid',\n",
       " 'Rocket Singh: Salesman of the Year',\n",
       " '2 States',\n",
       " 'Jodhaa Akbar',\n",
       " 'ABCD (Any Body Can Dance)',\n",
       " 'Kaho Naa... Pyaar Hai']"
      ]
     },
     "execution_count": 34,
     "metadata": {},
     "output_type": "execute_result"
    }
   ],
   "source": [
    "names"
   ]
  },
  {
   "cell_type": "code",
   "execution_count": 35,
   "id": "e350ed2a",
   "metadata": {},
   "outputs": [],
   "source": [
    "#rating"
   ]
  },
  {
   "cell_type": "code",
   "execution_count": 36,
   "id": "837c23ae",
   "metadata": {},
   "outputs": [],
   "source": [
    "rating=soup.find('div',class_=\"ipl-rating-star small\")"
   ]
  },
  {
   "cell_type": "code",
   "execution_count": 37,
   "id": "e1ac943b",
   "metadata": {},
   "outputs": [
    {
     "data": {
      "text/plain": [
       "'\\n\\n\\n\\n\\n\\n\\n\\n8.4\\n'"
      ]
     },
     "execution_count": 37,
     "metadata": {},
     "output_type": "execute_result"
    }
   ],
   "source": [
    "rating.text"
   ]
  },
  {
   "cell_type": "code",
   "execution_count": 38,
   "id": "3915e473",
   "metadata": {},
   "outputs": [
    {
     "data": {
      "text/plain": [
       "'8.4'"
      ]
     },
     "execution_count": 38,
     "metadata": {},
     "output_type": "execute_result"
    }
   ],
   "source": [
    "rating.text.split('\\n')[8]"
   ]
  },
  {
   "cell_type": "code",
   "execution_count": 39,
   "id": "e3a29ef5",
   "metadata": {},
   "outputs": [],
   "source": [
    "rating=[]\n",
    "\n",
    "for rr in soup.find_all('div',class_=\"ipl-rating-star small\"):\n",
    "    rating.append(rr.text.split('\\n')[8])"
   ]
  },
  {
   "cell_type": "code",
   "execution_count": 40,
   "id": "9986cada",
   "metadata": {},
   "outputs": [
    {
     "data": {
      "text/plain": [
       "['8.4',\n",
       " '8.2',\n",
       " '7',\n",
       " '8.2',\n",
       " '8.1',\n",
       " '8.2',\n",
       " '8.1',\n",
       " '8.1',\n",
       " '8.1',\n",
       " '8.1',\n",
       " '7.9',\n",
       " '7.2',\n",
       " '8.1',\n",
       " '7.6',\n",
       " '7.7',\n",
       " '7.9',\n",
       " '7.8',\n",
       " '7.4',\n",
       " '8.3',\n",
       " '8.1',\n",
       " '7.4',\n",
       " '7.6',\n",
       " '8.2',\n",
       " '8.1',\n",
       " '8',\n",
       " '7.4',\n",
       " '7.5',\n",
       " '6.6',\n",
       " '7.1',\n",
       " '8.2',\n",
       " '6.7',\n",
       " '8',\n",
       " '6.5',\n",
       " '7.1',\n",
       " '6.9',\n",
       " '7.9',\n",
       " '7.6',\n",
       " '7.5',\n",
       " '6.9',\n",
       " '7.5',\n",
       " '6.3',\n",
       " '6.9']"
      ]
     },
     "execution_count": 40,
     "metadata": {},
     "output_type": "execute_result"
    }
   ],
   "source": [
    "rating"
   ]
  },
  {
   "cell_type": "code",
   "execution_count": 41,
   "id": "534060ef",
   "metadata": {},
   "outputs": [],
   "source": [
    "#year of release"
   ]
  },
  {
   "cell_type": "code",
   "execution_count": 42,
   "id": "dd30f3ec",
   "metadata": {},
   "outputs": [],
   "source": [
    "year=soup.find('span',class_=\"lister-item-year text-muted unbold\")"
   ]
  },
  {
   "cell_type": "code",
   "execution_count": 43,
   "id": "6afb0c53",
   "metadata": {},
   "outputs": [
    {
     "data": {
      "text/plain": [
       "'(2009)'"
      ]
     },
     "execution_count": 43,
     "metadata": {},
     "output_type": "execute_result"
    }
   ],
   "source": [
    "year.text"
   ]
  },
  {
   "cell_type": "code",
   "execution_count": 44,
   "id": "ab966c9a",
   "metadata": {},
   "outputs": [],
   "source": [
    "year=[]\n",
    "\n",
    "for y in soup.find_all('span',class_=\"lister-item-year text-muted unbold\"):\n",
    "    year.append(y.text)"
   ]
  },
  {
   "cell_type": "code",
   "execution_count": 45,
   "id": "cf0dfd1b",
   "metadata": {},
   "outputs": [
    {
     "data": {
      "text/plain": [
       "['(2009)',\n",
       " '(2015)',\n",
       " '(2000)',\n",
       " '(2011)',\n",
       " '(2001)',\n",
       " '(2013)',\n",
       " '(2006)',\n",
       " '(2007)',\n",
       " '(2001)',\n",
       " '(2008)',\n",
       " '(2007)',\n",
       " '(2013)',\n",
       " '(2012)',\n",
       " '(2013)',\n",
       " '(2011)',\n",
       " '(2003)',\n",
       " '(2012)',\n",
       " '(2008)',\n",
       " '(2007)',\n",
       " '(2010)',\n",
       " '(2001)',\n",
       " '(I) (2014)',\n",
       " '(2004)',\n",
       " '(2003)',\n",
       " '(2006)',\n",
       " '(2006)',\n",
       " '(2011)',\n",
       " '(2004)',\n",
       " '(2010)',\n",
       " '(2012)',\n",
       " '(2001)',\n",
       " '(2013)',\n",
       " '(2008)',\n",
       " '(2007)',\n",
       " '(2008)',\n",
       " '(2010)',\n",
       " '(2009)',\n",
       " '(2009)',\n",
       " '(2014)',\n",
       " '(2008)',\n",
       " '(2013)',\n",
       " '(2000)']"
      ]
     },
     "execution_count": 45,
     "metadata": {},
     "output_type": "execute_result"
    }
   ],
   "source": [
    "year"
   ]
  },
  {
   "cell_type": "code",
   "execution_count": 46,
   "id": "b7652469",
   "metadata": {},
   "outputs": [],
   "source": [
    "df=pd.DataFrame({'Name':names,'Ratings':rating,'Releasing_year':year})"
   ]
  },
  {
   "cell_type": "code",
   "execution_count": 47,
   "id": "d8210ef4",
   "metadata": {},
   "outputs": [
    {
     "data": {
      "text/html": [
       "<div>\n",
       "<style scoped>\n",
       "    .dataframe tbody tr th:only-of-type {\n",
       "        vertical-align: middle;\n",
       "    }\n",
       "\n",
       "    .dataframe tbody tr th {\n",
       "        vertical-align: top;\n",
       "    }\n",
       "\n",
       "    .dataframe thead th {\n",
       "        text-align: right;\n",
       "    }\n",
       "</style>\n",
       "<table border=\"1\" class=\"dataframe\">\n",
       "  <thead>\n",
       "    <tr style=\"text-align: right;\">\n",
       "      <th></th>\n",
       "      <th>Name</th>\n",
       "      <th>Ratings</th>\n",
       "      <th>Releasing_year</th>\n",
       "    </tr>\n",
       "  </thead>\n",
       "  <tbody>\n",
       "    <tr>\n",
       "      <th>0</th>\n",
       "      <td>3 Idiots</td>\n",
       "      <td>8.4</td>\n",
       "      <td>(2009)</td>\n",
       "    </tr>\n",
       "    <tr>\n",
       "      <th>1</th>\n",
       "      <td>Drishyam</td>\n",
       "      <td>8.2</td>\n",
       "      <td>(2015)</td>\n",
       "    </tr>\n",
       "    <tr>\n",
       "      <th>2</th>\n",
       "      <td>Mohabbatein</td>\n",
       "      <td>7</td>\n",
       "      <td>(2000)</td>\n",
       "    </tr>\n",
       "    <tr>\n",
       "      <th>3</th>\n",
       "      <td>Zindagi Na Milegi Dobara</td>\n",
       "      <td>8.2</td>\n",
       "      <td>(2011)</td>\n",
       "    </tr>\n",
       "    <tr>\n",
       "      <th>4</th>\n",
       "      <td>Dil Chahta Hai</td>\n",
       "      <td>8.1</td>\n",
       "      <td>(2001)</td>\n",
       "    </tr>\n",
       "    <tr>\n",
       "      <th>5</th>\n",
       "      <td>Bhaag Milkha Bhaag</td>\n",
       "      <td>8.2</td>\n",
       "      <td>(2013)</td>\n",
       "    </tr>\n",
       "    <tr>\n",
       "      <th>6</th>\n",
       "      <td>Rang De Basanti</td>\n",
       "      <td>8.1</td>\n",
       "      <td>(2006)</td>\n",
       "    </tr>\n",
       "    <tr>\n",
       "      <th>7</th>\n",
       "      <td>Chak De! India</td>\n",
       "      <td>8.1</td>\n",
       "      <td>(2007)</td>\n",
       "    </tr>\n",
       "    <tr>\n",
       "      <th>8</th>\n",
       "      <td>Lagaan: Once Upon a Time in India</td>\n",
       "      <td>8.1</td>\n",
       "      <td>(2001)</td>\n",
       "    </tr>\n",
       "    <tr>\n",
       "      <th>9</th>\n",
       "      <td>A Wednesday</td>\n",
       "      <td>8.1</td>\n",
       "      <td>(2008)</td>\n",
       "    </tr>\n",
       "    <tr>\n",
       "      <th>10</th>\n",
       "      <td>Jab We Met</td>\n",
       "      <td>7.9</td>\n",
       "      <td>(2007)</td>\n",
       "    </tr>\n",
       "    <tr>\n",
       "      <th>11</th>\n",
       "      <td>Yeh Jawaani Hai Deewani</td>\n",
       "      <td>7.2</td>\n",
       "      <td>(2013)</td>\n",
       "    </tr>\n",
       "    <tr>\n",
       "      <th>12</th>\n",
       "      <td>OMG: Oh My God!</td>\n",
       "      <td>8.1</td>\n",
       "      <td>(2012)</td>\n",
       "    </tr>\n",
       "    <tr>\n",
       "      <th>13</th>\n",
       "      <td>Raanjhanaa</td>\n",
       "      <td>7.6</td>\n",
       "      <td>(2013)</td>\n",
       "    </tr>\n",
       "    <tr>\n",
       "      <th>14</th>\n",
       "      <td>Rockstar</td>\n",
       "      <td>7.7</td>\n",
       "      <td>(2011)</td>\n",
       "    </tr>\n",
       "    <tr>\n",
       "      <th>15</th>\n",
       "      <td>Kal Ho Naa Ho</td>\n",
       "      <td>7.9</td>\n",
       "      <td>(2003)</td>\n",
       "    </tr>\n",
       "    <tr>\n",
       "      <th>16</th>\n",
       "      <td>Vicky Donor</td>\n",
       "      <td>7.8</td>\n",
       "      <td>(2012)</td>\n",
       "    </tr>\n",
       "    <tr>\n",
       "      <th>17</th>\n",
       "      <td>Jaane Tu... Ya Jaane Na</td>\n",
       "      <td>7.4</td>\n",
       "      <td>(2008)</td>\n",
       "    </tr>\n",
       "    <tr>\n",
       "      <th>18</th>\n",
       "      <td>Taare Zameen Par</td>\n",
       "      <td>8.3</td>\n",
       "      <td>(2007)</td>\n",
       "    </tr>\n",
       "    <tr>\n",
       "      <th>19</th>\n",
       "      <td>Udaan</td>\n",
       "      <td>8.1</td>\n",
       "      <td>(2010)</td>\n",
       "    </tr>\n",
       "    <tr>\n",
       "      <th>20</th>\n",
       "      <td>Kabhi Khushi Kabhie Gham...</td>\n",
       "      <td>7.4</td>\n",
       "      <td>(2001)</td>\n",
       "    </tr>\n",
       "    <tr>\n",
       "      <th>21</th>\n",
       "      <td>Highway</td>\n",
       "      <td>7.6</td>\n",
       "      <td>(I) (2014)</td>\n",
       "    </tr>\n",
       "    <tr>\n",
       "      <th>22</th>\n",
       "      <td>Swades: We, the People</td>\n",
       "      <td>8.2</td>\n",
       "      <td>(2004)</td>\n",
       "    </tr>\n",
       "    <tr>\n",
       "      <th>23</th>\n",
       "      <td>Munna Bhai M.B.B.S.</td>\n",
       "      <td>8.1</td>\n",
       "      <td>(2003)</td>\n",
       "    </tr>\n",
       "    <tr>\n",
       "      <th>24</th>\n",
       "      <td>Lage Raho Munna Bhai</td>\n",
       "      <td>8</td>\n",
       "      <td>(2006)</td>\n",
       "    </tr>\n",
       "    <tr>\n",
       "      <th>25</th>\n",
       "      <td>Golmaal: Fun Unlimited</td>\n",
       "      <td>7.4</td>\n",
       "      <td>(2006)</td>\n",
       "    </tr>\n",
       "    <tr>\n",
       "      <th>26</th>\n",
       "      <td>Delhi Belly</td>\n",
       "      <td>7.5</td>\n",
       "      <td>(2011)</td>\n",
       "    </tr>\n",
       "    <tr>\n",
       "      <th>27</th>\n",
       "      <td>Dhoom</td>\n",
       "      <td>6.6</td>\n",
       "      <td>(2004)</td>\n",
       "    </tr>\n",
       "    <tr>\n",
       "      <th>28</th>\n",
       "      <td>Raajneeti</td>\n",
       "      <td>7.1</td>\n",
       "      <td>(2010)</td>\n",
       "    </tr>\n",
       "    <tr>\n",
       "      <th>29</th>\n",
       "      <td>Gangs of Wasseypur</td>\n",
       "      <td>8.2</td>\n",
       "      <td>(2012)</td>\n",
       "    </tr>\n",
       "    <tr>\n",
       "      <th>30</th>\n",
       "      <td>Style</td>\n",
       "      <td>6.7</td>\n",
       "      <td>(2001)</td>\n",
       "    </tr>\n",
       "    <tr>\n",
       "      <th>31</th>\n",
       "      <td>Special Chabbis</td>\n",
       "      <td>8</td>\n",
       "      <td>(2013)</td>\n",
       "    </tr>\n",
       "    <tr>\n",
       "      <th>32</th>\n",
       "      <td>Dostana</td>\n",
       "      <td>6.5</td>\n",
       "      <td>(2008)</td>\n",
       "    </tr>\n",
       "    <tr>\n",
       "      <th>33</th>\n",
       "      <td>Namastey London</td>\n",
       "      <td>7.1</td>\n",
       "      <td>(2007)</td>\n",
       "    </tr>\n",
       "    <tr>\n",
       "      <th>34</th>\n",
       "      <td>Fashion</td>\n",
       "      <td>6.9</td>\n",
       "      <td>(2008)</td>\n",
       "    </tr>\n",
       "    <tr>\n",
       "      <th>35</th>\n",
       "      <td>My Name Is Khan</td>\n",
       "      <td>7.9</td>\n",
       "      <td>(2010)</td>\n",
       "    </tr>\n",
       "    <tr>\n",
       "      <th>36</th>\n",
       "      <td>Wake Up Sid</td>\n",
       "      <td>7.6</td>\n",
       "      <td>(2009)</td>\n",
       "    </tr>\n",
       "    <tr>\n",
       "      <th>37</th>\n",
       "      <td>Rocket Singh: Salesman of the Year</td>\n",
       "      <td>7.5</td>\n",
       "      <td>(2009)</td>\n",
       "    </tr>\n",
       "    <tr>\n",
       "      <th>38</th>\n",
       "      <td>2 States</td>\n",
       "      <td>6.9</td>\n",
       "      <td>(2014)</td>\n",
       "    </tr>\n",
       "    <tr>\n",
       "      <th>39</th>\n",
       "      <td>Jodhaa Akbar</td>\n",
       "      <td>7.5</td>\n",
       "      <td>(2008)</td>\n",
       "    </tr>\n",
       "    <tr>\n",
       "      <th>40</th>\n",
       "      <td>ABCD (Any Body Can Dance)</td>\n",
       "      <td>6.3</td>\n",
       "      <td>(2013)</td>\n",
       "    </tr>\n",
       "    <tr>\n",
       "      <th>41</th>\n",
       "      <td>Kaho Naa... Pyaar Hai</td>\n",
       "      <td>6.9</td>\n",
       "      <td>(2000)</td>\n",
       "    </tr>\n",
       "  </tbody>\n",
       "</table>\n",
       "</div>"
      ],
      "text/plain": [
       "                                  Name Ratings Releasing_year\n",
       "0                             3 Idiots     8.4         (2009)\n",
       "1                             Drishyam     8.2         (2015)\n",
       "2                          Mohabbatein       7         (2000)\n",
       "3             Zindagi Na Milegi Dobara     8.2         (2011)\n",
       "4                       Dil Chahta Hai     8.1         (2001)\n",
       "5                   Bhaag Milkha Bhaag     8.2         (2013)\n",
       "6                      Rang De Basanti     8.1         (2006)\n",
       "7                       Chak De! India     8.1         (2007)\n",
       "8    Lagaan: Once Upon a Time in India     8.1         (2001)\n",
       "9                          A Wednesday     8.1         (2008)\n",
       "10                          Jab We Met     7.9         (2007)\n",
       "11             Yeh Jawaani Hai Deewani     7.2         (2013)\n",
       "12                     OMG: Oh My God!     8.1         (2012)\n",
       "13                          Raanjhanaa     7.6         (2013)\n",
       "14                            Rockstar     7.7         (2011)\n",
       "15                       Kal Ho Naa Ho     7.9         (2003)\n",
       "16                         Vicky Donor     7.8         (2012)\n",
       "17             Jaane Tu... Ya Jaane Na     7.4         (2008)\n",
       "18                    Taare Zameen Par     8.3         (2007)\n",
       "19                               Udaan     8.1         (2010)\n",
       "20         Kabhi Khushi Kabhie Gham...     7.4         (2001)\n",
       "21                             Highway     7.6     (I) (2014)\n",
       "22              Swades: We, the People     8.2         (2004)\n",
       "23                 Munna Bhai M.B.B.S.     8.1         (2003)\n",
       "24                Lage Raho Munna Bhai       8         (2006)\n",
       "25              Golmaal: Fun Unlimited     7.4         (2006)\n",
       "26                         Delhi Belly     7.5         (2011)\n",
       "27                               Dhoom     6.6         (2004)\n",
       "28                           Raajneeti     7.1         (2010)\n",
       "29                  Gangs of Wasseypur     8.2         (2012)\n",
       "30                               Style     6.7         (2001)\n",
       "31                     Special Chabbis       8         (2013)\n",
       "32                             Dostana     6.5         (2008)\n",
       "33                     Namastey London     7.1         (2007)\n",
       "34                             Fashion     6.9         (2008)\n",
       "35                     My Name Is Khan     7.9         (2010)\n",
       "36                         Wake Up Sid     7.6         (2009)\n",
       "37  Rocket Singh: Salesman of the Year     7.5         (2009)\n",
       "38                            2 States     6.9         (2014)\n",
       "39                        Jodhaa Akbar     7.5         (2008)\n",
       "40           ABCD (Any Body Can Dance)     6.3         (2013)\n",
       "41               Kaho Naa... Pyaar Hai     6.9         (2000)"
      ]
     },
     "execution_count": 47,
     "metadata": {},
     "output_type": "execute_result"
    }
   ],
   "source": [
    "df"
   ]
  },
  {
   "cell_type": "markdown",
   "id": "3f198e36",
   "metadata": {},
   "source": [
    "# Answer 4"
   ]
  },
  {
   "cell_type": "code",
   "execution_count": 48,
   "id": "c8059859",
   "metadata": {},
   "outputs": [],
   "source": [
    "#solution"
   ]
  },
  {
   "cell_type": "code",
   "execution_count": 49,
   "id": "c04de5ff",
   "metadata": {},
   "outputs": [],
   "source": [
    "from bs4 import BeautifulSoup\n",
    "import requests"
   ]
  },
  {
   "cell_type": "code",
   "execution_count": 50,
   "id": "3f2185ac",
   "metadata": {},
   "outputs": [],
   "source": [
    "#president names"
   ]
  },
  {
   "cell_type": "code",
   "execution_count": 51,
   "id": "38ca8e0b",
   "metadata": {},
   "outputs": [],
   "source": [
    "president=requests.get('https://presidentofindia.nic.in/former-presidents.htm')"
   ]
  },
  {
   "cell_type": "code",
   "execution_count": 52,
   "id": "d928269e",
   "metadata": {},
   "outputs": [],
   "source": [
    "soup=BeautifulSoup(president.content)"
   ]
  },
  {
   "cell_type": "code",
   "execution_count": 53,
   "id": "84d68d9d",
   "metadata": {},
   "outputs": [],
   "source": [
    "pname=soup.find('div',class_=\"presidentListing\")"
   ]
  },
  {
   "cell_type": "code",
   "execution_count": 54,
   "id": "d3c06526",
   "metadata": {},
   "outputs": [
    {
     "data": {
      "text/plain": [
       "<div class=\"presidentListing\">\n",
       "<h3>Shri Ram Nath Kovind (birth - 1945)</h3>\n",
       "<p><span class=\"terms\">Term of Office:</span> 25 July, 2017 to 25 July, 2022 </p>\n",
       "<p><a href=\"https://ramnathkovind.nic.in\" target=\"_blank\">https://ramnathkovind.nic.in</a></p>\n",
       "</div>"
      ]
     },
     "execution_count": 54,
     "metadata": {},
     "output_type": "execute_result"
    }
   ],
   "source": [
    "pname"
   ]
  },
  {
   "cell_type": "code",
   "execution_count": 55,
   "id": "9c139258",
   "metadata": {},
   "outputs": [
    {
     "data": {
      "text/plain": [
       "'\\nShri Ram Nath Kovind (birth - 1945)\\nTerm of Office: 25 July, 2017 to 25 July, 2022 \\nhttps://ramnathkovind.nic.in\\n'"
      ]
     },
     "execution_count": 55,
     "metadata": {},
     "output_type": "execute_result"
    }
   ],
   "source": [
    "pname.text"
   ]
  },
  {
   "cell_type": "code",
   "execution_count": 56,
   "id": "704cf197",
   "metadata": {},
   "outputs": [
    {
     "data": {
      "text/plain": [
       "'Shri Ram Nath Kovind (birth - 1945)'"
      ]
     },
     "execution_count": 56,
     "metadata": {},
     "output_type": "execute_result"
    }
   ],
   "source": [
    "pname.text.split('\\n')[1]"
   ]
  },
  {
   "cell_type": "code",
   "execution_count": 57,
   "id": "204390dc",
   "metadata": {},
   "outputs": [],
   "source": [
    "presidents=[]\n",
    "\n",
    "for p in soup.find_all('div',class_=\"presidentListing\"):\n",
    "    presidents.append(p.text.split('\\n')[1])"
   ]
  },
  {
   "cell_type": "code",
   "execution_count": 58,
   "id": "a2da1ca0",
   "metadata": {},
   "outputs": [
    {
     "data": {
      "text/plain": [
       "['Shri Ram Nath Kovind (birth - 1945)',\n",
       " 'Shri Pranab Mukherjee (1935-2020)',\n",
       " 'Smt Pratibha Devisingh Patil (birth - 1934)',\n",
       " 'DR. A.P.J. Abdul Kalam (1931-2015)',\n",
       " 'Shri K. R. Narayanan (1920 - 2005)',\n",
       " 'Dr Shankar Dayal Sharma (1918-1999)',\n",
       " 'Shri R Venkataraman (1910-2009)',\n",
       " 'Giani Zail Singh (1916-1994)',\n",
       " 'Shri Neelam Sanjiva Reddy (1913-1996)',\n",
       " 'Dr. Fakhruddin Ali Ahmed (1905-1977)',\n",
       " 'Shri Varahagiri Venkata Giri (1894-1980)',\n",
       " 'Dr. Zakir Husain (1897-1969)',\n",
       " 'Dr. Sarvepalli Radhakrishnan (1888-1975)',\n",
       " 'Dr. Rajendra Prasad (1884-1963) ']"
      ]
     },
     "execution_count": 58,
     "metadata": {},
     "output_type": "execute_result"
    }
   ],
   "source": [
    "presidents"
   ]
  },
  {
   "cell_type": "code",
   "execution_count": 59,
   "id": "afbf489e",
   "metadata": {},
   "outputs": [],
   "source": [
    "#term of office"
   ]
  },
  {
   "cell_type": "code",
   "execution_count": 60,
   "id": "917ce4b3",
   "metadata": {},
   "outputs": [],
   "source": [
    "term=soup.find('div',class_=\"presidentListing\")"
   ]
  },
  {
   "cell_type": "code",
   "execution_count": 61,
   "id": "3a3d7bc8",
   "metadata": {},
   "outputs": [
    {
     "data": {
      "text/plain": [
       "['',\n",
       " 'Shri Ram Nath Kovind (birth - 1945)',\n",
       " 'Term of Office: 25 July, 2017 to 25 July, 2022 ',\n",
       " 'https://ramnathkovind.nic.in',\n",
       " '']"
      ]
     },
     "execution_count": 61,
     "metadata": {},
     "output_type": "execute_result"
    }
   ],
   "source": [
    "term.text.split('\\n')"
   ]
  },
  {
   "cell_type": "code",
   "execution_count": 62,
   "id": "3c80c31e",
   "metadata": {},
   "outputs": [
    {
     "data": {
      "text/plain": [
       "'Term of Office: 25 July, 2017 to 25 July, 2022 '"
      ]
     },
     "execution_count": 62,
     "metadata": {},
     "output_type": "execute_result"
    }
   ],
   "source": [
    "term.text.split('\\n')[2]"
   ]
  },
  {
   "cell_type": "code",
   "execution_count": 63,
   "id": "2a343221",
   "metadata": {},
   "outputs": [],
   "source": [
    "terms=[]\n",
    "\n",
    "for t in soup.find_all('div',class_=\"presidentListing\"):\n",
    "    terms.append(t.text.split('\\n')[2])"
   ]
  },
  {
   "cell_type": "code",
   "execution_count": 64,
   "id": "268d37c7",
   "metadata": {},
   "outputs": [
    {
     "data": {
      "text/plain": [
       "['Term of Office: 25 July, 2017 to 25 July, 2022 ',\n",
       " 'Term of Office: 25 July, 2012 to 25 July, 2017 ',\n",
       " 'Term of Office: 25 July, 2007 to 25 July, 2012 ',\n",
       " 'Term of Office: 25 July, 2002 to 25 July, 2007 ',\n",
       " 'Term of Office: 25 July, 1997 to 25 July, 2002 ',\n",
       " 'Term of Office: 25 July, 1992 to 25 July, 1997 ',\n",
       " 'Term of Office: 25 July, 1987 to 25 July, 1992 ',\n",
       " 'Term of Office: 25 July, 1982 to 25 July, 1987 ',\n",
       " 'Term of Office: 25 July, 1977 to 25 July, 1982 ',\n",
       " 'Term of Office: 24 August, 1974 to 11 February, 1977',\n",
       " 'Term of Office: 3 May, 1969 to 20 July, 1969 and 24 August, 1969 to 24 August, 1974',\n",
       " 'Term of Office: 13 May, 1967 to 3 May, 1969',\n",
       " 'Term of Office: 13 May, 1962 to 13 May, 1967',\n",
       " 'Term of Office: 26 January, 1950 to 13 May, 1962']"
      ]
     },
     "execution_count": 64,
     "metadata": {},
     "output_type": "execute_result"
    }
   ],
   "source": [
    "terms"
   ]
  },
  {
   "cell_type": "code",
   "execution_count": 65,
   "id": "65845564",
   "metadata": {},
   "outputs": [],
   "source": [
    "import pandas as pd"
   ]
  },
  {
   "cell_type": "code",
   "execution_count": 66,
   "id": "d9b36a7e",
   "metadata": {},
   "outputs": [],
   "source": [
    "data=pd.DataFrame({'President':presidents,'Term of office':terms})"
   ]
  },
  {
   "cell_type": "code",
   "execution_count": 67,
   "id": "fa1bfe55",
   "metadata": {},
   "outputs": [
    {
     "data": {
      "text/html": [
       "<div>\n",
       "<style scoped>\n",
       "    .dataframe tbody tr th:only-of-type {\n",
       "        vertical-align: middle;\n",
       "    }\n",
       "\n",
       "    .dataframe tbody tr th {\n",
       "        vertical-align: top;\n",
       "    }\n",
       "\n",
       "    .dataframe thead th {\n",
       "        text-align: right;\n",
       "    }\n",
       "</style>\n",
       "<table border=\"1\" class=\"dataframe\">\n",
       "  <thead>\n",
       "    <tr style=\"text-align: right;\">\n",
       "      <th></th>\n",
       "      <th>President</th>\n",
       "      <th>Term of office</th>\n",
       "    </tr>\n",
       "  </thead>\n",
       "  <tbody>\n",
       "    <tr>\n",
       "      <th>0</th>\n",
       "      <td>Shri Ram Nath Kovind (birth - 1945)</td>\n",
       "      <td>Term of Office: 25 July, 2017 to 25 July, 2022</td>\n",
       "    </tr>\n",
       "    <tr>\n",
       "      <th>1</th>\n",
       "      <td>Shri Pranab Mukherjee (1935-2020)</td>\n",
       "      <td>Term of Office: 25 July, 2012 to 25 July, 2017</td>\n",
       "    </tr>\n",
       "    <tr>\n",
       "      <th>2</th>\n",
       "      <td>Smt Pratibha Devisingh Patil (birth - 1934)</td>\n",
       "      <td>Term of Office: 25 July, 2007 to 25 July, 2012</td>\n",
       "    </tr>\n",
       "    <tr>\n",
       "      <th>3</th>\n",
       "      <td>DR. A.P.J. Abdul Kalam (1931-2015)</td>\n",
       "      <td>Term of Office: 25 July, 2002 to 25 July, 2007</td>\n",
       "    </tr>\n",
       "    <tr>\n",
       "      <th>4</th>\n",
       "      <td>Shri K. R. Narayanan (1920 - 2005)</td>\n",
       "      <td>Term of Office: 25 July, 1997 to 25 July, 2002</td>\n",
       "    </tr>\n",
       "    <tr>\n",
       "      <th>5</th>\n",
       "      <td>Dr Shankar Dayal Sharma (1918-1999)</td>\n",
       "      <td>Term of Office: 25 July, 1992 to 25 July, 1997</td>\n",
       "    </tr>\n",
       "    <tr>\n",
       "      <th>6</th>\n",
       "      <td>Shri R Venkataraman (1910-2009)</td>\n",
       "      <td>Term of Office: 25 July, 1987 to 25 July, 1992</td>\n",
       "    </tr>\n",
       "    <tr>\n",
       "      <th>7</th>\n",
       "      <td>Giani Zail Singh (1916-1994)</td>\n",
       "      <td>Term of Office: 25 July, 1982 to 25 July, 1987</td>\n",
       "    </tr>\n",
       "    <tr>\n",
       "      <th>8</th>\n",
       "      <td>Shri Neelam Sanjiva Reddy (1913-1996)</td>\n",
       "      <td>Term of Office: 25 July, 1977 to 25 July, 1982</td>\n",
       "    </tr>\n",
       "    <tr>\n",
       "      <th>9</th>\n",
       "      <td>Dr. Fakhruddin Ali Ahmed (1905-1977)</td>\n",
       "      <td>Term of Office: 24 August, 1974 to 11 February...</td>\n",
       "    </tr>\n",
       "    <tr>\n",
       "      <th>10</th>\n",
       "      <td>Shri Varahagiri Venkata Giri (1894-1980)</td>\n",
       "      <td>Term of Office: 3 May, 1969 to 20 July, 1969 a...</td>\n",
       "    </tr>\n",
       "    <tr>\n",
       "      <th>11</th>\n",
       "      <td>Dr. Zakir Husain (1897-1969)</td>\n",
       "      <td>Term of Office: 13 May, 1967 to 3 May, 1969</td>\n",
       "    </tr>\n",
       "    <tr>\n",
       "      <th>12</th>\n",
       "      <td>Dr. Sarvepalli Radhakrishnan (1888-1975)</td>\n",
       "      <td>Term of Office: 13 May, 1962 to 13 May, 1967</td>\n",
       "    </tr>\n",
       "    <tr>\n",
       "      <th>13</th>\n",
       "      <td>Dr. Rajendra Prasad (1884-1963)</td>\n",
       "      <td>Term of Office: 26 January, 1950 to 13 May, 1962</td>\n",
       "    </tr>\n",
       "  </tbody>\n",
       "</table>\n",
       "</div>"
      ],
      "text/plain": [
       "                                      President  \\\n",
       "0           Shri Ram Nath Kovind (birth - 1945)   \n",
       "1             Shri Pranab Mukherjee (1935-2020)   \n",
       "2   Smt Pratibha Devisingh Patil (birth - 1934)   \n",
       "3            DR. A.P.J. Abdul Kalam (1931-2015)   \n",
       "4            Shri K. R. Narayanan (1920 - 2005)   \n",
       "5           Dr Shankar Dayal Sharma (1918-1999)   \n",
       "6               Shri R Venkataraman (1910-2009)   \n",
       "7                  Giani Zail Singh (1916-1994)   \n",
       "8         Shri Neelam Sanjiva Reddy (1913-1996)   \n",
       "9          Dr. Fakhruddin Ali Ahmed (1905-1977)   \n",
       "10     Shri Varahagiri Venkata Giri (1894-1980)   \n",
       "11                 Dr. Zakir Husain (1897-1969)   \n",
       "12     Dr. Sarvepalli Radhakrishnan (1888-1975)   \n",
       "13             Dr. Rajendra Prasad (1884-1963)    \n",
       "\n",
       "                                       Term of office  \n",
       "0     Term of Office: 25 July, 2017 to 25 July, 2022   \n",
       "1     Term of Office: 25 July, 2012 to 25 July, 2017   \n",
       "2     Term of Office: 25 July, 2007 to 25 July, 2012   \n",
       "3     Term of Office: 25 July, 2002 to 25 July, 2007   \n",
       "4     Term of Office: 25 July, 1997 to 25 July, 2002   \n",
       "5     Term of Office: 25 July, 1992 to 25 July, 1997   \n",
       "6     Term of Office: 25 July, 1987 to 25 July, 1992   \n",
       "7     Term of Office: 25 July, 1982 to 25 July, 1987   \n",
       "8     Term of Office: 25 July, 1977 to 25 July, 1982   \n",
       "9   Term of Office: 24 August, 1974 to 11 February...  \n",
       "10  Term of Office: 3 May, 1969 to 20 July, 1969 a...  \n",
       "11        Term of Office: 13 May, 1967 to 3 May, 1969  \n",
       "12       Term of Office: 13 May, 1962 to 13 May, 1967  \n",
       "13   Term of Office: 26 January, 1950 to 13 May, 1962  "
      ]
     },
     "execution_count": 67,
     "metadata": {},
     "output_type": "execute_result"
    }
   ],
   "source": [
    "data\n"
   ]
  },
  {
   "cell_type": "markdown",
   "id": "f2d39c84",
   "metadata": {},
   "source": [
    "# Answer 5"
   ]
  },
  {
   "cell_type": "code",
   "execution_count": 68,
   "id": "54476a1d",
   "metadata": {},
   "outputs": [],
   "source": [
    "#solution"
   ]
  },
  {
   "cell_type": "markdown",
   "id": "2fb09752",
   "metadata": {},
   "source": [
    "# A"
   ]
  },
  {
   "cell_type": "code",
   "execution_count": 69,
   "id": "1150eec6",
   "metadata": {},
   "outputs": [],
   "source": [
    "teams=requests.get('https://www.icc-cricket.com/rankings/mens/team-rankings/odi')"
   ]
  },
  {
   "cell_type": "code",
   "execution_count": 70,
   "id": "885ca9ff",
   "metadata": {},
   "outputs": [
    {
     "data": {
      "text/plain": [
       "<Response [200]>"
      ]
     },
     "execution_count": 70,
     "metadata": {},
     "output_type": "execute_result"
    }
   ],
   "source": [
    "teams"
   ]
  },
  {
   "cell_type": "code",
   "execution_count": 71,
   "id": "3e80f29b",
   "metadata": {},
   "outputs": [],
   "source": [
    "soup=BeautifulSoup(teams.content)"
   ]
  },
  {
   "cell_type": "code",
   "execution_count": 72,
   "id": "80da4e5b",
   "metadata": {},
   "outputs": [],
   "source": [
    "team=soup.find('span',class_=\"u-hide-phablet\")"
   ]
  },
  {
   "cell_type": "code",
   "execution_count": 73,
   "id": "8933e78d",
   "metadata": {},
   "outputs": [
    {
     "data": {
      "text/plain": [
       "'Australia'"
      ]
     },
     "execution_count": 73,
     "metadata": {},
     "output_type": "execute_result"
    }
   ],
   "source": [
    "team.text"
   ]
  },
  {
   "cell_type": "code",
   "execution_count": 74,
   "id": "d723f9b5",
   "metadata": {},
   "outputs": [],
   "source": [
    "teams=[]\n",
    "\n",
    "for t in soup.find_all('span',class_=\"u-hide-phablet\"):\n",
    "    teams.append(t.text)"
   ]
  },
  {
   "cell_type": "code",
   "execution_count": 75,
   "id": "0431dadb",
   "metadata": {},
   "outputs": [
    {
     "data": {
      "text/plain": [
       "['Australia',\n",
       " 'India',\n",
       " 'New Zealand',\n",
       " 'England',\n",
       " 'Pakistan',\n",
       " 'South Africa',\n",
       " 'Bangladesh',\n",
       " 'Sri Lanka',\n",
       " 'West Indies',\n",
       " 'Afghanistan',\n",
       " 'Ireland',\n",
       " 'Scotland',\n",
       " 'Zimbabwe',\n",
       " 'Netherlands',\n",
       " 'Nepal',\n",
       " 'Oman',\n",
       " 'Namibia',\n",
       " 'United States',\n",
       " 'UAE',\n",
       " 'Papua New Guinea']"
      ]
     },
     "execution_count": 75,
     "metadata": {},
     "output_type": "execute_result"
    }
   ],
   "source": [
    "teams"
   ]
  },
  {
   "cell_type": "code",
   "execution_count": 76,
   "id": "988bc899",
   "metadata": {},
   "outputs": [],
   "source": [
    "match=soup.find('td',class_=\"rankings-block__banner--matches\")"
   ]
  },
  {
   "cell_type": "code",
   "execution_count": 77,
   "id": "5f645d14",
   "metadata": {},
   "outputs": [],
   "source": [
    "mp=match.text"
   ]
  },
  {
   "cell_type": "code",
   "execution_count": 78,
   "id": "1c2be85a",
   "metadata": {},
   "outputs": [
    {
     "data": {
      "text/plain": [
       "['35']"
      ]
     },
     "execution_count": 78,
     "metadata": {},
     "output_type": "execute_result"
    }
   ],
   "source": [
    "[mp]"
   ]
  },
  {
   "cell_type": "code",
   "execution_count": 79,
   "id": "bc600928",
   "metadata": {},
   "outputs": [],
   "source": [
    "matchs=soup.find('tr',class_=\"table-body\")\n"
   ]
  },
  {
   "cell_type": "code",
   "execution_count": 80,
   "id": "781287e8",
   "metadata": {},
   "outputs": [
    {
     "data": {
      "text/plain": [
       "'47'"
      ]
     },
     "execution_count": 80,
     "metadata": {},
     "output_type": "execute_result"
    }
   ],
   "source": [
    "matchs.text.split('\\n')[7]"
   ]
  },
  {
   "cell_type": "code",
   "execution_count": 81,
   "id": "20e8fcb3",
   "metadata": {},
   "outputs": [],
   "source": [
    "matches=[]\n",
    "\n",
    "for m in soup.find_all('tr',class_=\"table-body\"):\n",
    "    matches.append(m.text.split('\\n')[7])"
   ]
  },
  {
   "cell_type": "code",
   "execution_count": 82,
   "id": "4892c8d2",
   "metadata": {},
   "outputs": [
    {
     "data": {
      "text/plain": [
       "['47',\n",
       " '30',\n",
       " '36',\n",
       " '25',\n",
       " '29',\n",
       " '38',\n",
       " '35',\n",
       " '43',\n",
       " '20',\n",
       " '27',\n",
       " '35',\n",
       " '31',\n",
       " '24',\n",
       " '40',\n",
       " '30',\n",
       " '33',\n",
       " '32',\n",
       " '36',\n",
       " '39']"
      ]
     },
     "execution_count": 82,
     "metadata": {},
     "output_type": "execute_result"
    }
   ],
   "source": [
    "matches"
   ]
  },
  {
   "cell_type": "code",
   "execution_count": 83,
   "id": "33019827",
   "metadata": {},
   "outputs": [],
   "source": [
    "mm=[mp]+matches"
   ]
  },
  {
   "cell_type": "code",
   "execution_count": 84,
   "id": "760cd89b",
   "metadata": {},
   "outputs": [
    {
     "data": {
      "text/plain": [
       "['35',\n",
       " '47',\n",
       " '30',\n",
       " '36',\n",
       " '25',\n",
       " '29',\n",
       " '38',\n",
       " '35',\n",
       " '43',\n",
       " '20',\n",
       " '27',\n",
       " '35',\n",
       " '31',\n",
       " '24',\n",
       " '40',\n",
       " '30',\n",
       " '33',\n",
       " '32',\n",
       " '36',\n",
       " '39']"
      ]
     },
     "execution_count": 84,
     "metadata": {},
     "output_type": "execute_result"
    }
   ],
   "source": [
    "mm"
   ]
  },
  {
   "cell_type": "code",
   "execution_count": 85,
   "id": "8f73e3c0",
   "metadata": {},
   "outputs": [],
   "source": [
    "point=soup.find('td',class_=\"rankings-block__banner--points\")"
   ]
  },
  {
   "cell_type": "code",
   "execution_count": 86,
   "id": "e5dc7421",
   "metadata": {},
   "outputs": [
    {
     "data": {
      "text/plain": [
       "'3,965'"
      ]
     },
     "execution_count": 86,
     "metadata": {},
     "output_type": "execute_result"
    }
   ],
   "source": [
    "point.text"
   ]
  },
  {
   "cell_type": "code",
   "execution_count": 87,
   "id": "158f10f0",
   "metadata": {},
   "outputs": [],
   "source": [
    "pp=point.text"
   ]
  },
  {
   "cell_type": "code",
   "execution_count": 88,
   "id": "c34cec57",
   "metadata": {},
   "outputs": [],
   "source": [
    "pts=soup.find('tr',class_=\"table-body\")"
   ]
  },
  {
   "cell_type": "code",
   "execution_count": 89,
   "id": "86b91624",
   "metadata": {},
   "outputs": [
    {
     "data": {
      "text/plain": [
       "'5,294'"
      ]
     },
     "execution_count": 89,
     "metadata": {},
     "output_type": "execute_result"
    }
   ],
   "source": [
    "pts.text.split('\\n')[8]"
   ]
  },
  {
   "cell_type": "code",
   "execution_count": 90,
   "id": "96c7d2f0",
   "metadata": {},
   "outputs": [],
   "source": [
    "points=[]\n",
    "for p in soup.find_all('tr',class_=\"table-body\"):\n",
    "    points.append(p.text.split('\\n')[8])"
   ]
  },
  {
   "cell_type": "code",
   "execution_count": 91,
   "id": "a731db03",
   "metadata": {},
   "outputs": [
    {
     "data": {
      "text/plain": [
       "['5,294',\n",
       " '3,367',\n",
       " '3,988',\n",
       " '2,649',\n",
       " '2,919',\n",
       " '3,625',\n",
       " '3,037',\n",
       " '3,105',\n",
       " '1,419',\n",
       " '1,384',\n",
       " '1,567',\n",
       " '1,351',\n",
       " '749',\n",
       " '1,238',\n",
       " '919',\n",
       " '935',\n",
       " '901',\n",
       " '739',\n",
       " '203']"
      ]
     },
     "execution_count": 91,
     "metadata": {},
     "output_type": "execute_result"
    }
   ],
   "source": [
    "points"
   ]
  },
  {
   "cell_type": "code",
   "execution_count": 92,
   "id": "4906f7cd",
   "metadata": {},
   "outputs": [],
   "source": [
    "points=[pp]+points"
   ]
  },
  {
   "cell_type": "code",
   "execution_count": 93,
   "id": "e04dc7b3",
   "metadata": {},
   "outputs": [
    {
     "data": {
      "text/plain": [
       "['3,965',\n",
       " '5,294',\n",
       " '3,367',\n",
       " '3,988',\n",
       " '2,649',\n",
       " '2,919',\n",
       " '3,625',\n",
       " '3,037',\n",
       " '3,105',\n",
       " '1,419',\n",
       " '1,384',\n",
       " '1,567',\n",
       " '1,351',\n",
       " '749',\n",
       " '1,238',\n",
       " '919',\n",
       " '935',\n",
       " '901',\n",
       " '739',\n",
       " '203']"
      ]
     },
     "execution_count": 93,
     "metadata": {},
     "output_type": "execute_result"
    }
   ],
   "source": [
    "points"
   ]
  },
  {
   "cell_type": "code",
   "execution_count": 94,
   "id": "f5314b7c",
   "metadata": {},
   "outputs": [],
   "source": [
    "rating=soup.find('td',class_=\"rankings-block__banner--rating u-text-right\")"
   ]
  },
  {
   "cell_type": "code",
   "execution_count": 95,
   "id": "b07cf7ec",
   "metadata": {},
   "outputs": [
    {
     "data": {
      "text/plain": [
       "'                            113'"
      ]
     },
     "execution_count": 95,
     "metadata": {},
     "output_type": "execute_result"
    }
   ],
   "source": [
    "rating.text.split('\\n')[1]"
   ]
  },
  {
   "cell_type": "code",
   "execution_count": 96,
   "id": "ec0607be",
   "metadata": {},
   "outputs": [],
   "source": [
    "rr=rating.text.split('\\n')[1]"
   ]
  },
  {
   "cell_type": "code",
   "execution_count": 97,
   "id": "524c9c7d",
   "metadata": {},
   "outputs": [],
   "source": [
    "ratings=soup.find('td',class_=\"table-body__cell u-text-right rating\")"
   ]
  },
  {
   "cell_type": "code",
   "execution_count": 98,
   "id": "b7401228",
   "metadata": {},
   "outputs": [
    {
     "data": {
      "text/plain": [
       "'113'"
      ]
     },
     "execution_count": 98,
     "metadata": {},
     "output_type": "execute_result"
    }
   ],
   "source": [
    "ratings.text"
   ]
  },
  {
   "cell_type": "code",
   "execution_count": 99,
   "id": "66dfcea9",
   "metadata": {},
   "outputs": [],
   "source": [
    "ratings=[]\n",
    "for r in soup.find_all('td',class_=\"table-body__cell u-text-right rating\"):\n",
    "    ratings.append(r.text)"
   ]
  },
  {
   "cell_type": "code",
   "execution_count": 100,
   "id": "ce425089",
   "metadata": {},
   "outputs": [
    {
     "data": {
      "text/plain": [
       "['113',\n",
       " '112',\n",
       " '111',\n",
       " '106',\n",
       " '101',\n",
       " '95',\n",
       " '87',\n",
       " '72',\n",
       " '71',\n",
       " '51',\n",
       " '45',\n",
       " '44',\n",
       " '31',\n",
       " '31',\n",
       " '31',\n",
       " '28',\n",
       " '28',\n",
       " '21',\n",
       " '5']"
      ]
     },
     "execution_count": 100,
     "metadata": {},
     "output_type": "execute_result"
    }
   ],
   "source": [
    "ratings"
   ]
  },
  {
   "cell_type": "code",
   "execution_count": 101,
   "id": "52cb7e32",
   "metadata": {},
   "outputs": [],
   "source": [
    "ratings=[rr]+ratings"
   ]
  },
  {
   "cell_type": "code",
   "execution_count": 102,
   "id": "fb1e9094",
   "metadata": {},
   "outputs": [
    {
     "data": {
      "text/plain": [
       "['                            113',\n",
       " '113',\n",
       " '112',\n",
       " '111',\n",
       " '106',\n",
       " '101',\n",
       " '95',\n",
       " '87',\n",
       " '72',\n",
       " '71',\n",
       " '51',\n",
       " '45',\n",
       " '44',\n",
       " '31',\n",
       " '31',\n",
       " '31',\n",
       " '28',\n",
       " '28',\n",
       " '21',\n",
       " '5']"
      ]
     },
     "execution_count": 102,
     "metadata": {},
     "output_type": "execute_result"
    }
   ],
   "source": [
    "ratings"
   ]
  },
  {
   "cell_type": "code",
   "execution_count": 103,
   "id": "52352f58",
   "metadata": {},
   "outputs": [],
   "source": [
    "import pandas as pd"
   ]
  },
  {
   "cell_type": "code",
   "execution_count": 104,
   "id": "9421d30d",
   "metadata": {},
   "outputs": [],
   "source": [
    "data=pd.DataFrame({'Teams':teams,'Matches':mm,'Points':points,'Ratings':ratings})"
   ]
  },
  {
   "cell_type": "code",
   "execution_count": 105,
   "id": "e67f61d7",
   "metadata": {},
   "outputs": [
    {
     "data": {
      "text/html": [
       "<div>\n",
       "<style scoped>\n",
       "    .dataframe tbody tr th:only-of-type {\n",
       "        vertical-align: middle;\n",
       "    }\n",
       "\n",
       "    .dataframe tbody tr th {\n",
       "        vertical-align: top;\n",
       "    }\n",
       "\n",
       "    .dataframe thead th {\n",
       "        text-align: right;\n",
       "    }\n",
       "</style>\n",
       "<table border=\"1\" class=\"dataframe\">\n",
       "  <thead>\n",
       "    <tr style=\"text-align: right;\">\n",
       "      <th></th>\n",
       "      <th>Teams</th>\n",
       "      <th>Matches</th>\n",
       "      <th>Points</th>\n",
       "      <th>Ratings</th>\n",
       "    </tr>\n",
       "  </thead>\n",
       "  <tbody>\n",
       "    <tr>\n",
       "      <th>0</th>\n",
       "      <td>Australia</td>\n",
       "      <td>35</td>\n",
       "      <td>3,965</td>\n",
       "      <td>113</td>\n",
       "    </tr>\n",
       "    <tr>\n",
       "      <th>1</th>\n",
       "      <td>India</td>\n",
       "      <td>47</td>\n",
       "      <td>5,294</td>\n",
       "      <td>113</td>\n",
       "    </tr>\n",
       "    <tr>\n",
       "      <th>2</th>\n",
       "      <td>New Zealand</td>\n",
       "      <td>30</td>\n",
       "      <td>3,367</td>\n",
       "      <td>112</td>\n",
       "    </tr>\n",
       "    <tr>\n",
       "      <th>3</th>\n",
       "      <td>England</td>\n",
       "      <td>36</td>\n",
       "      <td>3,988</td>\n",
       "      <td>111</td>\n",
       "    </tr>\n",
       "    <tr>\n",
       "      <th>4</th>\n",
       "      <td>Pakistan</td>\n",
       "      <td>25</td>\n",
       "      <td>2,649</td>\n",
       "      <td>106</td>\n",
       "    </tr>\n",
       "    <tr>\n",
       "      <th>5</th>\n",
       "      <td>South Africa</td>\n",
       "      <td>29</td>\n",
       "      <td>2,919</td>\n",
       "      <td>101</td>\n",
       "    </tr>\n",
       "    <tr>\n",
       "      <th>6</th>\n",
       "      <td>Bangladesh</td>\n",
       "      <td>38</td>\n",
       "      <td>3,625</td>\n",
       "      <td>95</td>\n",
       "    </tr>\n",
       "    <tr>\n",
       "      <th>7</th>\n",
       "      <td>Sri Lanka</td>\n",
       "      <td>35</td>\n",
       "      <td>3,037</td>\n",
       "      <td>87</td>\n",
       "    </tr>\n",
       "    <tr>\n",
       "      <th>8</th>\n",
       "      <td>West Indies</td>\n",
       "      <td>43</td>\n",
       "      <td>3,105</td>\n",
       "      <td>72</td>\n",
       "    </tr>\n",
       "    <tr>\n",
       "      <th>9</th>\n",
       "      <td>Afghanistan</td>\n",
       "      <td>20</td>\n",
       "      <td>1,419</td>\n",
       "      <td>71</td>\n",
       "    </tr>\n",
       "    <tr>\n",
       "      <th>10</th>\n",
       "      <td>Ireland</td>\n",
       "      <td>27</td>\n",
       "      <td>1,384</td>\n",
       "      <td>51</td>\n",
       "    </tr>\n",
       "    <tr>\n",
       "      <th>11</th>\n",
       "      <td>Scotland</td>\n",
       "      <td>35</td>\n",
       "      <td>1,567</td>\n",
       "      <td>45</td>\n",
       "    </tr>\n",
       "    <tr>\n",
       "      <th>12</th>\n",
       "      <td>Zimbabwe</td>\n",
       "      <td>31</td>\n",
       "      <td>1,351</td>\n",
       "      <td>44</td>\n",
       "    </tr>\n",
       "    <tr>\n",
       "      <th>13</th>\n",
       "      <td>Netherlands</td>\n",
       "      <td>24</td>\n",
       "      <td>749</td>\n",
       "      <td>31</td>\n",
       "    </tr>\n",
       "    <tr>\n",
       "      <th>14</th>\n",
       "      <td>Nepal</td>\n",
       "      <td>40</td>\n",
       "      <td>1,238</td>\n",
       "      <td>31</td>\n",
       "    </tr>\n",
       "    <tr>\n",
       "      <th>15</th>\n",
       "      <td>Oman</td>\n",
       "      <td>30</td>\n",
       "      <td>919</td>\n",
       "      <td>31</td>\n",
       "    </tr>\n",
       "    <tr>\n",
       "      <th>16</th>\n",
       "      <td>Namibia</td>\n",
       "      <td>33</td>\n",
       "      <td>935</td>\n",
       "      <td>28</td>\n",
       "    </tr>\n",
       "    <tr>\n",
       "      <th>17</th>\n",
       "      <td>United States</td>\n",
       "      <td>32</td>\n",
       "      <td>901</td>\n",
       "      <td>28</td>\n",
       "    </tr>\n",
       "    <tr>\n",
       "      <th>18</th>\n",
       "      <td>UAE</td>\n",
       "      <td>36</td>\n",
       "      <td>739</td>\n",
       "      <td>21</td>\n",
       "    </tr>\n",
       "    <tr>\n",
       "      <th>19</th>\n",
       "      <td>Papua New Guinea</td>\n",
       "      <td>39</td>\n",
       "      <td>203</td>\n",
       "      <td>5</td>\n",
       "    </tr>\n",
       "  </tbody>\n",
       "</table>\n",
       "</div>"
      ],
      "text/plain": [
       "               Teams Matches Points                          Ratings\n",
       "0          Australia      35  3,965                              113\n",
       "1              India      47  5,294                              113\n",
       "2        New Zealand      30  3,367                              112\n",
       "3            England      36  3,988                              111\n",
       "4           Pakistan      25  2,649                              106\n",
       "5       South Africa      29  2,919                              101\n",
       "6         Bangladesh      38  3,625                               95\n",
       "7          Sri Lanka      35  3,037                               87\n",
       "8        West Indies      43  3,105                               72\n",
       "9        Afghanistan      20  1,419                               71\n",
       "10           Ireland      27  1,384                               51\n",
       "11          Scotland      35  1,567                               45\n",
       "12          Zimbabwe      31  1,351                               44\n",
       "13       Netherlands      24    749                               31\n",
       "14             Nepal      40  1,238                               31\n",
       "15              Oman      30    919                               31\n",
       "16           Namibia      33    935                               28\n",
       "17     United States      32    901                               28\n",
       "18               UAE      36    739                               21\n",
       "19  Papua New Guinea      39    203                                5"
      ]
     },
     "execution_count": 105,
     "metadata": {},
     "output_type": "execute_result"
    }
   ],
   "source": [
    "data"
   ]
  },
  {
   "cell_type": "code",
   "execution_count": 106,
   "id": "b0a1521f",
   "metadata": {},
   "outputs": [
    {
     "data": {
      "text/html": [
       "<div>\n",
       "<style scoped>\n",
       "    .dataframe tbody tr th:only-of-type {\n",
       "        vertical-align: middle;\n",
       "    }\n",
       "\n",
       "    .dataframe tbody tr th {\n",
       "        vertical-align: top;\n",
       "    }\n",
       "\n",
       "    .dataframe thead th {\n",
       "        text-align: right;\n",
       "    }\n",
       "</style>\n",
       "<table border=\"1\" class=\"dataframe\">\n",
       "  <thead>\n",
       "    <tr style=\"text-align: right;\">\n",
       "      <th></th>\n",
       "      <th>Teams</th>\n",
       "      <th>Matches</th>\n",
       "      <th>Points</th>\n",
       "      <th>Ratings</th>\n",
       "    </tr>\n",
       "  </thead>\n",
       "  <tbody>\n",
       "    <tr>\n",
       "      <th>0</th>\n",
       "      <td>Australia</td>\n",
       "      <td>35</td>\n",
       "      <td>3,965</td>\n",
       "      <td>113</td>\n",
       "    </tr>\n",
       "    <tr>\n",
       "      <th>1</th>\n",
       "      <td>India</td>\n",
       "      <td>47</td>\n",
       "      <td>5,294</td>\n",
       "      <td>113</td>\n",
       "    </tr>\n",
       "    <tr>\n",
       "      <th>2</th>\n",
       "      <td>New Zealand</td>\n",
       "      <td>30</td>\n",
       "      <td>3,367</td>\n",
       "      <td>112</td>\n",
       "    </tr>\n",
       "    <tr>\n",
       "      <th>3</th>\n",
       "      <td>England</td>\n",
       "      <td>36</td>\n",
       "      <td>3,988</td>\n",
       "      <td>111</td>\n",
       "    </tr>\n",
       "    <tr>\n",
       "      <th>4</th>\n",
       "      <td>Pakistan</td>\n",
       "      <td>25</td>\n",
       "      <td>2,649</td>\n",
       "      <td>106</td>\n",
       "    </tr>\n",
       "    <tr>\n",
       "      <th>5</th>\n",
       "      <td>South Africa</td>\n",
       "      <td>29</td>\n",
       "      <td>2,919</td>\n",
       "      <td>101</td>\n",
       "    </tr>\n",
       "    <tr>\n",
       "      <th>6</th>\n",
       "      <td>Bangladesh</td>\n",
       "      <td>38</td>\n",
       "      <td>3,625</td>\n",
       "      <td>95</td>\n",
       "    </tr>\n",
       "    <tr>\n",
       "      <th>7</th>\n",
       "      <td>Sri Lanka</td>\n",
       "      <td>35</td>\n",
       "      <td>3,037</td>\n",
       "      <td>87</td>\n",
       "    </tr>\n",
       "    <tr>\n",
       "      <th>8</th>\n",
       "      <td>West Indies</td>\n",
       "      <td>43</td>\n",
       "      <td>3,105</td>\n",
       "      <td>72</td>\n",
       "    </tr>\n",
       "    <tr>\n",
       "      <th>9</th>\n",
       "      <td>Afghanistan</td>\n",
       "      <td>20</td>\n",
       "      <td>1,419</td>\n",
       "      <td>71</td>\n",
       "    </tr>\n",
       "  </tbody>\n",
       "</table>\n",
       "</div>"
      ],
      "text/plain": [
       "          Teams Matches Points                          Ratings\n",
       "0     Australia      35  3,965                              113\n",
       "1         India      47  5,294                              113\n",
       "2   New Zealand      30  3,367                              112\n",
       "3       England      36  3,988                              111\n",
       "4      Pakistan      25  2,649                              106\n",
       "5  South Africa      29  2,919                              101\n",
       "6    Bangladesh      38  3,625                               95\n",
       "7     Sri Lanka      35  3,037                               87\n",
       "8   West Indies      43  3,105                               72\n",
       "9   Afghanistan      20  1,419                               71"
      ]
     },
     "execution_count": 106,
     "metadata": {},
     "output_type": "execute_result"
    }
   ],
   "source": [
    "data.head(10)"
   ]
  },
  {
   "cell_type": "code",
   "execution_count": 107,
   "id": "ab5d081c",
   "metadata": {},
   "outputs": [],
   "source": [
    "teams=data.head(10)"
   ]
  },
  {
   "cell_type": "code",
   "execution_count": 108,
   "id": "b08eaef1",
   "metadata": {},
   "outputs": [
    {
     "data": {
      "text/html": [
       "<div>\n",
       "<style scoped>\n",
       "    .dataframe tbody tr th:only-of-type {\n",
       "        vertical-align: middle;\n",
       "    }\n",
       "\n",
       "    .dataframe tbody tr th {\n",
       "        vertical-align: top;\n",
       "    }\n",
       "\n",
       "    .dataframe thead th {\n",
       "        text-align: right;\n",
       "    }\n",
       "</style>\n",
       "<table border=\"1\" class=\"dataframe\">\n",
       "  <thead>\n",
       "    <tr style=\"text-align: right;\">\n",
       "      <th></th>\n",
       "      <th>Teams</th>\n",
       "      <th>Matches</th>\n",
       "      <th>Points</th>\n",
       "      <th>Ratings</th>\n",
       "    </tr>\n",
       "  </thead>\n",
       "  <tbody>\n",
       "    <tr>\n",
       "      <th>0</th>\n",
       "      <td>Australia</td>\n",
       "      <td>35</td>\n",
       "      <td>3,965</td>\n",
       "      <td>113</td>\n",
       "    </tr>\n",
       "    <tr>\n",
       "      <th>1</th>\n",
       "      <td>India</td>\n",
       "      <td>47</td>\n",
       "      <td>5,294</td>\n",
       "      <td>113</td>\n",
       "    </tr>\n",
       "    <tr>\n",
       "      <th>2</th>\n",
       "      <td>New Zealand</td>\n",
       "      <td>30</td>\n",
       "      <td>3,367</td>\n",
       "      <td>112</td>\n",
       "    </tr>\n",
       "    <tr>\n",
       "      <th>3</th>\n",
       "      <td>England</td>\n",
       "      <td>36</td>\n",
       "      <td>3,988</td>\n",
       "      <td>111</td>\n",
       "    </tr>\n",
       "    <tr>\n",
       "      <th>4</th>\n",
       "      <td>Pakistan</td>\n",
       "      <td>25</td>\n",
       "      <td>2,649</td>\n",
       "      <td>106</td>\n",
       "    </tr>\n",
       "    <tr>\n",
       "      <th>5</th>\n",
       "      <td>South Africa</td>\n",
       "      <td>29</td>\n",
       "      <td>2,919</td>\n",
       "      <td>101</td>\n",
       "    </tr>\n",
       "    <tr>\n",
       "      <th>6</th>\n",
       "      <td>Bangladesh</td>\n",
       "      <td>38</td>\n",
       "      <td>3,625</td>\n",
       "      <td>95</td>\n",
       "    </tr>\n",
       "    <tr>\n",
       "      <th>7</th>\n",
       "      <td>Sri Lanka</td>\n",
       "      <td>35</td>\n",
       "      <td>3,037</td>\n",
       "      <td>87</td>\n",
       "    </tr>\n",
       "    <tr>\n",
       "      <th>8</th>\n",
       "      <td>West Indies</td>\n",
       "      <td>43</td>\n",
       "      <td>3,105</td>\n",
       "      <td>72</td>\n",
       "    </tr>\n",
       "    <tr>\n",
       "      <th>9</th>\n",
       "      <td>Afghanistan</td>\n",
       "      <td>20</td>\n",
       "      <td>1,419</td>\n",
       "      <td>71</td>\n",
       "    </tr>\n",
       "  </tbody>\n",
       "</table>\n",
       "</div>"
      ],
      "text/plain": [
       "          Teams Matches Points                          Ratings\n",
       "0     Australia      35  3,965                              113\n",
       "1         India      47  5,294                              113\n",
       "2   New Zealand      30  3,367                              112\n",
       "3       England      36  3,988                              111\n",
       "4      Pakistan      25  2,649                              106\n",
       "5  South Africa      29  2,919                              101\n",
       "6    Bangladesh      38  3,625                               95\n",
       "7     Sri Lanka      35  3,037                               87\n",
       "8   West Indies      43  3,105                               72\n",
       "9   Afghanistan      20  1,419                               71"
      ]
     },
     "execution_count": 108,
     "metadata": {},
     "output_type": "execute_result"
    }
   ],
   "source": [
    "teams"
   ]
  },
  {
   "cell_type": "markdown",
   "id": "c9402f74",
   "metadata": {},
   "source": [
    "# Answer 5 (B)"
   ]
  },
  {
   "cell_type": "code",
   "execution_count": 109,
   "id": "3e52d79d",
   "metadata": {},
   "outputs": [],
   "source": [
    "players=requests.get('https://www.icc-cricket.com/rankings/mens/player-rankings/odi/batting')"
   ]
  },
  {
   "cell_type": "code",
   "execution_count": 110,
   "id": "276e5b1d",
   "metadata": {},
   "outputs": [
    {
     "data": {
      "text/plain": [
       "<Response [200]>"
      ]
     },
     "execution_count": 110,
     "metadata": {},
     "output_type": "execute_result"
    }
   ],
   "source": [
    "players"
   ]
  },
  {
   "cell_type": "code",
   "execution_count": 111,
   "id": "6d4f36b5",
   "metadata": {},
   "outputs": [],
   "source": [
    "soup=BeautifulSoup(players.content)"
   ]
  },
  {
   "cell_type": "code",
   "execution_count": 112,
   "id": "0952dd13",
   "metadata": {},
   "outputs": [],
   "source": [
    "p=soup.find('div',class_=\"rankings-block__banner--name-large\")"
   ]
  },
  {
   "cell_type": "code",
   "execution_count": 113,
   "id": "57015479",
   "metadata": {},
   "outputs": [
    {
     "data": {
      "text/plain": [
       "'Babar Azam'"
      ]
     },
     "execution_count": 113,
     "metadata": {},
     "output_type": "execute_result"
    }
   ],
   "source": [
    "p.text"
   ]
  },
  {
   "cell_type": "code",
   "execution_count": 114,
   "id": "31133bc3",
   "metadata": {},
   "outputs": [],
   "source": [
    "pp=p.text"
   ]
  },
  {
   "cell_type": "code",
   "execution_count": 115,
   "id": "705b72b6",
   "metadata": {},
   "outputs": [
    {
     "data": {
      "text/plain": [
       "'Babar Azam'"
      ]
     },
     "execution_count": 115,
     "metadata": {},
     "output_type": "execute_result"
    }
   ],
   "source": [
    "pp"
   ]
  },
  {
   "cell_type": "code",
   "execution_count": 116,
   "id": "c0e8c782",
   "metadata": {},
   "outputs": [],
   "source": [
    "player= soup.find('td',class_=\"table-body__cell rankings-table__name name\")"
   ]
  },
  {
   "cell_type": "code",
   "execution_count": 117,
   "id": "67851b6c",
   "metadata": {},
   "outputs": [
    {
     "data": {
      "text/plain": [
       "'Rassie van der Dussen'"
      ]
     },
     "execution_count": 117,
     "metadata": {},
     "output_type": "execute_result"
    }
   ],
   "source": [
    "player.text.split('\\n')[1]"
   ]
  },
  {
   "cell_type": "code",
   "execution_count": 118,
   "id": "919bce35",
   "metadata": {},
   "outputs": [],
   "source": [
    "players=[]\n",
    "for p in soup.find_all('td',class_=\"table-body__cell rankings-table__name name\"):\n",
    "    players.append(p.text.split('\\n')[1])"
   ]
  },
  {
   "cell_type": "code",
   "execution_count": 119,
   "id": "0a2198da",
   "metadata": {},
   "outputs": [
    {
     "data": {
      "text/plain": [
       "['Rassie van der Dussen',\n",
       " 'Imam-ul-Haq',\n",
       " 'Quinton de Kock',\n",
       " 'Shubman Gill',\n",
       " 'David Warner',\n",
       " 'Virat Kohli',\n",
       " 'Rohit Sharma',\n",
       " 'Steve Smith',\n",
       " 'Fakhar Zaman',\n",
       " 'Shai Hope',\n",
       " 'Kane Williamson',\n",
       " 'Jason Roy',\n",
       " 'Jonny Bairstow',\n",
       " 'Jos Buttler',\n",
       " 'Harry Tector',\n",
       " 'Mushfiqur Rahim',\n",
       " 'Paul Stirling',\n",
       " 'David Miller',\n",
       " 'Tamim Iqbal',\n",
       " 'Alex Carey',\n",
       " 'Joe Root',\n",
       " 'Rahmat Shah',\n",
       " 'Shreyas Iyer',\n",
       " 'Nicholas Pooran',\n",
       " 'Shakib Al Hasan',\n",
       " 'Travis Head',\n",
       " 'Glenn Maxwell',\n",
       " 'Heinrich Klaasen',\n",
       " 'Tom Latham',\n",
       " 'Sikandar Raza',\n",
       " 'Temba Bavuma',\n",
       " 'Martin Guptill',\n",
       " 'Litton Das',\n",
       " 'Shikhar Dhawan',\n",
       " 'Gerhard Erasmus',\n",
       " 'Dawid Malan',\n",
       " 'Lokesh Rahul',\n",
       " 'George Munsey',\n",
       " 'Mahmudullah',\n",
       " 'Devon Conway',\n",
       " 'Najibullah Zadran',\n",
       " 'Kariyawasa Asalanka',\n",
       " 'Andrew Balbirnie',\n",
       " 'Kyle Coetzer',\n",
       " 'Ibrahim Zadran',\n",
       " 'Haris Sohail',\n",
       " 'Monank Patel',\n",
       " 'Aaron Jones',\n",
       " 'Kusal Mendis',\n",
       " 'Hashmatullah Shaidi',\n",
       " 'Mitchell Marsh',\n",
       " 'Assad Vala',\n",
       " 'Aiden Markram',\n",
       " 'Sean Williams',\n",
       " 'Ishan Kishan',\n",
       " 'Rahmanullah Gurbaz',\n",
       " 'R.K. Paudel',\n",
       " 'Scott Edwards',\n",
       " 'Janneman Malan',\n",
       " 'Zeeshan Maqsood',\n",
       " 'Jatinder Singh',\n",
       " 'Avishka Fernando',\n",
       " 'Mohammad Rizwan',\n",
       " 'Vriitya Aravind',\n",
       " 'Mohammad Nabi',\n",
       " 'Aasif Sheikh',\n",
       " 'Marnus Labuschagne',\n",
       " 'Tom Cooper',\n",
       " 'Mitchell Santner',\n",
       " 'Henry Nicholls',\n",
       " 'Richard Berrington',\n",
       " 'Dasun Shanaka',\n",
       " 'Hardik Pandya',\n",
       " 'Angelo Mathews',\n",
       " 'Danushka Gunathilaka',\n",
       " 'Michael Leask',\n",
       " \"Max O'Dowd\",\n",
       " 'Steven Taylor',\n",
       " 'Dhananjaya de Silva',\n",
       " 'Finn Allen',\n",
       " 'Marcus Stoinis',\n",
       " 'Craig Ervine',\n",
       " 'Gajanand Singh',\n",
       " 'Michael Bracewell',\n",
       " 'Muhammad Waseem',\n",
       " 'Philip Salt',\n",
       " 'Pathum Nissanka',\n",
       " 'Shamarh Brooks',\n",
       " 'Niroshan Dickwella',\n",
       " 'Moeen Ali',\n",
       " 'Rashid Khan',\n",
       " 'Jimmy Neesham',\n",
       " 'Michael van Lingen',\n",
       " 'Kyle Mayers',\n",
       " 'Tony Ura',\n",
       " 'Matthew Cross',\n",
       " 'Chundangapoyil Rizwan',\n",
       " 'Mehedi Hasan',\n",
       " 'Daryl Mitchell']"
      ]
     },
     "execution_count": 119,
     "metadata": {},
     "output_type": "execute_result"
    }
   ],
   "source": [
    "players"
   ]
  },
  {
   "cell_type": "code",
   "execution_count": 120,
   "id": "92c8f379",
   "metadata": {},
   "outputs": [],
   "source": [
    "playerss=[pp]+players"
   ]
  },
  {
   "cell_type": "code",
   "execution_count": 121,
   "id": "9e120108",
   "metadata": {},
   "outputs": [
    {
     "data": {
      "text/plain": [
       "['Babar Azam',\n",
       " 'Rassie van der Dussen',\n",
       " 'Imam-ul-Haq',\n",
       " 'Quinton de Kock',\n",
       " 'Shubman Gill',\n",
       " 'David Warner',\n",
       " 'Virat Kohli',\n",
       " 'Rohit Sharma',\n",
       " 'Steve Smith',\n",
       " 'Fakhar Zaman',\n",
       " 'Shai Hope',\n",
       " 'Kane Williamson',\n",
       " 'Jason Roy',\n",
       " 'Jonny Bairstow',\n",
       " 'Jos Buttler',\n",
       " 'Harry Tector',\n",
       " 'Mushfiqur Rahim',\n",
       " 'Paul Stirling',\n",
       " 'David Miller',\n",
       " 'Tamim Iqbal',\n",
       " 'Alex Carey',\n",
       " 'Joe Root',\n",
       " 'Rahmat Shah',\n",
       " 'Shreyas Iyer',\n",
       " 'Nicholas Pooran',\n",
       " 'Shakib Al Hasan',\n",
       " 'Travis Head',\n",
       " 'Glenn Maxwell',\n",
       " 'Heinrich Klaasen',\n",
       " 'Tom Latham',\n",
       " 'Sikandar Raza',\n",
       " 'Temba Bavuma',\n",
       " 'Martin Guptill',\n",
       " 'Litton Das',\n",
       " 'Shikhar Dhawan',\n",
       " 'Gerhard Erasmus',\n",
       " 'Dawid Malan',\n",
       " 'Lokesh Rahul',\n",
       " 'George Munsey',\n",
       " 'Mahmudullah',\n",
       " 'Devon Conway',\n",
       " 'Najibullah Zadran',\n",
       " 'Kariyawasa Asalanka',\n",
       " 'Andrew Balbirnie',\n",
       " 'Kyle Coetzer',\n",
       " 'Ibrahim Zadran',\n",
       " 'Haris Sohail',\n",
       " 'Monank Patel',\n",
       " 'Aaron Jones',\n",
       " 'Kusal Mendis',\n",
       " 'Hashmatullah Shaidi',\n",
       " 'Mitchell Marsh',\n",
       " 'Assad Vala',\n",
       " 'Aiden Markram',\n",
       " 'Sean Williams',\n",
       " 'Ishan Kishan',\n",
       " 'Rahmanullah Gurbaz',\n",
       " 'R.K. Paudel',\n",
       " 'Scott Edwards',\n",
       " 'Janneman Malan',\n",
       " 'Zeeshan Maqsood',\n",
       " 'Jatinder Singh',\n",
       " 'Avishka Fernando',\n",
       " 'Mohammad Rizwan',\n",
       " 'Vriitya Aravind',\n",
       " 'Mohammad Nabi',\n",
       " 'Aasif Sheikh',\n",
       " 'Marnus Labuschagne',\n",
       " 'Tom Cooper',\n",
       " 'Mitchell Santner',\n",
       " 'Henry Nicholls',\n",
       " 'Richard Berrington',\n",
       " 'Dasun Shanaka',\n",
       " 'Hardik Pandya',\n",
       " 'Angelo Mathews',\n",
       " 'Danushka Gunathilaka',\n",
       " 'Michael Leask',\n",
       " \"Max O'Dowd\",\n",
       " 'Steven Taylor',\n",
       " 'Dhananjaya de Silva',\n",
       " 'Finn Allen',\n",
       " 'Marcus Stoinis',\n",
       " 'Craig Ervine',\n",
       " 'Gajanand Singh',\n",
       " 'Michael Bracewell',\n",
       " 'Muhammad Waseem',\n",
       " 'Philip Salt',\n",
       " 'Pathum Nissanka',\n",
       " 'Shamarh Brooks',\n",
       " 'Niroshan Dickwella',\n",
       " 'Moeen Ali',\n",
       " 'Rashid Khan',\n",
       " 'Jimmy Neesham',\n",
       " 'Michael van Lingen',\n",
       " 'Kyle Mayers',\n",
       " 'Tony Ura',\n",
       " 'Matthew Cross',\n",
       " 'Chundangapoyil Rizwan',\n",
       " 'Mehedi Hasan',\n",
       " 'Daryl Mitchell']"
      ]
     },
     "execution_count": 121,
     "metadata": {},
     "output_type": "execute_result"
    }
   ],
   "source": [
    "playerss"
   ]
  },
  {
   "cell_type": "code",
   "execution_count": 122,
   "id": "6369cdd4",
   "metadata": {},
   "outputs": [],
   "source": [
    "t=soup.find('div',class_=\"rankings-block__banner--nationality\")"
   ]
  },
  {
   "cell_type": "code",
   "execution_count": 123,
   "id": "f33c8a52",
   "metadata": {},
   "outputs": [
    {
     "data": {
      "text/plain": [
       "'PAK'"
      ]
     },
     "execution_count": 123,
     "metadata": {},
     "output_type": "execute_result"
    }
   ],
   "source": [
    "t.text.split('\\n')[2]"
   ]
  },
  {
   "cell_type": "code",
   "execution_count": 124,
   "id": "1535580c",
   "metadata": {},
   "outputs": [],
   "source": [
    "tt=t.text.split('\\n')[2]"
   ]
  },
  {
   "cell_type": "code",
   "execution_count": 125,
   "id": "20074518",
   "metadata": {},
   "outputs": [
    {
     "data": {
      "text/plain": [
       "'PAK'"
      ]
     },
     "execution_count": 125,
     "metadata": {},
     "output_type": "execute_result"
    }
   ],
   "source": [
    "tt"
   ]
  },
  {
   "cell_type": "code",
   "execution_count": 126,
   "id": "44443db1",
   "metadata": {},
   "outputs": [],
   "source": [
    "team=soup.find('span',class_=\"table-body__logo-text\")"
   ]
  },
  {
   "cell_type": "code",
   "execution_count": 127,
   "id": "2158e3ef",
   "metadata": {},
   "outputs": [
    {
     "data": {
      "text/plain": [
       "'SA'"
      ]
     },
     "execution_count": 127,
     "metadata": {},
     "output_type": "execute_result"
    }
   ],
   "source": [
    "team.text"
   ]
  },
  {
   "cell_type": "code",
   "execution_count": 128,
   "id": "46cbe549",
   "metadata": {},
   "outputs": [],
   "source": [
    "teams=[]\n",
    "\n",
    "for t in soup.find_all('span',class_=\"table-body__logo-text\"):\n",
    "    teams.append(t.text)"
   ]
  },
  {
   "cell_type": "code",
   "execution_count": 129,
   "id": "55d94b36",
   "metadata": {},
   "outputs": [
    {
     "data": {
      "text/plain": [
       "['SA',\n",
       " 'PAK',\n",
       " 'SA',\n",
       " 'IND',\n",
       " 'AUS',\n",
       " 'IND',\n",
       " 'IND',\n",
       " 'AUS',\n",
       " 'PAK',\n",
       " 'WI',\n",
       " 'NZ',\n",
       " 'ENG',\n",
       " 'ENG',\n",
       " 'ENG',\n",
       " 'IRE',\n",
       " 'BAN',\n",
       " 'IRE',\n",
       " 'SA',\n",
       " 'BAN',\n",
       " 'AUS',\n",
       " 'ENG',\n",
       " 'AFG',\n",
       " 'IND',\n",
       " 'WI',\n",
       " 'BAN',\n",
       " 'AUS',\n",
       " 'AUS',\n",
       " 'SA',\n",
       " 'NZ',\n",
       " 'ZIM',\n",
       " 'SA',\n",
       " 'NZ',\n",
       " 'BAN',\n",
       " 'IND',\n",
       " 'NAM',\n",
       " 'ENG',\n",
       " 'IND',\n",
       " 'SCO',\n",
       " 'BAN',\n",
       " 'NZ',\n",
       " 'AFG',\n",
       " 'SL',\n",
       " 'IRE',\n",
       " 'SCO',\n",
       " 'AFG',\n",
       " 'PAK',\n",
       " 'USA',\n",
       " 'USA',\n",
       " 'SL',\n",
       " 'AFG',\n",
       " 'AUS',\n",
       " 'PNG',\n",
       " 'SA',\n",
       " 'ZIM',\n",
       " 'IND',\n",
       " 'AFG',\n",
       " 'NEP',\n",
       " 'NED',\n",
       " 'SA',\n",
       " 'OMA',\n",
       " 'OMA',\n",
       " 'SL',\n",
       " 'PAK',\n",
       " 'UAE',\n",
       " 'AFG',\n",
       " 'NEP',\n",
       " 'AUS',\n",
       " 'NED',\n",
       " 'NZ',\n",
       " 'NZ',\n",
       " 'SCO',\n",
       " 'SL',\n",
       " 'IND',\n",
       " 'SL',\n",
       " 'SL',\n",
       " 'SCO',\n",
       " 'NED',\n",
       " 'USA',\n",
       " 'SL',\n",
       " 'NZ',\n",
       " 'AUS',\n",
       " 'ZIM',\n",
       " 'USA',\n",
       " 'NZ',\n",
       " 'UAE',\n",
       " 'ENG',\n",
       " 'SL',\n",
       " 'WI',\n",
       " 'SL',\n",
       " 'ENG',\n",
       " 'AFG',\n",
       " 'NZ',\n",
       " 'NAM',\n",
       " 'WI',\n",
       " 'PNG',\n",
       " 'SCO',\n",
       " 'UAE',\n",
       " 'BAN',\n",
       " 'NZ']"
      ]
     },
     "execution_count": 129,
     "metadata": {},
     "output_type": "execute_result"
    }
   ],
   "source": [
    "teams"
   ]
  },
  {
   "cell_type": "code",
   "execution_count": 130,
   "id": "d6d505c9",
   "metadata": {},
   "outputs": [],
   "source": [
    "tteams=[tt]+teams"
   ]
  },
  {
   "cell_type": "code",
   "execution_count": 131,
   "id": "cdc7e3e5",
   "metadata": {},
   "outputs": [
    {
     "data": {
      "text/plain": [
       "['PAK',\n",
       " 'SA',\n",
       " 'PAK',\n",
       " 'SA',\n",
       " 'IND',\n",
       " 'AUS',\n",
       " 'IND',\n",
       " 'IND',\n",
       " 'AUS',\n",
       " 'PAK',\n",
       " 'WI',\n",
       " 'NZ',\n",
       " 'ENG',\n",
       " 'ENG',\n",
       " 'ENG',\n",
       " 'IRE',\n",
       " 'BAN',\n",
       " 'IRE',\n",
       " 'SA',\n",
       " 'BAN',\n",
       " 'AUS',\n",
       " 'ENG',\n",
       " 'AFG',\n",
       " 'IND',\n",
       " 'WI',\n",
       " 'BAN',\n",
       " 'AUS',\n",
       " 'AUS',\n",
       " 'SA',\n",
       " 'NZ',\n",
       " 'ZIM',\n",
       " 'SA',\n",
       " 'NZ',\n",
       " 'BAN',\n",
       " 'IND',\n",
       " 'NAM',\n",
       " 'ENG',\n",
       " 'IND',\n",
       " 'SCO',\n",
       " 'BAN',\n",
       " 'NZ',\n",
       " 'AFG',\n",
       " 'SL',\n",
       " 'IRE',\n",
       " 'SCO',\n",
       " 'AFG',\n",
       " 'PAK',\n",
       " 'USA',\n",
       " 'USA',\n",
       " 'SL',\n",
       " 'AFG',\n",
       " 'AUS',\n",
       " 'PNG',\n",
       " 'SA',\n",
       " 'ZIM',\n",
       " 'IND',\n",
       " 'AFG',\n",
       " 'NEP',\n",
       " 'NED',\n",
       " 'SA',\n",
       " 'OMA',\n",
       " 'OMA',\n",
       " 'SL',\n",
       " 'PAK',\n",
       " 'UAE',\n",
       " 'AFG',\n",
       " 'NEP',\n",
       " 'AUS',\n",
       " 'NED',\n",
       " 'NZ',\n",
       " 'NZ',\n",
       " 'SCO',\n",
       " 'SL',\n",
       " 'IND',\n",
       " 'SL',\n",
       " 'SL',\n",
       " 'SCO',\n",
       " 'NED',\n",
       " 'USA',\n",
       " 'SL',\n",
       " 'NZ',\n",
       " 'AUS',\n",
       " 'ZIM',\n",
       " 'USA',\n",
       " 'NZ',\n",
       " 'UAE',\n",
       " 'ENG',\n",
       " 'SL',\n",
       " 'WI',\n",
       " 'SL',\n",
       " 'ENG',\n",
       " 'AFG',\n",
       " 'NZ',\n",
       " 'NAM',\n",
       " 'WI',\n",
       " 'PNG',\n",
       " 'SCO',\n",
       " 'UAE',\n",
       " 'BAN',\n",
       " 'NZ']"
      ]
     },
     "execution_count": 131,
     "metadata": {},
     "output_type": "execute_result"
    }
   ],
   "source": [
    "tteams"
   ]
  },
  {
   "cell_type": "code",
   "execution_count": 132,
   "id": "4afc2680",
   "metadata": {},
   "outputs": [],
   "source": [
    "r=soup.find('div',class_=\"rankings-block__banner--rating\")"
   ]
  },
  {
   "cell_type": "code",
   "execution_count": 133,
   "id": "5812f47d",
   "metadata": {},
   "outputs": [
    {
     "data": {
      "text/plain": [
       "'887'"
      ]
     },
     "execution_count": 133,
     "metadata": {},
     "output_type": "execute_result"
    }
   ],
   "source": [
    "r.text"
   ]
  },
  {
   "cell_type": "code",
   "execution_count": 134,
   "id": "be105514",
   "metadata": {},
   "outputs": [],
   "source": [
    "rating=soup.find('td',class_=\"table-body__cell rating\")"
   ]
  },
  {
   "cell_type": "code",
   "execution_count": 135,
   "id": "f0b52600",
   "metadata": {},
   "outputs": [
    {
     "data": {
      "text/plain": [
       "'777'"
      ]
     },
     "execution_count": 135,
     "metadata": {},
     "output_type": "execute_result"
    }
   ],
   "source": [
    "rating.text"
   ]
  },
  {
   "cell_type": "code",
   "execution_count": 136,
   "id": "d8d16f71",
   "metadata": {},
   "outputs": [],
   "source": [
    "rr=r.text"
   ]
  },
  {
   "cell_type": "code",
   "execution_count": 137,
   "id": "7431ea69",
   "metadata": {},
   "outputs": [],
   "source": [
    "ratings=[]\n",
    "for r in soup.find_all('td',class_=\"table-body__cell rating\"):\n",
    "    ratings.append(r.text)"
   ]
  },
  {
   "cell_type": "code",
   "execution_count": 138,
   "id": "f3a791da",
   "metadata": {},
   "outputs": [
    {
     "data": {
      "text/plain": [
       "['777',\n",
       " '740',\n",
       " '740',\n",
       " '738',\n",
       " '726',\n",
       " '719',\n",
       " '707',\n",
       " '702',\n",
       " '699',\n",
       " '698',\n",
       " '693',\n",
       " '682',\n",
       " '669',\n",
       " '658',\n",
       " '650',\n",
       " '646',\n",
       " '640',\n",
       " '635',\n",
       " '633',\n",
       " '631',\n",
       " '631',\n",
       " '628',\n",
       " '624',\n",
       " '620',\n",
       " '617',\n",
       " '616',\n",
       " '612',\n",
       " '611',\n",
       " '605',\n",
       " '595',\n",
       " '594',\n",
       " '591',\n",
       " '586',\n",
       " '580',\n",
       " '572',\n",
       " '572',\n",
       " '571',\n",
       " '569',\n",
       " '568',\n",
       " '560',\n",
       " '555',\n",
       " '548',\n",
       " '543',\n",
       " '543',\n",
       " '543',\n",
       " '542',\n",
       " '539',\n",
       " '530',\n",
       " '526',\n",
       " '523',\n",
       " '523',\n",
       " '519',\n",
       " '515',\n",
       " '514',\n",
       " '511',\n",
       " '511',\n",
       " '507',\n",
       " '503',\n",
       " '500',\n",
       " '499',\n",
       " '496',\n",
       " '495',\n",
       " '495',\n",
       " '493',\n",
       " '492',\n",
       " '490',\n",
       " '490',\n",
       " '486',\n",
       " '483',\n",
       " '482',\n",
       " '482',\n",
       " '480',\n",
       " '479',\n",
       " '477',\n",
       " '475',\n",
       " '469',\n",
       " '465',\n",
       " '464',\n",
       " '463',\n",
       " '461',\n",
       " '461',\n",
       " '453',\n",
       " '451',\n",
       " '450',\n",
       " '449',\n",
       " '447',\n",
       " '445',\n",
       " '438',\n",
       " '434',\n",
       " '433',\n",
       " '426',\n",
       " '426',\n",
       " '425',\n",
       " '425',\n",
       " '422',\n",
       " '422',\n",
       " '419',\n",
       " '417',\n",
       " '416']"
      ]
     },
     "execution_count": 138,
     "metadata": {},
     "output_type": "execute_result"
    }
   ],
   "source": [
    "ratings"
   ]
  },
  {
   "cell_type": "code",
   "execution_count": 139,
   "id": "e7eacc4f",
   "metadata": {},
   "outputs": [],
   "source": [
    "ratings=[rr]+ratings"
   ]
  },
  {
   "cell_type": "code",
   "execution_count": 140,
   "id": "5692afeb",
   "metadata": {},
   "outputs": [
    {
     "data": {
      "text/plain": [
       "['887',\n",
       " '777',\n",
       " '740',\n",
       " '740',\n",
       " '738',\n",
       " '726',\n",
       " '719',\n",
       " '707',\n",
       " '702',\n",
       " '699',\n",
       " '698',\n",
       " '693',\n",
       " '682',\n",
       " '669',\n",
       " '658',\n",
       " '650',\n",
       " '646',\n",
       " '640',\n",
       " '635',\n",
       " '633',\n",
       " '631',\n",
       " '631',\n",
       " '628',\n",
       " '624',\n",
       " '620',\n",
       " '617',\n",
       " '616',\n",
       " '612',\n",
       " '611',\n",
       " '605',\n",
       " '595',\n",
       " '594',\n",
       " '591',\n",
       " '586',\n",
       " '580',\n",
       " '572',\n",
       " '572',\n",
       " '571',\n",
       " '569',\n",
       " '568',\n",
       " '560',\n",
       " '555',\n",
       " '548',\n",
       " '543',\n",
       " '543',\n",
       " '543',\n",
       " '542',\n",
       " '539',\n",
       " '530',\n",
       " '526',\n",
       " '523',\n",
       " '523',\n",
       " '519',\n",
       " '515',\n",
       " '514',\n",
       " '511',\n",
       " '511',\n",
       " '507',\n",
       " '503',\n",
       " '500',\n",
       " '499',\n",
       " '496',\n",
       " '495',\n",
       " '495',\n",
       " '493',\n",
       " '492',\n",
       " '490',\n",
       " '490',\n",
       " '486',\n",
       " '483',\n",
       " '482',\n",
       " '482',\n",
       " '480',\n",
       " '479',\n",
       " '477',\n",
       " '475',\n",
       " '469',\n",
       " '465',\n",
       " '464',\n",
       " '463',\n",
       " '461',\n",
       " '461',\n",
       " '453',\n",
       " '451',\n",
       " '450',\n",
       " '449',\n",
       " '447',\n",
       " '445',\n",
       " '438',\n",
       " '434',\n",
       " '433',\n",
       " '426',\n",
       " '426',\n",
       " '425',\n",
       " '425',\n",
       " '422',\n",
       " '422',\n",
       " '419',\n",
       " '417',\n",
       " '416']"
      ]
     },
     "execution_count": 140,
     "metadata": {},
     "output_type": "execute_result"
    }
   ],
   "source": [
    "ratings"
   ]
  },
  {
   "cell_type": "code",
   "execution_count": 141,
   "id": "3f56bba7",
   "metadata": {},
   "outputs": [],
   "source": [
    "dd=pd.DataFrame({'Player':playerss,'Teams':tteams,'Rating':ratings})"
   ]
  },
  {
   "cell_type": "code",
   "execution_count": 142,
   "id": "cf13ac45",
   "metadata": {},
   "outputs": [
    {
     "data": {
      "text/html": [
       "<div>\n",
       "<style scoped>\n",
       "    .dataframe tbody tr th:only-of-type {\n",
       "        vertical-align: middle;\n",
       "    }\n",
       "\n",
       "    .dataframe tbody tr th {\n",
       "        vertical-align: top;\n",
       "    }\n",
       "\n",
       "    .dataframe thead th {\n",
       "        text-align: right;\n",
       "    }\n",
       "</style>\n",
       "<table border=\"1\" class=\"dataframe\">\n",
       "  <thead>\n",
       "    <tr style=\"text-align: right;\">\n",
       "      <th></th>\n",
       "      <th>Player</th>\n",
       "      <th>Teams</th>\n",
       "      <th>Rating</th>\n",
       "    </tr>\n",
       "  </thead>\n",
       "  <tbody>\n",
       "    <tr>\n",
       "      <th>0</th>\n",
       "      <td>Babar Azam</td>\n",
       "      <td>PAK</td>\n",
       "      <td>887</td>\n",
       "    </tr>\n",
       "    <tr>\n",
       "      <th>1</th>\n",
       "      <td>Rassie van der Dussen</td>\n",
       "      <td>SA</td>\n",
       "      <td>777</td>\n",
       "    </tr>\n",
       "    <tr>\n",
       "      <th>2</th>\n",
       "      <td>Imam-ul-Haq</td>\n",
       "      <td>PAK</td>\n",
       "      <td>740</td>\n",
       "    </tr>\n",
       "    <tr>\n",
       "      <th>3</th>\n",
       "      <td>Quinton de Kock</td>\n",
       "      <td>SA</td>\n",
       "      <td>740</td>\n",
       "    </tr>\n",
       "    <tr>\n",
       "      <th>4</th>\n",
       "      <td>Shubman Gill</td>\n",
       "      <td>IND</td>\n",
       "      <td>738</td>\n",
       "    </tr>\n",
       "    <tr>\n",
       "      <th>...</th>\n",
       "      <td>...</td>\n",
       "      <td>...</td>\n",
       "      <td>...</td>\n",
       "    </tr>\n",
       "    <tr>\n",
       "      <th>95</th>\n",
       "      <td>Tony Ura</td>\n",
       "      <td>PNG</td>\n",
       "      <td>422</td>\n",
       "    </tr>\n",
       "    <tr>\n",
       "      <th>96</th>\n",
       "      <td>Matthew Cross</td>\n",
       "      <td>SCO</td>\n",
       "      <td>422</td>\n",
       "    </tr>\n",
       "    <tr>\n",
       "      <th>97</th>\n",
       "      <td>Chundangapoyil Rizwan</td>\n",
       "      <td>UAE</td>\n",
       "      <td>419</td>\n",
       "    </tr>\n",
       "    <tr>\n",
       "      <th>98</th>\n",
       "      <td>Mehedi Hasan</td>\n",
       "      <td>BAN</td>\n",
       "      <td>417</td>\n",
       "    </tr>\n",
       "    <tr>\n",
       "      <th>99</th>\n",
       "      <td>Daryl Mitchell</td>\n",
       "      <td>NZ</td>\n",
       "      <td>416</td>\n",
       "    </tr>\n",
       "  </tbody>\n",
       "</table>\n",
       "<p>100 rows × 3 columns</p>\n",
       "</div>"
      ],
      "text/plain": [
       "                   Player Teams Rating\n",
       "0              Babar Azam   PAK    887\n",
       "1   Rassie van der Dussen    SA    777\n",
       "2             Imam-ul-Haq   PAK    740\n",
       "3         Quinton de Kock    SA    740\n",
       "4            Shubman Gill   IND    738\n",
       "..                    ...   ...    ...\n",
       "95               Tony Ura   PNG    422\n",
       "96          Matthew Cross   SCO    422\n",
       "97  Chundangapoyil Rizwan   UAE    419\n",
       "98           Mehedi Hasan   BAN    417\n",
       "99         Daryl Mitchell    NZ    416\n",
       "\n",
       "[100 rows x 3 columns]"
      ]
     },
     "execution_count": 142,
     "metadata": {},
     "output_type": "execute_result"
    }
   ],
   "source": [
    "dd"
   ]
  },
  {
   "cell_type": "code",
   "execution_count": 143,
   "id": "684ebc67",
   "metadata": {},
   "outputs": [
    {
     "data": {
      "text/html": [
       "<div>\n",
       "<style scoped>\n",
       "    .dataframe tbody tr th:only-of-type {\n",
       "        vertical-align: middle;\n",
       "    }\n",
       "\n",
       "    .dataframe tbody tr th {\n",
       "        vertical-align: top;\n",
       "    }\n",
       "\n",
       "    .dataframe thead th {\n",
       "        text-align: right;\n",
       "    }\n",
       "</style>\n",
       "<table border=\"1\" class=\"dataframe\">\n",
       "  <thead>\n",
       "    <tr style=\"text-align: right;\">\n",
       "      <th></th>\n",
       "      <th>Player</th>\n",
       "      <th>Teams</th>\n",
       "      <th>Rating</th>\n",
       "    </tr>\n",
       "  </thead>\n",
       "  <tbody>\n",
       "    <tr>\n",
       "      <th>0</th>\n",
       "      <td>Babar Azam</td>\n",
       "      <td>PAK</td>\n",
       "      <td>887</td>\n",
       "    </tr>\n",
       "    <tr>\n",
       "      <th>1</th>\n",
       "      <td>Rassie van der Dussen</td>\n",
       "      <td>SA</td>\n",
       "      <td>777</td>\n",
       "    </tr>\n",
       "    <tr>\n",
       "      <th>2</th>\n",
       "      <td>Imam-ul-Haq</td>\n",
       "      <td>PAK</td>\n",
       "      <td>740</td>\n",
       "    </tr>\n",
       "    <tr>\n",
       "      <th>3</th>\n",
       "      <td>Quinton de Kock</td>\n",
       "      <td>SA</td>\n",
       "      <td>740</td>\n",
       "    </tr>\n",
       "    <tr>\n",
       "      <th>4</th>\n",
       "      <td>Shubman Gill</td>\n",
       "      <td>IND</td>\n",
       "      <td>738</td>\n",
       "    </tr>\n",
       "    <tr>\n",
       "      <th>5</th>\n",
       "      <td>David Warner</td>\n",
       "      <td>AUS</td>\n",
       "      <td>726</td>\n",
       "    </tr>\n",
       "    <tr>\n",
       "      <th>6</th>\n",
       "      <td>Virat Kohli</td>\n",
       "      <td>IND</td>\n",
       "      <td>719</td>\n",
       "    </tr>\n",
       "    <tr>\n",
       "      <th>7</th>\n",
       "      <td>Rohit Sharma</td>\n",
       "      <td>IND</td>\n",
       "      <td>707</td>\n",
       "    </tr>\n",
       "    <tr>\n",
       "      <th>8</th>\n",
       "      <td>Steve Smith</td>\n",
       "      <td>AUS</td>\n",
       "      <td>702</td>\n",
       "    </tr>\n",
       "    <tr>\n",
       "      <th>9</th>\n",
       "      <td>Fakhar Zaman</td>\n",
       "      <td>PAK</td>\n",
       "      <td>699</td>\n",
       "    </tr>\n",
       "  </tbody>\n",
       "</table>\n",
       "</div>"
      ],
      "text/plain": [
       "                  Player Teams Rating\n",
       "0             Babar Azam   PAK    887\n",
       "1  Rassie van der Dussen    SA    777\n",
       "2            Imam-ul-Haq   PAK    740\n",
       "3        Quinton de Kock    SA    740\n",
       "4           Shubman Gill   IND    738\n",
       "5           David Warner   AUS    726\n",
       "6            Virat Kohli   IND    719\n",
       "7           Rohit Sharma   IND    707\n",
       "8            Steve Smith   AUS    702\n",
       "9           Fakhar Zaman   PAK    699"
      ]
     },
     "execution_count": 143,
     "metadata": {},
     "output_type": "execute_result"
    }
   ],
   "source": [
    "dd.head(10)"
   ]
  },
  {
   "cell_type": "code",
   "execution_count": 144,
   "id": "8e3f01dc",
   "metadata": {},
   "outputs": [],
   "source": [
    "batsmen=dd.head(10)"
   ]
  },
  {
   "cell_type": "code",
   "execution_count": 145,
   "id": "23cb5989",
   "metadata": {},
   "outputs": [
    {
     "data": {
      "text/html": [
       "<div>\n",
       "<style scoped>\n",
       "    .dataframe tbody tr th:only-of-type {\n",
       "        vertical-align: middle;\n",
       "    }\n",
       "\n",
       "    .dataframe tbody tr th {\n",
       "        vertical-align: top;\n",
       "    }\n",
       "\n",
       "    .dataframe thead th {\n",
       "        text-align: right;\n",
       "    }\n",
       "</style>\n",
       "<table border=\"1\" class=\"dataframe\">\n",
       "  <thead>\n",
       "    <tr style=\"text-align: right;\">\n",
       "      <th></th>\n",
       "      <th>Player</th>\n",
       "      <th>Teams</th>\n",
       "      <th>Rating</th>\n",
       "    </tr>\n",
       "  </thead>\n",
       "  <tbody>\n",
       "    <tr>\n",
       "      <th>0</th>\n",
       "      <td>Babar Azam</td>\n",
       "      <td>PAK</td>\n",
       "      <td>887</td>\n",
       "    </tr>\n",
       "    <tr>\n",
       "      <th>1</th>\n",
       "      <td>Rassie van der Dussen</td>\n",
       "      <td>SA</td>\n",
       "      <td>777</td>\n",
       "    </tr>\n",
       "    <tr>\n",
       "      <th>2</th>\n",
       "      <td>Imam-ul-Haq</td>\n",
       "      <td>PAK</td>\n",
       "      <td>740</td>\n",
       "    </tr>\n",
       "    <tr>\n",
       "      <th>3</th>\n",
       "      <td>Quinton de Kock</td>\n",
       "      <td>SA</td>\n",
       "      <td>740</td>\n",
       "    </tr>\n",
       "    <tr>\n",
       "      <th>4</th>\n",
       "      <td>Shubman Gill</td>\n",
       "      <td>IND</td>\n",
       "      <td>738</td>\n",
       "    </tr>\n",
       "    <tr>\n",
       "      <th>5</th>\n",
       "      <td>David Warner</td>\n",
       "      <td>AUS</td>\n",
       "      <td>726</td>\n",
       "    </tr>\n",
       "    <tr>\n",
       "      <th>6</th>\n",
       "      <td>Virat Kohli</td>\n",
       "      <td>IND</td>\n",
       "      <td>719</td>\n",
       "    </tr>\n",
       "    <tr>\n",
       "      <th>7</th>\n",
       "      <td>Rohit Sharma</td>\n",
       "      <td>IND</td>\n",
       "      <td>707</td>\n",
       "    </tr>\n",
       "    <tr>\n",
       "      <th>8</th>\n",
       "      <td>Steve Smith</td>\n",
       "      <td>AUS</td>\n",
       "      <td>702</td>\n",
       "    </tr>\n",
       "    <tr>\n",
       "      <th>9</th>\n",
       "      <td>Fakhar Zaman</td>\n",
       "      <td>PAK</td>\n",
       "      <td>699</td>\n",
       "    </tr>\n",
       "  </tbody>\n",
       "</table>\n",
       "</div>"
      ],
      "text/plain": [
       "                  Player Teams Rating\n",
       "0             Babar Azam   PAK    887\n",
       "1  Rassie van der Dussen    SA    777\n",
       "2            Imam-ul-Haq   PAK    740\n",
       "3        Quinton de Kock    SA    740\n",
       "4           Shubman Gill   IND    738\n",
       "5           David Warner   AUS    726\n",
       "6            Virat Kohli   IND    719\n",
       "7           Rohit Sharma   IND    707\n",
       "8            Steve Smith   AUS    702\n",
       "9           Fakhar Zaman   PAK    699"
      ]
     },
     "execution_count": 145,
     "metadata": {},
     "output_type": "execute_result"
    }
   ],
   "source": [
    "batsmen"
   ]
  },
  {
   "cell_type": "markdown",
   "id": "0b5c6212",
   "metadata": {},
   "source": [
    "# Answer 5 (C)"
   ]
  },
  {
   "cell_type": "code",
   "execution_count": 146,
   "id": "5e0b041e",
   "metadata": {},
   "outputs": [],
   "source": [
    "b=requests.get('https://www.icc-cricket.com/rankings/mens/player-rankings/odi/bowling')"
   ]
  },
  {
   "cell_type": "code",
   "execution_count": 147,
   "id": "6d156ae4",
   "metadata": {},
   "outputs": [
    {
     "data": {
      "text/plain": [
       "<Response [200]>"
      ]
     },
     "execution_count": 147,
     "metadata": {},
     "output_type": "execute_result"
    }
   ],
   "source": [
    "b"
   ]
  },
  {
   "cell_type": "code",
   "execution_count": 148,
   "id": "e76034de",
   "metadata": {},
   "outputs": [],
   "source": [
    "soup=BeautifulSoup(b.content)"
   ]
  },
  {
   "cell_type": "code",
   "execution_count": 149,
   "id": "1878de63",
   "metadata": {},
   "outputs": [],
   "source": [
    "bowler=soup.find('div',class_=\"rankings-block__banner--name-large\")"
   ]
  },
  {
   "cell_type": "code",
   "execution_count": 150,
   "id": "9b6c38b6",
   "metadata": {},
   "outputs": [
    {
     "data": {
      "text/plain": [
       "'Josh Hazlewood'"
      ]
     },
     "execution_count": 150,
     "metadata": {},
     "output_type": "execute_result"
    }
   ],
   "source": [
    "bowler.text"
   ]
  },
  {
   "cell_type": "code",
   "execution_count": 151,
   "id": "1b433ebd",
   "metadata": {},
   "outputs": [],
   "source": [
    "bb=bowler.text"
   ]
  },
  {
   "cell_type": "code",
   "execution_count": 152,
   "id": "f77c0662",
   "metadata": {},
   "outputs": [],
   "source": [
    "bowler=soup.find('td',class_=\"table-body__cell rankings-table__name name\")"
   ]
  },
  {
   "cell_type": "code",
   "execution_count": 153,
   "id": "ea291b2c",
   "metadata": {},
   "outputs": [
    {
     "data": {
      "text/plain": [
       "'\\nTrent Boult\\n'"
      ]
     },
     "execution_count": 153,
     "metadata": {},
     "output_type": "execute_result"
    }
   ],
   "source": [
    "bowler.text"
   ]
  },
  {
   "cell_type": "code",
   "execution_count": 154,
   "id": "652636ba",
   "metadata": {},
   "outputs": [
    {
     "data": {
      "text/plain": [
       "'Trent Boult'"
      ]
     },
     "execution_count": 154,
     "metadata": {},
     "output_type": "execute_result"
    }
   ],
   "source": [
    "bowler.text.split('\\n')[1]"
   ]
  },
  {
   "cell_type": "code",
   "execution_count": 155,
   "id": "1c6e0a11",
   "metadata": {},
   "outputs": [],
   "source": [
    "bowlers=[]\n",
    "\n",
    "for b in soup.find_all('td',class_=\"table-body__cell rankings-table__name name\"):\n",
    "    bowlers.append(b.text.split('\\n')[1])"
   ]
  },
  {
   "cell_type": "code",
   "execution_count": 156,
   "id": "ad08b044",
   "metadata": {},
   "outputs": [
    {
     "data": {
      "text/plain": [
       "['Trent Boult',\n",
       " 'Mohammed Siraj',\n",
       " 'Mitchell Starc',\n",
       " 'Rashid Khan',\n",
       " 'Adam Zampa',\n",
       " 'Shaheen Afridi',\n",
       " 'Mujeeb Ur Rahman',\n",
       " 'Shakib Al Hasan',\n",
       " 'Matt Henry',\n",
       " 'Mohammad Nabi',\n",
       " 'Alzarri Joseph',\n",
       " 'Chris Woakes',\n",
       " 'Mark Watt',\n",
       " 'Kagiso Rabada',\n",
       " 'Akeal Hosein',\n",
       " 'Pat Cummins',\n",
       " 'Mehedi Hasan',\n",
       " 'Jofra Archer',\n",
       " 'Mustafizur Rahman',\n",
       " 'Andy McBrine',\n",
       " 'Sandeep Lamichhane',\n",
       " 'Kuldeep Yadav',\n",
       " 'Lungi Ngidi',\n",
       " 'Bernard Scholtz',\n",
       " 'Jasprit Bumrah',\n",
       " 'Saurabh Netravalkar',\n",
       " 'Wanindu Hasaranga',\n",
       " 'Mohammad Nawaz',\n",
       " 'Adil Rashid',\n",
       " 'Mitchell Santner',\n",
       " 'Mohammad Shami',\n",
       " 'Bilal Khan',\n",
       " 'Keshav Maharaj',\n",
       " 'Mark Wood',\n",
       " 'Shadab Khan',\n",
       " 'Tim Southee',\n",
       " 'Joshua Little',\n",
       " 'David Willey',\n",
       " 'Taskin Ahmed',\n",
       " 'Rohan Mustafa',\n",
       " 'Shardul Thakur',\n",
       " 'Lachlan Ferguson',\n",
       " 'Yuzvendra Chahal',\n",
       " 'Dushmantha Chameera',\n",
       " 'Tabraiz Shamsi',\n",
       " 'Taijul Islam',\n",
       " 'Fred Klaassen',\n",
       " 'Ruben Trumpelmann',\n",
       " 'Safyaan Sharif',\n",
       " 'Zeeshan Maqsood',\n",
       " 'Dhananjaya de Silva',\n",
       " 'Dipendra Airee',\n",
       " 'Chad Soper',\n",
       " 'Blessing Muzarabani',\n",
       " 'Anrich Nortje',\n",
       " 'Simi Singh',\n",
       " 'Kaleemullah',\n",
       " 'Mark Adair',\n",
       " 'Nosthush Kenjige',\n",
       " 'Sam Curran',\n",
       " 'Zahoor Khan',\n",
       " 'Haris Rauf',\n",
       " 'Sean Abbott',\n",
       " 'Richard Ngarava',\n",
       " 'Assad Vala',\n",
       " 'Bhuvneshwar Kumar',\n",
       " 'Jason Holder',\n",
       " 'Sompal Kami',\n",
       " 'Moeen Ali',\n",
       " 'Tangeni Lungameni',\n",
       " 'Ashton Agar',\n",
       " 'Hasan Ali',\n",
       " 'Craig Young',\n",
       " 'Maheesh Theekshana',\n",
       " 'Hardik Pandya',\n",
       " 'Ish Sodhi',\n",
       " 'Ravindra Jadeja',\n",
       " 'Michael Leask',\n",
       " 'Sikandar Raza',\n",
       " 'Jhye Richardson',\n",
       " 'Reece Topley',\n",
       " 'Wayne Parnell',\n",
       " 'Andile Phehlukwayo',\n",
       " 'Hamza Tahir',\n",
       " 'Steven Taylor',\n",
       " 'Nuwan Pradeep',\n",
       " 'Christopher Sole',\n",
       " 'Tendai Chatara',\n",
       " 'Fazalhaq Farooqi',\n",
       " 'Khawar Ali',\n",
       " 'M. Prasidh Krishna',\n",
       " 'Junaid Siddique',\n",
       " 'Gulbadin Naib',\n",
       " 'J.J. Smit',\n",
       " 'Karan KC',\n",
       " 'Jeffrey Vandersay',\n",
       " 'Chamika Karunaratne',\n",
       " 'Marcus Stoinis',\n",
       " 'Logan van Beek']"
      ]
     },
     "execution_count": 156,
     "metadata": {},
     "output_type": "execute_result"
    }
   ],
   "source": [
    "bowlers"
   ]
  },
  {
   "cell_type": "code",
   "execution_count": 157,
   "id": "84c378e8",
   "metadata": {},
   "outputs": [],
   "source": [
    "bowlerss=[bb]+bowlers"
   ]
  },
  {
   "cell_type": "code",
   "execution_count": 158,
   "id": "a08c21df",
   "metadata": {},
   "outputs": [
    {
     "data": {
      "text/plain": [
       "['Josh Hazlewood',\n",
       " 'Trent Boult',\n",
       " 'Mohammed Siraj',\n",
       " 'Mitchell Starc',\n",
       " 'Rashid Khan',\n",
       " 'Adam Zampa',\n",
       " 'Shaheen Afridi',\n",
       " 'Mujeeb Ur Rahman',\n",
       " 'Shakib Al Hasan',\n",
       " 'Matt Henry',\n",
       " 'Mohammad Nabi',\n",
       " 'Alzarri Joseph',\n",
       " 'Chris Woakes',\n",
       " 'Mark Watt',\n",
       " 'Kagiso Rabada',\n",
       " 'Akeal Hosein',\n",
       " 'Pat Cummins',\n",
       " 'Mehedi Hasan',\n",
       " 'Jofra Archer',\n",
       " 'Mustafizur Rahman',\n",
       " 'Andy McBrine',\n",
       " 'Sandeep Lamichhane',\n",
       " 'Kuldeep Yadav',\n",
       " 'Lungi Ngidi',\n",
       " 'Bernard Scholtz',\n",
       " 'Jasprit Bumrah',\n",
       " 'Saurabh Netravalkar',\n",
       " 'Wanindu Hasaranga',\n",
       " 'Mohammad Nawaz',\n",
       " 'Adil Rashid',\n",
       " 'Mitchell Santner',\n",
       " 'Mohammad Shami',\n",
       " 'Bilal Khan',\n",
       " 'Keshav Maharaj',\n",
       " 'Mark Wood',\n",
       " 'Shadab Khan',\n",
       " 'Tim Southee',\n",
       " 'Joshua Little',\n",
       " 'David Willey',\n",
       " 'Taskin Ahmed',\n",
       " 'Rohan Mustafa',\n",
       " 'Shardul Thakur',\n",
       " 'Lachlan Ferguson',\n",
       " 'Yuzvendra Chahal',\n",
       " 'Dushmantha Chameera',\n",
       " 'Tabraiz Shamsi',\n",
       " 'Taijul Islam',\n",
       " 'Fred Klaassen',\n",
       " 'Ruben Trumpelmann',\n",
       " 'Safyaan Sharif',\n",
       " 'Zeeshan Maqsood',\n",
       " 'Dhananjaya de Silva',\n",
       " 'Dipendra Airee',\n",
       " 'Chad Soper',\n",
       " 'Blessing Muzarabani',\n",
       " 'Anrich Nortje',\n",
       " 'Simi Singh',\n",
       " 'Kaleemullah',\n",
       " 'Mark Adair',\n",
       " 'Nosthush Kenjige',\n",
       " 'Sam Curran',\n",
       " 'Zahoor Khan',\n",
       " 'Haris Rauf',\n",
       " 'Sean Abbott',\n",
       " 'Richard Ngarava',\n",
       " 'Assad Vala',\n",
       " 'Bhuvneshwar Kumar',\n",
       " 'Jason Holder',\n",
       " 'Sompal Kami',\n",
       " 'Moeen Ali',\n",
       " 'Tangeni Lungameni',\n",
       " 'Ashton Agar',\n",
       " 'Hasan Ali',\n",
       " 'Craig Young',\n",
       " 'Maheesh Theekshana',\n",
       " 'Hardik Pandya',\n",
       " 'Ish Sodhi',\n",
       " 'Ravindra Jadeja',\n",
       " 'Michael Leask',\n",
       " 'Sikandar Raza',\n",
       " 'Jhye Richardson',\n",
       " 'Reece Topley',\n",
       " 'Wayne Parnell',\n",
       " 'Andile Phehlukwayo',\n",
       " 'Hamza Tahir',\n",
       " 'Steven Taylor',\n",
       " 'Nuwan Pradeep',\n",
       " 'Christopher Sole',\n",
       " 'Tendai Chatara',\n",
       " 'Fazalhaq Farooqi',\n",
       " 'Khawar Ali',\n",
       " 'M. Prasidh Krishna',\n",
       " 'Junaid Siddique',\n",
       " 'Gulbadin Naib',\n",
       " 'J.J. Smit',\n",
       " 'Karan KC',\n",
       " 'Jeffrey Vandersay',\n",
       " 'Chamika Karunaratne',\n",
       " 'Marcus Stoinis',\n",
       " 'Logan van Beek']"
      ]
     },
     "execution_count": 158,
     "metadata": {},
     "output_type": "execute_result"
    }
   ],
   "source": [
    "bowlerss"
   ]
  },
  {
   "cell_type": "code",
   "execution_count": 159,
   "id": "6a1d0cf0",
   "metadata": {},
   "outputs": [],
   "source": [
    "t=soup.find('div',class_=\"rankings-block__banner--nationality\")"
   ]
  },
  {
   "cell_type": "code",
   "execution_count": 160,
   "id": "e17f0f1c",
   "metadata": {},
   "outputs": [
    {
     "data": {
      "text/plain": [
       "'AUS'"
      ]
     },
     "execution_count": 160,
     "metadata": {},
     "output_type": "execute_result"
    }
   ],
   "source": [
    "t.text.split('\\n')[2]"
   ]
  },
  {
   "cell_type": "code",
   "execution_count": 161,
   "id": "1c299ba6",
   "metadata": {},
   "outputs": [],
   "source": [
    "tt=t.text.split('\\n')[2]"
   ]
  },
  {
   "cell_type": "code",
   "execution_count": 162,
   "id": "cb9fb559",
   "metadata": {},
   "outputs": [
    {
     "data": {
      "text/plain": [
       "'AUS'"
      ]
     },
     "execution_count": 162,
     "metadata": {},
     "output_type": "execute_result"
    }
   ],
   "source": [
    "tt"
   ]
  },
  {
   "cell_type": "code",
   "execution_count": 163,
   "id": "6a5de176",
   "metadata": {},
   "outputs": [],
   "source": [
    "team=soup.find('span',class_=\"table-body__logo-text\")"
   ]
  },
  {
   "cell_type": "code",
   "execution_count": 164,
   "id": "60a64683",
   "metadata": {},
   "outputs": [
    {
     "data": {
      "text/plain": [
       "'NZ'"
      ]
     },
     "execution_count": 164,
     "metadata": {},
     "output_type": "execute_result"
    }
   ],
   "source": [
    "team.text"
   ]
  },
  {
   "cell_type": "code",
   "execution_count": 165,
   "id": "1e97bd89",
   "metadata": {},
   "outputs": [],
   "source": [
    "teams=[]\n",
    "\n",
    "for t in soup.find_all('span',class_=\"table-body__logo-text\"):\n",
    "    teams.append(t.text)"
   ]
  },
  {
   "cell_type": "code",
   "execution_count": 166,
   "id": "338b1c8a",
   "metadata": {},
   "outputs": [
    {
     "data": {
      "text/plain": [
       "['NZ',\n",
       " 'IND',\n",
       " 'AUS',\n",
       " 'AFG',\n",
       " 'AUS',\n",
       " 'PAK',\n",
       " 'AFG',\n",
       " 'BAN',\n",
       " 'NZ',\n",
       " 'AFG',\n",
       " 'WI',\n",
       " 'ENG',\n",
       " 'SCO',\n",
       " 'SA',\n",
       " 'WI',\n",
       " 'AUS',\n",
       " 'BAN',\n",
       " 'ENG',\n",
       " 'BAN',\n",
       " 'IRE',\n",
       " 'NEP',\n",
       " 'IND',\n",
       " 'SA',\n",
       " 'NAM',\n",
       " 'IND',\n",
       " 'USA',\n",
       " 'SL',\n",
       " 'PAK',\n",
       " 'ENG',\n",
       " 'NZ',\n",
       " 'IND',\n",
       " 'OMA',\n",
       " 'SA',\n",
       " 'ENG',\n",
       " 'PAK',\n",
       " 'NZ',\n",
       " 'IRE',\n",
       " 'ENG',\n",
       " 'BAN',\n",
       " 'UAE',\n",
       " 'IND',\n",
       " 'NZ',\n",
       " 'IND',\n",
       " 'SL',\n",
       " 'SA',\n",
       " 'BAN',\n",
       " 'NED',\n",
       " 'NAM',\n",
       " 'SCO',\n",
       " 'OMA',\n",
       " 'SL',\n",
       " 'NEP',\n",
       " 'PNG',\n",
       " 'ZIM',\n",
       " 'SA',\n",
       " 'IRE',\n",
       " 'OMA',\n",
       " 'IRE',\n",
       " 'USA',\n",
       " 'ENG',\n",
       " 'UAE',\n",
       " 'PAK',\n",
       " 'AUS',\n",
       " 'ZIM',\n",
       " 'PNG',\n",
       " 'IND',\n",
       " 'WI',\n",
       " 'NEP',\n",
       " 'ENG',\n",
       " 'NAM',\n",
       " 'AUS',\n",
       " 'PAK',\n",
       " 'IRE',\n",
       " 'SL',\n",
       " 'IND',\n",
       " 'NZ',\n",
       " 'IND',\n",
       " 'SCO',\n",
       " 'ZIM',\n",
       " 'AUS',\n",
       " 'ENG',\n",
       " 'SA',\n",
       " 'SA',\n",
       " 'SCO',\n",
       " 'USA',\n",
       " 'SL',\n",
       " 'SCO',\n",
       " 'ZIM',\n",
       " 'AFG',\n",
       " 'OMA',\n",
       " 'IND',\n",
       " 'UAE',\n",
       " 'AFG',\n",
       " 'NAM',\n",
       " 'NEP',\n",
       " 'SL',\n",
       " 'SL',\n",
       " 'AUS',\n",
       " 'NED']"
      ]
     },
     "execution_count": 166,
     "metadata": {},
     "output_type": "execute_result"
    }
   ],
   "source": [
    "teams"
   ]
  },
  {
   "cell_type": "code",
   "execution_count": 167,
   "id": "baf7d5f3",
   "metadata": {},
   "outputs": [],
   "source": [
    "teams=[tt]+teams"
   ]
  },
  {
   "cell_type": "code",
   "execution_count": 168,
   "id": "bb6211bb",
   "metadata": {},
   "outputs": [
    {
     "data": {
      "text/plain": [
       "['AUS',\n",
       " 'NZ',\n",
       " 'IND',\n",
       " 'AUS',\n",
       " 'AFG',\n",
       " 'AUS',\n",
       " 'PAK',\n",
       " 'AFG',\n",
       " 'BAN',\n",
       " 'NZ',\n",
       " 'AFG',\n",
       " 'WI',\n",
       " 'ENG',\n",
       " 'SCO',\n",
       " 'SA',\n",
       " 'WI',\n",
       " 'AUS',\n",
       " 'BAN',\n",
       " 'ENG',\n",
       " 'BAN',\n",
       " 'IRE',\n",
       " 'NEP',\n",
       " 'IND',\n",
       " 'SA',\n",
       " 'NAM',\n",
       " 'IND',\n",
       " 'USA',\n",
       " 'SL',\n",
       " 'PAK',\n",
       " 'ENG',\n",
       " 'NZ',\n",
       " 'IND',\n",
       " 'OMA',\n",
       " 'SA',\n",
       " 'ENG',\n",
       " 'PAK',\n",
       " 'NZ',\n",
       " 'IRE',\n",
       " 'ENG',\n",
       " 'BAN',\n",
       " 'UAE',\n",
       " 'IND',\n",
       " 'NZ',\n",
       " 'IND',\n",
       " 'SL',\n",
       " 'SA',\n",
       " 'BAN',\n",
       " 'NED',\n",
       " 'NAM',\n",
       " 'SCO',\n",
       " 'OMA',\n",
       " 'SL',\n",
       " 'NEP',\n",
       " 'PNG',\n",
       " 'ZIM',\n",
       " 'SA',\n",
       " 'IRE',\n",
       " 'OMA',\n",
       " 'IRE',\n",
       " 'USA',\n",
       " 'ENG',\n",
       " 'UAE',\n",
       " 'PAK',\n",
       " 'AUS',\n",
       " 'ZIM',\n",
       " 'PNG',\n",
       " 'IND',\n",
       " 'WI',\n",
       " 'NEP',\n",
       " 'ENG',\n",
       " 'NAM',\n",
       " 'AUS',\n",
       " 'PAK',\n",
       " 'IRE',\n",
       " 'SL',\n",
       " 'IND',\n",
       " 'NZ',\n",
       " 'IND',\n",
       " 'SCO',\n",
       " 'ZIM',\n",
       " 'AUS',\n",
       " 'ENG',\n",
       " 'SA',\n",
       " 'SA',\n",
       " 'SCO',\n",
       " 'USA',\n",
       " 'SL',\n",
       " 'SCO',\n",
       " 'ZIM',\n",
       " 'AFG',\n",
       " 'OMA',\n",
       " 'IND',\n",
       " 'UAE',\n",
       " 'AFG',\n",
       " 'NAM',\n",
       " 'NEP',\n",
       " 'SL',\n",
       " 'SL',\n",
       " 'AUS',\n",
       " 'NED']"
      ]
     },
     "execution_count": 168,
     "metadata": {},
     "output_type": "execute_result"
    }
   ],
   "source": [
    "teams"
   ]
  },
  {
   "cell_type": "code",
   "execution_count": 169,
   "id": "4c4912f4",
   "metadata": {},
   "outputs": [],
   "source": [
    "r=soup.find('div',class_=\"rankings-block__banner--rating\")"
   ]
  },
  {
   "cell_type": "code",
   "execution_count": 170,
   "id": "fff03593",
   "metadata": {},
   "outputs": [
    {
     "data": {
      "text/plain": [
       "'705'"
      ]
     },
     "execution_count": 170,
     "metadata": {},
     "output_type": "execute_result"
    }
   ],
   "source": [
    "r.text"
   ]
  },
  {
   "cell_type": "code",
   "execution_count": 171,
   "id": "b171af83",
   "metadata": {},
   "outputs": [],
   "source": [
    "rr=r.text"
   ]
  },
  {
   "cell_type": "code",
   "execution_count": 172,
   "id": "543429b4",
   "metadata": {},
   "outputs": [],
   "source": [
    "rating=soup.find('td',class_=\"table-body__cell rating\")"
   ]
  },
  {
   "cell_type": "code",
   "execution_count": 173,
   "id": "6f625b30",
   "metadata": {},
   "outputs": [
    {
     "data": {
      "text/plain": [
       "'701'"
      ]
     },
     "execution_count": 173,
     "metadata": {},
     "output_type": "execute_result"
    }
   ],
   "source": [
    "rating.text"
   ]
  },
  {
   "cell_type": "code",
   "execution_count": 174,
   "id": "8777728c",
   "metadata": {},
   "outputs": [],
   "source": [
    "ratings=[]\n",
    "\n",
    "for r in soup.find_all('td',class_=\"table-body__cell rating\"):\n",
    "    ratings.append(r.text)"
   ]
  },
  {
   "cell_type": "code",
   "execution_count": 175,
   "id": "20f216de",
   "metadata": {},
   "outputs": [
    {
     "data": {
      "text/plain": [
       "['701',\n",
       " '691',\n",
       " '686',\n",
       " '659',\n",
       " '652',\n",
       " '641',\n",
       " '637',\n",
       " '636',\n",
       " '635',\n",
       " '631',\n",
       " '625',\n",
       " '612',\n",
       " '611',\n",
       " '610',\n",
       " '597',\n",
       " '597',\n",
       " '597',\n",
       " '596',\n",
       " '594',\n",
       " '593',\n",
       " '588',\n",
       " '576',\n",
       " '563',\n",
       " '558',\n",
       " '552',\n",
       " '551',\n",
       " '550',\n",
       " '549',\n",
       " '547',\n",
       " '546',\n",
       " '540',\n",
       " '532',\n",
       " '532',\n",
       " '523',\n",
       " '520',\n",
       " '517',\n",
       " '516',\n",
       " '514',\n",
       " '514',\n",
       " '508',\n",
       " '505',\n",
       " '505',\n",
       " '503',\n",
       " '501',\n",
       " '497',\n",
       " '487',\n",
       " '484',\n",
       " '483',\n",
       " '479',\n",
       " '478',\n",
       " '469',\n",
       " '468',\n",
       " '467',\n",
       " '467',\n",
       " '465',\n",
       " '464',\n",
       " '462',\n",
       " '458',\n",
       " '457',\n",
       " '454',\n",
       " '452',\n",
       " '449',\n",
       " '448',\n",
       " '447',\n",
       " '446',\n",
       " '446',\n",
       " '446',\n",
       " '445',\n",
       " '441',\n",
       " '439',\n",
       " '438',\n",
       " '436',\n",
       " '435',\n",
       " '430',\n",
       " '428',\n",
       " '428',\n",
       " '427',\n",
       " '426',\n",
       " '426',\n",
       " '421',\n",
       " '418',\n",
       " '418',\n",
       " '417',\n",
       " '413',\n",
       " '404',\n",
       " '403',\n",
       " '402',\n",
       " '401',\n",
       " '400',\n",
       " '398',\n",
       " '395',\n",
       " '391',\n",
       " '391',\n",
       " '390',\n",
       " '390',\n",
       " '386',\n",
       " '384',\n",
       " '382',\n",
       " '382']"
      ]
     },
     "execution_count": 175,
     "metadata": {},
     "output_type": "execute_result"
    }
   ],
   "source": [
    "ratings"
   ]
  },
  {
   "cell_type": "code",
   "execution_count": 176,
   "id": "2a0dac5a",
   "metadata": {},
   "outputs": [],
   "source": [
    "ratings=[rr]+ratings"
   ]
  },
  {
   "cell_type": "code",
   "execution_count": 177,
   "id": "e1ac3ca7",
   "metadata": {},
   "outputs": [
    {
     "data": {
      "text/plain": [
       "['705',\n",
       " '701',\n",
       " '691',\n",
       " '686',\n",
       " '659',\n",
       " '652',\n",
       " '641',\n",
       " '637',\n",
       " '636',\n",
       " '635',\n",
       " '631',\n",
       " '625',\n",
       " '612',\n",
       " '611',\n",
       " '610',\n",
       " '597',\n",
       " '597',\n",
       " '597',\n",
       " '596',\n",
       " '594',\n",
       " '593',\n",
       " '588',\n",
       " '576',\n",
       " '563',\n",
       " '558',\n",
       " '552',\n",
       " '551',\n",
       " '550',\n",
       " '549',\n",
       " '547',\n",
       " '546',\n",
       " '540',\n",
       " '532',\n",
       " '532',\n",
       " '523',\n",
       " '520',\n",
       " '517',\n",
       " '516',\n",
       " '514',\n",
       " '514',\n",
       " '508',\n",
       " '505',\n",
       " '505',\n",
       " '503',\n",
       " '501',\n",
       " '497',\n",
       " '487',\n",
       " '484',\n",
       " '483',\n",
       " '479',\n",
       " '478',\n",
       " '469',\n",
       " '468',\n",
       " '467',\n",
       " '467',\n",
       " '465',\n",
       " '464',\n",
       " '462',\n",
       " '458',\n",
       " '457',\n",
       " '454',\n",
       " '452',\n",
       " '449',\n",
       " '448',\n",
       " '447',\n",
       " '446',\n",
       " '446',\n",
       " '446',\n",
       " '445',\n",
       " '441',\n",
       " '439',\n",
       " '438',\n",
       " '436',\n",
       " '435',\n",
       " '430',\n",
       " '428',\n",
       " '428',\n",
       " '427',\n",
       " '426',\n",
       " '426',\n",
       " '421',\n",
       " '418',\n",
       " '418',\n",
       " '417',\n",
       " '413',\n",
       " '404',\n",
       " '403',\n",
       " '402',\n",
       " '401',\n",
       " '400',\n",
       " '398',\n",
       " '395',\n",
       " '391',\n",
       " '391',\n",
       " '390',\n",
       " '390',\n",
       " '386',\n",
       " '384',\n",
       " '382',\n",
       " '382']"
      ]
     },
     "execution_count": 177,
     "metadata": {},
     "output_type": "execute_result"
    }
   ],
   "source": [
    "ratings"
   ]
  },
  {
   "cell_type": "code",
   "execution_count": 178,
   "id": "8ce28987",
   "metadata": {},
   "outputs": [],
   "source": [
    "bowlers=pd.DataFrame({'Bowler':bowlerss,'Team':teams,'Rating':ratings})"
   ]
  },
  {
   "cell_type": "code",
   "execution_count": 179,
   "id": "e821ac70",
   "metadata": {},
   "outputs": [
    {
     "data": {
      "text/html": [
       "<div>\n",
       "<style scoped>\n",
       "    .dataframe tbody tr th:only-of-type {\n",
       "        vertical-align: middle;\n",
       "    }\n",
       "\n",
       "    .dataframe tbody tr th {\n",
       "        vertical-align: top;\n",
       "    }\n",
       "\n",
       "    .dataframe thead th {\n",
       "        text-align: right;\n",
       "    }\n",
       "</style>\n",
       "<table border=\"1\" class=\"dataframe\">\n",
       "  <thead>\n",
       "    <tr style=\"text-align: right;\">\n",
       "      <th></th>\n",
       "      <th>Bowler</th>\n",
       "      <th>Team</th>\n",
       "      <th>Rating</th>\n",
       "    </tr>\n",
       "  </thead>\n",
       "  <tbody>\n",
       "    <tr>\n",
       "      <th>0</th>\n",
       "      <td>Josh Hazlewood</td>\n",
       "      <td>AUS</td>\n",
       "      <td>705</td>\n",
       "    </tr>\n",
       "    <tr>\n",
       "      <th>1</th>\n",
       "      <td>Trent Boult</td>\n",
       "      <td>NZ</td>\n",
       "      <td>701</td>\n",
       "    </tr>\n",
       "    <tr>\n",
       "      <th>2</th>\n",
       "      <td>Mohammed Siraj</td>\n",
       "      <td>IND</td>\n",
       "      <td>691</td>\n",
       "    </tr>\n",
       "    <tr>\n",
       "      <th>3</th>\n",
       "      <td>Mitchell Starc</td>\n",
       "      <td>AUS</td>\n",
       "      <td>686</td>\n",
       "    </tr>\n",
       "    <tr>\n",
       "      <th>4</th>\n",
       "      <td>Rashid Khan</td>\n",
       "      <td>AFG</td>\n",
       "      <td>659</td>\n",
       "    </tr>\n",
       "    <tr>\n",
       "      <th>...</th>\n",
       "      <td>...</td>\n",
       "      <td>...</td>\n",
       "      <td>...</td>\n",
       "    </tr>\n",
       "    <tr>\n",
       "      <th>95</th>\n",
       "      <td>Karan KC</td>\n",
       "      <td>NEP</td>\n",
       "      <td>390</td>\n",
       "    </tr>\n",
       "    <tr>\n",
       "      <th>96</th>\n",
       "      <td>Jeffrey Vandersay</td>\n",
       "      <td>SL</td>\n",
       "      <td>386</td>\n",
       "    </tr>\n",
       "    <tr>\n",
       "      <th>97</th>\n",
       "      <td>Chamika Karunaratne</td>\n",
       "      <td>SL</td>\n",
       "      <td>384</td>\n",
       "    </tr>\n",
       "    <tr>\n",
       "      <th>98</th>\n",
       "      <td>Marcus Stoinis</td>\n",
       "      <td>AUS</td>\n",
       "      <td>382</td>\n",
       "    </tr>\n",
       "    <tr>\n",
       "      <th>99</th>\n",
       "      <td>Logan van Beek</td>\n",
       "      <td>NED</td>\n",
       "      <td>382</td>\n",
       "    </tr>\n",
       "  </tbody>\n",
       "</table>\n",
       "<p>100 rows × 3 columns</p>\n",
       "</div>"
      ],
      "text/plain": [
       "                 Bowler Team Rating\n",
       "0        Josh Hazlewood  AUS    705\n",
       "1           Trent Boult   NZ    701\n",
       "2        Mohammed Siraj  IND    691\n",
       "3        Mitchell Starc  AUS    686\n",
       "4           Rashid Khan  AFG    659\n",
       "..                  ...  ...    ...\n",
       "95             Karan KC  NEP    390\n",
       "96    Jeffrey Vandersay   SL    386\n",
       "97  Chamika Karunaratne   SL    384\n",
       "98       Marcus Stoinis  AUS    382\n",
       "99       Logan van Beek  NED    382\n",
       "\n",
       "[100 rows x 3 columns]"
      ]
     },
     "execution_count": 179,
     "metadata": {},
     "output_type": "execute_result"
    }
   ],
   "source": [
    "bowlers"
   ]
  },
  {
   "cell_type": "code",
   "execution_count": 180,
   "id": "9974932f",
   "metadata": {},
   "outputs": [],
   "source": [
    "bowlers_ratings=bowlers.head(10)"
   ]
  },
  {
   "cell_type": "code",
   "execution_count": 181,
   "id": "ce17493e",
   "metadata": {},
   "outputs": [
    {
     "data": {
      "text/html": [
       "<div>\n",
       "<style scoped>\n",
       "    .dataframe tbody tr th:only-of-type {\n",
       "        vertical-align: middle;\n",
       "    }\n",
       "\n",
       "    .dataframe tbody tr th {\n",
       "        vertical-align: top;\n",
       "    }\n",
       "\n",
       "    .dataframe thead th {\n",
       "        text-align: right;\n",
       "    }\n",
       "</style>\n",
       "<table border=\"1\" class=\"dataframe\">\n",
       "  <thead>\n",
       "    <tr style=\"text-align: right;\">\n",
       "      <th></th>\n",
       "      <th>Bowler</th>\n",
       "      <th>Team</th>\n",
       "      <th>Rating</th>\n",
       "    </tr>\n",
       "  </thead>\n",
       "  <tbody>\n",
       "    <tr>\n",
       "      <th>0</th>\n",
       "      <td>Josh Hazlewood</td>\n",
       "      <td>AUS</td>\n",
       "      <td>705</td>\n",
       "    </tr>\n",
       "    <tr>\n",
       "      <th>1</th>\n",
       "      <td>Trent Boult</td>\n",
       "      <td>NZ</td>\n",
       "      <td>701</td>\n",
       "    </tr>\n",
       "    <tr>\n",
       "      <th>2</th>\n",
       "      <td>Mohammed Siraj</td>\n",
       "      <td>IND</td>\n",
       "      <td>691</td>\n",
       "    </tr>\n",
       "    <tr>\n",
       "      <th>3</th>\n",
       "      <td>Mitchell Starc</td>\n",
       "      <td>AUS</td>\n",
       "      <td>686</td>\n",
       "    </tr>\n",
       "    <tr>\n",
       "      <th>4</th>\n",
       "      <td>Rashid Khan</td>\n",
       "      <td>AFG</td>\n",
       "      <td>659</td>\n",
       "    </tr>\n",
       "    <tr>\n",
       "      <th>5</th>\n",
       "      <td>Adam Zampa</td>\n",
       "      <td>AUS</td>\n",
       "      <td>652</td>\n",
       "    </tr>\n",
       "    <tr>\n",
       "      <th>6</th>\n",
       "      <td>Shaheen Afridi</td>\n",
       "      <td>PAK</td>\n",
       "      <td>641</td>\n",
       "    </tr>\n",
       "    <tr>\n",
       "      <th>7</th>\n",
       "      <td>Mujeeb Ur Rahman</td>\n",
       "      <td>AFG</td>\n",
       "      <td>637</td>\n",
       "    </tr>\n",
       "    <tr>\n",
       "      <th>8</th>\n",
       "      <td>Shakib Al Hasan</td>\n",
       "      <td>BAN</td>\n",
       "      <td>636</td>\n",
       "    </tr>\n",
       "    <tr>\n",
       "      <th>9</th>\n",
       "      <td>Matt Henry</td>\n",
       "      <td>NZ</td>\n",
       "      <td>635</td>\n",
       "    </tr>\n",
       "  </tbody>\n",
       "</table>\n",
       "</div>"
      ],
      "text/plain": [
       "             Bowler Team Rating\n",
       "0    Josh Hazlewood  AUS    705\n",
       "1       Trent Boult   NZ    701\n",
       "2    Mohammed Siraj  IND    691\n",
       "3    Mitchell Starc  AUS    686\n",
       "4       Rashid Khan  AFG    659\n",
       "5        Adam Zampa  AUS    652\n",
       "6    Shaheen Afridi  PAK    641\n",
       "7  Mujeeb Ur Rahman  AFG    637\n",
       "8   Shakib Al Hasan  BAN    636\n",
       "9        Matt Henry   NZ    635"
      ]
     },
     "execution_count": 181,
     "metadata": {},
     "output_type": "execute_result"
    }
   ],
   "source": [
    "bowlers_ratings"
   ]
  },
  {
   "cell_type": "markdown",
   "id": "213208e7",
   "metadata": {},
   "source": [
    "# Answer 6(A)"
   ]
  },
  {
   "cell_type": "code",
   "execution_count": 183,
   "id": "d43af1ca",
   "metadata": {},
   "outputs": [],
   "source": [
    "odi=requests.get('https://www.icc-cricket.com/rankings/womens/team-rankings/odi')"
   ]
  },
  {
   "cell_type": "code",
   "execution_count": 184,
   "id": "d7077ae2",
   "metadata": {},
   "outputs": [
    {
     "data": {
      "text/plain": [
       "<Response [200]>"
      ]
     },
     "execution_count": 184,
     "metadata": {},
     "output_type": "execute_result"
    }
   ],
   "source": [
    "odi"
   ]
  },
  {
   "cell_type": "code",
   "execution_count": 185,
   "id": "a6589a88",
   "metadata": {},
   "outputs": [],
   "source": [
    "soup=BeautifulSoup(odi.content)"
   ]
  },
  {
   "cell_type": "code",
   "execution_count": 186,
   "id": "844c9eb3",
   "metadata": {},
   "outputs": [],
   "source": [
    "t=soup.find('span',class_=\"u-hide-phablet\")"
   ]
  },
  {
   "cell_type": "code",
   "execution_count": 187,
   "id": "42e8958c",
   "metadata": {},
   "outputs": [
    {
     "data": {
      "text/plain": [
       "'Australia'"
      ]
     },
     "execution_count": 187,
     "metadata": {},
     "output_type": "execute_result"
    }
   ],
   "source": [
    "t.text"
   ]
  },
  {
   "cell_type": "code",
   "execution_count": 188,
   "id": "8d18834e",
   "metadata": {},
   "outputs": [],
   "source": [
    "team=[]\n",
    "for t in soup.find_all('span',class_=\"u-hide-phablet\"):\n",
    "    team.append(t.text)"
   ]
  },
  {
   "cell_type": "code",
   "execution_count": 189,
   "id": "c7724845",
   "metadata": {},
   "outputs": [
    {
     "data": {
      "text/plain": [
       "['Australia',\n",
       " 'England',\n",
       " 'South Africa',\n",
       " 'India',\n",
       " 'New Zealand',\n",
       " 'West Indies',\n",
       " 'Bangladesh',\n",
       " 'Thailand',\n",
       " 'Pakistan',\n",
       " 'Sri Lanka',\n",
       " 'Ireland',\n",
       " 'Netherlands',\n",
       " 'Zimbabwe']"
      ]
     },
     "execution_count": 189,
     "metadata": {},
     "output_type": "execute_result"
    }
   ],
   "source": [
    "team"
   ]
  },
  {
   "cell_type": "code",
   "execution_count": 190,
   "id": "0f3b9e28",
   "metadata": {},
   "outputs": [],
   "source": [
    "m=soup.find('td',class_=\"rankings-block__banner--matches\")"
   ]
  },
  {
   "cell_type": "code",
   "execution_count": 191,
   "id": "43185706",
   "metadata": {},
   "outputs": [
    {
     "data": {
      "text/plain": [
       "'21'"
      ]
     },
     "execution_count": 191,
     "metadata": {},
     "output_type": "execute_result"
    }
   ],
   "source": [
    "m.text"
   ]
  },
  {
   "cell_type": "code",
   "execution_count": 192,
   "id": "15fed710",
   "metadata": {},
   "outputs": [],
   "source": [
    "mm=m.text"
   ]
  },
  {
   "cell_type": "code",
   "execution_count": 193,
   "id": "bad3cccf",
   "metadata": {},
   "outputs": [
    {
     "data": {
      "text/plain": [
       "'21'"
      ]
     },
     "execution_count": 193,
     "metadata": {},
     "output_type": "execute_result"
    }
   ],
   "source": [
    "mm"
   ]
  },
  {
   "cell_type": "code",
   "execution_count": 194,
   "id": "7919cb0f",
   "metadata": {},
   "outputs": [],
   "source": [
    "match=soup.find('tr',class_=\"table-body\")"
   ]
  },
  {
   "cell_type": "code",
   "execution_count": 195,
   "id": "8e3bca25",
   "metadata": {},
   "outputs": [
    {
     "data": {
      "text/plain": [
       "'28'"
      ]
     },
     "execution_count": 195,
     "metadata": {},
     "output_type": "execute_result"
    }
   ],
   "source": [
    "match.text.split('\\n')[7]"
   ]
  },
  {
   "cell_type": "code",
   "execution_count": 196,
   "id": "b51fdb5f",
   "metadata": {},
   "outputs": [],
   "source": [
    "matches=[]\n",
    "\n",
    "for m in soup.find_all('tr',class_=\"table-body\"):\n",
    "    matches.append(m.text.split('\\n')[7])"
   ]
  },
  {
   "cell_type": "code",
   "execution_count": 197,
   "id": "176ccefa",
   "metadata": {},
   "outputs": [
    {
     "data": {
      "text/plain": [
       "['28', '26', '27', '25', '27', '13', '8', '27', '8', '14', '9', '8']"
      ]
     },
     "execution_count": 197,
     "metadata": {},
     "output_type": "execute_result"
    }
   ],
   "source": [
    "matches"
   ]
  },
  {
   "cell_type": "code",
   "execution_count": 198,
   "id": "999e526f",
   "metadata": {},
   "outputs": [],
   "source": [
    "matches=[mm]+matches"
   ]
  },
  {
   "cell_type": "code",
   "execution_count": 199,
   "id": "4860e11f",
   "metadata": {},
   "outputs": [
    {
     "data": {
      "text/plain": [
       "['21', '28', '26', '27', '25', '27', '13', '8', '27', '8', '14', '9', '8']"
      ]
     },
     "execution_count": 199,
     "metadata": {},
     "output_type": "execute_result"
    }
   ],
   "source": [
    "matches"
   ]
  },
  {
   "cell_type": "code",
   "execution_count": 200,
   "id": "7cb954dc",
   "metadata": {},
   "outputs": [],
   "source": [
    "pts=soup.find('td',class_=\"rankings-block__banner--points\")"
   ]
  },
  {
   "cell_type": "code",
   "execution_count": 201,
   "id": "c953e27f",
   "metadata": {},
   "outputs": [
    {
     "data": {
      "text/plain": [
       "'3,603'"
      ]
     },
     "execution_count": 201,
     "metadata": {},
     "output_type": "execute_result"
    }
   ],
   "source": [
    "pts.text"
   ]
  },
  {
   "cell_type": "code",
   "execution_count": 202,
   "id": "8ee0c969",
   "metadata": {},
   "outputs": [],
   "source": [
    "point=soup.find('tr',class_=\"table-body\")"
   ]
  },
  {
   "cell_type": "code",
   "execution_count": 203,
   "id": "f2b1fd31",
   "metadata": {},
   "outputs": [
    {
     "data": {
      "text/plain": [
       "'\\n2\\n\\n\\nEngland\\nENG\\n\\n28\\n3,342\\n119\\n'"
      ]
     },
     "execution_count": 203,
     "metadata": {},
     "output_type": "execute_result"
    }
   ],
   "source": [
    "point.text"
   ]
  },
  {
   "cell_type": "code",
   "execution_count": 204,
   "id": "301d67e5",
   "metadata": {},
   "outputs": [
    {
     "data": {
      "text/plain": [
       "'3,342'"
      ]
     },
     "execution_count": 204,
     "metadata": {},
     "output_type": "execute_result"
    }
   ],
   "source": [
    "point.text.split('\\n')[8]"
   ]
  },
  {
   "cell_type": "code",
   "execution_count": 205,
   "id": "5cc97783",
   "metadata": {},
   "outputs": [],
   "source": [
    "points=[]\n",
    "for p in soup.find_all('tr',class_=\"table-body\"):\n",
    "    points.append(p.text.split('\\n')[8])"
   ]
  },
  {
   "cell_type": "code",
   "execution_count": 206,
   "id": "021c8331",
   "metadata": {},
   "outputs": [
    {
     "data": {
      "text/plain": [
       "['3,342',\n",
       " '3,098',\n",
       " '2,820',\n",
       " '2,553',\n",
       " '2,535',\n",
       " '983',\n",
       " '572',\n",
       " '1,678',\n",
       " '353',\n",
       " '548',\n",
       " '0',\n",
       " '0']"
      ]
     },
     "execution_count": 206,
     "metadata": {},
     "output_type": "execute_result"
    }
   ],
   "source": [
    "points"
   ]
  },
  {
   "cell_type": "code",
   "execution_count": 207,
   "id": "df496aee",
   "metadata": {},
   "outputs": [],
   "source": [
    "points=[pts.text]+points"
   ]
  },
  {
   "cell_type": "code",
   "execution_count": 208,
   "id": "b5e68cdb",
   "metadata": {},
   "outputs": [
    {
     "data": {
      "text/plain": [
       "['3,603',\n",
       " '3,342',\n",
       " '3,098',\n",
       " '2,820',\n",
       " '2,553',\n",
       " '2,535',\n",
       " '983',\n",
       " '572',\n",
       " '1,678',\n",
       " '353',\n",
       " '548',\n",
       " '0',\n",
       " '0']"
      ]
     },
     "execution_count": 208,
     "metadata": {},
     "output_type": "execute_result"
    }
   ],
   "source": [
    "points"
   ]
  },
  {
   "cell_type": "code",
   "execution_count": 209,
   "id": "0a0e1995",
   "metadata": {},
   "outputs": [],
   "source": [
    "r=soup.find('td',class_=\"rankings-block__banner--rating u-text-right\")"
   ]
  },
  {
   "cell_type": "code",
   "execution_count": 210,
   "id": "033bc00a",
   "metadata": {},
   "outputs": [
    {
     "data": {
      "text/plain": [
       "'\\n                            172\\n                            \\n\\n'"
      ]
     },
     "execution_count": 210,
     "metadata": {},
     "output_type": "execute_result"
    }
   ],
   "source": [
    "r.text"
   ]
  },
  {
   "cell_type": "code",
   "execution_count": 211,
   "id": "b8eadfff",
   "metadata": {},
   "outputs": [],
   "source": [
    "rr=r.text.split('\\n')[1]"
   ]
  },
  {
   "cell_type": "code",
   "execution_count": 212,
   "id": "a831b26a",
   "metadata": {},
   "outputs": [
    {
     "data": {
      "text/plain": [
       "'                            172'"
      ]
     },
     "execution_count": 212,
     "metadata": {},
     "output_type": "execute_result"
    }
   ],
   "source": [
    "rr"
   ]
  },
  {
   "cell_type": "code",
   "execution_count": 213,
   "id": "c25fd57a",
   "metadata": {},
   "outputs": [],
   "source": [
    "rating=soup.find('tr',class_=\"table-body\")"
   ]
  },
  {
   "cell_type": "code",
   "execution_count": 214,
   "id": "37ce34bd",
   "metadata": {},
   "outputs": [
    {
     "data": {
      "text/plain": [
       "'119'"
      ]
     },
     "execution_count": 214,
     "metadata": {},
     "output_type": "execute_result"
    }
   ],
   "source": [
    "rating.text.split('\\n')[9]"
   ]
  },
  {
   "cell_type": "code",
   "execution_count": 215,
   "id": "95900850",
   "metadata": {},
   "outputs": [],
   "source": [
    "ratings=[]\n",
    "for r in soup.find_all('tr',class_=\"table-body\"):\n",
    "    ratings.append(r.text.split('\\n')[9])"
   ]
  },
  {
   "cell_type": "code",
   "execution_count": 216,
   "id": "9a1c1e36",
   "metadata": {},
   "outputs": [
    {
     "data": {
      "text/plain": [
       "['119', '119', '104', '102', '94', '76', '72', '62', '44', '39', '0', '0']"
      ]
     },
     "execution_count": 216,
     "metadata": {},
     "output_type": "execute_result"
    }
   ],
   "source": [
    "ratings"
   ]
  },
  {
   "cell_type": "code",
   "execution_count": 217,
   "id": "eec5cdc3",
   "metadata": {},
   "outputs": [],
   "source": [
    "ratings=[rr]+ratings"
   ]
  },
  {
   "cell_type": "code",
   "execution_count": 218,
   "id": "841dee64",
   "metadata": {},
   "outputs": [
    {
     "data": {
      "text/plain": [
       "['                            172',\n",
       " '119',\n",
       " '119',\n",
       " '104',\n",
       " '102',\n",
       " '94',\n",
       " '76',\n",
       " '72',\n",
       " '62',\n",
       " '44',\n",
       " '39',\n",
       " '0',\n",
       " '0']"
      ]
     },
     "execution_count": 218,
     "metadata": {},
     "output_type": "execute_result"
    }
   ],
   "source": [
    "ratings"
   ]
  },
  {
   "cell_type": "code",
   "execution_count": 219,
   "id": "030fe3f6",
   "metadata": {},
   "outputs": [],
   "source": [
    "data=pd.DataFrame({'Teams':team,'Matches':matches,'Points':points,'Ratings':ratings})"
   ]
  },
  {
   "cell_type": "code",
   "execution_count": 220,
   "id": "e415e988",
   "metadata": {},
   "outputs": [
    {
     "data": {
      "text/html": [
       "<div>\n",
       "<style scoped>\n",
       "    .dataframe tbody tr th:only-of-type {\n",
       "        vertical-align: middle;\n",
       "    }\n",
       "\n",
       "    .dataframe tbody tr th {\n",
       "        vertical-align: top;\n",
       "    }\n",
       "\n",
       "    .dataframe thead th {\n",
       "        text-align: right;\n",
       "    }\n",
       "</style>\n",
       "<table border=\"1\" class=\"dataframe\">\n",
       "  <thead>\n",
       "    <tr style=\"text-align: right;\">\n",
       "      <th></th>\n",
       "      <th>Teams</th>\n",
       "      <th>Matches</th>\n",
       "      <th>Points</th>\n",
       "      <th>Ratings</th>\n",
       "    </tr>\n",
       "  </thead>\n",
       "  <tbody>\n",
       "    <tr>\n",
       "      <th>0</th>\n",
       "      <td>Australia</td>\n",
       "      <td>21</td>\n",
       "      <td>3,603</td>\n",
       "      <td>172</td>\n",
       "    </tr>\n",
       "    <tr>\n",
       "      <th>1</th>\n",
       "      <td>England</td>\n",
       "      <td>28</td>\n",
       "      <td>3,342</td>\n",
       "      <td>119</td>\n",
       "    </tr>\n",
       "    <tr>\n",
       "      <th>2</th>\n",
       "      <td>South Africa</td>\n",
       "      <td>26</td>\n",
       "      <td>3,098</td>\n",
       "      <td>119</td>\n",
       "    </tr>\n",
       "    <tr>\n",
       "      <th>3</th>\n",
       "      <td>India</td>\n",
       "      <td>27</td>\n",
       "      <td>2,820</td>\n",
       "      <td>104</td>\n",
       "    </tr>\n",
       "    <tr>\n",
       "      <th>4</th>\n",
       "      <td>New Zealand</td>\n",
       "      <td>25</td>\n",
       "      <td>2,553</td>\n",
       "      <td>102</td>\n",
       "    </tr>\n",
       "    <tr>\n",
       "      <th>5</th>\n",
       "      <td>West Indies</td>\n",
       "      <td>27</td>\n",
       "      <td>2,535</td>\n",
       "      <td>94</td>\n",
       "    </tr>\n",
       "    <tr>\n",
       "      <th>6</th>\n",
       "      <td>Bangladesh</td>\n",
       "      <td>13</td>\n",
       "      <td>983</td>\n",
       "      <td>76</td>\n",
       "    </tr>\n",
       "    <tr>\n",
       "      <th>7</th>\n",
       "      <td>Thailand</td>\n",
       "      <td>8</td>\n",
       "      <td>572</td>\n",
       "      <td>72</td>\n",
       "    </tr>\n",
       "    <tr>\n",
       "      <th>8</th>\n",
       "      <td>Pakistan</td>\n",
       "      <td>27</td>\n",
       "      <td>1,678</td>\n",
       "      <td>62</td>\n",
       "    </tr>\n",
       "    <tr>\n",
       "      <th>9</th>\n",
       "      <td>Sri Lanka</td>\n",
       "      <td>8</td>\n",
       "      <td>353</td>\n",
       "      <td>44</td>\n",
       "    </tr>\n",
       "    <tr>\n",
       "      <th>10</th>\n",
       "      <td>Ireland</td>\n",
       "      <td>14</td>\n",
       "      <td>548</td>\n",
       "      <td>39</td>\n",
       "    </tr>\n",
       "    <tr>\n",
       "      <th>11</th>\n",
       "      <td>Netherlands</td>\n",
       "      <td>9</td>\n",
       "      <td>0</td>\n",
       "      <td>0</td>\n",
       "    </tr>\n",
       "    <tr>\n",
       "      <th>12</th>\n",
       "      <td>Zimbabwe</td>\n",
       "      <td>8</td>\n",
       "      <td>0</td>\n",
       "      <td>0</td>\n",
       "    </tr>\n",
       "  </tbody>\n",
       "</table>\n",
       "</div>"
      ],
      "text/plain": [
       "           Teams Matches Points                          Ratings\n",
       "0      Australia      21  3,603                              172\n",
       "1        England      28  3,342                              119\n",
       "2   South Africa      26  3,098                              119\n",
       "3          India      27  2,820                              104\n",
       "4    New Zealand      25  2,553                              102\n",
       "5    West Indies      27  2,535                               94\n",
       "6     Bangladesh      13    983                               76\n",
       "7       Thailand       8    572                               72\n",
       "8       Pakistan      27  1,678                               62\n",
       "9      Sri Lanka       8    353                               44\n",
       "10       Ireland      14    548                               39\n",
       "11   Netherlands       9      0                                0\n",
       "12      Zimbabwe       8      0                                0"
      ]
     },
     "execution_count": 220,
     "metadata": {},
     "output_type": "execute_result"
    }
   ],
   "source": [
    "data"
   ]
  },
  {
   "cell_type": "code",
   "execution_count": 221,
   "id": "79e2d9e3",
   "metadata": {},
   "outputs": [],
   "source": [
    "Teams=data.head(10)"
   ]
  },
  {
   "cell_type": "code",
   "execution_count": 222,
   "id": "91d003c3",
   "metadata": {},
   "outputs": [
    {
     "data": {
      "text/html": [
       "<div>\n",
       "<style scoped>\n",
       "    .dataframe tbody tr th:only-of-type {\n",
       "        vertical-align: middle;\n",
       "    }\n",
       "\n",
       "    .dataframe tbody tr th {\n",
       "        vertical-align: top;\n",
       "    }\n",
       "\n",
       "    .dataframe thead th {\n",
       "        text-align: right;\n",
       "    }\n",
       "</style>\n",
       "<table border=\"1\" class=\"dataframe\">\n",
       "  <thead>\n",
       "    <tr style=\"text-align: right;\">\n",
       "      <th></th>\n",
       "      <th>Teams</th>\n",
       "      <th>Matches</th>\n",
       "      <th>Points</th>\n",
       "      <th>Ratings</th>\n",
       "    </tr>\n",
       "  </thead>\n",
       "  <tbody>\n",
       "    <tr>\n",
       "      <th>0</th>\n",
       "      <td>Australia</td>\n",
       "      <td>21</td>\n",
       "      <td>3,603</td>\n",
       "      <td>172</td>\n",
       "    </tr>\n",
       "    <tr>\n",
       "      <th>1</th>\n",
       "      <td>England</td>\n",
       "      <td>28</td>\n",
       "      <td>3,342</td>\n",
       "      <td>119</td>\n",
       "    </tr>\n",
       "    <tr>\n",
       "      <th>2</th>\n",
       "      <td>South Africa</td>\n",
       "      <td>26</td>\n",
       "      <td>3,098</td>\n",
       "      <td>119</td>\n",
       "    </tr>\n",
       "    <tr>\n",
       "      <th>3</th>\n",
       "      <td>India</td>\n",
       "      <td>27</td>\n",
       "      <td>2,820</td>\n",
       "      <td>104</td>\n",
       "    </tr>\n",
       "    <tr>\n",
       "      <th>4</th>\n",
       "      <td>New Zealand</td>\n",
       "      <td>25</td>\n",
       "      <td>2,553</td>\n",
       "      <td>102</td>\n",
       "    </tr>\n",
       "    <tr>\n",
       "      <th>5</th>\n",
       "      <td>West Indies</td>\n",
       "      <td>27</td>\n",
       "      <td>2,535</td>\n",
       "      <td>94</td>\n",
       "    </tr>\n",
       "    <tr>\n",
       "      <th>6</th>\n",
       "      <td>Bangladesh</td>\n",
       "      <td>13</td>\n",
       "      <td>983</td>\n",
       "      <td>76</td>\n",
       "    </tr>\n",
       "    <tr>\n",
       "      <th>7</th>\n",
       "      <td>Thailand</td>\n",
       "      <td>8</td>\n",
       "      <td>572</td>\n",
       "      <td>72</td>\n",
       "    </tr>\n",
       "    <tr>\n",
       "      <th>8</th>\n",
       "      <td>Pakistan</td>\n",
       "      <td>27</td>\n",
       "      <td>1,678</td>\n",
       "      <td>62</td>\n",
       "    </tr>\n",
       "    <tr>\n",
       "      <th>9</th>\n",
       "      <td>Sri Lanka</td>\n",
       "      <td>8</td>\n",
       "      <td>353</td>\n",
       "      <td>44</td>\n",
       "    </tr>\n",
       "  </tbody>\n",
       "</table>\n",
       "</div>"
      ],
      "text/plain": [
       "          Teams Matches Points                          Ratings\n",
       "0     Australia      21  3,603                              172\n",
       "1       England      28  3,342                              119\n",
       "2  South Africa      26  3,098                              119\n",
       "3         India      27  2,820                              104\n",
       "4   New Zealand      25  2,553                              102\n",
       "5   West Indies      27  2,535                               94\n",
       "6    Bangladesh      13    983                               76\n",
       "7      Thailand       8    572                               72\n",
       "8      Pakistan      27  1,678                               62\n",
       "9     Sri Lanka       8    353                               44"
      ]
     },
     "execution_count": 222,
     "metadata": {},
     "output_type": "execute_result"
    }
   ],
   "source": [
    "Teams"
   ]
  },
  {
   "cell_type": "markdown",
   "id": "2b7516ad",
   "metadata": {},
   "source": [
    "# Answer 6 (B)"
   ]
  },
  {
   "cell_type": "code",
   "execution_count": 223,
   "id": "7c353b31",
   "metadata": {},
   "outputs": [],
   "source": [
    "ranking=requests.get('https://www.icc-cricket.com/rankings/womens/player-rankings/odi/batting')"
   ]
  },
  {
   "cell_type": "code",
   "execution_count": 224,
   "id": "c63c296c",
   "metadata": {},
   "outputs": [
    {
     "data": {
      "text/plain": [
       "<Response [200]>"
      ]
     },
     "execution_count": 224,
     "metadata": {},
     "output_type": "execute_result"
    }
   ],
   "source": [
    "ranking"
   ]
  },
  {
   "cell_type": "code",
   "execution_count": 225,
   "id": "24e78ec7",
   "metadata": {},
   "outputs": [],
   "source": [
    "soup=BeautifulSoup(ranking.content)"
   ]
  },
  {
   "cell_type": "code",
   "execution_count": 226,
   "id": "0861aed3",
   "metadata": {},
   "outputs": [],
   "source": [
    "p=soup.find('div',class_=\"rankings-block__banner--name-large\")"
   ]
  },
  {
   "cell_type": "code",
   "execution_count": 227,
   "id": "3066d4f8",
   "metadata": {},
   "outputs": [],
   "source": [
    "ppp=p.text"
   ]
  },
  {
   "cell_type": "code",
   "execution_count": 228,
   "id": "d2ce059b",
   "metadata": {},
   "outputs": [
    {
     "data": {
      "text/plain": [
       "'Alyssa Healy'"
      ]
     },
     "execution_count": 228,
     "metadata": {},
     "output_type": "execute_result"
    }
   ],
   "source": [
    "ppp"
   ]
  },
  {
   "cell_type": "code",
   "execution_count": 229,
   "id": "5c6f2cca",
   "metadata": {},
   "outputs": [],
   "source": [
    "player=soup.find('td',class_=\"table-body__cell rankings-table__name name\")"
   ]
  },
  {
   "cell_type": "code",
   "execution_count": 230,
   "id": "798a7148",
   "metadata": {},
   "outputs": [
    {
     "data": {
      "text/plain": [
       "'Beth Mooney'"
      ]
     },
     "execution_count": 230,
     "metadata": {},
     "output_type": "execute_result"
    }
   ],
   "source": [
    "player.text.split('\\n')[1]"
   ]
  },
  {
   "cell_type": "code",
   "execution_count": 231,
   "id": "1eb43770",
   "metadata": {},
   "outputs": [],
   "source": [
    "playerss=[]\n",
    "\n",
    "for p in soup.find_all('td',class_=\"table-body__cell rankings-table__name name\"):\n",
    "    playerss.append(p.text.split('\\n')[1])"
   ]
  },
  {
   "cell_type": "code",
   "execution_count": 232,
   "id": "a8d7e57c",
   "metadata": {},
   "outputs": [
    {
     "data": {
      "text/plain": [
       "['Beth Mooney',\n",
       " 'Laura Wolvaardt',\n",
       " 'Natalie Sciver',\n",
       " 'Meg Lanning',\n",
       " 'Harmanpreet Kaur',\n",
       " 'Smriti Mandhana',\n",
       " 'Rachael Haynes',\n",
       " 'Chamari Athapaththu',\n",
       " 'Amy Satterthwaite',\n",
       " 'Ellyse Perry',\n",
       " 'Tammy Beaumont',\n",
       " 'Deandra Dottin',\n",
       " 'Stafanie Taylor',\n",
       " 'Suzie Bates',\n",
       " 'Amelia Kerr',\n",
       " 'Marizanne Kapp',\n",
       " 'Hayley Matthews',\n",
       " 'Danielle Wyatt',\n",
       " 'Chloe-Lesleigh Tryon',\n",
       " 'Heather Knight',\n",
       " 'Bismah Maroof',\n",
       " 'Mignon du Preez',\n",
       " 'Sophie Devine',\n",
       " 'Deepti Sharma',\n",
       " 'Amy Jones',\n",
       " 'Sidra Ameen',\n",
       " 'Maddie Green',\n",
       " 'Ashleigh Gardner',\n",
       " 'Sune Luus',\n",
       " 'Gaby Lewis',\n",
       " 'Nida Dar',\n",
       " 'Laura Delany',\n",
       " 'Sophia Dunkley',\n",
       " 'Fargana Hoque',\n",
       " 'Tahlia McGrath',\n",
       " 'Aliya Riaz',\n",
       " 'Yastika Bhatia',\n",
       " 'Shafali Verma',\n",
       " 'Nigar Sultana',\n",
       " 'Harshitha Madavi',\n",
       " 'Rumana Ahmed',\n",
       " 'Nahida Khan',\n",
       " 'Poonam Raut',\n",
       " 'Muneeba Ali',\n",
       " 'Umaima Sohail',\n",
       " 'Babette de Leede',\n",
       " 'Lara Goodall',\n",
       " 'Nattakan Chantam',\n",
       " 'Amy Hunter',\n",
       " 'Emma Lamb',\n",
       " 'Nilakshi Silva',\n",
       " 'Pooja Vastrakar',\n",
       " 'Leah Paul',\n",
       " 'Dane van Niekerk',\n",
       " 'Javeria Khan',\n",
       " 'Lauren Down',\n",
       " 'Jess Jonassen',\n",
       " 'Katherine Brunt',\n",
       " 'Brooke Halliday',\n",
       " 'Sharmin Supta',\n",
       " 'Shemaine Campbelle',\n",
       " 'Salma Khatun',\n",
       " 'Trisha Chetty',\n",
       " 'Andrie Steyn',\n",
       " 'Charlotte Dean',\n",
       " 'Jhulan Goswami',\n",
       " 'Lauren Winfield',\n",
       " 'Chedean Nation',\n",
       " 'Richa Ghosh',\n",
       " 'Orla Prendergast',\n",
       " 'Prasadani Weerakkody',\n",
       " 'Lata Mondal',\n",
       " 'Annabel Sutherland',\n",
       " 'Katie Perkins',\n",
       " 'Sophie Ecclestone',\n",
       " 'Kycia Knight',\n",
       " 'Hasini Perera',\n",
       " 'Rashada Williams',\n",
       " 'Kavisha Dilhari',\n",
       " 'Ritu Moni',\n",
       " 'Nicola Carey',\n",
       " 'Mary Waldron',\n",
       " 'Naruemol Chaiwai',\n",
       " 'Phoebe Litchfield',\n",
       " 'Harleen Deol',\n",
       " 'Eimear Richardson',\n",
       " 'Mary-Anne Musonda',\n",
       " 'Shamima Sultana',\n",
       " 'Kate Cross',\n",
       " 'Nannapat Koncharoenkai',\n",
       " 'Georgina Dempsey',\n",
       " 'Chinelle Henry',\n",
       " 'Murshida Khatun',\n",
       " 'Shikha Pandey',\n",
       " 'Jess Kerr',\n",
       " 'Rosenan Kanoh',\n",
       " 'Tazmin Brits',\n",
       " 'Josephine Nkomo',\n",
       " 'Heather Siegers']"
      ]
     },
     "execution_count": 232,
     "metadata": {},
     "output_type": "execute_result"
    }
   ],
   "source": [
    "playerss"
   ]
  },
  {
   "cell_type": "code",
   "execution_count": 233,
   "id": "a3407d58",
   "metadata": {},
   "outputs": [],
   "source": [
    "players=[ppp]+playerss"
   ]
  },
  {
   "cell_type": "code",
   "execution_count": 234,
   "id": "af7dbed3",
   "metadata": {},
   "outputs": [
    {
     "data": {
      "text/plain": [
       "['Alyssa Healy',\n",
       " 'Beth Mooney',\n",
       " 'Laura Wolvaardt',\n",
       " 'Natalie Sciver',\n",
       " 'Meg Lanning',\n",
       " 'Harmanpreet Kaur',\n",
       " 'Smriti Mandhana',\n",
       " 'Rachael Haynes',\n",
       " 'Chamari Athapaththu',\n",
       " 'Amy Satterthwaite',\n",
       " 'Ellyse Perry',\n",
       " 'Tammy Beaumont',\n",
       " 'Deandra Dottin',\n",
       " 'Stafanie Taylor',\n",
       " 'Suzie Bates',\n",
       " 'Amelia Kerr',\n",
       " 'Marizanne Kapp',\n",
       " 'Hayley Matthews',\n",
       " 'Danielle Wyatt',\n",
       " 'Chloe-Lesleigh Tryon',\n",
       " 'Heather Knight',\n",
       " 'Bismah Maroof',\n",
       " 'Mignon du Preez',\n",
       " 'Sophie Devine',\n",
       " 'Deepti Sharma',\n",
       " 'Amy Jones',\n",
       " 'Sidra Ameen',\n",
       " 'Maddie Green',\n",
       " 'Ashleigh Gardner',\n",
       " 'Sune Luus',\n",
       " 'Gaby Lewis',\n",
       " 'Nida Dar',\n",
       " 'Laura Delany',\n",
       " 'Sophia Dunkley',\n",
       " 'Fargana Hoque',\n",
       " 'Tahlia McGrath',\n",
       " 'Aliya Riaz',\n",
       " 'Yastika Bhatia',\n",
       " 'Shafali Verma',\n",
       " 'Nigar Sultana',\n",
       " 'Harshitha Madavi',\n",
       " 'Rumana Ahmed',\n",
       " 'Nahida Khan',\n",
       " 'Poonam Raut',\n",
       " 'Muneeba Ali',\n",
       " 'Umaima Sohail',\n",
       " 'Babette de Leede',\n",
       " 'Lara Goodall',\n",
       " 'Nattakan Chantam',\n",
       " 'Amy Hunter',\n",
       " 'Emma Lamb',\n",
       " 'Nilakshi Silva',\n",
       " 'Pooja Vastrakar',\n",
       " 'Leah Paul',\n",
       " 'Dane van Niekerk',\n",
       " 'Javeria Khan',\n",
       " 'Lauren Down',\n",
       " 'Jess Jonassen',\n",
       " 'Katherine Brunt',\n",
       " 'Brooke Halliday',\n",
       " 'Sharmin Supta',\n",
       " 'Shemaine Campbelle',\n",
       " 'Salma Khatun',\n",
       " 'Trisha Chetty',\n",
       " 'Andrie Steyn',\n",
       " 'Charlotte Dean',\n",
       " 'Jhulan Goswami',\n",
       " 'Lauren Winfield',\n",
       " 'Chedean Nation',\n",
       " 'Richa Ghosh',\n",
       " 'Orla Prendergast',\n",
       " 'Prasadani Weerakkody',\n",
       " 'Lata Mondal',\n",
       " 'Annabel Sutherland',\n",
       " 'Katie Perkins',\n",
       " 'Sophie Ecclestone',\n",
       " 'Kycia Knight',\n",
       " 'Hasini Perera',\n",
       " 'Rashada Williams',\n",
       " 'Kavisha Dilhari',\n",
       " 'Ritu Moni',\n",
       " 'Nicola Carey',\n",
       " 'Mary Waldron',\n",
       " 'Naruemol Chaiwai',\n",
       " 'Phoebe Litchfield',\n",
       " 'Harleen Deol',\n",
       " 'Eimear Richardson',\n",
       " 'Mary-Anne Musonda',\n",
       " 'Shamima Sultana',\n",
       " 'Kate Cross',\n",
       " 'Nannapat Koncharoenkai',\n",
       " 'Georgina Dempsey',\n",
       " 'Chinelle Henry',\n",
       " 'Murshida Khatun',\n",
       " 'Shikha Pandey',\n",
       " 'Jess Kerr',\n",
       " 'Rosenan Kanoh',\n",
       " 'Tazmin Brits',\n",
       " 'Josephine Nkomo',\n",
       " 'Heather Siegers']"
      ]
     },
     "execution_count": 234,
     "metadata": {},
     "output_type": "execute_result"
    }
   ],
   "source": [
    "players"
   ]
  },
  {
   "cell_type": "code",
   "execution_count": 235,
   "id": "d61a1a7b",
   "metadata": {},
   "outputs": [],
   "source": [
    "t=soup.find('div',class_=\"rankings-block__banner--nationality\")"
   ]
  },
  {
   "cell_type": "code",
   "execution_count": 236,
   "id": "48ab201f",
   "metadata": {},
   "outputs": [],
   "source": [
    "tt=t.text.split('\\n')[2]"
   ]
  },
  {
   "cell_type": "code",
   "execution_count": 237,
   "id": "08a52bfb",
   "metadata": {},
   "outputs": [
    {
     "data": {
      "text/plain": [
       "'AUS'"
      ]
     },
     "execution_count": 237,
     "metadata": {},
     "output_type": "execute_result"
    }
   ],
   "source": [
    "tt"
   ]
  },
  {
   "cell_type": "code",
   "execution_count": 238,
   "id": "fdc239f8",
   "metadata": {},
   "outputs": [],
   "source": [
    "team=soup.find('span',class_=\"table-body__logo-text\")"
   ]
  },
  {
   "cell_type": "code",
   "execution_count": 239,
   "id": "19a2abcf",
   "metadata": {},
   "outputs": [
    {
     "data": {
      "text/plain": [
       "'AUS'"
      ]
     },
     "execution_count": 239,
     "metadata": {},
     "output_type": "execute_result"
    }
   ],
   "source": [
    "team.text"
   ]
  },
  {
   "cell_type": "code",
   "execution_count": 240,
   "id": "05de92ac",
   "metadata": {},
   "outputs": [],
   "source": [
    "teamss=[]\n",
    "\n",
    "for t in soup.find_all('span',class_=\"table-body__logo-text\"):\n",
    "    teamss.append(t.text)"
   ]
  },
  {
   "cell_type": "code",
   "execution_count": 241,
   "id": "36b8240f",
   "metadata": {},
   "outputs": [
    {
     "data": {
      "text/plain": [
       "['AUS',\n",
       " 'SA',\n",
       " 'ENG',\n",
       " 'AUS',\n",
       " 'IND',\n",
       " 'IND',\n",
       " 'AUS',\n",
       " 'SL',\n",
       " 'NZ',\n",
       " 'AUS',\n",
       " 'ENG',\n",
       " 'WI',\n",
       " 'WI',\n",
       " 'NZ',\n",
       " 'NZ',\n",
       " 'SA',\n",
       " 'WI',\n",
       " 'ENG',\n",
       " 'SA',\n",
       " 'ENG',\n",
       " 'PAK',\n",
       " 'SA',\n",
       " 'NZ',\n",
       " 'IND',\n",
       " 'ENG',\n",
       " 'PAK',\n",
       " 'NZ',\n",
       " 'AUS',\n",
       " 'SA',\n",
       " 'IRE',\n",
       " 'PAK',\n",
       " 'IRE',\n",
       " 'ENG',\n",
       " 'BAN',\n",
       " 'AUS',\n",
       " 'PAK',\n",
       " 'IND',\n",
       " 'IND',\n",
       " 'BAN',\n",
       " 'SL',\n",
       " 'BAN',\n",
       " 'PAK',\n",
       " 'IND',\n",
       " 'PAK',\n",
       " 'PAK',\n",
       " 'NED',\n",
       " 'SA',\n",
       " 'THA',\n",
       " 'IRE',\n",
       " 'ENG',\n",
       " 'SL',\n",
       " 'IND',\n",
       " 'IRE',\n",
       " 'SA',\n",
       " 'PAK',\n",
       " 'NZ',\n",
       " 'AUS',\n",
       " 'ENG',\n",
       " 'NZ',\n",
       " 'BAN',\n",
       " 'WI',\n",
       " 'BAN',\n",
       " 'SA',\n",
       " 'SA',\n",
       " 'ENG',\n",
       " 'IND',\n",
       " 'ENG',\n",
       " 'WI',\n",
       " 'IND',\n",
       " 'IRE',\n",
       " 'SL',\n",
       " 'BAN',\n",
       " 'AUS',\n",
       " 'NZ',\n",
       " 'ENG',\n",
       " 'WI',\n",
       " 'SL',\n",
       " 'WI',\n",
       " 'SL',\n",
       " 'BAN',\n",
       " 'AUS',\n",
       " 'IRE',\n",
       " 'THA',\n",
       " 'AUS',\n",
       " 'IND',\n",
       " 'IRE',\n",
       " 'ZIM',\n",
       " 'BAN',\n",
       " 'ENG',\n",
       " 'THA',\n",
       " 'IRE',\n",
       " 'WI',\n",
       " 'BAN',\n",
       " 'IND',\n",
       " 'NZ',\n",
       " 'THA',\n",
       " 'SA',\n",
       " 'ZIM',\n",
       " 'NED']"
      ]
     },
     "execution_count": 241,
     "metadata": {},
     "output_type": "execute_result"
    }
   ],
   "source": [
    "teamss"
   ]
  },
  {
   "cell_type": "code",
   "execution_count": 242,
   "id": "85dc4548",
   "metadata": {},
   "outputs": [],
   "source": [
    "teams=[tt]+teamss"
   ]
  },
  {
   "cell_type": "code",
   "execution_count": 243,
   "id": "f24b397c",
   "metadata": {},
   "outputs": [
    {
     "data": {
      "text/plain": [
       "['AUS',\n",
       " 'AUS',\n",
       " 'SA',\n",
       " 'ENG',\n",
       " 'AUS',\n",
       " 'IND',\n",
       " 'IND',\n",
       " 'AUS',\n",
       " 'SL',\n",
       " 'NZ',\n",
       " 'AUS',\n",
       " 'ENG',\n",
       " 'WI',\n",
       " 'WI',\n",
       " 'NZ',\n",
       " 'NZ',\n",
       " 'SA',\n",
       " 'WI',\n",
       " 'ENG',\n",
       " 'SA',\n",
       " 'ENG',\n",
       " 'PAK',\n",
       " 'SA',\n",
       " 'NZ',\n",
       " 'IND',\n",
       " 'ENG',\n",
       " 'PAK',\n",
       " 'NZ',\n",
       " 'AUS',\n",
       " 'SA',\n",
       " 'IRE',\n",
       " 'PAK',\n",
       " 'IRE',\n",
       " 'ENG',\n",
       " 'BAN',\n",
       " 'AUS',\n",
       " 'PAK',\n",
       " 'IND',\n",
       " 'IND',\n",
       " 'BAN',\n",
       " 'SL',\n",
       " 'BAN',\n",
       " 'PAK',\n",
       " 'IND',\n",
       " 'PAK',\n",
       " 'PAK',\n",
       " 'NED',\n",
       " 'SA',\n",
       " 'THA',\n",
       " 'IRE',\n",
       " 'ENG',\n",
       " 'SL',\n",
       " 'IND',\n",
       " 'IRE',\n",
       " 'SA',\n",
       " 'PAK',\n",
       " 'NZ',\n",
       " 'AUS',\n",
       " 'ENG',\n",
       " 'NZ',\n",
       " 'BAN',\n",
       " 'WI',\n",
       " 'BAN',\n",
       " 'SA',\n",
       " 'SA',\n",
       " 'ENG',\n",
       " 'IND',\n",
       " 'ENG',\n",
       " 'WI',\n",
       " 'IND',\n",
       " 'IRE',\n",
       " 'SL',\n",
       " 'BAN',\n",
       " 'AUS',\n",
       " 'NZ',\n",
       " 'ENG',\n",
       " 'WI',\n",
       " 'SL',\n",
       " 'WI',\n",
       " 'SL',\n",
       " 'BAN',\n",
       " 'AUS',\n",
       " 'IRE',\n",
       " 'THA',\n",
       " 'AUS',\n",
       " 'IND',\n",
       " 'IRE',\n",
       " 'ZIM',\n",
       " 'BAN',\n",
       " 'ENG',\n",
       " 'THA',\n",
       " 'IRE',\n",
       " 'WI',\n",
       " 'BAN',\n",
       " 'IND',\n",
       " 'NZ',\n",
       " 'THA',\n",
       " 'SA',\n",
       " 'ZIM',\n",
       " 'NED']"
      ]
     },
     "execution_count": 243,
     "metadata": {},
     "output_type": "execute_result"
    }
   ],
   "source": [
    "teams"
   ]
  },
  {
   "cell_type": "code",
   "execution_count": 244,
   "id": "ff83dd91",
   "metadata": {},
   "outputs": [],
   "source": [
    "rr=soup.find('div',class_=\"rankings-block__banner--rating\")"
   ]
  },
  {
   "cell_type": "code",
   "execution_count": 245,
   "id": "ec2dd0a7",
   "metadata": {},
   "outputs": [
    {
     "data": {
      "text/plain": [
       "'762'"
      ]
     },
     "execution_count": 245,
     "metadata": {},
     "output_type": "execute_result"
    }
   ],
   "source": [
    "rr.text"
   ]
  },
  {
   "cell_type": "code",
   "execution_count": 246,
   "id": "4759774a",
   "metadata": {},
   "outputs": [],
   "source": [
    "ratingg=[]\n",
    "\n",
    "for r in soup.find_all('td',class_=\"table-body__cell rating\"):\n",
    "    ratingg.append(r.text)"
   ]
  },
  {
   "cell_type": "code",
   "execution_count": 247,
   "id": "5afcc567",
   "metadata": {},
   "outputs": [
    {
     "data": {
      "text/plain": [
       "['754',\n",
       " '732',\n",
       " '731',\n",
       " '717',\n",
       " '716',\n",
       " '714',\n",
       " '680',\n",
       " '655',\n",
       " '641',\n",
       " '626',\n",
       " '595',\n",
       " '589',\n",
       " '588',\n",
       " '588',\n",
       " '587',\n",
       " '585',\n",
       " '566',\n",
       " '566',\n",
       " '557',\n",
       " '555',\n",
       " '551',\n",
       " '548',\n",
       " '548',\n",
       " '547',\n",
       " '535',\n",
       " '522',\n",
       " '509',\n",
       " '507',\n",
       " '496',\n",
       " '485',\n",
       " '476',\n",
       " '475',\n",
       " '465',\n",
       " '462',\n",
       " '448',\n",
       " '432',\n",
       " '426',\n",
       " '405',\n",
       " '403',\n",
       " '402',\n",
       " '399',\n",
       " '398',\n",
       " '397',\n",
       " '395',\n",
       " '395',\n",
       " '394',\n",
       " '394',\n",
       " '386',\n",
       " '385',\n",
       " '384',\n",
       " '384',\n",
       " '380',\n",
       " '372',\n",
       " '363',\n",
       " '360',\n",
       " '346',\n",
       " '346',\n",
       " '345',\n",
       " '337',\n",
       " '333',\n",
       " '323',\n",
       " '320',\n",
       " '314',\n",
       " '311',\n",
       " '310',\n",
       " '307',\n",
       " '305',\n",
       " '304',\n",
       " '302',\n",
       " '298',\n",
       " '298',\n",
       " '296',\n",
       " '285',\n",
       " '276',\n",
       " '273',\n",
       " '272',\n",
       " '267',\n",
       " '266',\n",
       " '266',\n",
       " '266',\n",
       " '265',\n",
       " '263',\n",
       " '257',\n",
       " '253',\n",
       " '253',\n",
       " '247',\n",
       " '244',\n",
       " '241',\n",
       " '239',\n",
       " '235',\n",
       " '232',\n",
       " '231',\n",
       " '228',\n",
       " '228',\n",
       " '226',\n",
       " '225',\n",
       " '224',\n",
       " '222',\n",
       " '222']"
      ]
     },
     "execution_count": 247,
     "metadata": {},
     "output_type": "execute_result"
    }
   ],
   "source": [
    "ratingg"
   ]
  },
  {
   "cell_type": "code",
   "execution_count": 248,
   "id": "97bf4b81",
   "metadata": {},
   "outputs": [],
   "source": [
    "ratings=[rr.text]+ratingg"
   ]
  },
  {
   "cell_type": "code",
   "execution_count": 249,
   "id": "6876bd62",
   "metadata": {},
   "outputs": [
    {
     "data": {
      "text/plain": [
       "['762',\n",
       " '754',\n",
       " '732',\n",
       " '731',\n",
       " '717',\n",
       " '716',\n",
       " '714',\n",
       " '680',\n",
       " '655',\n",
       " '641',\n",
       " '626',\n",
       " '595',\n",
       " '589',\n",
       " '588',\n",
       " '588',\n",
       " '587',\n",
       " '585',\n",
       " '566',\n",
       " '566',\n",
       " '557',\n",
       " '555',\n",
       " '551',\n",
       " '548',\n",
       " '548',\n",
       " '547',\n",
       " '535',\n",
       " '522',\n",
       " '509',\n",
       " '507',\n",
       " '496',\n",
       " '485',\n",
       " '476',\n",
       " '475',\n",
       " '465',\n",
       " '462',\n",
       " '448',\n",
       " '432',\n",
       " '426',\n",
       " '405',\n",
       " '403',\n",
       " '402',\n",
       " '399',\n",
       " '398',\n",
       " '397',\n",
       " '395',\n",
       " '395',\n",
       " '394',\n",
       " '394',\n",
       " '386',\n",
       " '385',\n",
       " '384',\n",
       " '384',\n",
       " '380',\n",
       " '372',\n",
       " '363',\n",
       " '360',\n",
       " '346',\n",
       " '346',\n",
       " '345',\n",
       " '337',\n",
       " '333',\n",
       " '323',\n",
       " '320',\n",
       " '314',\n",
       " '311',\n",
       " '310',\n",
       " '307',\n",
       " '305',\n",
       " '304',\n",
       " '302',\n",
       " '298',\n",
       " '298',\n",
       " '296',\n",
       " '285',\n",
       " '276',\n",
       " '273',\n",
       " '272',\n",
       " '267',\n",
       " '266',\n",
       " '266',\n",
       " '266',\n",
       " '265',\n",
       " '263',\n",
       " '257',\n",
       " '253',\n",
       " '253',\n",
       " '247',\n",
       " '244',\n",
       " '241',\n",
       " '239',\n",
       " '235',\n",
       " '232',\n",
       " '231',\n",
       " '228',\n",
       " '228',\n",
       " '226',\n",
       " '225',\n",
       " '224',\n",
       " '222',\n",
       " '222']"
      ]
     },
     "execution_count": 249,
     "metadata": {},
     "output_type": "execute_result"
    }
   ],
   "source": [
    "ratings"
   ]
  },
  {
   "cell_type": "code",
   "execution_count": 250,
   "id": "7e6ad1ee",
   "metadata": {},
   "outputs": [],
   "source": [
    "women_odi=pd.DataFrame({'Player':players,'Team':teams,'Rating':ratings})"
   ]
  },
  {
   "cell_type": "code",
   "execution_count": 251,
   "id": "217b6523",
   "metadata": {},
   "outputs": [
    {
     "data": {
      "text/html": [
       "<div>\n",
       "<style scoped>\n",
       "    .dataframe tbody tr th:only-of-type {\n",
       "        vertical-align: middle;\n",
       "    }\n",
       "\n",
       "    .dataframe tbody tr th {\n",
       "        vertical-align: top;\n",
       "    }\n",
       "\n",
       "    .dataframe thead th {\n",
       "        text-align: right;\n",
       "    }\n",
       "</style>\n",
       "<table border=\"1\" class=\"dataframe\">\n",
       "  <thead>\n",
       "    <tr style=\"text-align: right;\">\n",
       "      <th></th>\n",
       "      <th>Player</th>\n",
       "      <th>Team</th>\n",
       "      <th>Rating</th>\n",
       "    </tr>\n",
       "  </thead>\n",
       "  <tbody>\n",
       "    <tr>\n",
       "      <th>0</th>\n",
       "      <td>Alyssa Healy</td>\n",
       "      <td>AUS</td>\n",
       "      <td>762</td>\n",
       "    </tr>\n",
       "    <tr>\n",
       "      <th>1</th>\n",
       "      <td>Beth Mooney</td>\n",
       "      <td>AUS</td>\n",
       "      <td>754</td>\n",
       "    </tr>\n",
       "    <tr>\n",
       "      <th>2</th>\n",
       "      <td>Laura Wolvaardt</td>\n",
       "      <td>SA</td>\n",
       "      <td>732</td>\n",
       "    </tr>\n",
       "    <tr>\n",
       "      <th>3</th>\n",
       "      <td>Natalie Sciver</td>\n",
       "      <td>ENG</td>\n",
       "      <td>731</td>\n",
       "    </tr>\n",
       "    <tr>\n",
       "      <th>4</th>\n",
       "      <td>Meg Lanning</td>\n",
       "      <td>AUS</td>\n",
       "      <td>717</td>\n",
       "    </tr>\n",
       "    <tr>\n",
       "      <th>...</th>\n",
       "      <td>...</td>\n",
       "      <td>...</td>\n",
       "      <td>...</td>\n",
       "    </tr>\n",
       "    <tr>\n",
       "      <th>95</th>\n",
       "      <td>Jess Kerr</td>\n",
       "      <td>NZ</td>\n",
       "      <td>226</td>\n",
       "    </tr>\n",
       "    <tr>\n",
       "      <th>96</th>\n",
       "      <td>Rosenan Kanoh</td>\n",
       "      <td>THA</td>\n",
       "      <td>225</td>\n",
       "    </tr>\n",
       "    <tr>\n",
       "      <th>97</th>\n",
       "      <td>Tazmin Brits</td>\n",
       "      <td>SA</td>\n",
       "      <td>224</td>\n",
       "    </tr>\n",
       "    <tr>\n",
       "      <th>98</th>\n",
       "      <td>Josephine Nkomo</td>\n",
       "      <td>ZIM</td>\n",
       "      <td>222</td>\n",
       "    </tr>\n",
       "    <tr>\n",
       "      <th>99</th>\n",
       "      <td>Heather Siegers</td>\n",
       "      <td>NED</td>\n",
       "      <td>222</td>\n",
       "    </tr>\n",
       "  </tbody>\n",
       "</table>\n",
       "<p>100 rows × 3 columns</p>\n",
       "</div>"
      ],
      "text/plain": [
       "             Player Team Rating\n",
       "0      Alyssa Healy  AUS    762\n",
       "1       Beth Mooney  AUS    754\n",
       "2   Laura Wolvaardt   SA    732\n",
       "3    Natalie Sciver  ENG    731\n",
       "4       Meg Lanning  AUS    717\n",
       "..              ...  ...    ...\n",
       "95        Jess Kerr   NZ    226\n",
       "96    Rosenan Kanoh  THA    225\n",
       "97     Tazmin Brits   SA    224\n",
       "98  Josephine Nkomo  ZIM    222\n",
       "99  Heather Siegers  NED    222\n",
       "\n",
       "[100 rows x 3 columns]"
      ]
     },
     "execution_count": 251,
     "metadata": {},
     "output_type": "execute_result"
    }
   ],
   "source": [
    "women_odi"
   ]
  },
  {
   "cell_type": "code",
   "execution_count": 252,
   "id": "8a2ca49d",
   "metadata": {},
   "outputs": [],
   "source": [
    "w_odi=women_odi.head(10)"
   ]
  },
  {
   "cell_type": "code",
   "execution_count": 253,
   "id": "a5426746",
   "metadata": {},
   "outputs": [
    {
     "data": {
      "text/html": [
       "<div>\n",
       "<style scoped>\n",
       "    .dataframe tbody tr th:only-of-type {\n",
       "        vertical-align: middle;\n",
       "    }\n",
       "\n",
       "    .dataframe tbody tr th {\n",
       "        vertical-align: top;\n",
       "    }\n",
       "\n",
       "    .dataframe thead th {\n",
       "        text-align: right;\n",
       "    }\n",
       "</style>\n",
       "<table border=\"1\" class=\"dataframe\">\n",
       "  <thead>\n",
       "    <tr style=\"text-align: right;\">\n",
       "      <th></th>\n",
       "      <th>Player</th>\n",
       "      <th>Team</th>\n",
       "      <th>Rating</th>\n",
       "    </tr>\n",
       "  </thead>\n",
       "  <tbody>\n",
       "    <tr>\n",
       "      <th>0</th>\n",
       "      <td>Alyssa Healy</td>\n",
       "      <td>AUS</td>\n",
       "      <td>762</td>\n",
       "    </tr>\n",
       "    <tr>\n",
       "      <th>1</th>\n",
       "      <td>Beth Mooney</td>\n",
       "      <td>AUS</td>\n",
       "      <td>754</td>\n",
       "    </tr>\n",
       "    <tr>\n",
       "      <th>2</th>\n",
       "      <td>Laura Wolvaardt</td>\n",
       "      <td>SA</td>\n",
       "      <td>732</td>\n",
       "    </tr>\n",
       "    <tr>\n",
       "      <th>3</th>\n",
       "      <td>Natalie Sciver</td>\n",
       "      <td>ENG</td>\n",
       "      <td>731</td>\n",
       "    </tr>\n",
       "    <tr>\n",
       "      <th>4</th>\n",
       "      <td>Meg Lanning</td>\n",
       "      <td>AUS</td>\n",
       "      <td>717</td>\n",
       "    </tr>\n",
       "    <tr>\n",
       "      <th>5</th>\n",
       "      <td>Harmanpreet Kaur</td>\n",
       "      <td>IND</td>\n",
       "      <td>716</td>\n",
       "    </tr>\n",
       "    <tr>\n",
       "      <th>6</th>\n",
       "      <td>Smriti Mandhana</td>\n",
       "      <td>IND</td>\n",
       "      <td>714</td>\n",
       "    </tr>\n",
       "    <tr>\n",
       "      <th>7</th>\n",
       "      <td>Rachael Haynes</td>\n",
       "      <td>AUS</td>\n",
       "      <td>680</td>\n",
       "    </tr>\n",
       "    <tr>\n",
       "      <th>8</th>\n",
       "      <td>Chamari Athapaththu</td>\n",
       "      <td>SL</td>\n",
       "      <td>655</td>\n",
       "    </tr>\n",
       "    <tr>\n",
       "      <th>9</th>\n",
       "      <td>Amy Satterthwaite</td>\n",
       "      <td>NZ</td>\n",
       "      <td>641</td>\n",
       "    </tr>\n",
       "  </tbody>\n",
       "</table>\n",
       "</div>"
      ],
      "text/plain": [
       "                Player Team Rating\n",
       "0         Alyssa Healy  AUS    762\n",
       "1          Beth Mooney  AUS    754\n",
       "2      Laura Wolvaardt   SA    732\n",
       "3       Natalie Sciver  ENG    731\n",
       "4          Meg Lanning  AUS    717\n",
       "5     Harmanpreet Kaur  IND    716\n",
       "6      Smriti Mandhana  IND    714\n",
       "7       Rachael Haynes  AUS    680\n",
       "8  Chamari Athapaththu   SL    655\n",
       "9    Amy Satterthwaite   NZ    641"
      ]
     },
     "execution_count": 253,
     "metadata": {},
     "output_type": "execute_result"
    }
   ],
   "source": [
    "w_odi"
   ]
  },
  {
   "cell_type": "markdown",
   "id": "973b8d50",
   "metadata": {},
   "source": [
    "# Answer 6(C)"
   ]
  },
  {
   "cell_type": "code",
   "execution_count": 254,
   "id": "82b5659d",
   "metadata": {},
   "outputs": [],
   "source": [
    "#solution"
   ]
  },
  {
   "cell_type": "code",
   "execution_count": 255,
   "id": "5f38f929",
   "metadata": {},
   "outputs": [],
   "source": [
    "allrounders=requests.get('https://www.icc-cricket.com/rankings/womens/player-rankings/odi/all-rounder')"
   ]
  },
  {
   "cell_type": "code",
   "execution_count": 256,
   "id": "7a09d3ae",
   "metadata": {},
   "outputs": [
    {
     "data": {
      "text/plain": [
       "<Response [200]>"
      ]
     },
     "execution_count": 256,
     "metadata": {},
     "output_type": "execute_result"
    }
   ],
   "source": [
    "allrounders"
   ]
  },
  {
   "cell_type": "code",
   "execution_count": 257,
   "id": "cc5db610",
   "metadata": {},
   "outputs": [],
   "source": [
    "soup=BeautifulSoup(allrounders.content)"
   ]
  },
  {
   "cell_type": "code",
   "execution_count": 258,
   "id": "5a5dbd76",
   "metadata": {},
   "outputs": [],
   "source": [
    "a=soup.find('div',class_=\"rankings-block__banner--name-large\")"
   ]
  },
  {
   "cell_type": "code",
   "execution_count": 259,
   "id": "c0941423",
   "metadata": {},
   "outputs": [
    {
     "data": {
      "text/plain": [
       "'Hayley Matthews'"
      ]
     },
     "execution_count": 259,
     "metadata": {},
     "output_type": "execute_result"
    }
   ],
   "source": [
    "a.text"
   ]
  },
  {
   "cell_type": "code",
   "execution_count": 260,
   "id": "a8830797",
   "metadata": {},
   "outputs": [],
   "source": [
    "aq=a.text"
   ]
  },
  {
   "cell_type": "code",
   "execution_count": 261,
   "id": "945f51fb",
   "metadata": {},
   "outputs": [
    {
     "data": {
      "text/plain": [
       "'Hayley Matthews'"
      ]
     },
     "execution_count": 261,
     "metadata": {},
     "output_type": "execute_result"
    }
   ],
   "source": [
    "aq"
   ]
  },
  {
   "cell_type": "code",
   "execution_count": 262,
   "id": "c5ed158a",
   "metadata": {},
   "outputs": [],
   "source": [
    "ar=soup.find('td',class_=\"table-body__cell rankings-table__name name\")"
   ]
  },
  {
   "cell_type": "code",
   "execution_count": 263,
   "id": "946c1512",
   "metadata": {},
   "outputs": [
    {
     "data": {
      "text/plain": [
       "'Natalie Sciver'"
      ]
     },
     "execution_count": 263,
     "metadata": {},
     "output_type": "execute_result"
    }
   ],
   "source": [
    "ar.text.split('\\n')[1]"
   ]
  },
  {
   "cell_type": "code",
   "execution_count": 264,
   "id": "0bc36a34",
   "metadata": {},
   "outputs": [],
   "source": [
    "ars=[]\n",
    "\n",
    "for a in soup.find_all('td',class_=\"table-body__cell rankings-table__name name\"):\n",
    "    ars.append(a.text.split('\\n')[1])"
   ]
  },
  {
   "cell_type": "code",
   "execution_count": 265,
   "id": "1277f292",
   "metadata": {},
   "outputs": [
    {
     "data": {
      "text/plain": [
       "['Natalie Sciver',\n",
       " 'Ellyse Perry',\n",
       " 'Marizanne Kapp',\n",
       " 'Amelia Kerr',\n",
       " 'Deepti Sharma',\n",
       " 'Ashleigh Gardner',\n",
       " 'Jess Jonassen',\n",
       " 'Nida Dar',\n",
       " 'Jhulan Goswami',\n",
       " 'Sophie Ecclestone',\n",
       " 'Sophie Devine',\n",
       " 'Chloe-Lesleigh Tryon',\n",
       " 'Katherine Brunt',\n",
       " 'Rumana Ahmed',\n",
       " 'Stafanie Taylor',\n",
       " 'Chamari Athapaththu',\n",
       " 'Charlotte Dean',\n",
       " 'Sune Luus',\n",
       " 'Salma Khatun']"
      ]
     },
     "execution_count": 265,
     "metadata": {},
     "output_type": "execute_result"
    }
   ],
   "source": [
    "ars"
   ]
  },
  {
   "cell_type": "code",
   "execution_count": 266,
   "id": "9ab5c4ed",
   "metadata": {},
   "outputs": [],
   "source": [
    "allrounder=[aq]+ars"
   ]
  },
  {
   "cell_type": "code",
   "execution_count": 267,
   "id": "bf5a16e3",
   "metadata": {},
   "outputs": [
    {
     "data": {
      "text/plain": [
       "['Hayley Matthews',\n",
       " 'Natalie Sciver',\n",
       " 'Ellyse Perry',\n",
       " 'Marizanne Kapp',\n",
       " 'Amelia Kerr',\n",
       " 'Deepti Sharma',\n",
       " 'Ashleigh Gardner',\n",
       " 'Jess Jonassen',\n",
       " 'Nida Dar',\n",
       " 'Jhulan Goswami',\n",
       " 'Sophie Ecclestone',\n",
       " 'Sophie Devine',\n",
       " 'Chloe-Lesleigh Tryon',\n",
       " 'Katherine Brunt',\n",
       " 'Rumana Ahmed',\n",
       " 'Stafanie Taylor',\n",
       " 'Chamari Athapaththu',\n",
       " 'Charlotte Dean',\n",
       " 'Sune Luus',\n",
       " 'Salma Khatun']"
      ]
     },
     "execution_count": 267,
     "metadata": {},
     "output_type": "execute_result"
    }
   ],
   "source": [
    "allrounder"
   ]
  },
  {
   "cell_type": "code",
   "execution_count": 268,
   "id": "5d234d34",
   "metadata": {},
   "outputs": [],
   "source": [
    "ts=soup.find('div',class_=\"rankings-block__banner--nationality\")"
   ]
  },
  {
   "cell_type": "code",
   "execution_count": 269,
   "id": "00621397",
   "metadata": {},
   "outputs": [
    {
     "data": {
      "text/plain": [
       "'WI'"
      ]
     },
     "execution_count": 269,
     "metadata": {},
     "output_type": "execute_result"
    }
   ],
   "source": [
    "ts.text.split('\\n')[2]"
   ]
  },
  {
   "cell_type": "code",
   "execution_count": 270,
   "id": "872edbd0",
   "metadata": {},
   "outputs": [],
   "source": [
    "nts=ts.text.split('\\n')[2]"
   ]
  },
  {
   "cell_type": "code",
   "execution_count": 271,
   "id": "73def1e4",
   "metadata": {},
   "outputs": [
    {
     "data": {
      "text/plain": [
       "'WI'"
      ]
     },
     "execution_count": 271,
     "metadata": {},
     "output_type": "execute_result"
    }
   ],
   "source": [
    "nts"
   ]
  },
  {
   "cell_type": "code",
   "execution_count": 272,
   "id": "7e600832",
   "metadata": {},
   "outputs": [],
   "source": [
    "nt=soup.find('span',class_=\"table-body__logo-text\")"
   ]
  },
  {
   "cell_type": "code",
   "execution_count": 273,
   "id": "f5d43bed",
   "metadata": {},
   "outputs": [
    {
     "data": {
      "text/plain": [
       "'ENG'"
      ]
     },
     "execution_count": 273,
     "metadata": {},
     "output_type": "execute_result"
    }
   ],
   "source": [
    "nt.text"
   ]
  },
  {
   "cell_type": "code",
   "execution_count": 274,
   "id": "ba132b63",
   "metadata": {},
   "outputs": [],
   "source": [
    "natt=[]\n",
    "for n in soup.find_all('span',class_=\"table-body__logo-text\"):\n",
    "    natt.append(n.text)"
   ]
  },
  {
   "cell_type": "code",
   "execution_count": 275,
   "id": "b1b55de2",
   "metadata": {},
   "outputs": [
    {
     "data": {
      "text/plain": [
       "['ENG',\n",
       " 'AUS',\n",
       " 'SA',\n",
       " 'NZ',\n",
       " 'IND',\n",
       " 'AUS',\n",
       " 'AUS',\n",
       " 'PAK',\n",
       " 'IND',\n",
       " 'ENG',\n",
       " 'NZ',\n",
       " 'SA',\n",
       " 'ENG',\n",
       " 'BAN',\n",
       " 'WI',\n",
       " 'SL',\n",
       " 'ENG',\n",
       " 'SA',\n",
       " 'BAN']"
      ]
     },
     "execution_count": 275,
     "metadata": {},
     "output_type": "execute_result"
    }
   ],
   "source": [
    "natt"
   ]
  },
  {
   "cell_type": "code",
   "execution_count": 276,
   "id": "77928771",
   "metadata": {},
   "outputs": [],
   "source": [
    "team=[nts]+natt"
   ]
  },
  {
   "cell_type": "code",
   "execution_count": 277,
   "id": "ec4d446e",
   "metadata": {},
   "outputs": [
    {
     "data": {
      "text/plain": [
       "['WI',\n",
       " 'ENG',\n",
       " 'AUS',\n",
       " 'SA',\n",
       " 'NZ',\n",
       " 'IND',\n",
       " 'AUS',\n",
       " 'AUS',\n",
       " 'PAK',\n",
       " 'IND',\n",
       " 'ENG',\n",
       " 'NZ',\n",
       " 'SA',\n",
       " 'ENG',\n",
       " 'BAN',\n",
       " 'WI',\n",
       " 'SL',\n",
       " 'ENG',\n",
       " 'SA',\n",
       " 'BAN']"
      ]
     },
     "execution_count": 277,
     "metadata": {},
     "output_type": "execute_result"
    }
   ],
   "source": [
    "team"
   ]
  },
  {
   "cell_type": "code",
   "execution_count": 278,
   "id": "2b2b2e61",
   "metadata": {},
   "outputs": [],
   "source": [
    "rt=soup.find('div',class_=\"rankings-block__banner--rating\")"
   ]
  },
  {
   "cell_type": "code",
   "execution_count": 279,
   "id": "5b3f7132",
   "metadata": {},
   "outputs": [
    {
     "data": {
      "text/plain": [
       "'373'"
      ]
     },
     "execution_count": 279,
     "metadata": {},
     "output_type": "execute_result"
    }
   ],
   "source": [
    "rt.text"
   ]
  },
  {
   "cell_type": "code",
   "execution_count": 280,
   "id": "7dac9e25",
   "metadata": {},
   "outputs": [],
   "source": [
    "rate=soup.find('td',class_=\"table-body__cell rating\")"
   ]
  },
  {
   "cell_type": "code",
   "execution_count": 281,
   "id": "8b5a83b9",
   "metadata": {},
   "outputs": [
    {
     "data": {
      "text/plain": [
       "'371'"
      ]
     },
     "execution_count": 281,
     "metadata": {},
     "output_type": "execute_result"
    }
   ],
   "source": [
    "rate.text"
   ]
  },
  {
   "cell_type": "code",
   "execution_count": 282,
   "id": "d4b7cbd2",
   "metadata": {},
   "outputs": [],
   "source": [
    "rating=[]\n",
    "\n",
    "for r in soup.find_all('td',class_=\"table-body__cell rating\"):\n",
    "    rating.append(r.text)"
   ]
  },
  {
   "cell_type": "code",
   "execution_count": 283,
   "id": "1dd22469",
   "metadata": {},
   "outputs": [
    {
     "data": {
      "text/plain": [
       "['371',\n",
       " '366',\n",
       " '349',\n",
       " '336',\n",
       " '322',\n",
       " '292',\n",
       " '250',\n",
       " '232',\n",
       " '214',\n",
       " '205',\n",
       " '202',\n",
       " '197',\n",
       " '195',\n",
       " '184',\n",
       " '181',\n",
       " '178',\n",
       " '174',\n",
       " '171',\n",
       " '169']"
      ]
     },
     "execution_count": 283,
     "metadata": {},
     "output_type": "execute_result"
    }
   ],
   "source": [
    "rating"
   ]
  },
  {
   "cell_type": "code",
   "execution_count": 284,
   "id": "f490b4df",
   "metadata": {},
   "outputs": [],
   "source": [
    "ratings=[rt.text]+rating"
   ]
  },
  {
   "cell_type": "code",
   "execution_count": 285,
   "id": "f4cc65d6",
   "metadata": {},
   "outputs": [
    {
     "data": {
      "text/plain": [
       "['373',\n",
       " '371',\n",
       " '366',\n",
       " '349',\n",
       " '336',\n",
       " '322',\n",
       " '292',\n",
       " '250',\n",
       " '232',\n",
       " '214',\n",
       " '205',\n",
       " '202',\n",
       " '197',\n",
       " '195',\n",
       " '184',\n",
       " '181',\n",
       " '178',\n",
       " '174',\n",
       " '171',\n",
       " '169']"
      ]
     },
     "execution_count": 285,
     "metadata": {},
     "output_type": "execute_result"
    }
   ],
   "source": [
    "ratings"
   ]
  },
  {
   "cell_type": "code",
   "execution_count": 286,
   "id": "ba759e46",
   "metadata": {},
   "outputs": [
    {
     "data": {
      "text/plain": [
       "20"
      ]
     },
     "execution_count": 286,
     "metadata": {},
     "output_type": "execute_result"
    }
   ],
   "source": [
    "len(allrounder)"
   ]
  },
  {
   "cell_type": "code",
   "execution_count": 287,
   "id": "fb760d0d",
   "metadata": {},
   "outputs": [
    {
     "data": {
      "text/plain": [
       "20"
      ]
     },
     "execution_count": 287,
     "metadata": {},
     "output_type": "execute_result"
    }
   ],
   "source": [
    "len(team)"
   ]
  },
  {
   "cell_type": "code",
   "execution_count": 288,
   "id": "96c0d724",
   "metadata": {},
   "outputs": [
    {
     "data": {
      "text/plain": [
       "20"
      ]
     },
     "execution_count": 288,
     "metadata": {},
     "output_type": "execute_result"
    }
   ],
   "source": [
    "len(ratings)"
   ]
  },
  {
   "cell_type": "code",
   "execution_count": 289,
   "id": "4bc1b782",
   "metadata": {},
   "outputs": [],
   "source": [
    "ar=pd.DataFrame({'Player':allrounder,'Team':team,'Rating':ratings})"
   ]
  },
  {
   "cell_type": "code",
   "execution_count": 290,
   "id": "e4f247ea",
   "metadata": {},
   "outputs": [
    {
     "data": {
      "text/html": [
       "<div>\n",
       "<style scoped>\n",
       "    .dataframe tbody tr th:only-of-type {\n",
       "        vertical-align: middle;\n",
       "    }\n",
       "\n",
       "    .dataframe tbody tr th {\n",
       "        vertical-align: top;\n",
       "    }\n",
       "\n",
       "    .dataframe thead th {\n",
       "        text-align: right;\n",
       "    }\n",
       "</style>\n",
       "<table border=\"1\" class=\"dataframe\">\n",
       "  <thead>\n",
       "    <tr style=\"text-align: right;\">\n",
       "      <th></th>\n",
       "      <th>Player</th>\n",
       "      <th>Team</th>\n",
       "      <th>Rating</th>\n",
       "    </tr>\n",
       "  </thead>\n",
       "  <tbody>\n",
       "    <tr>\n",
       "      <th>0</th>\n",
       "      <td>Hayley Matthews</td>\n",
       "      <td>WI</td>\n",
       "      <td>373</td>\n",
       "    </tr>\n",
       "    <tr>\n",
       "      <th>1</th>\n",
       "      <td>Natalie Sciver</td>\n",
       "      <td>ENG</td>\n",
       "      <td>371</td>\n",
       "    </tr>\n",
       "    <tr>\n",
       "      <th>2</th>\n",
       "      <td>Ellyse Perry</td>\n",
       "      <td>AUS</td>\n",
       "      <td>366</td>\n",
       "    </tr>\n",
       "    <tr>\n",
       "      <th>3</th>\n",
       "      <td>Marizanne Kapp</td>\n",
       "      <td>SA</td>\n",
       "      <td>349</td>\n",
       "    </tr>\n",
       "    <tr>\n",
       "      <th>4</th>\n",
       "      <td>Amelia Kerr</td>\n",
       "      <td>NZ</td>\n",
       "      <td>336</td>\n",
       "    </tr>\n",
       "    <tr>\n",
       "      <th>5</th>\n",
       "      <td>Deepti Sharma</td>\n",
       "      <td>IND</td>\n",
       "      <td>322</td>\n",
       "    </tr>\n",
       "    <tr>\n",
       "      <th>6</th>\n",
       "      <td>Ashleigh Gardner</td>\n",
       "      <td>AUS</td>\n",
       "      <td>292</td>\n",
       "    </tr>\n",
       "    <tr>\n",
       "      <th>7</th>\n",
       "      <td>Jess Jonassen</td>\n",
       "      <td>AUS</td>\n",
       "      <td>250</td>\n",
       "    </tr>\n",
       "    <tr>\n",
       "      <th>8</th>\n",
       "      <td>Nida Dar</td>\n",
       "      <td>PAK</td>\n",
       "      <td>232</td>\n",
       "    </tr>\n",
       "    <tr>\n",
       "      <th>9</th>\n",
       "      <td>Jhulan Goswami</td>\n",
       "      <td>IND</td>\n",
       "      <td>214</td>\n",
       "    </tr>\n",
       "    <tr>\n",
       "      <th>10</th>\n",
       "      <td>Sophie Ecclestone</td>\n",
       "      <td>ENG</td>\n",
       "      <td>205</td>\n",
       "    </tr>\n",
       "    <tr>\n",
       "      <th>11</th>\n",
       "      <td>Sophie Devine</td>\n",
       "      <td>NZ</td>\n",
       "      <td>202</td>\n",
       "    </tr>\n",
       "    <tr>\n",
       "      <th>12</th>\n",
       "      <td>Chloe-Lesleigh Tryon</td>\n",
       "      <td>SA</td>\n",
       "      <td>197</td>\n",
       "    </tr>\n",
       "    <tr>\n",
       "      <th>13</th>\n",
       "      <td>Katherine Brunt</td>\n",
       "      <td>ENG</td>\n",
       "      <td>195</td>\n",
       "    </tr>\n",
       "    <tr>\n",
       "      <th>14</th>\n",
       "      <td>Rumana Ahmed</td>\n",
       "      <td>BAN</td>\n",
       "      <td>184</td>\n",
       "    </tr>\n",
       "    <tr>\n",
       "      <th>15</th>\n",
       "      <td>Stafanie Taylor</td>\n",
       "      <td>WI</td>\n",
       "      <td>181</td>\n",
       "    </tr>\n",
       "    <tr>\n",
       "      <th>16</th>\n",
       "      <td>Chamari Athapaththu</td>\n",
       "      <td>SL</td>\n",
       "      <td>178</td>\n",
       "    </tr>\n",
       "    <tr>\n",
       "      <th>17</th>\n",
       "      <td>Charlotte Dean</td>\n",
       "      <td>ENG</td>\n",
       "      <td>174</td>\n",
       "    </tr>\n",
       "    <tr>\n",
       "      <th>18</th>\n",
       "      <td>Sune Luus</td>\n",
       "      <td>SA</td>\n",
       "      <td>171</td>\n",
       "    </tr>\n",
       "    <tr>\n",
       "      <th>19</th>\n",
       "      <td>Salma Khatun</td>\n",
       "      <td>BAN</td>\n",
       "      <td>169</td>\n",
       "    </tr>\n",
       "  </tbody>\n",
       "</table>\n",
       "</div>"
      ],
      "text/plain": [
       "                  Player Team Rating\n",
       "0        Hayley Matthews   WI    373\n",
       "1         Natalie Sciver  ENG    371\n",
       "2           Ellyse Perry  AUS    366\n",
       "3         Marizanne Kapp   SA    349\n",
       "4            Amelia Kerr   NZ    336\n",
       "5          Deepti Sharma  IND    322\n",
       "6       Ashleigh Gardner  AUS    292\n",
       "7          Jess Jonassen  AUS    250\n",
       "8               Nida Dar  PAK    232\n",
       "9         Jhulan Goswami  IND    214\n",
       "10     Sophie Ecclestone  ENG    205\n",
       "11         Sophie Devine   NZ    202\n",
       "12  Chloe-Lesleigh Tryon   SA    197\n",
       "13       Katherine Brunt  ENG    195\n",
       "14          Rumana Ahmed  BAN    184\n",
       "15       Stafanie Taylor   WI    181\n",
       "16   Chamari Athapaththu   SL    178\n",
       "17        Charlotte Dean  ENG    174\n",
       "18             Sune Luus   SA    171\n",
       "19          Salma Khatun  BAN    169"
      ]
     },
     "execution_count": 290,
     "metadata": {},
     "output_type": "execute_result"
    }
   ],
   "source": [
    "ar"
   ]
  },
  {
   "cell_type": "code",
   "execution_count": 291,
   "id": "ec90d675",
   "metadata": {},
   "outputs": [],
   "source": [
    "allrounders=ar.head(10)"
   ]
  },
  {
   "cell_type": "code",
   "execution_count": 292,
   "id": "dbd547ae",
   "metadata": {},
   "outputs": [
    {
     "data": {
      "text/html": [
       "<div>\n",
       "<style scoped>\n",
       "    .dataframe tbody tr th:only-of-type {\n",
       "        vertical-align: middle;\n",
       "    }\n",
       "\n",
       "    .dataframe tbody tr th {\n",
       "        vertical-align: top;\n",
       "    }\n",
       "\n",
       "    .dataframe thead th {\n",
       "        text-align: right;\n",
       "    }\n",
       "</style>\n",
       "<table border=\"1\" class=\"dataframe\">\n",
       "  <thead>\n",
       "    <tr style=\"text-align: right;\">\n",
       "      <th></th>\n",
       "      <th>Player</th>\n",
       "      <th>Team</th>\n",
       "      <th>Rating</th>\n",
       "    </tr>\n",
       "  </thead>\n",
       "  <tbody>\n",
       "    <tr>\n",
       "      <th>0</th>\n",
       "      <td>Hayley Matthews</td>\n",
       "      <td>WI</td>\n",
       "      <td>373</td>\n",
       "    </tr>\n",
       "    <tr>\n",
       "      <th>1</th>\n",
       "      <td>Natalie Sciver</td>\n",
       "      <td>ENG</td>\n",
       "      <td>371</td>\n",
       "    </tr>\n",
       "    <tr>\n",
       "      <th>2</th>\n",
       "      <td>Ellyse Perry</td>\n",
       "      <td>AUS</td>\n",
       "      <td>366</td>\n",
       "    </tr>\n",
       "    <tr>\n",
       "      <th>3</th>\n",
       "      <td>Marizanne Kapp</td>\n",
       "      <td>SA</td>\n",
       "      <td>349</td>\n",
       "    </tr>\n",
       "    <tr>\n",
       "      <th>4</th>\n",
       "      <td>Amelia Kerr</td>\n",
       "      <td>NZ</td>\n",
       "      <td>336</td>\n",
       "    </tr>\n",
       "    <tr>\n",
       "      <th>5</th>\n",
       "      <td>Deepti Sharma</td>\n",
       "      <td>IND</td>\n",
       "      <td>322</td>\n",
       "    </tr>\n",
       "    <tr>\n",
       "      <th>6</th>\n",
       "      <td>Ashleigh Gardner</td>\n",
       "      <td>AUS</td>\n",
       "      <td>292</td>\n",
       "    </tr>\n",
       "    <tr>\n",
       "      <th>7</th>\n",
       "      <td>Jess Jonassen</td>\n",
       "      <td>AUS</td>\n",
       "      <td>250</td>\n",
       "    </tr>\n",
       "    <tr>\n",
       "      <th>8</th>\n",
       "      <td>Nida Dar</td>\n",
       "      <td>PAK</td>\n",
       "      <td>232</td>\n",
       "    </tr>\n",
       "    <tr>\n",
       "      <th>9</th>\n",
       "      <td>Jhulan Goswami</td>\n",
       "      <td>IND</td>\n",
       "      <td>214</td>\n",
       "    </tr>\n",
       "  </tbody>\n",
       "</table>\n",
       "</div>"
      ],
      "text/plain": [
       "             Player Team Rating\n",
       "0   Hayley Matthews   WI    373\n",
       "1    Natalie Sciver  ENG    371\n",
       "2      Ellyse Perry  AUS    366\n",
       "3    Marizanne Kapp   SA    349\n",
       "4       Amelia Kerr   NZ    336\n",
       "5     Deepti Sharma  IND    322\n",
       "6  Ashleigh Gardner  AUS    292\n",
       "7     Jess Jonassen  AUS    250\n",
       "8          Nida Dar  PAK    232\n",
       "9    Jhulan Goswami  IND    214"
      ]
     },
     "execution_count": 292,
     "metadata": {},
     "output_type": "execute_result"
    }
   ],
   "source": [
    "allrounders"
   ]
  },
  {
   "cell_type": "markdown",
   "id": "beeec46e",
   "metadata": {},
   "source": [
    "# Answer 7"
   ]
  },
  {
   "cell_type": "code",
   "execution_count": 293,
   "id": "91d2c0eb",
   "metadata": {},
   "outputs": [],
   "source": [
    "news=requests.get('https://www.cnbc.com/world/?region=world')"
   ]
  },
  {
   "cell_type": "code",
   "execution_count": 294,
   "id": "53221ec9",
   "metadata": {},
   "outputs": [
    {
     "data": {
      "text/plain": [
       "<Response [200]>"
      ]
     },
     "execution_count": 294,
     "metadata": {},
     "output_type": "execute_result"
    }
   ],
   "source": [
    "news"
   ]
  },
  {
   "cell_type": "code",
   "execution_count": 295,
   "id": "a5d95856",
   "metadata": {},
   "outputs": [],
   "source": [
    "soup=BeautifulSoup(news.content)"
   ]
  },
  {
   "cell_type": "code",
   "execution_count": 296,
   "id": "e984fa60",
   "metadata": {},
   "outputs": [],
   "source": [
    "hl=soup.find('a',class_=\"LatestNews-headline\")"
   ]
  },
  {
   "cell_type": "code",
   "execution_count": 297,
   "id": "6c9a0467",
   "metadata": {},
   "outputs": [
    {
     "data": {
      "text/plain": [
       "<a class=\"LatestNews-headline\" href=\"https://www.cnbc.com/2023/04/01/disney-ceo-bob-iger-is-making-moves-that-should-please-investors.html\" title=\"The return of Bob Iger: Disney CEO makes moves that should please investors\">The return of Bob Iger: Disney CEO makes moves that should please investors</a>"
      ]
     },
     "execution_count": 297,
     "metadata": {},
     "output_type": "execute_result"
    }
   ],
   "source": [
    "hl"
   ]
  },
  {
   "cell_type": "code",
   "execution_count": 298,
   "id": "005783bc",
   "metadata": {},
   "outputs": [
    {
     "data": {
      "text/plain": [
       "'The return of Bob Iger: Disney CEO makes moves that should please investors'"
      ]
     },
     "execution_count": 298,
     "metadata": {},
     "output_type": "execute_result"
    }
   ],
   "source": [
    "hl.text"
   ]
  },
  {
   "cell_type": "code",
   "execution_count": 299,
   "id": "69537b12",
   "metadata": {},
   "outputs": [],
   "source": [
    "head=[]\n",
    "for h in soup.find_all('a',class_=\"LatestNews-headline\"):\n",
    "    head.append(h.text)"
   ]
  },
  {
   "cell_type": "code",
   "execution_count": 300,
   "id": "55ca1699",
   "metadata": {},
   "outputs": [
    {
     "data": {
      "text/plain": [
       "['The return of Bob Iger: Disney CEO makes moves that should please investors',\n",
       " \"Gen Zer, millennial pay under $700/month to rent 'micro apartments' in NYC\",\n",
       " 'If you use these 13 phrases every day, you have high emotional intelligence: Psychology experts',\n",
       " 'Psychologist: This is the No. 1 way to shut down negativity in your friendships',\n",
       " '79% of hotel guests say you should tip—but only 30% do',\n",
       " 'Hot off up quarter for stocks, investors turn to jobs, manufacturing data',\n",
       " '30-day money challenge to get smarter and more successful with your money',\n",
       " \"Tipping in the United States has gotten out of control, experts say. Here's why\",\n",
       " 'These stocks are a must-own as market uncertainty weighs on investors',\n",
       " \"ETF outlook: Why Wall Street strategists aren't yet chasing a growth stock trade\",\n",
       " \"Markets and economy survived tough first quarter, but it's not getting easier\",\n",
       " 'Pet stocks are a hit or miss as consumer spending shifts, Jim Cramer says',\n",
       " \"Pro Picks: Watch all of Friday's big stock calls on CNBC\",\n",
       " 'Here are our 4 best stocks — and 4 worst stocks — of the first quarter',\n",
       " \"Judge allows Dominion's $1.6 billion defamation suit against Fox to go to trial\",\n",
       " 'Google founder, former Disney exec to get subpoenas in JPMorgan Epstein lawsuit',\n",
       " 'Millions will start losing Medicaid coverage',\n",
       " \"Trump's campaign uses Facebook to fundraise off indictment\",\n",
       " \"Here's how Virgin Orbit fell apart\",\n",
       " 'What to watch in the markets in the week ahead',\n",
       " 'How women are re-defining ambition to build happier, more successful careers',\n",
       " 'These stocks could benefit from lower tax refunds, according to Stephens',\n",
       " 'U.S. appeals decision striking down free Obamacare coverage of preventive care',\n",
       " 'The top 10 states with the longest life expectancy and healthiest lifestyles',\n",
       " \"This week's top S&P 500 stocks include First Republic and this casino owner\",\n",
       " '‘Rust’ assistant director pleads guilty to gun charge in movie set shooting case',\n",
       " \"Investors 'are pretty afraid,' financial psychologist says: These steps can help  \",\n",
       " 'Bitcoin posts its third straight positive month, best quarter since 2021',\n",
       " 'Paying more and earning less: How inflation disproportionately hurts women',\n",
       " 'California to require half of all heavy trucks sales to be electric by 2035']"
      ]
     },
     "execution_count": 300,
     "metadata": {},
     "output_type": "execute_result"
    }
   ],
   "source": [
    "head"
   ]
  },
  {
   "cell_type": "code",
   "execution_count": 301,
   "id": "8292282b",
   "metadata": {},
   "outputs": [],
   "source": [
    "time=soup.find('time',class_=\"LatestNews-timestamp\")"
   ]
  },
  {
   "cell_type": "code",
   "execution_count": 302,
   "id": "4e65e9bb",
   "metadata": {},
   "outputs": [
    {
     "data": {
      "text/plain": [
       "'3 Hours Ago'"
      ]
     },
     "execution_count": 302,
     "metadata": {},
     "output_type": "execute_result"
    }
   ],
   "source": [
    "time.text"
   ]
  },
  {
   "cell_type": "code",
   "execution_count": 303,
   "id": "99af0c77",
   "metadata": {},
   "outputs": [],
   "source": [
    "times=[]\n",
    "\n",
    "for t in soup.find_all('time',class_=\"LatestNews-timestamp\"):\n",
    "    times.append(t.text)"
   ]
  },
  {
   "cell_type": "code",
   "execution_count": 304,
   "id": "0ae884c8",
   "metadata": {},
   "outputs": [
    {
     "data": {
      "text/plain": [
       "['3 Hours Ago',\n",
       " '4 Hours Ago',\n",
       " '4 Hours Ago',\n",
       " '4 Hours Ago',\n",
       " '4 Hours Ago',\n",
       " '4 Hours Ago',\n",
       " '5 Hours Ago',\n",
       " '6 Hours Ago',\n",
       " '6 Hours Ago',\n",
       " '6 Hours Ago',\n",
       " '6 Hours Ago',\n",
       " '18 Hours Ago',\n",
       " '21 Hours Ago',\n",
       " '21 Hours Ago',\n",
       " '21 Hours Ago',\n",
       " '22 Hours Ago',\n",
       " '22 Hours Ago',\n",
       " '22 Hours Ago',\n",
       " '22 Hours Ago',\n",
       " '23 Hours Ago',\n",
       " '23 Hours Ago',\n",
       " '24 Hours Ago',\n",
       " '24 Hours Ago',\n",
       " '24 Hours Ago',\n",
       " 'March 31, 2023',\n",
       " 'March 31, 2023',\n",
       " 'March 31, 2023',\n",
       " 'March 31, 2023',\n",
       " 'March 31, 2023',\n",
       " 'March 31, 2023']"
      ]
     },
     "execution_count": 304,
     "metadata": {},
     "output_type": "execute_result"
    }
   ],
   "source": [
    "times"
   ]
  },
  {
   "cell_type": "code",
   "execution_count": 305,
   "id": "7d72ee90",
   "metadata": {},
   "outputs": [],
   "source": [
    "u=soup.find('a',class_=\"LatestNews-headline\")"
   ]
  },
  {
   "cell_type": "code",
   "execution_count": 306,
   "id": "c4d3a74e",
   "metadata": {},
   "outputs": [],
   "source": [
    "ur=u.get('href')"
   ]
  },
  {
   "cell_type": "code",
   "execution_count": 307,
   "id": "f0e73d7a",
   "metadata": {},
   "outputs": [
    {
     "data": {
      "text/plain": [
       "'https://www.cnbc.com/2023/04/01/disney-ceo-bob-iger-is-making-moves-that-should-please-investors.html'"
      ]
     },
     "execution_count": 307,
     "metadata": {},
     "output_type": "execute_result"
    }
   ],
   "source": [
    "ur"
   ]
  },
  {
   "cell_type": "code",
   "execution_count": 308,
   "id": "deed22a8",
   "metadata": {},
   "outputs": [],
   "source": [
    "url=[]\n",
    "for u in soup.find_all('a',class_=\"LatestNews-headline\"):\n",
    "    url.append(u.get('href'))"
   ]
  },
  {
   "cell_type": "code",
   "execution_count": 309,
   "id": "56bf5c33",
   "metadata": {},
   "outputs": [
    {
     "data": {
      "text/plain": [
       "['https://www.cnbc.com/2023/04/01/disney-ceo-bob-iger-is-making-moves-that-should-please-investors.html',\n",
       " 'https://www.cnbc.com/2023/04/01/millennials-micro-apartments-unlocked.html',\n",
       " 'https://www.cnbc.com/2023/04/01/if-you-use-these-phrases-every-day-you-have-high-emotional-intelligence-say-psychology-experts.html',\n",
       " 'https://www.cnbc.com/2023/04/01/harvard-trained-psychologist-number-one-way-to-shut-down-negativity.html',\n",
       " 'https://www.cnbc.com/2023/04/01/how-much-to-tip-at-hotels.html',\n",
       " 'https://www.cnbc.com/2023/04/01/hot-off-a-positive-quarter-investors-turn-to-jobs-manufacturing-data.html',\n",
       " 'https://www.cnbc.com/2023/04/01/financial-literacy-month-30-day-money-challenge.html',\n",
       " 'https://www.cnbc.com/2023/04/01/how-tipping-in-the-united-states-got-out-of-control.html',\n",
       " 'https://www.cnbc.com/2023/04/01/analysts-say-buy-these-stocks-as-macro-uncertainty-weighs-on-markets.html',\n",
       " 'https://www.cnbc.com/2023/04/01/quarterly-investment-guide-2q-2023-etf-sector-outlook.html',\n",
       " 'https://www.cnbc.com/2023/04/01/quarterly-investment-guide-2q-2023-economic-and-investing-outlook.html',\n",
       " 'https://www.cnbc.com/2023/03/31/pet-stocks-are-hit-or-miss-post-covid-lockdown-jim-cramer-says.html',\n",
       " 'https://www.cnbc.com/2023/03/31/pro-picks-watch-all-of-fridays-big-stock-calls-on-cnbc.html',\n",
       " 'https://www.cnbc.com/2023/03/31/first-quarter-2023-best-and-worst-stocks-investing-club.html',\n",
       " 'https://www.cnbc.com/2023/03/31/fox-motions-rejected-dominion-lawsuit-trial.html',\n",
       " 'https://www.cnbc.com/2023/03/31/google-founder-former-disney-exec-to-get-subpoenas-in-jpmorgan-epstein-lawsuit.html',\n",
       " 'https://www.cnbc.com/2023/03/31/medicaid-millions-to-lose-coverage-as-covid-safety-net-dismantled.html',\n",
       " 'https://www.cnbc.com/2023/03/31/trump-indictment-campaign-uses-facebook-to-fundraise.html',\n",
       " 'https://www.cnbc.com/2023/03/31/virgin-orbit-what-went-wrong.html',\n",
       " 'https://www.cnbc.com/2023/03/31/stocks-could-be-shaky-in-the-week-ahead-as-sigh-of-relief-rally-runs-its-course.html',\n",
       " 'https://www.cnbc.com/2023/03/31/how-women-are-re-defining-ambition-to-build-happier-more-successful-careers.html',\n",
       " 'https://www.cnbc.com/2023/03/31/tax-refunds-are-lower-this-year-but-these-stocks-could-be-winners.html',\n",
       " 'https://www.cnbc.com/2023/03/31/obamacare-biden-appeals-ruling-striking-down-free-preventive-care.html',\n",
       " 'https://www.cnbc.com/2023/03/31/top-10-states-with-the-longest-life-expectancy-and-healthiest-lives.html',\n",
       " 'https://www.cnbc.com/2023/03/31/weeks-top-sp-500-stocks-include-first-republic-and-this-casino-owner.html',\n",
       " 'https://www.cnbc.com/2023/03/31/rust-assistant-director-pleads-guilty-gun-charge.html',\n",
       " 'https://www.cnbc.com/2023/03/31/financial-psychologist-2-steps-to-cope-with-fear-over-the-market.html',\n",
       " 'https://www.cnbc.com/2023/03/31/bitcoin-heads-for-its-third-positive-up-month-best-quarter-since-2021.html',\n",
       " 'https://www.cnbc.com/2023/03/31/paying-more-and-earning-less-how-inflation-disproportionately-hurts-women.html',\n",
       " 'https://www.cnbc.com/2023/03/31/california-requires-half-of-heavy-trucks-sales-to-be-electric-by-2035.html']"
      ]
     },
     "execution_count": 309,
     "metadata": {},
     "output_type": "execute_result"
    }
   ],
   "source": [
    "url"
   ]
  },
  {
   "cell_type": "code",
   "execution_count": 310,
   "id": "9683f627",
   "metadata": {},
   "outputs": [],
   "source": [
    "d=pd.DataFrame({'Headline':head,'Time':time,'URL':url})"
   ]
  },
  {
   "cell_type": "code",
   "execution_count": 311,
   "id": "3d446e91",
   "metadata": {},
   "outputs": [
    {
     "data": {
      "text/html": [
       "<div>\n",
       "<style scoped>\n",
       "    .dataframe tbody tr th:only-of-type {\n",
       "        vertical-align: middle;\n",
       "    }\n",
       "\n",
       "    .dataframe tbody tr th {\n",
       "        vertical-align: top;\n",
       "    }\n",
       "\n",
       "    .dataframe thead th {\n",
       "        text-align: right;\n",
       "    }\n",
       "</style>\n",
       "<table border=\"1\" class=\"dataframe\">\n",
       "  <thead>\n",
       "    <tr style=\"text-align: right;\">\n",
       "      <th></th>\n",
       "      <th>Headline</th>\n",
       "      <th>Time</th>\n",
       "      <th>URL</th>\n",
       "    </tr>\n",
       "  </thead>\n",
       "  <tbody>\n",
       "    <tr>\n",
       "      <th>0</th>\n",
       "      <td>The return of Bob Iger: Disney CEO makes moves...</td>\n",
       "      <td>3 Hours Ago</td>\n",
       "      <td>https://www.cnbc.com/2023/04/01/disney-ceo-bob...</td>\n",
       "    </tr>\n",
       "    <tr>\n",
       "      <th>1</th>\n",
       "      <td>Gen Zer, millennial pay under $700/month to re...</td>\n",
       "      <td>3 Hours Ago</td>\n",
       "      <td>https://www.cnbc.com/2023/04/01/millennials-mi...</td>\n",
       "    </tr>\n",
       "    <tr>\n",
       "      <th>2</th>\n",
       "      <td>If you use these 13 phrases every day, you hav...</td>\n",
       "      <td>3 Hours Ago</td>\n",
       "      <td>https://www.cnbc.com/2023/04/01/if-you-use-the...</td>\n",
       "    </tr>\n",
       "    <tr>\n",
       "      <th>3</th>\n",
       "      <td>Psychologist: This is the No. 1 way to shut do...</td>\n",
       "      <td>3 Hours Ago</td>\n",
       "      <td>https://www.cnbc.com/2023/04/01/harvard-traine...</td>\n",
       "    </tr>\n",
       "    <tr>\n",
       "      <th>4</th>\n",
       "      <td>79% of hotel guests say you should tip—but onl...</td>\n",
       "      <td>3 Hours Ago</td>\n",
       "      <td>https://www.cnbc.com/2023/04/01/how-much-to-ti...</td>\n",
       "    </tr>\n",
       "    <tr>\n",
       "      <th>5</th>\n",
       "      <td>Hot off up quarter for stocks, investors turn ...</td>\n",
       "      <td>3 Hours Ago</td>\n",
       "      <td>https://www.cnbc.com/2023/04/01/hot-off-a-posi...</td>\n",
       "    </tr>\n",
       "    <tr>\n",
       "      <th>6</th>\n",
       "      <td>30-day money challenge to get smarter and more...</td>\n",
       "      <td>3 Hours Ago</td>\n",
       "      <td>https://www.cnbc.com/2023/04/01/financial-lite...</td>\n",
       "    </tr>\n",
       "    <tr>\n",
       "      <th>7</th>\n",
       "      <td>Tipping in the United States has gotten out of...</td>\n",
       "      <td>3 Hours Ago</td>\n",
       "      <td>https://www.cnbc.com/2023/04/01/how-tipping-in...</td>\n",
       "    </tr>\n",
       "    <tr>\n",
       "      <th>8</th>\n",
       "      <td>These stocks are a must-own as market uncertai...</td>\n",
       "      <td>3 Hours Ago</td>\n",
       "      <td>https://www.cnbc.com/2023/04/01/analysts-say-b...</td>\n",
       "    </tr>\n",
       "    <tr>\n",
       "      <th>9</th>\n",
       "      <td>ETF outlook: Why Wall Street strategists aren'...</td>\n",
       "      <td>3 Hours Ago</td>\n",
       "      <td>https://www.cnbc.com/2023/04/01/quarterly-inve...</td>\n",
       "    </tr>\n",
       "    <tr>\n",
       "      <th>10</th>\n",
       "      <td>Markets and economy survived tough first quart...</td>\n",
       "      <td>3 Hours Ago</td>\n",
       "      <td>https://www.cnbc.com/2023/04/01/quarterly-inve...</td>\n",
       "    </tr>\n",
       "    <tr>\n",
       "      <th>11</th>\n",
       "      <td>Pet stocks are a hit or miss as consumer spend...</td>\n",
       "      <td>3 Hours Ago</td>\n",
       "      <td>https://www.cnbc.com/2023/03/31/pet-stocks-are...</td>\n",
       "    </tr>\n",
       "    <tr>\n",
       "      <th>12</th>\n",
       "      <td>Pro Picks: Watch all of Friday's big stock cal...</td>\n",
       "      <td>3 Hours Ago</td>\n",
       "      <td>https://www.cnbc.com/2023/03/31/pro-picks-watc...</td>\n",
       "    </tr>\n",
       "    <tr>\n",
       "      <th>13</th>\n",
       "      <td>Here are our 4 best stocks — and 4 worst stock...</td>\n",
       "      <td>3 Hours Ago</td>\n",
       "      <td>https://www.cnbc.com/2023/03/31/first-quarter-...</td>\n",
       "    </tr>\n",
       "    <tr>\n",
       "      <th>14</th>\n",
       "      <td>Judge allows Dominion's $1.6 billion defamatio...</td>\n",
       "      <td>3 Hours Ago</td>\n",
       "      <td>https://www.cnbc.com/2023/03/31/fox-motions-re...</td>\n",
       "    </tr>\n",
       "    <tr>\n",
       "      <th>15</th>\n",
       "      <td>Google founder, former Disney exec to get subp...</td>\n",
       "      <td>3 Hours Ago</td>\n",
       "      <td>https://www.cnbc.com/2023/03/31/google-founder...</td>\n",
       "    </tr>\n",
       "    <tr>\n",
       "      <th>16</th>\n",
       "      <td>Millions will start losing Medicaid coverage</td>\n",
       "      <td>3 Hours Ago</td>\n",
       "      <td>https://www.cnbc.com/2023/03/31/medicaid-milli...</td>\n",
       "    </tr>\n",
       "    <tr>\n",
       "      <th>17</th>\n",
       "      <td>Trump's campaign uses Facebook to fundraise of...</td>\n",
       "      <td>3 Hours Ago</td>\n",
       "      <td>https://www.cnbc.com/2023/03/31/trump-indictme...</td>\n",
       "    </tr>\n",
       "    <tr>\n",
       "      <th>18</th>\n",
       "      <td>Here's how Virgin Orbit fell apart</td>\n",
       "      <td>3 Hours Ago</td>\n",
       "      <td>https://www.cnbc.com/2023/03/31/virgin-orbit-w...</td>\n",
       "    </tr>\n",
       "    <tr>\n",
       "      <th>19</th>\n",
       "      <td>What to watch in the markets in the week ahead</td>\n",
       "      <td>3 Hours Ago</td>\n",
       "      <td>https://www.cnbc.com/2023/03/31/stocks-could-b...</td>\n",
       "    </tr>\n",
       "    <tr>\n",
       "      <th>20</th>\n",
       "      <td>How women are re-defining ambition to build ha...</td>\n",
       "      <td>3 Hours Ago</td>\n",
       "      <td>https://www.cnbc.com/2023/03/31/how-women-are-...</td>\n",
       "    </tr>\n",
       "    <tr>\n",
       "      <th>21</th>\n",
       "      <td>These stocks could benefit from lower tax refu...</td>\n",
       "      <td>3 Hours Ago</td>\n",
       "      <td>https://www.cnbc.com/2023/03/31/tax-refunds-ar...</td>\n",
       "    </tr>\n",
       "    <tr>\n",
       "      <th>22</th>\n",
       "      <td>U.S. appeals decision striking down free Obama...</td>\n",
       "      <td>3 Hours Ago</td>\n",
       "      <td>https://www.cnbc.com/2023/03/31/obamacare-bide...</td>\n",
       "    </tr>\n",
       "    <tr>\n",
       "      <th>23</th>\n",
       "      <td>The top 10 states with the longest life expect...</td>\n",
       "      <td>3 Hours Ago</td>\n",
       "      <td>https://www.cnbc.com/2023/03/31/top-10-states-...</td>\n",
       "    </tr>\n",
       "    <tr>\n",
       "      <th>24</th>\n",
       "      <td>This week's top S&amp;P 500 stocks include First R...</td>\n",
       "      <td>3 Hours Ago</td>\n",
       "      <td>https://www.cnbc.com/2023/03/31/weeks-top-sp-5...</td>\n",
       "    </tr>\n",
       "    <tr>\n",
       "      <th>25</th>\n",
       "      <td>‘Rust’ assistant director pleads guilty to gun...</td>\n",
       "      <td>3 Hours Ago</td>\n",
       "      <td>https://www.cnbc.com/2023/03/31/rust-assistant...</td>\n",
       "    </tr>\n",
       "    <tr>\n",
       "      <th>26</th>\n",
       "      <td>Investors 'are pretty afraid,' financial psych...</td>\n",
       "      <td>3 Hours Ago</td>\n",
       "      <td>https://www.cnbc.com/2023/03/31/financial-psyc...</td>\n",
       "    </tr>\n",
       "    <tr>\n",
       "      <th>27</th>\n",
       "      <td>Bitcoin posts its third straight positive mont...</td>\n",
       "      <td>3 Hours Ago</td>\n",
       "      <td>https://www.cnbc.com/2023/03/31/bitcoin-heads-...</td>\n",
       "    </tr>\n",
       "    <tr>\n",
       "      <th>28</th>\n",
       "      <td>Paying more and earning less: How inflation di...</td>\n",
       "      <td>3 Hours Ago</td>\n",
       "      <td>https://www.cnbc.com/2023/03/31/paying-more-an...</td>\n",
       "    </tr>\n",
       "    <tr>\n",
       "      <th>29</th>\n",
       "      <td>California to require half of all heavy trucks...</td>\n",
       "      <td>3 Hours Ago</td>\n",
       "      <td>https://www.cnbc.com/2023/03/31/california-req...</td>\n",
       "    </tr>\n",
       "  </tbody>\n",
       "</table>\n",
       "</div>"
      ],
      "text/plain": [
       "                                             Headline         Time  \\\n",
       "0   The return of Bob Iger: Disney CEO makes moves...  3 Hours Ago   \n",
       "1   Gen Zer, millennial pay under $700/month to re...  3 Hours Ago   \n",
       "2   If you use these 13 phrases every day, you hav...  3 Hours Ago   \n",
       "3   Psychologist: This is the No. 1 way to shut do...  3 Hours Ago   \n",
       "4   79% of hotel guests say you should tip—but onl...  3 Hours Ago   \n",
       "5   Hot off up quarter for stocks, investors turn ...  3 Hours Ago   \n",
       "6   30-day money challenge to get smarter and more...  3 Hours Ago   \n",
       "7   Tipping in the United States has gotten out of...  3 Hours Ago   \n",
       "8   These stocks are a must-own as market uncertai...  3 Hours Ago   \n",
       "9   ETF outlook: Why Wall Street strategists aren'...  3 Hours Ago   \n",
       "10  Markets and economy survived tough first quart...  3 Hours Ago   \n",
       "11  Pet stocks are a hit or miss as consumer spend...  3 Hours Ago   \n",
       "12  Pro Picks: Watch all of Friday's big stock cal...  3 Hours Ago   \n",
       "13  Here are our 4 best stocks — and 4 worst stock...  3 Hours Ago   \n",
       "14  Judge allows Dominion's $1.6 billion defamatio...  3 Hours Ago   \n",
       "15  Google founder, former Disney exec to get subp...  3 Hours Ago   \n",
       "16       Millions will start losing Medicaid coverage  3 Hours Ago   \n",
       "17  Trump's campaign uses Facebook to fundraise of...  3 Hours Ago   \n",
       "18                 Here's how Virgin Orbit fell apart  3 Hours Ago   \n",
       "19     What to watch in the markets in the week ahead  3 Hours Ago   \n",
       "20  How women are re-defining ambition to build ha...  3 Hours Ago   \n",
       "21  These stocks could benefit from lower tax refu...  3 Hours Ago   \n",
       "22  U.S. appeals decision striking down free Obama...  3 Hours Ago   \n",
       "23  The top 10 states with the longest life expect...  3 Hours Ago   \n",
       "24  This week's top S&P 500 stocks include First R...  3 Hours Ago   \n",
       "25  ‘Rust’ assistant director pleads guilty to gun...  3 Hours Ago   \n",
       "26  Investors 'are pretty afraid,' financial psych...  3 Hours Ago   \n",
       "27  Bitcoin posts its third straight positive mont...  3 Hours Ago   \n",
       "28  Paying more and earning less: How inflation di...  3 Hours Ago   \n",
       "29  California to require half of all heavy trucks...  3 Hours Ago   \n",
       "\n",
       "                                                  URL  \n",
       "0   https://www.cnbc.com/2023/04/01/disney-ceo-bob...  \n",
       "1   https://www.cnbc.com/2023/04/01/millennials-mi...  \n",
       "2   https://www.cnbc.com/2023/04/01/if-you-use-the...  \n",
       "3   https://www.cnbc.com/2023/04/01/harvard-traine...  \n",
       "4   https://www.cnbc.com/2023/04/01/how-much-to-ti...  \n",
       "5   https://www.cnbc.com/2023/04/01/hot-off-a-posi...  \n",
       "6   https://www.cnbc.com/2023/04/01/financial-lite...  \n",
       "7   https://www.cnbc.com/2023/04/01/how-tipping-in...  \n",
       "8   https://www.cnbc.com/2023/04/01/analysts-say-b...  \n",
       "9   https://www.cnbc.com/2023/04/01/quarterly-inve...  \n",
       "10  https://www.cnbc.com/2023/04/01/quarterly-inve...  \n",
       "11  https://www.cnbc.com/2023/03/31/pet-stocks-are...  \n",
       "12  https://www.cnbc.com/2023/03/31/pro-picks-watc...  \n",
       "13  https://www.cnbc.com/2023/03/31/first-quarter-...  \n",
       "14  https://www.cnbc.com/2023/03/31/fox-motions-re...  \n",
       "15  https://www.cnbc.com/2023/03/31/google-founder...  \n",
       "16  https://www.cnbc.com/2023/03/31/medicaid-milli...  \n",
       "17  https://www.cnbc.com/2023/03/31/trump-indictme...  \n",
       "18  https://www.cnbc.com/2023/03/31/virgin-orbit-w...  \n",
       "19  https://www.cnbc.com/2023/03/31/stocks-could-b...  \n",
       "20  https://www.cnbc.com/2023/03/31/how-women-are-...  \n",
       "21  https://www.cnbc.com/2023/03/31/tax-refunds-ar...  \n",
       "22  https://www.cnbc.com/2023/03/31/obamacare-bide...  \n",
       "23  https://www.cnbc.com/2023/03/31/top-10-states-...  \n",
       "24  https://www.cnbc.com/2023/03/31/weeks-top-sp-5...  \n",
       "25  https://www.cnbc.com/2023/03/31/rust-assistant...  \n",
       "26  https://www.cnbc.com/2023/03/31/financial-psyc...  \n",
       "27  https://www.cnbc.com/2023/03/31/bitcoin-heads-...  \n",
       "28  https://www.cnbc.com/2023/03/31/paying-more-an...  \n",
       "29  https://www.cnbc.com/2023/03/31/california-req...  "
      ]
     },
     "execution_count": 311,
     "metadata": {},
     "output_type": "execute_result"
    }
   ],
   "source": [
    "d"
   ]
  },
  {
   "cell_type": "markdown",
   "id": "43fa12f6",
   "metadata": {},
   "source": [
    "# Answer 8"
   ]
  },
  {
   "cell_type": "code",
   "execution_count": 312,
   "id": "c60f9c2f",
   "metadata": {},
   "outputs": [],
   "source": [
    "ai=requests.get('https://www.journals.elsevier.com/artificial-intelligence/most-downloaded-articles')"
   ]
  },
  {
   "cell_type": "code",
   "execution_count": 313,
   "id": "e33df631",
   "metadata": {},
   "outputs": [
    {
     "data": {
      "text/plain": [
       "<Response [200]>"
      ]
     },
     "execution_count": 313,
     "metadata": {},
     "output_type": "execute_result"
    }
   ],
   "source": [
    "ai"
   ]
  },
  {
   "cell_type": "code",
   "execution_count": 314,
   "id": "7f34f24b",
   "metadata": {},
   "outputs": [],
   "source": [
    "soup=BeautifulSoup(ai.content)"
   ]
  },
  {
   "cell_type": "code",
   "execution_count": 315,
   "id": "9d3e6748",
   "metadata": {},
   "outputs": [],
   "source": [
    "title=soup.find('h2',class_=\"sc-1qrq3sd-1 gRGSUS sc-1nmom32-0 sc-1nmom32-1 btcbYu goSKRg\")"
   ]
  },
  {
   "cell_type": "code",
   "execution_count": 316,
   "id": "3a28e526",
   "metadata": {},
   "outputs": [
    {
     "data": {
      "text/plain": [
       "'Reward is enough'"
      ]
     },
     "execution_count": 316,
     "metadata": {},
     "output_type": "execute_result"
    }
   ],
   "source": [
    "title.text"
   ]
  },
  {
   "cell_type": "code",
   "execution_count": 317,
   "id": "91efc2ab",
   "metadata": {},
   "outputs": [],
   "source": [
    "titles=[]\n",
    "\n",
    "for t in soup.find_all('h2',class_=\"sc-1qrq3sd-1 gRGSUS sc-1nmom32-0 sc-1nmom32-1 btcbYu goSKRg\"):\n",
    "    titles.append(t.text)"
   ]
  },
  {
   "cell_type": "code",
   "execution_count": 318,
   "id": "f4192a13",
   "metadata": {},
   "outputs": [
    {
     "data": {
      "text/plain": [
       "['Reward is enough',\n",
       " 'Making sense of raw input',\n",
       " 'Law and logic: A review from an argumentation perspective',\n",
       " 'Creativity and artificial intelligence',\n",
       " 'Artificial cognition for social human–robot interaction: An implementation',\n",
       " 'Explanation in artificial intelligence: Insights from the social sciences',\n",
       " 'Making sense of sensory input',\n",
       " 'Conflict-based search for optimal multi-agent pathfinding',\n",
       " 'Between MDPs and semi-MDPs: A framework for temporal abstraction in reinforcement learning',\n",
       " 'The Hanabi challenge: A new frontier for AI research',\n",
       " 'Evaluating XAI: A comparison of rule-based and example-based explanations',\n",
       " 'Argumentation in artificial intelligence',\n",
       " 'Algorithms for computing strategies in two-player simultaneous move games',\n",
       " 'Multiple object tracking: A literature review',\n",
       " 'Selection of relevant features and examples in machine learning',\n",
       " 'A survey of inverse reinforcement learning: Challenges, methods and progress',\n",
       " 'Explaining individual predictions when features are dependent: More accurate approximations to Shapley values',\n",
       " 'A review of possible effects of cognitive biases on interpretation of rule-based machine learning models',\n",
       " 'Integrating social power into the decision-making of cognitive agents',\n",
       " \"“That's (not) the output I expected!” On the role of end user expectations in creating explanations of AI systems\",\n",
       " 'Explaining black-box classifiers using post-hoc explanations-by-example: The effect of explanations and error-rates in XAI user studies',\n",
       " 'Algorithm runtime prediction: Methods & evaluation',\n",
       " 'Wrappers for feature subset selection',\n",
       " 'Commonsense visual sensemaking for autonomous driving – On generalised neurosymbolic online abduction integrating vision and semantics',\n",
       " 'Quantum computation, quantum theory and AI']"
      ]
     },
     "execution_count": 318,
     "metadata": {},
     "output_type": "execute_result"
    }
   ],
   "source": [
    "titles"
   ]
  },
  {
   "cell_type": "code",
   "execution_count": 319,
   "id": "286c207c",
   "metadata": {},
   "outputs": [],
   "source": [
    "ps=soup.find('span',class_=\"sc-1w3fpd7-0 dnCnAO\")"
   ]
  },
  {
   "cell_type": "code",
   "execution_count": 320,
   "id": "4d5d8d04",
   "metadata": {},
   "outputs": [
    {
     "data": {
      "text/plain": [
       "'Silver, David, Singh, Satinder, Precup, Doina, Sutton, Richard S. '"
      ]
     },
     "execution_count": 320,
     "metadata": {},
     "output_type": "execute_result"
    }
   ],
   "source": [
    "ps.text"
   ]
  },
  {
   "cell_type": "code",
   "execution_count": 321,
   "id": "676382a9",
   "metadata": {},
   "outputs": [],
   "source": [
    "publisher=[]\n",
    "\n",
    "for p in soup.find_all('span',class_=\"sc-1w3fpd7-0 dnCnAO\"):\n",
    "    publisher.append(p.text)"
   ]
  },
  {
   "cell_type": "code",
   "execution_count": 322,
   "id": "8e796310",
   "metadata": {},
   "outputs": [
    {
     "data": {
      "text/plain": [
       "['Silver, David, Singh, Satinder, Precup, Doina, Sutton, Richard S. ',\n",
       " 'Evans, Richard, Bošnjak, Matko and 5 more',\n",
       " 'Prakken, Henry, Sartor, Giovanni ',\n",
       " 'Boden, Margaret A. ',\n",
       " 'Lemaignan, Séverin, Warnier, Mathieu and 3 more',\n",
       " 'Miller, Tim ',\n",
       " 'Evans, Richard, Hernández-Orallo, José and 3 more',\n",
       " 'Sharon, Guni, Stern, Roni, Felner, Ariel, Sturtevant, Nathan R. ',\n",
       " 'Sutton, Richard S., Precup, Doina, Singh, Satinder ',\n",
       " 'Bard, Nolan, Foerster, Jakob N. and 13 more',\n",
       " 'van der Waa, Jasper, Nieuwburg, Elisabeth, Cremers, Anita, Neerincx, Mark ',\n",
       " 'Bench-Capon, T.J.M., Dunne, Paul E. ',\n",
       " 'Bošanský, Branislav, Lisý, Viliam and 3 more',\n",
       " 'Luo, Wenhan, Xing, Junliang and 4 more',\n",
       " 'Blum, Avrim L., Langley, Pat ',\n",
       " 'Arora, Saurabh, Doshi, Prashant ',\n",
       " 'Aas, Kjersti, Jullum, Martin, Løland, Anders ',\n",
       " 'Kliegr, Tomáš, Bahník, Štěpán, Fürnkranz, Johannes ',\n",
       " 'Pereira, Gonçalo, Prada, Rui, Santos, Pedro A. ',\n",
       " 'Riveiro, Maria, Thill, Serge ',\n",
       " 'Kenny, Eoin M., Ford, Courtney, Quinn, Molly, Keane, Mark T. ',\n",
       " 'Hutter, Frank, Xu, Lin, Hoos, Holger H., Leyton-Brown, Kevin ',\n",
       " 'Kohavi, Ron, John, George H. ',\n",
       " 'Suchan, Jakob, Bhatt, Mehul, Varadarajan, Srikrishna ',\n",
       " 'Ying, Mingsheng ']"
      ]
     },
     "execution_count": 322,
     "metadata": {},
     "output_type": "execute_result"
    }
   ],
   "source": [
    "publisher"
   ]
  },
  {
   "cell_type": "code",
   "execution_count": 323,
   "id": "7e82e041",
   "metadata": {},
   "outputs": [],
   "source": [
    "d=soup.find('span',class_=\"sc-1thf9ly-2 dvggWt\")"
   ]
  },
  {
   "cell_type": "code",
   "execution_count": 324,
   "id": "5c7dabd0",
   "metadata": {},
   "outputs": [
    {
     "data": {
      "text/plain": [
       "'October 2021'"
      ]
     },
     "execution_count": 324,
     "metadata": {},
     "output_type": "execute_result"
    }
   ],
   "source": [
    "d.text"
   ]
  },
  {
   "cell_type": "code",
   "execution_count": 325,
   "id": "7e243c86",
   "metadata": {},
   "outputs": [],
   "source": [
    "dates=[]\n",
    "\n",
    "for dt in soup.find_all('span',class_=\"sc-1thf9ly-2 dvggWt\"):\n",
    "    dates.append(dt.text)"
   ]
  },
  {
   "cell_type": "code",
   "execution_count": 326,
   "id": "605965e8",
   "metadata": {},
   "outputs": [
    {
     "data": {
      "text/plain": [
       "['October 2021',\n",
       " 'October 2021',\n",
       " 'October 2015',\n",
       " 'August 1998',\n",
       " 'June 2017',\n",
       " 'February 2019',\n",
       " 'April 2021',\n",
       " 'February 2015',\n",
       " 'August 1999',\n",
       " 'March 2020',\n",
       " 'February 2021',\n",
       " 'October 2007',\n",
       " 'August 2016',\n",
       " 'April 2021',\n",
       " 'December 1997',\n",
       " 'August 2021',\n",
       " 'September 2021',\n",
       " 'June 2021',\n",
       " 'December 2016',\n",
       " 'September 2021',\n",
       " 'May 2021',\n",
       " 'January 2014',\n",
       " 'December 1997',\n",
       " 'October 2021',\n",
       " 'February 2010']"
      ]
     },
     "execution_count": 326,
     "metadata": {},
     "output_type": "execute_result"
    }
   ],
   "source": [
    "dates"
   ]
  },
  {
   "cell_type": "code",
   "execution_count": 327,
   "id": "689f0b9c",
   "metadata": {},
   "outputs": [],
   "source": [
    "u=soup.find('a',class_=\"sc-5smygv-0 fIXTHm\")"
   ]
  },
  {
   "cell_type": "code",
   "execution_count": 328,
   "id": "0ccdfdcd",
   "metadata": {},
   "outputs": [],
   "source": [
    "url1=u.get('href')"
   ]
  },
  {
   "cell_type": "code",
   "execution_count": 329,
   "id": "3fc1c2fc",
   "metadata": {},
   "outputs": [
    {
     "data": {
      "text/plain": [
       "'https://www.sciencedirect.com/science/article/pii/S0004370221000862'"
      ]
     },
     "execution_count": 329,
     "metadata": {},
     "output_type": "execute_result"
    }
   ],
   "source": [
    "url1"
   ]
  },
  {
   "cell_type": "code",
   "execution_count": 330,
   "id": "df35c67e",
   "metadata": {},
   "outputs": [],
   "source": [
    "urls=[]\n",
    "for u in soup.find_all('a',class_=\"sc-5smygv-0 fIXTHm\"):\n",
    "    urls.append(u.get('href'))"
   ]
  },
  {
   "cell_type": "code",
   "execution_count": 331,
   "id": "2a02cec5",
   "metadata": {},
   "outputs": [
    {
     "data": {
      "text/plain": [
       "['https://www.sciencedirect.com/science/article/pii/S0004370221000862',\n",
       " 'https://www.sciencedirect.com/science/article/pii/S0004370221000722',\n",
       " 'https://www.sciencedirect.com/science/article/pii/S0004370215000910',\n",
       " 'https://www.sciencedirect.com/science/article/pii/S0004370298000551',\n",
       " 'https://www.sciencedirect.com/science/article/pii/S0004370216300790',\n",
       " 'https://www.sciencedirect.com/science/article/pii/S0004370218305988',\n",
       " 'https://www.sciencedirect.com/science/article/pii/S0004370220301855',\n",
       " 'https://www.sciencedirect.com/science/article/pii/S0004370214001386',\n",
       " 'https://www.sciencedirect.com/science/article/pii/S0004370299000521',\n",
       " 'https://www.sciencedirect.com/science/article/pii/S0004370219300116',\n",
       " 'https://www.sciencedirect.com/science/article/pii/S0004370220301533',\n",
       " 'https://www.sciencedirect.com/science/article/pii/S0004370207000793',\n",
       " 'https://www.sciencedirect.com/science/article/pii/S0004370216300285',\n",
       " 'https://www.sciencedirect.com/science/article/pii/S0004370220301958',\n",
       " 'https://www.sciencedirect.com/science/article/pii/S0004370297000635',\n",
       " 'https://www.sciencedirect.com/science/article/pii/S0004370221000515',\n",
       " 'https://www.sciencedirect.com/science/article/pii/S0004370221000539',\n",
       " 'https://www.sciencedirect.com/science/article/pii/S0004370221000096',\n",
       " 'https://www.sciencedirect.com/science/article/pii/S0004370216300868',\n",
       " 'https://www.sciencedirect.com/science/article/pii/S0004370221000588',\n",
       " 'https://www.sciencedirect.com/science/article/pii/S0004370221000102',\n",
       " 'https://www.sciencedirect.com/science/article/pii/S0004370213001082',\n",
       " 'https://www.sciencedirect.com/science/article/pii/S000437029700043X',\n",
       " 'https://www.sciencedirect.com/science/article/pii/S0004370221000734',\n",
       " 'https://www.sciencedirect.com/science/article/pii/S0004370209001398']"
      ]
     },
     "execution_count": 331,
     "metadata": {},
     "output_type": "execute_result"
    }
   ],
   "source": [
    "\n",
    "urls"
   ]
  },
  {
   "cell_type": "code",
   "execution_count": 332,
   "id": "ac1532f3",
   "metadata": {},
   "outputs": [],
   "source": [
    "df=pd.DataFrame({'Title':titles,'Publisher':publisher,'Dates':dates,'URL':urls})"
   ]
  },
  {
   "cell_type": "code",
   "execution_count": 333,
   "id": "1ca1d182",
   "metadata": {},
   "outputs": [
    {
     "data": {
      "text/html": [
       "<div>\n",
       "<style scoped>\n",
       "    .dataframe tbody tr th:only-of-type {\n",
       "        vertical-align: middle;\n",
       "    }\n",
       "\n",
       "    .dataframe tbody tr th {\n",
       "        vertical-align: top;\n",
       "    }\n",
       "\n",
       "    .dataframe thead th {\n",
       "        text-align: right;\n",
       "    }\n",
       "</style>\n",
       "<table border=\"1\" class=\"dataframe\">\n",
       "  <thead>\n",
       "    <tr style=\"text-align: right;\">\n",
       "      <th></th>\n",
       "      <th>Title</th>\n",
       "      <th>Publisher</th>\n",
       "      <th>Dates</th>\n",
       "      <th>URL</th>\n",
       "    </tr>\n",
       "  </thead>\n",
       "  <tbody>\n",
       "    <tr>\n",
       "      <th>0</th>\n",
       "      <td>Reward is enough</td>\n",
       "      <td>Silver, David, Singh, Satinder, Precup, Doina,...</td>\n",
       "      <td>October 2021</td>\n",
       "      <td>https://www.sciencedirect.com/science/article/...</td>\n",
       "    </tr>\n",
       "    <tr>\n",
       "      <th>1</th>\n",
       "      <td>Making sense of raw input</td>\n",
       "      <td>Evans, Richard, Bošnjak, Matko and 5 more</td>\n",
       "      <td>October 2021</td>\n",
       "      <td>https://www.sciencedirect.com/science/article/...</td>\n",
       "    </tr>\n",
       "    <tr>\n",
       "      <th>2</th>\n",
       "      <td>Law and logic: A review from an argumentation ...</td>\n",
       "      <td>Prakken, Henry, Sartor, Giovanni</td>\n",
       "      <td>October 2015</td>\n",
       "      <td>https://www.sciencedirect.com/science/article/...</td>\n",
       "    </tr>\n",
       "    <tr>\n",
       "      <th>3</th>\n",
       "      <td>Creativity and artificial intelligence</td>\n",
       "      <td>Boden, Margaret A.</td>\n",
       "      <td>August 1998</td>\n",
       "      <td>https://www.sciencedirect.com/science/article/...</td>\n",
       "    </tr>\n",
       "    <tr>\n",
       "      <th>4</th>\n",
       "      <td>Artificial cognition for social human–robot in...</td>\n",
       "      <td>Lemaignan, Séverin, Warnier, Mathieu and 3 more</td>\n",
       "      <td>June 2017</td>\n",
       "      <td>https://www.sciencedirect.com/science/article/...</td>\n",
       "    </tr>\n",
       "    <tr>\n",
       "      <th>5</th>\n",
       "      <td>Explanation in artificial intelligence: Insigh...</td>\n",
       "      <td>Miller, Tim</td>\n",
       "      <td>February 2019</td>\n",
       "      <td>https://www.sciencedirect.com/science/article/...</td>\n",
       "    </tr>\n",
       "    <tr>\n",
       "      <th>6</th>\n",
       "      <td>Making sense of sensory input</td>\n",
       "      <td>Evans, Richard, Hernández-Orallo, José and 3 more</td>\n",
       "      <td>April 2021</td>\n",
       "      <td>https://www.sciencedirect.com/science/article/...</td>\n",
       "    </tr>\n",
       "    <tr>\n",
       "      <th>7</th>\n",
       "      <td>Conflict-based search for optimal multi-agent ...</td>\n",
       "      <td>Sharon, Guni, Stern, Roni, Felner, Ariel, Stur...</td>\n",
       "      <td>February 2015</td>\n",
       "      <td>https://www.sciencedirect.com/science/article/...</td>\n",
       "    </tr>\n",
       "    <tr>\n",
       "      <th>8</th>\n",
       "      <td>Between MDPs and semi-MDPs: A framework for te...</td>\n",
       "      <td>Sutton, Richard S., Precup, Doina, Singh, Sati...</td>\n",
       "      <td>August 1999</td>\n",
       "      <td>https://www.sciencedirect.com/science/article/...</td>\n",
       "    </tr>\n",
       "    <tr>\n",
       "      <th>9</th>\n",
       "      <td>The Hanabi challenge: A new frontier for AI re...</td>\n",
       "      <td>Bard, Nolan, Foerster, Jakob N. and 13 more</td>\n",
       "      <td>March 2020</td>\n",
       "      <td>https://www.sciencedirect.com/science/article/...</td>\n",
       "    </tr>\n",
       "    <tr>\n",
       "      <th>10</th>\n",
       "      <td>Evaluating XAI: A comparison of rule-based and...</td>\n",
       "      <td>van der Waa, Jasper, Nieuwburg, Elisabeth, Cre...</td>\n",
       "      <td>February 2021</td>\n",
       "      <td>https://www.sciencedirect.com/science/article/...</td>\n",
       "    </tr>\n",
       "    <tr>\n",
       "      <th>11</th>\n",
       "      <td>Argumentation in artificial intelligence</td>\n",
       "      <td>Bench-Capon, T.J.M., Dunne, Paul E.</td>\n",
       "      <td>October 2007</td>\n",
       "      <td>https://www.sciencedirect.com/science/article/...</td>\n",
       "    </tr>\n",
       "    <tr>\n",
       "      <th>12</th>\n",
       "      <td>Algorithms for computing strategies in two-pla...</td>\n",
       "      <td>Bošanský, Branislav, Lisý, Viliam and 3 more</td>\n",
       "      <td>August 2016</td>\n",
       "      <td>https://www.sciencedirect.com/science/article/...</td>\n",
       "    </tr>\n",
       "    <tr>\n",
       "      <th>13</th>\n",
       "      <td>Multiple object tracking: A literature review</td>\n",
       "      <td>Luo, Wenhan, Xing, Junliang and 4 more</td>\n",
       "      <td>April 2021</td>\n",
       "      <td>https://www.sciencedirect.com/science/article/...</td>\n",
       "    </tr>\n",
       "    <tr>\n",
       "      <th>14</th>\n",
       "      <td>Selection of relevant features and examples in...</td>\n",
       "      <td>Blum, Avrim L., Langley, Pat</td>\n",
       "      <td>December 1997</td>\n",
       "      <td>https://www.sciencedirect.com/science/article/...</td>\n",
       "    </tr>\n",
       "    <tr>\n",
       "      <th>15</th>\n",
       "      <td>A survey of inverse reinforcement learning: Ch...</td>\n",
       "      <td>Arora, Saurabh, Doshi, Prashant</td>\n",
       "      <td>August 2021</td>\n",
       "      <td>https://www.sciencedirect.com/science/article/...</td>\n",
       "    </tr>\n",
       "    <tr>\n",
       "      <th>16</th>\n",
       "      <td>Explaining individual predictions when feature...</td>\n",
       "      <td>Aas, Kjersti, Jullum, Martin, Løland, Anders</td>\n",
       "      <td>September 2021</td>\n",
       "      <td>https://www.sciencedirect.com/science/article/...</td>\n",
       "    </tr>\n",
       "    <tr>\n",
       "      <th>17</th>\n",
       "      <td>A review of possible effects of cognitive bias...</td>\n",
       "      <td>Kliegr, Tomáš, Bahník, Štěpán, Fürnkranz, Joha...</td>\n",
       "      <td>June 2021</td>\n",
       "      <td>https://www.sciencedirect.com/science/article/...</td>\n",
       "    </tr>\n",
       "    <tr>\n",
       "      <th>18</th>\n",
       "      <td>Integrating social power into the decision-mak...</td>\n",
       "      <td>Pereira, Gonçalo, Prada, Rui, Santos, Pedro A.</td>\n",
       "      <td>December 2016</td>\n",
       "      <td>https://www.sciencedirect.com/science/article/...</td>\n",
       "    </tr>\n",
       "    <tr>\n",
       "      <th>19</th>\n",
       "      <td>“That's (not) the output I expected!” On the r...</td>\n",
       "      <td>Riveiro, Maria, Thill, Serge</td>\n",
       "      <td>September 2021</td>\n",
       "      <td>https://www.sciencedirect.com/science/article/...</td>\n",
       "    </tr>\n",
       "    <tr>\n",
       "      <th>20</th>\n",
       "      <td>Explaining black-box classifiers using post-ho...</td>\n",
       "      <td>Kenny, Eoin M., Ford, Courtney, Quinn, Molly, ...</td>\n",
       "      <td>May 2021</td>\n",
       "      <td>https://www.sciencedirect.com/science/article/...</td>\n",
       "    </tr>\n",
       "    <tr>\n",
       "      <th>21</th>\n",
       "      <td>Algorithm runtime prediction: Methods &amp; evalua...</td>\n",
       "      <td>Hutter, Frank, Xu, Lin, Hoos, Holger H., Leyto...</td>\n",
       "      <td>January 2014</td>\n",
       "      <td>https://www.sciencedirect.com/science/article/...</td>\n",
       "    </tr>\n",
       "    <tr>\n",
       "      <th>22</th>\n",
       "      <td>Wrappers for feature subset selection</td>\n",
       "      <td>Kohavi, Ron, John, George H.</td>\n",
       "      <td>December 1997</td>\n",
       "      <td>https://www.sciencedirect.com/science/article/...</td>\n",
       "    </tr>\n",
       "    <tr>\n",
       "      <th>23</th>\n",
       "      <td>Commonsense visual sensemaking for autonomous ...</td>\n",
       "      <td>Suchan, Jakob, Bhatt, Mehul, Varadarajan, Srik...</td>\n",
       "      <td>October 2021</td>\n",
       "      <td>https://www.sciencedirect.com/science/article/...</td>\n",
       "    </tr>\n",
       "    <tr>\n",
       "      <th>24</th>\n",
       "      <td>Quantum computation, quantum theory and AI</td>\n",
       "      <td>Ying, Mingsheng</td>\n",
       "      <td>February 2010</td>\n",
       "      <td>https://www.sciencedirect.com/science/article/...</td>\n",
       "    </tr>\n",
       "  </tbody>\n",
       "</table>\n",
       "</div>"
      ],
      "text/plain": [
       "                                                Title  \\\n",
       "0                                    Reward is enough   \n",
       "1                           Making sense of raw input   \n",
       "2   Law and logic: A review from an argumentation ...   \n",
       "3              Creativity and artificial intelligence   \n",
       "4   Artificial cognition for social human–robot in...   \n",
       "5   Explanation in artificial intelligence: Insigh...   \n",
       "6                       Making sense of sensory input   \n",
       "7   Conflict-based search for optimal multi-agent ...   \n",
       "8   Between MDPs and semi-MDPs: A framework for te...   \n",
       "9   The Hanabi challenge: A new frontier for AI re...   \n",
       "10  Evaluating XAI: A comparison of rule-based and...   \n",
       "11           Argumentation in artificial intelligence   \n",
       "12  Algorithms for computing strategies in two-pla...   \n",
       "13      Multiple object tracking: A literature review   \n",
       "14  Selection of relevant features and examples in...   \n",
       "15  A survey of inverse reinforcement learning: Ch...   \n",
       "16  Explaining individual predictions when feature...   \n",
       "17  A review of possible effects of cognitive bias...   \n",
       "18  Integrating social power into the decision-mak...   \n",
       "19  “That's (not) the output I expected!” On the r...   \n",
       "20  Explaining black-box classifiers using post-ho...   \n",
       "21  Algorithm runtime prediction: Methods & evalua...   \n",
       "22              Wrappers for feature subset selection   \n",
       "23  Commonsense visual sensemaking for autonomous ...   \n",
       "24         Quantum computation, quantum theory and AI   \n",
       "\n",
       "                                            Publisher           Dates  \\\n",
       "0   Silver, David, Singh, Satinder, Precup, Doina,...    October 2021   \n",
       "1           Evans, Richard, Bošnjak, Matko and 5 more    October 2021   \n",
       "2                   Prakken, Henry, Sartor, Giovanni     October 2015   \n",
       "3                                 Boden, Margaret A.      August 1998   \n",
       "4     Lemaignan, Séverin, Warnier, Mathieu and 3 more       June 2017   \n",
       "5                                        Miller, Tim    February 2019   \n",
       "6   Evans, Richard, Hernández-Orallo, José and 3 more      April 2021   \n",
       "7   Sharon, Guni, Stern, Roni, Felner, Ariel, Stur...   February 2015   \n",
       "8   Sutton, Richard S., Precup, Doina, Singh, Sati...     August 1999   \n",
       "9         Bard, Nolan, Foerster, Jakob N. and 13 more      March 2020   \n",
       "10  van der Waa, Jasper, Nieuwburg, Elisabeth, Cre...   February 2021   \n",
       "11               Bench-Capon, T.J.M., Dunne, Paul E.     October 2007   \n",
       "12       Bošanský, Branislav, Lisý, Viliam and 3 more     August 2016   \n",
       "13             Luo, Wenhan, Xing, Junliang and 4 more      April 2021   \n",
       "14                      Blum, Avrim L., Langley, Pat    December 1997   \n",
       "15                   Arora, Saurabh, Doshi, Prashant      August 2021   \n",
       "16      Aas, Kjersti, Jullum, Martin, Løland, Anders   September 2021   \n",
       "17  Kliegr, Tomáš, Bahník, Štěpán, Fürnkranz, Joha...       June 2021   \n",
       "18    Pereira, Gonçalo, Prada, Rui, Santos, Pedro A.    December 2016   \n",
       "19                      Riveiro, Maria, Thill, Serge   September 2021   \n",
       "20  Kenny, Eoin M., Ford, Courtney, Quinn, Molly, ...        May 2021   \n",
       "21  Hutter, Frank, Xu, Lin, Hoos, Holger H., Leyto...    January 2014   \n",
       "22                      Kohavi, Ron, John, George H.    December 1997   \n",
       "23  Suchan, Jakob, Bhatt, Mehul, Varadarajan, Srik...    October 2021   \n",
       "24                                   Ying, Mingsheng    February 2010   \n",
       "\n",
       "                                                  URL  \n",
       "0   https://www.sciencedirect.com/science/article/...  \n",
       "1   https://www.sciencedirect.com/science/article/...  \n",
       "2   https://www.sciencedirect.com/science/article/...  \n",
       "3   https://www.sciencedirect.com/science/article/...  \n",
       "4   https://www.sciencedirect.com/science/article/...  \n",
       "5   https://www.sciencedirect.com/science/article/...  \n",
       "6   https://www.sciencedirect.com/science/article/...  \n",
       "7   https://www.sciencedirect.com/science/article/...  \n",
       "8   https://www.sciencedirect.com/science/article/...  \n",
       "9   https://www.sciencedirect.com/science/article/...  \n",
       "10  https://www.sciencedirect.com/science/article/...  \n",
       "11  https://www.sciencedirect.com/science/article/...  \n",
       "12  https://www.sciencedirect.com/science/article/...  \n",
       "13  https://www.sciencedirect.com/science/article/...  \n",
       "14  https://www.sciencedirect.com/science/article/...  \n",
       "15  https://www.sciencedirect.com/science/article/...  \n",
       "16  https://www.sciencedirect.com/science/article/...  \n",
       "17  https://www.sciencedirect.com/science/article/...  \n",
       "18  https://www.sciencedirect.com/science/article/...  \n",
       "19  https://www.sciencedirect.com/science/article/...  \n",
       "20  https://www.sciencedirect.com/science/article/...  \n",
       "21  https://www.sciencedirect.com/science/article/...  \n",
       "22  https://www.sciencedirect.com/science/article/...  \n",
       "23  https://www.sciencedirect.com/science/article/...  \n",
       "24  https://www.sciencedirect.com/science/article/...  "
      ]
     },
     "execution_count": 333,
     "metadata": {},
     "output_type": "execute_result"
    }
   ],
   "source": [
    "df"
   ]
  },
  {
   "cell_type": "markdown",
   "id": "db8baba5",
   "metadata": {},
   "source": [
    "# Answer 9"
   ]
  },
  {
   "cell_type": "code",
   "execution_count": 334,
   "id": "de46f88d",
   "metadata": {},
   "outputs": [],
   "source": [
    "page=requests.get('https://www.dineout.co.in/delhi-restaurants/buffet-special')"
   ]
  },
  {
   "cell_type": "code",
   "execution_count": 335,
   "id": "26ea62a0",
   "metadata": {},
   "outputs": [
    {
     "data": {
      "text/plain": [
       "<Response [200]>"
      ]
     },
     "execution_count": 335,
     "metadata": {},
     "output_type": "execute_result"
    }
   ],
   "source": [
    "page"
   ]
  },
  {
   "cell_type": "code",
   "execution_count": 336,
   "id": "59bb62f4",
   "metadata": {},
   "outputs": [],
   "source": [
    "soup=BeautifulSoup(page.content)"
   ]
  },
  {
   "cell_type": "code",
   "execution_count": 337,
   "id": "5056e025",
   "metadata": {},
   "outputs": [],
   "source": [
    "name=soup.find('a',class_=\"restnt-name ellipsis\")"
   ]
  },
  {
   "cell_type": "code",
   "execution_count": 338,
   "id": "ee5010a0",
   "metadata": {},
   "outputs": [
    {
     "data": {
      "text/plain": [
       "'Castle Barbeque'"
      ]
     },
     "execution_count": 338,
     "metadata": {},
     "output_type": "execute_result"
    }
   ],
   "source": [
    "name.text"
   ]
  },
  {
   "cell_type": "code",
   "execution_count": 339,
   "id": "a032440d",
   "metadata": {},
   "outputs": [],
   "source": [
    "names=[]\n",
    "\n",
    "for n in soup.find_all('a',class_=\"restnt-name ellipsis\"):\n",
    "    names.append(n.text)"
   ]
  },
  {
   "cell_type": "code",
   "execution_count": 340,
   "id": "672c52f5",
   "metadata": {},
   "outputs": [
    {
     "data": {
      "text/plain": [
       "['Castle Barbeque',\n",
       " 'Jungle Jamboree',\n",
       " 'Cafe Knosh',\n",
       " 'Castle Barbeque',\n",
       " 'The Barbeque Company',\n",
       " 'India Grill',\n",
       " 'Delhi Barbeque',\n",
       " 'The Monarch - Bar Be Que Village',\n",
       " 'Indian Grill Room']"
      ]
     },
     "execution_count": 340,
     "metadata": {},
     "output_type": "execute_result"
    }
   ],
   "source": [
    "names"
   ]
  },
  {
   "cell_type": "code",
   "execution_count": 341,
   "id": "34f57ade",
   "metadata": {},
   "outputs": [],
   "source": [
    "c=soup.find('span',class_=\"double-line-ellipsis\")"
   ]
  },
  {
   "cell_type": "code",
   "execution_count": 342,
   "id": "1559bb46",
   "metadata": {},
   "outputs": [
    {
     "data": {
      "text/plain": [
       "'₹ 2,000 for 2 (approx) | Chinese, North Indian'"
      ]
     },
     "execution_count": 342,
     "metadata": {},
     "output_type": "execute_result"
    }
   ],
   "source": [
    "c.text"
   ]
  },
  {
   "cell_type": "code",
   "execution_count": 343,
   "id": "685790a2",
   "metadata": {},
   "outputs": [
    {
     "data": {
      "text/plain": [
       "' Chinese, North Indian'"
      ]
     },
     "execution_count": 343,
     "metadata": {},
     "output_type": "execute_result"
    }
   ],
   "source": [
    "c.text.split('|')[1]"
   ]
  },
  {
   "cell_type": "code",
   "execution_count": 344,
   "id": "004006e2",
   "metadata": {},
   "outputs": [],
   "source": [
    "cuisine=[]\n",
    "\n",
    "for cu in soup.find_all('span',class_=\"double-line-ellipsis\"):\n",
    "    cuisine.append(cu.text.split('|')[1])"
   ]
  },
  {
   "cell_type": "code",
   "execution_count": 345,
   "id": "f7d8f21e",
   "metadata": {},
   "outputs": [
    {
     "data": {
      "text/plain": [
       "[' Chinese, North Indian',\n",
       " ' North Indian, Asian, Italian',\n",
       " ' Italian, Continental',\n",
       " ' Chinese, North Indian',\n",
       " ' North Indian, Chinese',\n",
       " ' North Indian, Italian',\n",
       " ' North Indian',\n",
       " ' North Indian',\n",
       " ' North Indian, Mughlai']"
      ]
     },
     "execution_count": 345,
     "metadata": {},
     "output_type": "execute_result"
    }
   ],
   "source": [
    "cuisine"
   ]
  },
  {
   "cell_type": "code",
   "execution_count": 346,
   "id": "6bee0086",
   "metadata": {},
   "outputs": [],
   "source": [
    "loc=soup.find('div',class_=\"restnt-loc ellipsis\")"
   ]
  },
  {
   "cell_type": "code",
   "execution_count": 347,
   "id": "1c1edbc0",
   "metadata": {},
   "outputs": [
    {
     "data": {
      "text/plain": [
       "'Connaught Place, Central Delhi'"
      ]
     },
     "execution_count": 347,
     "metadata": {},
     "output_type": "execute_result"
    }
   ],
   "source": [
    "loc.text"
   ]
  },
  {
   "cell_type": "code",
   "execution_count": 348,
   "id": "6cf57ca6",
   "metadata": {},
   "outputs": [
    {
     "data": {
      "text/plain": [
       "['Connaught Place, Central Delhi',\n",
       " '3CS Mall,Lajpat Nagar - 3, South Delhi',\n",
       " 'The Leela Ambience Convention Hotel,Shahdara, East Delhi',\n",
       " 'Pacific Mall,Tagore Garden, West Delhi',\n",
       " 'Gardens Galleria,Sector 38A, Noida',\n",
       " 'Hilton Garden Inn,Saket, South Delhi',\n",
       " 'Taurus Sarovar Portico,Mahipalpur, South Delhi',\n",
       " 'Indirapuram Habitat Centre,Indirapuram, Ghaziabad',\n",
       " 'Suncity Business Tower,Golf Course Road, Gurgaon']"
      ]
     },
     "execution_count": 348,
     "metadata": {},
     "output_type": "execute_result"
    }
   ],
   "source": [
    "locs=[]\n",
    "\n",
    "for l in soup.find_all('div',class_=\"restnt-loc ellipsis\"):\n",
    "    locs.append(l.text)\n",
    "\n",
    "locs"
   ]
  },
  {
   "cell_type": "code",
   "execution_count": 349,
   "id": "4402b2cb",
   "metadata": {},
   "outputs": [],
   "source": [
    "rate=soup.find('div',class_=\"restnt-rating rating-4\")"
   ]
  },
  {
   "cell_type": "code",
   "execution_count": 350,
   "id": "5a30a6ee",
   "metadata": {},
   "outputs": [
    {
     "data": {
      "text/plain": [
       "'4'"
      ]
     },
     "execution_count": 350,
     "metadata": {},
     "output_type": "execute_result"
    }
   ],
   "source": [
    "rate.text"
   ]
  },
  {
   "cell_type": "code",
   "execution_count": 351,
   "id": "d3ed70aa",
   "metadata": {},
   "outputs": [],
   "source": [
    "rating=[]\n",
    "\n",
    "for r in soup.find_all('div',class_=\"restnt-rating rating-4\"):\n",
    "    rating.append(r.text)"
   ]
  },
  {
   "cell_type": "code",
   "execution_count": 352,
   "id": "299a622b",
   "metadata": {},
   "outputs": [
    {
     "data": {
      "text/plain": [
       "['4', '3.9', '4.3', '3.9', '3.9', '3.9', '3.7', '3.8', '4.3']"
      ]
     },
     "execution_count": 352,
     "metadata": {},
     "output_type": "execute_result"
    }
   ],
   "source": [
    "rating"
   ]
  },
  {
   "cell_type": "code",
   "execution_count": 353,
   "id": "7588c3f0",
   "metadata": {},
   "outputs": [],
   "source": [
    "images=[]\n",
    "for i in soup.find_all('img',class_=\"no-img\"):\n",
    "    images.append(i.get('data-src'))\n",
    "    "
   ]
  },
  {
   "cell_type": "code",
   "execution_count": 354,
   "id": "f85d4ff3",
   "metadata": {},
   "outputs": [
    {
     "data": {
      "text/plain": [
       "['https://im1.dineout.co.in/images/uploads/restaurant/sharpen/8/k/b/p86792-16062953735fbe1f4d3fb7e.jpg?tr=tr:n-medium',\n",
       " 'https://im1.dineout.co.in/images/uploads/restaurant/sharpen/5/p/m/p59633-166088382462ff137009010.jpg?tr=tr:n-medium',\n",
       " 'https://im1.dineout.co.in/images/uploads/restaurant/sharpen/4/p/m/p406-15438184745c04ccea491bc.jpg?tr=tr:n-medium',\n",
       " 'https://im1.dineout.co.in/images/uploads/restaurant/sharpen/3/j/o/p38113-15959192065f1fcb666130c.jpg?tr=tr:n-medium',\n",
       " 'https://im1.dineout.co.in/images/uploads/restaurant/sharpen/7/p/k/p79307-16051787755fad1597f2bf9.jpg?tr=tr:n-medium',\n",
       " 'https://im1.dineout.co.in/images/uploads/restaurant/sharpen/2/v/t/p2687-1482477169585cce712b90f.jpg?tr=tr:n-medium',\n",
       " 'https://im1.dineout.co.in/images/uploads/restaurant/sharpen/5/d/i/p52501-1661855212630de5eceb6d2.jpg?tr=tr:n-medium',\n",
       " 'https://im1.dineout.co.in/images/uploads/restaurant/sharpen/3/n/o/p34822-15599107305cfa594a13c24.jpg?tr=tr:n-medium',\n",
       " 'https://im1.dineout.co.in/images/uploads/restaurant/sharpen/5/y/f/p549-165000147262590640c0afc.jpg?tr=tr:n-medium']"
      ]
     },
     "execution_count": 354,
     "metadata": {},
     "output_type": "execute_result"
    }
   ],
   "source": [
    "images"
   ]
  },
  {
   "cell_type": "code",
   "execution_count": 355,
   "id": "9392427e",
   "metadata": {},
   "outputs": [],
   "source": [
    "do=pd.DataFrame({'Restaurant name':names,'Cuisine':cuisine,'Location':locs,'Rating':rating,'images URL':images})"
   ]
  },
  {
   "cell_type": "code",
   "execution_count": 356,
   "id": "93d13f65",
   "metadata": {},
   "outputs": [
    {
     "data": {
      "text/html": [
       "<div>\n",
       "<style scoped>\n",
       "    .dataframe tbody tr th:only-of-type {\n",
       "        vertical-align: middle;\n",
       "    }\n",
       "\n",
       "    .dataframe tbody tr th {\n",
       "        vertical-align: top;\n",
       "    }\n",
       "\n",
       "    .dataframe thead th {\n",
       "        text-align: right;\n",
       "    }\n",
       "</style>\n",
       "<table border=\"1\" class=\"dataframe\">\n",
       "  <thead>\n",
       "    <tr style=\"text-align: right;\">\n",
       "      <th></th>\n",
       "      <th>Restaurant name</th>\n",
       "      <th>Cuisine</th>\n",
       "      <th>Location</th>\n",
       "      <th>Rating</th>\n",
       "      <th>images URL</th>\n",
       "    </tr>\n",
       "  </thead>\n",
       "  <tbody>\n",
       "    <tr>\n",
       "      <th>0</th>\n",
       "      <td>Castle Barbeque</td>\n",
       "      <td>Chinese, North Indian</td>\n",
       "      <td>Connaught Place, Central Delhi</td>\n",
       "      <td>4</td>\n",
       "      <td>https://im1.dineout.co.in/images/uploads/resta...</td>\n",
       "    </tr>\n",
       "    <tr>\n",
       "      <th>1</th>\n",
       "      <td>Jungle Jamboree</td>\n",
       "      <td>North Indian, Asian, Italian</td>\n",
       "      <td>3CS Mall,Lajpat Nagar - 3, South Delhi</td>\n",
       "      <td>3.9</td>\n",
       "      <td>https://im1.dineout.co.in/images/uploads/resta...</td>\n",
       "    </tr>\n",
       "    <tr>\n",
       "      <th>2</th>\n",
       "      <td>Cafe Knosh</td>\n",
       "      <td>Italian, Continental</td>\n",
       "      <td>The Leela Ambience Convention Hotel,Shahdara, ...</td>\n",
       "      <td>4.3</td>\n",
       "      <td>https://im1.dineout.co.in/images/uploads/resta...</td>\n",
       "    </tr>\n",
       "    <tr>\n",
       "      <th>3</th>\n",
       "      <td>Castle Barbeque</td>\n",
       "      <td>Chinese, North Indian</td>\n",
       "      <td>Pacific Mall,Tagore Garden, West Delhi</td>\n",
       "      <td>3.9</td>\n",
       "      <td>https://im1.dineout.co.in/images/uploads/resta...</td>\n",
       "    </tr>\n",
       "    <tr>\n",
       "      <th>4</th>\n",
       "      <td>The Barbeque Company</td>\n",
       "      <td>North Indian, Chinese</td>\n",
       "      <td>Gardens Galleria,Sector 38A, Noida</td>\n",
       "      <td>3.9</td>\n",
       "      <td>https://im1.dineout.co.in/images/uploads/resta...</td>\n",
       "    </tr>\n",
       "    <tr>\n",
       "      <th>5</th>\n",
       "      <td>India Grill</td>\n",
       "      <td>North Indian, Italian</td>\n",
       "      <td>Hilton Garden Inn,Saket, South Delhi</td>\n",
       "      <td>3.9</td>\n",
       "      <td>https://im1.dineout.co.in/images/uploads/resta...</td>\n",
       "    </tr>\n",
       "    <tr>\n",
       "      <th>6</th>\n",
       "      <td>Delhi Barbeque</td>\n",
       "      <td>North Indian</td>\n",
       "      <td>Taurus Sarovar Portico,Mahipalpur, South Delhi</td>\n",
       "      <td>3.7</td>\n",
       "      <td>https://im1.dineout.co.in/images/uploads/resta...</td>\n",
       "    </tr>\n",
       "    <tr>\n",
       "      <th>7</th>\n",
       "      <td>The Monarch - Bar Be Que Village</td>\n",
       "      <td>North Indian</td>\n",
       "      <td>Indirapuram Habitat Centre,Indirapuram, Ghaziabad</td>\n",
       "      <td>3.8</td>\n",
       "      <td>https://im1.dineout.co.in/images/uploads/resta...</td>\n",
       "    </tr>\n",
       "    <tr>\n",
       "      <th>8</th>\n",
       "      <td>Indian Grill Room</td>\n",
       "      <td>North Indian, Mughlai</td>\n",
       "      <td>Suncity Business Tower,Golf Course Road, Gurgaon</td>\n",
       "      <td>4.3</td>\n",
       "      <td>https://im1.dineout.co.in/images/uploads/resta...</td>\n",
       "    </tr>\n",
       "  </tbody>\n",
       "</table>\n",
       "</div>"
      ],
      "text/plain": [
       "                    Restaurant name                        Cuisine  \\\n",
       "0                   Castle Barbeque          Chinese, North Indian   \n",
       "1                   Jungle Jamboree   North Indian, Asian, Italian   \n",
       "2                        Cafe Knosh           Italian, Continental   \n",
       "3                   Castle Barbeque          Chinese, North Indian   \n",
       "4              The Barbeque Company          North Indian, Chinese   \n",
       "5                       India Grill          North Indian, Italian   \n",
       "6                    Delhi Barbeque                   North Indian   \n",
       "7  The Monarch - Bar Be Que Village                   North Indian   \n",
       "8                 Indian Grill Room          North Indian, Mughlai   \n",
       "\n",
       "                                            Location Rating  \\\n",
       "0                     Connaught Place, Central Delhi      4   \n",
       "1             3CS Mall,Lajpat Nagar - 3, South Delhi    3.9   \n",
       "2  The Leela Ambience Convention Hotel,Shahdara, ...    4.3   \n",
       "3             Pacific Mall,Tagore Garden, West Delhi    3.9   \n",
       "4                 Gardens Galleria,Sector 38A, Noida    3.9   \n",
       "5               Hilton Garden Inn,Saket, South Delhi    3.9   \n",
       "6     Taurus Sarovar Portico,Mahipalpur, South Delhi    3.7   \n",
       "7  Indirapuram Habitat Centre,Indirapuram, Ghaziabad    3.8   \n",
       "8   Suncity Business Tower,Golf Course Road, Gurgaon    4.3   \n",
       "\n",
       "                                          images URL  \n",
       "0  https://im1.dineout.co.in/images/uploads/resta...  \n",
       "1  https://im1.dineout.co.in/images/uploads/resta...  \n",
       "2  https://im1.dineout.co.in/images/uploads/resta...  \n",
       "3  https://im1.dineout.co.in/images/uploads/resta...  \n",
       "4  https://im1.dineout.co.in/images/uploads/resta...  \n",
       "5  https://im1.dineout.co.in/images/uploads/resta...  \n",
       "6  https://im1.dineout.co.in/images/uploads/resta...  \n",
       "7  https://im1.dineout.co.in/images/uploads/resta...  \n",
       "8  https://im1.dineout.co.in/images/uploads/resta...  "
      ]
     },
     "execution_count": 356,
     "metadata": {},
     "output_type": "execute_result"
    }
   ],
   "source": [
    "do"
   ]
  },
  {
   "cell_type": "code",
   "execution_count": null,
   "id": "43c437a9",
   "metadata": {},
   "outputs": [],
   "source": []
  }
 ],
 "metadata": {
  "kernelspec": {
   "display_name": "Python 3 (ipykernel)",
   "language": "python",
   "name": "python3"
  },
  "language_info": {
   "codemirror_mode": {
    "name": "ipython",
    "version": 3
   },
   "file_extension": ".py",
   "mimetype": "text/x-python",
   "name": "python",
   "nbconvert_exporter": "python",
   "pygments_lexer": "ipython3",
   "version": "3.9.12"
  }
 },
 "nbformat": 4,
 "nbformat_minor": 5
}
